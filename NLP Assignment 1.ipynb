{
 "cells": [
  {
   "cell_type": "markdown",
   "id": "3f734847",
   "metadata": {},
   "source": [
    "### Installing the dependencies"
   ]
  },
  {
   "cell_type": "code",
   "execution_count": 5,
   "id": "08533da8",
   "metadata": {},
   "outputs": [
    {
     "name": "stdout",
     "output_type": "stream",
     "text": [
      "Collecting spacy\n",
      "  Downloading spacy-3.2.1-cp38-cp38-win_amd64.whl (12.2 MB)\n",
      "Collecting preshed<3.1.0,>=3.0.2\n",
      "  Downloading preshed-3.0.6-cp38-cp38-win_amd64.whl (113 kB)\n",
      "Collecting spacy-legacy<3.1.0,>=3.0.8\n",
      "  Downloading spacy_legacy-3.0.8-py2.py3-none-any.whl (14 kB)\n",
      "Requirement already satisfied: requests<3.0.0,>=2.13.0 in c:\\users\\aadit\\anaconda3\\envs\\py35\\lib\\site-packages (from spacy) (2.26.0)\n",
      "Collecting srsly<3.0.0,>=2.4.1\n",
      "  Downloading srsly-2.4.2-cp38-cp38-win_amd64.whl (452 kB)\n",
      "Collecting packaging>=20.0\n",
      "  Downloading packaging-21.3-py3-none-any.whl (40 kB)\n",
      "Collecting cymem<2.1.0,>=2.0.2\n",
      "  Downloading cymem-2.0.6-cp38-cp38-win_amd64.whl (36 kB)\n",
      "Collecting typer<0.5.0,>=0.3.0\n",
      "  Downloading typer-0.4.0-py3-none-any.whl (27 kB)\n",
      "Collecting wasabi<1.1.0,>=0.8.1\n",
      "  Downloading wasabi-0.9.0-py3-none-any.whl (25 kB)\n",
      "Collecting jinja2\n",
      "  Downloading Jinja2-3.0.3-py3-none-any.whl (133 kB)\n",
      "Collecting langcodes<4.0.0,>=3.2.0\n",
      "  Downloading langcodes-3.3.0-py3-none-any.whl (181 kB)\n",
      "Collecting pydantic!=1.8,!=1.8.1,<1.9.0,>=1.7.4\n",
      "  Downloading pydantic-1.8.2-cp38-cp38-win_amd64.whl (2.0 MB)\n",
      "Collecting murmurhash<1.1.0,>=0.28.0\n",
      "  Downloading murmurhash-1.0.6-cp38-cp38-win_amd64.whl (21 kB)\n",
      "Collecting pathy>=0.3.5\n",
      "  Downloading pathy-0.6.1-py3-none-any.whl (42 kB)\n",
      "Requirement already satisfied: setuptools in c:\\users\\aadit\\anaconda3\\envs\\py35\\lib\\site-packages (from spacy) (58.0.4)\n",
      "Collecting blis<0.8.0,>=0.4.0\n",
      "  Downloading blis-0.7.5-cp38-cp38-win_amd64.whl (6.6 MB)\n",
      "Collecting thinc<8.1.0,>=8.0.12\n",
      "  Downloading thinc-8.0.13-cp38-cp38-win_amd64.whl (1.0 MB)\n",
      "Collecting spacy-loggers<2.0.0,>=1.0.0\n",
      "  Downloading spacy_loggers-1.0.1-py3-none-any.whl (7.0 kB)\n",
      "Collecting catalogue<2.1.0,>=2.0.6\n",
      "  Downloading catalogue-2.0.6-py3-none-any.whl (17 kB)\n",
      "Requirement already satisfied: tqdm<5.0.0,>=4.38.0 in c:\\users\\aadit\\anaconda3\\envs\\py35\\lib\\site-packages (from spacy) (4.62.3)\n",
      "Requirement already satisfied: numpy>=1.15.0 in c:\\users\\aadit\\anaconda3\\envs\\py35\\lib\\site-packages (from spacy) (1.21.2)\n",
      "Requirement already satisfied: pyparsing!=3.0.5,>=2.0.2 in c:\\users\\aadit\\anaconda3\\envs\\py35\\lib\\site-packages (from packaging>=20.0->spacy) (2.4.7)\n",
      "Collecting smart-open<6.0.0,>=5.0.0\n",
      "  Downloading smart_open-5.2.1-py3-none-any.whl (58 kB)\n",
      "Requirement already satisfied: typing-extensions>=3.7.4.3 in c:\\users\\aadit\\anaconda3\\envs\\py35\\lib\\site-packages (from pydantic!=1.8,!=1.8.1,<1.9.0,>=1.7.4->spacy) (3.10.0.2)\n",
      "Requirement already satisfied: charset-normalizer~=2.0.0 in c:\\users\\aadit\\anaconda3\\envs\\py35\\lib\\site-packages (from requests<3.0.0,>=2.13.0->spacy) (2.0.4)\n",
      "Requirement already satisfied: idna<4,>=2.5 in c:\\users\\aadit\\anaconda3\\envs\\py35\\lib\\site-packages (from requests<3.0.0,>=2.13.0->spacy) (3.2)\n",
      "Requirement already satisfied: urllib3<1.27,>=1.21.1 in c:\\users\\aadit\\anaconda3\\envs\\py35\\lib\\site-packages (from requests<3.0.0,>=2.13.0->spacy) (1.26.7)\n",
      "Requirement already satisfied: certifi>=2017.4.17 in c:\\users\\aadit\\anaconda3\\envs\\py35\\lib\\site-packages (from requests<3.0.0,>=2.13.0->spacy) (2021.10.8)\n",
      "Requirement already satisfied: colorama in c:\\users\\aadit\\anaconda3\\envs\\py35\\lib\\site-packages (from tqdm<5.0.0,>=4.38.0->spacy) (0.4.4)\n",
      "Requirement already satisfied: click<9.0.0,>=7.1.1 in c:\\users\\aadit\\anaconda3\\envs\\py35\\lib\\site-packages (from typer<0.5.0,>=0.3.0->spacy) (8.0.3)\n",
      "Collecting MarkupSafe>=2.0\n",
      "  Downloading MarkupSafe-2.0.1-cp38-cp38-win_amd64.whl (14 kB)\n",
      "Installing collected packages: murmurhash, cymem, catalogue, wasabi, typer, srsly, smart-open, pydantic, preshed, MarkupSafe, blis, thinc, spacy-loggers, spacy-legacy, pathy, packaging, langcodes, jinja2, spacy\n",
      "Successfully installed MarkupSafe-2.0.1 blis-0.7.5 catalogue-2.0.6 cymem-2.0.6 jinja2-3.0.3 langcodes-3.3.0 murmurhash-1.0.6 packaging-21.3 pathy-0.6.1 preshed-3.0.6 pydantic-1.8.2 smart-open-5.2.1 spacy-3.2.1 spacy-legacy-3.0.8 spacy-loggers-1.0.1 srsly-2.4.2 thinc-8.0.13 typer-0.4.0 wasabi-0.9.0\n"
     ]
    }
   ],
   "source": [
    "#!pip install nltk"
   ]
  },
  {
   "cell_type": "markdown",
   "id": "e96fa9fb",
   "metadata": {},
   "source": [
    "### Importing NLTK Library"
   ]
  },
  {
   "cell_type": "code",
   "execution_count": 1,
   "id": "ff379004",
   "metadata": {},
   "outputs": [],
   "source": [
    "#from nltk.tokenize import word_tokenize\n",
    "import nltk\n",
    "import pandas as pd"
   ]
  },
  {
   "cell_type": "markdown",
   "id": "342b749a",
   "metadata": {},
   "source": [
    "### Loading Model for NLTK"
   ]
  },
  {
   "cell_type": "code",
   "execution_count": 2,
   "id": "f96ff888",
   "metadata": {},
   "outputs": [
    {
     "name": "stderr",
     "output_type": "stream",
     "text": [
      "[nltk_data] Downloading package punkt to\n",
      "[nltk_data]     C:\\Users\\aadit\\AppData\\Roaming\\nltk_data...\n",
      "[nltk_data]   Package punkt is already up-to-date!\n"
     ]
    },
    {
     "data": {
      "text/plain": [
       "True"
      ]
     },
     "execution_count": 2,
     "metadata": {},
     "output_type": "execute_result"
    }
   ],
   "source": [
    "from nltk.tokenize import word_tokenize\n",
    "nltk.download('punkt')"
   ]
  },
  {
   "cell_type": "markdown",
   "id": "49833049",
   "metadata": {},
   "source": [
    "### Reading the input file and generating tokens"
   ]
  },
  {
   "cell_type": "code",
   "execution_count": 3,
   "id": "c759dccb",
   "metadata": {},
   "outputs": [
    {
     "name": "stdout",
     "output_type": "stream",
     "text": [
      "2915666\n"
     ]
    }
   ],
   "source": [
    "file_content = open(\"Corpus_NLP.txt\").read()\n",
    "tokens = nltk.word_tokenize(file_content)\n",
    "print(len(tokens))"
   ]
  },
  {
   "cell_type": "markdown",
   "id": "c581e421",
   "metadata": {},
   "source": [
    "### Generating type (Unique tokens) and their respective count"
   ]
  },
  {
   "cell_type": "code",
   "execution_count": 14,
   "id": "28775e0f",
   "metadata": {
    "scrolled": true
   },
   "outputs": [
    {
     "name": "stdout",
     "output_type": "stream",
     "text": [
      "<FreqDist with 106200 samples and 2915666 outcomes>\n"
     ]
    }
   ],
   "source": [
    "type_token=nltk.FreqDist(tokens)\n",
    "print(type_token)\n",
    "filtered_word_freq = pd.DataFrame([dict((word, freq) for word, freq in type_token.items())]).T.rename_axis(\"unique_tokens\").reset_index()\n",
    "filtered_word_freq.set_axis(['unique_tokens','freq'],axis=1, inplace=True)\n"
   ]
  },
  {
   "cell_type": "code",
   "execution_count": 15,
   "id": "79859058",
   "metadata": {},
   "outputs": [
    {
     "data": {
      "text/plain": [
       "106200"
      ]
     },
     "execution_count": 15,
     "metadata": {},
     "output_type": "execute_result"
    }
   ],
   "source": [
    "filtered_word_freq['unique_tokens'].count()"
   ]
  },
  {
   "cell_type": "markdown",
   "id": "26a2ab48",
   "metadata": {},
   "source": [
    "### Ratio of the type/tokens"
   ]
  },
  {
   "cell_type": "code",
   "execution_count": 16,
   "id": "00daccdd",
   "metadata": {},
   "outputs": [
    {
     "data": {
      "text/plain": [
       "0.03642392509978852"
      ]
     },
     "execution_count": 16,
     "metadata": {},
     "output_type": "execute_result"
    }
   ],
   "source": [
    "filtered_word_freq['unique_tokens'].count()/len(tokens)"
   ]
  },
  {
   "cell_type": "markdown",
   "id": "7d6b0fca",
   "metadata": {},
   "source": [
    "### Printing tokens and count to a file and generating for report"
   ]
  },
  {
   "cell_type": "code",
   "execution_count": 17,
   "id": "adf17962",
   "metadata": {},
   "outputs": [],
   "source": [
    "token_count=filtered_word_freq.sort_values(by='freq',ascending=False)"
   ]
  },
  {
   "cell_type": "code",
   "execution_count": 18,
   "id": "92c14672",
   "metadata": {},
   "outputs": [
    {
     "data": {
      "text/html": [
       "<div>\n",
       "<style scoped>\n",
       "    .dataframe tbody tr th:only-of-type {\n",
       "        vertical-align: middle;\n",
       "    }\n",
       "\n",
       "    .dataframe tbody tr th {\n",
       "        vertical-align: top;\n",
       "    }\n",
       "\n",
       "    .dataframe thead th {\n",
       "        text-align: right;\n",
       "    }\n",
       "</style>\n",
       "<table border=\"1\" class=\"dataframe\">\n",
       "  <thead>\n",
       "    <tr style=\"text-align: right;\">\n",
       "      <th></th>\n",
       "      <th>unique_tokens</th>\n",
       "      <th>freq</th>\n",
       "    </tr>\n",
       "  </thead>\n",
       "  <tbody>\n",
       "    <tr>\n",
       "      <th>7</th>\n",
       "      <td>.</td>\n",
       "      <td>122683</td>\n",
       "    </tr>\n",
       "    <tr>\n",
       "      <th>20</th>\n",
       "      <td>''</td>\n",
       "      <td>85054</td>\n",
       "    </tr>\n",
       "    <tr>\n",
       "      <th>41</th>\n",
       "      <td>the</td>\n",
       "      <td>84270</td>\n",
       "    </tr>\n",
       "    <tr>\n",
       "      <th>2</th>\n",
       "      <td>,</td>\n",
       "      <td>77973</td>\n",
       "    </tr>\n",
       "    <tr>\n",
       "      <th>39</th>\n",
       "      <td>to</td>\n",
       "      <td>60086</td>\n",
       "    </tr>\n",
       "    <tr>\n",
       "      <th>35</th>\n",
       "      <td>a</td>\n",
       "      <td>55442</td>\n",
       "    </tr>\n",
       "    <tr>\n",
       "      <th>3</th>\n",
       "      <td>I</td>\n",
       "      <td>55385</td>\n",
       "    </tr>\n",
       "    <tr>\n",
       "      <th>23</th>\n",
       "      <td>and</td>\n",
       "      <td>45873</td>\n",
       "    </tr>\n",
       "    <tr>\n",
       "      <th>120</th>\n",
       "      <td>of</td>\n",
       "      <td>38445</td>\n",
       "    </tr>\n",
       "    <tr>\n",
       "      <th>0</th>\n",
       "      <td>``</td>\n",
       "      <td>35345</td>\n",
       "    </tr>\n",
       "    <tr>\n",
       "      <th>76</th>\n",
       "      <td>?</td>\n",
       "      <td>33474</td>\n",
       "    </tr>\n",
       "    <tr>\n",
       "      <th>13</th>\n",
       "      <td>is</td>\n",
       "      <td>33456</td>\n",
       "    </tr>\n",
       "    <tr>\n",
       "      <th>109</th>\n",
       "      <td>it</td>\n",
       "      <td>30482</td>\n",
       "    </tr>\n",
       "    <tr>\n",
       "      <th>16</th>\n",
       "      <td>in</td>\n",
       "      <td>29783</td>\n",
       "    </tr>\n",
       "    <tr>\n",
       "      <th>5</th>\n",
       "      <td>that</td>\n",
       "      <td>29155</td>\n",
       "    </tr>\n",
       "    <tr>\n",
       "      <th>71</th>\n",
       "      <td>you</td>\n",
       "      <td>27879</td>\n",
       "    </tr>\n",
       "    <tr>\n",
       "      <th>78</th>\n",
       "      <td>'s</td>\n",
       "      <td>25406</td>\n",
       "    </tr>\n",
       "    <tr>\n",
       "      <th>63</th>\n",
       "      <td>for</td>\n",
       "      <td>22883</td>\n",
       "    </tr>\n",
       "    <tr>\n",
       "      <th>52</th>\n",
       "      <td>n't</td>\n",
       "      <td>22598</td>\n",
       "    </tr>\n",
       "    <tr>\n",
       "      <th>111</th>\n",
       "      <td>on</td>\n",
       "      <td>17296</td>\n",
       "    </tr>\n",
       "  </tbody>\n",
       "</table>\n",
       "</div>"
      ],
      "text/plain": [
       "    unique_tokens    freq\n",
       "7               .  122683\n",
       "20             ''   85054\n",
       "41            the   84270\n",
       "2               ,   77973\n",
       "39             to   60086\n",
       "35              a   55442\n",
       "3               I   55385\n",
       "23            and   45873\n",
       "120            of   38445\n",
       "0              ``   35345\n",
       "76              ?   33474\n",
       "13             is   33456\n",
       "109            it   30482\n",
       "16             in   29783\n",
       "5            that   29155\n",
       "71            you   27879\n",
       "78             's   25406\n",
       "63            for   22883\n",
       "52            n't   22598\n",
       "111            on   17296"
      ]
     },
     "execution_count": 18,
     "metadata": {},
     "output_type": "execute_result"
    }
   ],
   "source": [
    "token_count.head(20)"
   ]
  },
  {
   "cell_type": "code",
   "execution_count": 19,
   "id": "2013b55b",
   "metadata": {},
   "outputs": [],
   "source": [
    "token_count.to_csv('token.txt',header=None, sep=' ')"
   ]
  },
  {
   "cell_type": "markdown",
   "id": "c95249ba",
   "metadata": {},
   "source": [
    "### Tokens appearing only once"
   ]
  },
  {
   "cell_type": "code",
   "execution_count": 20,
   "id": "e2a4d076",
   "metadata": {},
   "outputs": [
    {
     "data": {
      "text/plain": [
       "57847"
      ]
     },
     "execution_count": 20,
     "metadata": {},
     "output_type": "execute_result"
    }
   ],
   "source": [
    "filtered_word_freq[filtered_word_freq['freq']==1]['unique_tokens'].count()"
   ]
  },
  {
   "cell_type": "markdown",
   "id": "e5ae81dc",
   "metadata": {},
   "source": [
    "### Removing Punctuations ###"
   ]
  },
  {
   "cell_type": "code",
   "execution_count": 58,
   "id": "30291fd2",
   "metadata": {},
   "outputs": [
    {
     "name": "stdout",
     "output_type": "stream",
     "text": [
      "2353399\n"
     ]
    }
   ],
   "source": [
    "no_punct_text = []\n",
    "for word in tokens:\n",
    "    if word.isalpha():\n",
    "        no_punct_text.append(word)\n",
    "print(len(no_punct_text))"
   ]
  },
  {
   "cell_type": "markdown",
   "id": "32a57782",
   "metadata": {},
   "source": [
    "### Ratio of the type/tokens- without punctuations"
   ]
  },
  {
   "cell_type": "code",
   "execution_count": 43,
   "id": "d2a154fd",
   "metadata": {},
   "outputs": [
    {
     "name": "stdout",
     "output_type": "stream",
     "text": [
      "<FreqDist with 85586 samples and 85586 outcomes>\n"
     ]
    }
   ],
   "source": [
    "type_token_w_punc=nltk.FreqDist(no_punct_text)\n",
    "print(type_token)\n",
    "filtered_word_freq_w_punc = pd.DataFrame([dict((word, freq) for word, freq in type_token_w_punc.items())]).T.rename_axis(\"unique_tokens\").reset_index()\n",
    "filtered_word_freq_w_punc.set_axis(['unique_tokens','freq'],axis=1, inplace=True)\n"
   ]
  },
  {
   "cell_type": "code",
   "execution_count": 45,
   "id": "fddc2c85",
   "metadata": {},
   "outputs": [
    {
     "name": "stdout",
     "output_type": "stream",
     "text": [
      "0.03642646232109387\n"
     ]
    }
   ],
   "source": [
    "print(filtered_word_freq_w_punc['unique_tokens'].count()/len(no_punct_text))\n",
    "token_count_w_punc=filtered_word_freq_w_punc.sort_values(by='freq',ascending=False)\n"
   ]
  },
  {
   "cell_type": "markdown",
   "id": "5398d48f",
   "metadata": {},
   "source": [
    "### Top 3 words with the frequency (Removing punctuations)"
   ]
  },
  {
   "cell_type": "code",
   "execution_count": 46,
   "id": "4fc277d0",
   "metadata": {},
   "outputs": [
    {
     "data": {
      "text/html": [
       "<div>\n",
       "<style scoped>\n",
       "    .dataframe tbody tr th:only-of-type {\n",
       "        vertical-align: middle;\n",
       "    }\n",
       "\n",
       "    .dataframe tbody tr th {\n",
       "        vertical-align: top;\n",
       "    }\n",
       "\n",
       "    .dataframe thead th {\n",
       "        text-align: right;\n",
       "    }\n",
       "</style>\n",
       "<table border=\"1\" class=\"dataframe\">\n",
       "  <thead>\n",
       "    <tr style=\"text-align: right;\">\n",
       "      <th></th>\n",
       "      <th>unique_tokens</th>\n",
       "      <th>freq</th>\n",
       "    </tr>\n",
       "  </thead>\n",
       "  <tbody>\n",
       "    <tr>\n",
       "      <th>32</th>\n",
       "      <td>the</td>\n",
       "      <td>84270</td>\n",
       "    </tr>\n",
       "    <tr>\n",
       "      <th>30</th>\n",
       "      <td>to</td>\n",
       "      <td>60086</td>\n",
       "    </tr>\n",
       "    <tr>\n",
       "      <th>26</th>\n",
       "      <td>a</td>\n",
       "      <td>55442</td>\n",
       "    </tr>\n",
       "  </tbody>\n",
       "</table>\n",
       "</div>"
      ],
      "text/plain": [
       "   unique_tokens   freq\n",
       "32           the  84270\n",
       "30            to  60086\n",
       "26             a  55442"
      ]
     },
     "execution_count": 46,
     "metadata": {},
     "output_type": "execute_result"
    }
   ],
   "source": [
    "token_count_w_punc.head(3)"
   ]
  },
  {
   "cell_type": "markdown",
   "id": "4d271162",
   "metadata": {},
   "source": [
    "### Removing Stopwords"
   ]
  },
  {
   "cell_type": "code",
   "execution_count": 30,
   "id": "470590c1",
   "metadata": {},
   "outputs": [
    {
     "name": "stdout",
     "output_type": "stream",
     "text": [
      "{'of', 'into', \"wasn't\", 'not', 'at', 'some', 'who', 'up', \"isn't\", 'off', 'my', 'isn', 'are', \"couldn't\", \"it's\", 'no', \"shouldn't\", 'after', 'own', 'over', 'him', 'just', 'other', 'or', 'each', 'so', 'when', 'didn', 'mustn', 'i', 'by', 'our', 'himself', 'in', 'out', 'been', 'ain', 'o', 'mightn', 'ourselves', 'where', 'couldn', 'them', 'below', 'such', 'any', \"hasn't\", 'during', 'm', \"that'll\", 'a', 'while', \"shan't\", 'how', 'wasn', 'same', 'before', 're', 'ours', \"you'd\", 'these', 'there', 'than', 'should', 'have', 'if', 'will', \"didn't\", 'why', \"weren't\", 'needn', 'that', \"you've\", 'wouldn', 'against', 'me', 'being', 'be', 'has', 'll', 'she', 'once', 't', 'he', 'your', 'it', 'from', 'hasn', 'all', 'the', 'aren', 'very', \"you're\", \"wouldn't\", 'do', \"you'll\", \"mustn't\", 'those', 'we', 'under', 'don', 'shan', 'most', 'yours', 'both', 'what', 'won', 'theirs', 'with', 'more', 'ma', 'd', 'his', 'through', 'but', 'until', \"needn't\", 'they', \"doesn't\", 'an', 'was', 'then', 'did', 'themselves', 'now', \"mightn't\", 'yourself', \"hadn't\", 'its', 'on', \"don't\", 'their', \"aren't\", 'y', 'hadn', 'above', 'her', 'hers', 'you', 'for', 'few', \"she's\", 'were', 'itself', 'to', 'yourselves', 'haven', 'shouldn', 'nor', \"won't\", 'doing', 'again', 'here', 'and', 's', 'about', 'too', 'can', 'which', 'this', 'having', \"haven't\", 'am', \"should've\", 'had', 'herself', 've', 'does', 'is', 'between', 'myself', 'as', 'down', 'doesn', 'whom', 'weren', 'because', 'only', 'further'}\n"
     ]
    },
    {
     "name": "stderr",
     "output_type": "stream",
     "text": [
      "[nltk_data] Downloading package stopwords to\n",
      "[nltk_data]     C:\\Users\\aadit\\AppData\\Roaming\\nltk_data...\n",
      "[nltk_data]   Package stopwords is already up-to-date!\n"
     ]
    }
   ],
   "source": [
    "nltk.download('stopwords')\n",
    "from nltk.corpus import stopwords\n",
    "stop_words = set(stopwords.words(\"english\"))\n",
    "print(stop_words)"
   ]
  },
  {
   "cell_type": "code",
   "execution_count": 32,
   "id": "1f5c1abb",
   "metadata": {},
   "outputs": [],
   "source": [
    "file_content\n",
    "filtered_text = []\n",
    "\n",
    "for each_word in tokens:\n",
    "    if each_word not in stop_words:\n",
    "        filtered_text.append(each_word)\n"
   ]
  },
  {
   "cell_type": "markdown",
   "id": "b3e7d84d",
   "metadata": {},
   "source": [
    "### Removing Stopwords and Punctuations"
   ]
  },
  {
   "cell_type": "code",
   "execution_count": 51,
   "id": "c0148f52",
   "metadata": {},
   "outputs": [],
   "source": [
    "only_words = []\n",
    "\n",
    "for each_word in tokens:\n",
    "    if each_word not in stop_words and each_word.isalpha():\n",
    "        only_words.append(each_word)\n"
   ]
  },
  {
   "cell_type": "markdown",
   "id": "8d992c5b",
   "metadata": {},
   "source": [
    "### Tokens w/o Punctuations and Stopwords)"
   ]
  },
  {
   "cell_type": "code",
   "execution_count": 52,
   "id": "e15d1d6d",
   "metadata": {},
   "outputs": [],
   "source": [
    "type_token_w_punc_stop=nltk.FreqDist(only_words)\n",
    "filtered_word_freq_w_punc_stop = pd.DataFrame([dict((word, freq) for word, freq in type_token_w_punc_stop.items())]).T.rename_axis(\"unique_tokens\").reset_index()\n",
    "filtered_word_freq_w_punc_stop.set_axis(['unique_tokens','freq'],axis=1, inplace=True)"
   ]
  },
  {
   "cell_type": "markdown",
   "id": "5c4f0649",
   "metadata": {},
   "source": [
    "### Ratio of type of tokens to number of tokens"
   ]
  },
  {
   "cell_type": "code",
   "execution_count": 55,
   "id": "f5daa4ea",
   "metadata": {},
   "outputs": [
    {
     "name": "stdout",
     "output_type": "stream",
     "text": [
      "0.06208384866762661\n"
     ]
    }
   ],
   "source": [
    "print(filtered_word_freq_w_punc_stop['unique_tokens'].count()/len(only_words))\n",
    "token_count_w_punc=filtered_word_freq_w_punc.sort_values(by='freq',ascending=False)"
   ]
  },
  {
   "cell_type": "markdown",
   "id": "2d1a41e4",
   "metadata": {},
   "source": [
    "### Top 3 words only excluding stopwords"
   ]
  },
  {
   "cell_type": "code",
   "execution_count": 59,
   "id": "74c7621b",
   "metadata": {},
   "outputs": [],
   "source": [
    "type_token_sw=nltk.FreqDist(filtered_text)\n",
    "filtered_word_freq_w_stop = pd.DataFrame([dict((word, freq) for word, freq in type_token_sw.items())]).T.rename_axis(\"unique_tokens\").reset_index()\n",
    "filtered_word_freq_w_stop.set_axis(['unique_tokens','freq'],axis=1, inplace=True)\n",
    "token_count_w_stop=filtered_word_freq_w_stop.sort_values(by='freq',ascending=False)"
   ]
  },
  {
   "cell_type": "code",
   "execution_count": 60,
   "id": "37ac1b29",
   "metadata": {},
   "outputs": [
    {
     "data": {
      "text/html": [
       "<div>\n",
       "<style scoped>\n",
       "    .dataframe tbody tr th:only-of-type {\n",
       "        vertical-align: middle;\n",
       "    }\n",
       "\n",
       "    .dataframe tbody tr th {\n",
       "        vertical-align: top;\n",
       "    }\n",
       "\n",
       "    .dataframe thead th {\n",
       "        text-align: right;\n",
       "    }\n",
       "</style>\n",
       "<table border=\"1\" class=\"dataframe\">\n",
       "  <thead>\n",
       "    <tr style=\"text-align: right;\">\n",
       "      <th></th>\n",
       "      <th>unique_tokens</th>\n",
       "      <th>freq</th>\n",
       "    </tr>\n",
       "  </thead>\n",
       "  <tbody>\n",
       "    <tr>\n",
       "      <th>6</th>\n",
       "      <td>.</td>\n",
       "      <td>122683</td>\n",
       "    </tr>\n",
       "    <tr>\n",
       "      <th>14</th>\n",
       "      <td>''</td>\n",
       "      <td>85054</td>\n",
       "    </tr>\n",
       "    <tr>\n",
       "      <th>2</th>\n",
       "      <td>,</td>\n",
       "      <td>77973</td>\n",
       "    </tr>\n",
       "  </tbody>\n",
       "</table>\n",
       "</div>"
      ],
      "text/plain": [
       "   unique_tokens    freq\n",
       "6              .  122683\n",
       "14            ''   85054\n",
       "2              ,   77973"
      ]
     },
     "execution_count": 60,
     "metadata": {},
     "output_type": "execute_result"
    }
   ],
   "source": [
    "token_count_w_stop.head(3)"
   ]
  },
  {
   "cell_type": "markdown",
   "id": "449cb7db",
   "metadata": {},
   "source": [
    "### Bigrams"
   ]
  },
  {
   "cell_type": "code",
   "execution_count": 75,
   "id": "90aa0af0",
   "metadata": {},
   "outputs": [],
   "source": [
    "extract_bigrams=nltk.bigrams(only_words)\n",
    "bigram_dist=nltk.FreqDist(extract_bigrams)\n",
    "bigram_freq = pd.DataFrame([dict((word, freq) for word, freq in bigram_dist.items())]).T.rename_axis(\"unique_tokens\").reset_index()\n",
    "bigram_freq.set_axis(['unique_tokens','freq'],axis=1, inplace=True)\n",
    "bigram_freq=bigram_freq.sort_values(by='freq',ascending=False)"
   ]
  },
  {
   "cell_type": "code",
   "execution_count": 76,
   "id": "c20f7932",
   "metadata": {},
   "outputs": [
    {
     "data": {
      "text/html": [
       "<div>\n",
       "<style scoped>\n",
       "    .dataframe tbody tr th:only-of-type {\n",
       "        vertical-align: middle;\n",
       "    }\n",
       "\n",
       "    .dataframe tbody tr th {\n",
       "        vertical-align: top;\n",
       "    }\n",
       "\n",
       "    .dataframe thead th {\n",
       "        text-align: right;\n",
       "    }\n",
       "</style>\n",
       "<table border=\"1\" class=\"dataframe\">\n",
       "  <thead>\n",
       "    <tr style=\"text-align: right;\">\n",
       "      <th></th>\n",
       "      <th>unique_tokens</th>\n",
       "      <th>freq</th>\n",
       "    </tr>\n",
       "  </thead>\n",
       "  <tbody>\n",
       "    <tr>\n",
       "      <th>514</th>\n",
       "      <td>(I, think)</td>\n",
       "      <td>2810</td>\n",
       "    </tr>\n",
       "    <tr>\n",
       "      <th>216394</th>\n",
       "      <td>(fuck, fuck)</td>\n",
       "      <td>1998</td>\n",
       "    </tr>\n",
       "    <tr>\n",
       "      <th>415</th>\n",
       "      <td>(I, know)</td>\n",
       "      <td>1710</td>\n",
       "    </tr>\n",
       "  </tbody>\n",
       "</table>\n",
       "</div>"
      ],
      "text/plain": [
       "       unique_tokens  freq\n",
       "514       (I, think)  2810\n",
       "216394  (fuck, fuck)  1998\n",
       "415        (I, know)  1710"
      ]
     },
     "execution_count": 76,
     "metadata": {},
     "output_type": "execute_result"
    }
   ],
   "source": [
    "bigram_freq.head(3)"
   ]
  },
  {
   "cell_type": "markdown",
   "id": "58257ef1",
   "metadata": {},
   "source": [
    "### Frequency distribution of words"
   ]
  },
  {
   "cell_type": "code",
   "execution_count": 10,
   "id": "4253c0e3",
   "metadata": {},
   "outputs": [],
   "source": [
    "from nltk.probability import FreqDist"
   ]
  },
  {
   "cell_type": "code",
   "execution_count": 11,
   "id": "b1ce16f6",
   "metadata": {},
   "outputs": [],
   "source": [
    "freq_dist_of_words = FreqDist(tokenized_word)   # Without removing stopwords\n",
    "freq_dist_of_words_2 = FreqDist(filtered_text)  # Removing Stopwords"
   ]
  },
  {
   "cell_type": "code",
   "execution_count": 12,
   "id": "42af0f3d",
   "metadata": {},
   "outputs": [
    {
     "name": "stdout",
     "output_type": "stream",
     "text": [
      "<FreqDist with 106179 samples and 2915692 outcomes>\n"
     ]
    }
   ],
   "source": [
    "print(freq_dist_of_words)"
   ]
  },
  {
   "cell_type": "code",
   "execution_count": 13,
   "id": "405e618e",
   "metadata": {},
   "outputs": [
    {
     "name": "stdout",
     "output_type": "stream",
     "text": [
      "<FreqDist with 106030 samples and 1940827 outcomes>\n"
     ]
    }
   ],
   "source": [
    "print(freq_dist_of_words_2)"
   ]
  },
  {
   "cell_type": "code",
   "execution_count": 14,
   "id": "d194d2bc",
   "metadata": {},
   "outputs": [
    {
     "data": {
      "text/plain": [
       "[('.', 122712),\n",
       " (\"''\", 85048),\n",
       " ('the', 84270),\n",
       " (',', 77973),\n",
       " ('to', 60086),\n",
       " ('a', 55442),\n",
       " ('I', 55385),\n",
       " ('and', 45873),\n",
       " ('of', 38445),\n",
       " ('``', 35348),\n",
       " ('?', 33474),\n",
       " ('is', 33456),\n",
       " ('it', 30482),\n",
       " ('in', 29783),\n",
       " ('that', 29155),\n",
       " ('you', 27879),\n",
       " (\"'s\", 25406),\n",
       " ('for', 22883),\n",
       " (\"n't\", 22598),\n",
       " ('on', 17296)]"
      ]
     },
     "execution_count": 14,
     "metadata": {},
     "output_type": "execute_result"
    }
   ],
   "source": [
    "freq_dist_of_words.most_common(20)"
   ]
  },
  {
   "cell_type": "code",
   "execution_count": 15,
   "id": "e0a46613",
   "metadata": {},
   "outputs": [
    {
     "data": {
      "text/plain": [
       "[('.', 122712),\n",
       " (\"''\", 85048),\n",
       " (',', 77973),\n",
       " ('I', 55385),\n",
       " ('``', 35348),\n",
       " ('?', 33474),\n",
       " (\"'s\", 25406),\n",
       " (\"n't\", 22598),\n",
       " ('!', 11933),\n",
       " ('*', 11472),\n",
       " ('like', 10275),\n",
       " (')', 9623),\n",
       " ('(', 8920),\n",
       " ('would', 8768),\n",
       " (':', 8752),\n",
       " ('The', 7956),\n",
       " ('people', 7513),\n",
       " ('get', 7370),\n",
       " ('It', 7031),\n",
       " (\"'m\", 7023)]"
      ]
     },
     "execution_count": 15,
     "metadata": {},
     "output_type": "execute_result"
    }
   ],
   "source": [
    "freq_dist_of_words_2.most_common(20)"
   ]
  },
  {
   "cell_type": "code",
   "execution_count": 19,
   "id": "2664bb45",
   "metadata": {},
   "outputs": [
    {
     "data": {
      "image/png": "[encoded data removed]",
      "text/plain": [
       "<Figure size 432x288 with 1 Axes>"
      ]
     },
     "metadata": {
      "needs_background": "light"
     },
     "output_type": "display_data"
    },
    {
     "data": {
      "image/png": "[encoded data removed]",
      "text/plain": [
       "<Figure size 432x288 with 1 Axes>"
      ]
     },
     "metadata": {
      "needs_background": "light"
     },
     "output_type": "display_data"
    },
    {
     "data": {
      "text/plain": [
       "<AxesSubplot:xlabel='Samples', ylabel='Counts'>"
      ]
     },
     "execution_count": 19,
     "metadata": {},
     "output_type": "execute_result"
    }
   ],
   "source": [
    "import matplotlib.pyplot as plt\n",
    "%matplotlib inline\n",
    "freq_dist_of_words.plot(30, cumulative=False)\n",
    "\n",
    "freq_dist_of_words_2.plot(30,cumulative=False)"
   ]
  },
  {
   "cell_type": "code",
   "execution_count": null,
   "id": "027fb302",
   "metadata": {},
   "outputs": [],
   "source": []
  }
 ],
 "metadata": {
  "kernelspec": {
   "display_name": "Python 3",
   "language": "python",
   "name": "python3"
  },
  "language_info": {
   "codemirror_mode": {
    "name": "ipython",
    "version": 3
   },
   "file_extension": ".py",
   "mimetype": "text/x-python",
   "name": "python",
   "nbconvert_exporter": "python",
   "pygments_lexer": "ipython3",
   "version": "3.8.12"
  }
 },
 "nbformat": 4,
 "nbformat_minor": 5
}
