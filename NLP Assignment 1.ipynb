{
 "cells": [
  {
   "cell_type": "code",
   "execution_count": 1,
   "id": "ff379004",
   "metadata": {},
   "outputs": [
    {
     "name": "stderr",
     "output_type": "stream",
     "text": [
      "[nltk_data] Downloading package punkt to\n",
      "[nltk_data]     C:\\Users\\parit\\AppData\\Roaming\\nltk_data...\n",
      "[nltk_data]   Package punkt is already up-to-date!\n"
     ]
    },
    {
     "data": {
      "text/plain": [
       "True"
      ]
     },
     "execution_count": 1,
     "metadata": {},
     "output_type": "execute_result"
    }
   ],
   "source": [
    "#from nltk.tokenize import word_tokenize\n",
    "import nltk\n",
    "from nltk.tokenize import word_tokenize\n",
    "nltk.download('punkt')"
   ]
  },
  {
   "cell_type": "code",
   "execution_count": null,
   "id": "a631bf12",
   "metadata": {},
   "outputs": [],
   "source": []
  },
  {
   "cell_type": "markdown",
   "id": "bf4041b2",
   "metadata": {},
   "source": []
  },
  {
   "cell_type": "code",
   "execution_count": 2,
   "id": "c759dccb",
   "metadata": {},
   "outputs": [
    {
     "name": "stdout",
     "output_type": "stream",
     "text": [
      "2915692\n"
     ]
    }
   ],
   "source": [
    "file_content = open(\"Corpus_NLP.txt\").read()\n",
    "tokens = nltk.word_tokenize(file_content)\n",
    "print(len(tokens))"
   ]
  },
  {
   "cell_type": "code",
   "execution_count": 4,
   "id": "28775e0f",
   "metadata": {
    "scrolled": true
   },
   "outputs": [
    {
     "data": {
      "text/plain": [
       "['east',\n",
       " 'last',\n",
       " 'year',\n",
       " '.',\n",
       " 'They',\n",
       " \"'re\",\n",
       " 'favored',\n",
       " 'to',\n",
       " 'win',\n",
       " '.',\n",
       " 'deadass',\n",
       " 'do',\n",
       " \"n't\",\n",
       " 'kill',\n",
       " 'my',\n",
       " 'buzz',\n",
       " 'Yep',\n",
       " 'can',\n",
       " 'confirm',\n",
       " 'I',\n",
       " 'saw',\n",
       " 'the',\n",
       " 'tool',\n",
       " 'they',\n",
       " 'use',\n",
       " 'for',\n",
       " 'that',\n",
       " '.',\n",
       " 'It',\n",
       " 'was',\n",
       " 'made',\n",
       " 'by',\n",
       " 'our',\n",
       " 'boy',\n",
       " 'EASports_MUT',\n",
       " 'do',\n",
       " 'you',\n",
       " 'find',\n",
       " 'ariana',\n",
       " 'grande',\n",
       " 'sexy',\n",
       " '?',\n",
       " 'What',\n",
       " \"'s\",\n",
       " 'your',\n",
       " 'weird',\n",
       " 'or',\n",
       " 'unsettling',\n",
       " 'Trick',\n",
       " 'or']"
      ]
     },
     "execution_count": 4,
     "metadata": {},
     "output_type": "execute_result"
    }
   ],
   "source": [
    "tokens[50:100]"
   ]
  },
  {
   "cell_type": "code",
   "execution_count": null,
   "id": "79859058",
   "metadata": {},
   "outputs": [],
   "source": []
  },
  {
   "cell_type": "markdown",
   "id": "4d271162",
   "metadata": {},
   "source": [
    "### Removing Stopwords"
   ]
  },
  {
   "cell_type": "code",
   "execution_count": 5,
   "id": "470590c1",
   "metadata": {},
   "outputs": [
    {
     "name": "stdout",
     "output_type": "stream",
     "text": [
      "{'in', \"mustn't\", 'their', 'being', 'she', 'should', 'did', 'when', 'each', 'yourself', 'needn', 'himself', 'that', 'because', 'under', 'only', \"aren't\", 'about', 'won', 'our', 'hasn', 'before', 'but', 'here', 'them', 'ours', 'doing', 'how', 's', 'for', 'had', 'between', 'during', 'some', \"should've\", \"hasn't\", 'just', 'mustn', \"you're\", 'against', 'we', 'out', \"you'll\", 'me', 'has', 'until', 'do', 'where', 'have', 'wouldn', 'own', 'wasn', 'my', 'after', 'which', \"isn't\", 'off', 'too', \"it's\", 'an', 'the', 'both', 'through', 'other', \"wouldn't\", 'into', 'you', \"shouldn't\", 'why', 'few', 'such', 'very', 'from', \"she's\", 'him', 'as', 'i', 'will', \"doesn't\", 'll', 'down', 'having', 'it', \"hadn't\", \"weren't\", 'does', 'he', 'his', 'haven', 'over', 't', 'up', 'by', 'same', 'now', 'y', \"wasn't\", 'so', 'ain', 'hers', 'are', \"couldn't\", 'o', \"needn't\", \"shan't\", 'was', 'of', 'not', 'doesn', 'shan', 'isn', 'above', 'theirs', 'am', 'below', 'mightn', 'hadn', 'yourselves', \"haven't\", \"you'd\", 'herself', 'a', 'most', 'no', 'themselves', 'than', 'yours', 'with', 've', \"didn't\", 'more', 'or', 'what', 'm', 'itself', 'this', 'at', \"don't\", 'once', 'while', 'ourselves', 'myself', 'd', \"mightn't\", 'nor', 'any', 'to', 'there', 're', 'aren', 'all', 'again', 'were', 'these', 'on', 'then', 'been', 'is', 'can', 'didn', 'weren', 'couldn', 'her', 'who', 'and', 'if', 'its', \"that'll\", 'those', \"won't\", 'further', 'ma', 'your', 'be', 'they', 'don', 'whom', \"you've\", 'shouldn'}\n"
     ]
    },
    {
     "name": "stderr",
     "output_type": "stream",
     "text": [
      "[nltk_data] Downloading package stopwords to\n",
      "[nltk_data]     C:\\Users\\parit\\AppData\\Roaming\\nltk_data...\n",
      "[nltk_data]   Unzipping corpora\\stopwords.zip.\n"
     ]
    }
   ],
   "source": [
    "nltk.download('stopwords')\n",
    "from nltk.corpus import stopwords\n",
    "stop_words = set(stopwords.words(\"english\"))\n",
    "print(stop_words)"
   ]
  },
  {
   "cell_type": "code",
   "execution_count": 6,
   "id": "4c5927dc",
   "metadata": {},
   "outputs": [],
   "source": [
    "## Removing here"
   ]
  },
  {
   "cell_type": "code",
   "execution_count": 21,
   "id": "1f5c1abb",
   "metadata": {},
   "outputs": [],
   "source": [
    "file_content\n",
    "filtered_text = []\n",
    "\n",
    "tokenized_word = word_tokenize(file_content)\n",
    "for each_word in tokenized_word:\n",
    "    if each_word not in stop_words:\n",
    "        filtered_text.append(each_word)\n"
   ]
  },
  {
   "cell_type": "code",
   "execution_count": 22,
   "id": "e15d1d6d",
   "metadata": {},
   "outputs": [
    {
     "name": "stdout",
     "output_type": "stream",
     "text": [
      "2915692\n"
     ]
    }
   ],
   "source": [
    "print(len(tokenized_word))"
   ]
  },
  {
   "cell_type": "code",
   "execution_count": 23,
   "id": "f5daa4ea",
   "metadata": {},
   "outputs": [
    {
     "name": "stdout",
     "output_type": "stream",
     "text": [
      "1940827\n"
     ]
    }
   ],
   "source": [
    "print(len(filtered_text))"
   ]
  },
  {
   "cell_type": "code",
   "execution_count": null,
   "id": "74c7621b",
   "metadata": {},
   "outputs": [],
   "source": []
  },
  {
   "cell_type": "markdown",
   "id": "856848dd",
   "metadata": {},
   "source": [
    "### Removing Punctuations ###"
   ]
  },
  {
   "cell_type": "code",
   "execution_count": 24,
   "id": "37ac1b29",
   "metadata": {},
   "outputs": [],
   "source": [
    "no_punct_text = []\n",
    "\n",
    "tokenized_word = word_tokenize(file_content)\n",
    "for word in tokenized_word:\n",
    "    if word.isalpha():\n",
    "        no_punct_text.append(each_word)"
   ]
  },
  {
   "cell_type": "code",
   "execution_count": 25,
   "id": "03dcbab0",
   "metadata": {},
   "outputs": [
    {
     "name": "stdout",
     "output_type": "stream",
     "text": [
      "2353423\n"
     ]
    }
   ],
   "source": [
    "print(len(no_punct_text))"
   ]
  },
  {
   "cell_type": "code",
   "execution_count": null,
   "id": "9b0572e3",
   "metadata": {},
   "outputs": [],
   "source": []
  },
  {
   "cell_type": "code",
   "execution_count": null,
   "id": "8afa140a",
   "metadata": {},
   "outputs": [],
   "source": []
  },
  {
   "cell_type": "code",
   "execution_count": null,
   "id": "16898236",
   "metadata": {},
   "outputs": [],
   "source": []
  },
  {
   "cell_type": "code",
   "execution_count": null,
   "id": "05f3239a",
   "metadata": {},
   "outputs": [],
   "source": []
  },
  {
   "cell_type": "markdown",
   "id": "58257ef1",
   "metadata": {},
   "source": [
    "### Frequency distribution of words"
   ]
  },
  {
   "cell_type": "code",
   "execution_count": 10,
   "id": "4253c0e3",
   "metadata": {},
   "outputs": [],
   "source": [
    "from nltk.probability import FreqDist"
   ]
  },
  {
   "cell_type": "code",
   "execution_count": 11,
   "id": "b1ce16f6",
   "metadata": {},
   "outputs": [],
   "source": [
    "freq_dist_of_words = FreqDist(tokenized_word)   # Without removing stopwords\n",
    "freq_dist_of_words_2 = FreqDist(filtered_text)  # Removing Stopwords"
   ]
  },
  {
   "cell_type": "code",
   "execution_count": 12,
   "id": "42af0f3d",
   "metadata": {},
   "outputs": [
    {
     "name": "stdout",
     "output_type": "stream",
     "text": [
      "<FreqDist with 106179 samples and 2915692 outcomes>\n"
     ]
    }
   ],
   "source": [
    "print(freq_dist_of_words)"
   ]
  },
  {
   "cell_type": "code",
   "execution_count": 13,
   "id": "405e618e",
   "metadata": {},
   "outputs": [
    {
     "name": "stdout",
     "output_type": "stream",
     "text": [
      "<FreqDist with 106030 samples and 1940827 outcomes>\n"
     ]
    }
   ],
   "source": [
    "print(freq_dist_of_words_2)"
   ]
  },
  {
   "cell_type": "code",
   "execution_count": 14,
   "id": "d194d2bc",
   "metadata": {},
   "outputs": [
    {
     "data": {
      "text/plain": [
       "[('.', 122712),\n",
       " (\"''\", 85048),\n",
       " ('the', 84270),\n",
       " (',', 77973),\n",
       " ('to', 60086),\n",
       " ('a', 55442),\n",
       " ('I', 55385),\n",
       " ('and', 45873),\n",
       " ('of', 38445),\n",
       " ('``', 35348),\n",
       " ('?', 33474),\n",
       " ('is', 33456),\n",
       " ('it', 30482),\n",
       " ('in', 29783),\n",
       " ('that', 29155),\n",
       " ('you', 27879),\n",
       " (\"'s\", 25406),\n",
       " ('for', 22883),\n",
       " (\"n't\", 22598),\n",
       " ('on', 17296)]"
      ]
     },
     "execution_count": 14,
     "metadata": {},
     "output_type": "execute_result"
    }
   ],
   "source": [
    "freq_dist_of_words.most_common(20)"
   ]
  },
  {
   "cell_type": "code",
   "execution_count": 15,
   "id": "e0a46613",
   "metadata": {},
   "outputs": [
    {
     "data": {
      "text/plain": [
       "[('.', 122712),\n",
       " (\"''\", 85048),\n",
       " (',', 77973),\n",
       " ('I', 55385),\n",
       " ('``', 35348),\n",
       " ('?', 33474),\n",
       " (\"'s\", 25406),\n",
       " (\"n't\", 22598),\n",
       " ('!', 11933),\n",
       " ('*', 11472),\n",
       " ('like', 10275),\n",
       " (')', 9623),\n",
       " ('(', 8920),\n",
       " ('would', 8768),\n",
       " (':', 8752),\n",
       " ('The', 7956),\n",
       " ('people', 7513),\n",
       " ('get', 7370),\n",
       " ('It', 7031),\n",
       " (\"'m\", 7023)]"
      ]
     },
     "execution_count": 15,
     "metadata": {},
     "output_type": "execute_result"
    }
   ],
   "source": [
    "freq_dist_of_words_2.most_common(20)"
   ]
  },
  {
   "cell_type": "code",
   "execution_count": 19,
   "id": "2664bb45",
   "metadata": {},
   "outputs": [
    {
     "data": {
      "image/png": "[encoded data removed]",
      "text/plain": [
       "<Figure size 432x288 with 1 Axes>"
      ]
     },
     "metadata": {
      "needs_background": "light"
     },
     "output_type": "display_data"
    },
    {
     "data": {
      "image/png": "[encoded data removed]",
      "text/plain": [
       "<Figure size 432x288 with 1 Axes>"
      ]
     },
     "metadata": {
      "needs_background": "light"
     },
     "output_type": "display_data"
    },
    {
     "data": {
      "text/plain": [
       "<AxesSubplot:xlabel='Samples', ylabel='Counts'>"
      ]
     },
     "execution_count": 19,
     "metadata": {},
     "output_type": "execute_result"
    }
   ],
   "source": [
    "import matplotlib.pyplot as plt\n",
    "%matplotlib inline\n",
    "freq_dist_of_words.plot(30, cumulative=False)\n",
    "\n",
    "freq_dist_of_words_2.plot(30,cumulative=False)"
   ]
  },
  {
   "cell_type": "code",
   "execution_count": null,
   "id": "027fb302",
   "metadata": {},
   "outputs": [],
   "source": []
  }
 ],
 "metadata": {
  "kernelspec": {
   "display_name": "Python 3",
   "language": "python",
   "name": "python3"
  },
  "language_info": {
   "codemirror_mode": {
    "name": "ipython",
    "version": 3
   },
   "file_extension": ".py",
   "mimetype": "text/x-python",
   "name": "python",
   "nbconvert_exporter": "python",
   "pygments_lexer": "ipython3",
   "version": "3.8.8"
  }
 },
 "nbformat": 4,
 "nbformat_minor": 5
}
