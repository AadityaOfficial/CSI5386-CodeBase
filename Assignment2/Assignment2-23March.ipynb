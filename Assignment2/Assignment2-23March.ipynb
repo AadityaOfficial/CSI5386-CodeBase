{
 "cells": [
  {
   "cell_type": "markdown",
   "metadata": {},
   "source": [
    "# CSI5388 Natural Language Processing\n",
    "## Assignment - 2\n",
    "## INGREDIENTS FOR HAPPINESS"
   ]
  },
  {
   "cell_type": "code",
   "execution_count": 424,
   "metadata": {},
   "outputs": [],
   "source": [
    "# Import Data\n",
    "import pandas as pd\n",
    "import numpy as np\n",
    "train_labeled = pd.read_csv(\"data/TRAIN/labeled_10k.csv\", engine = 'python')\n",
    "train_unlabeled = pd.read_csv(\"data/TRAIN/unlabeled_70k.csv\", engine = 'python')\n",
    "test_labeled = pd.read_csv(\"data/TEST/labeled_17k.csv\", engine = 'python') # engine should be set as python to avoid error due to some characters: https://stackoverflow.com/questions/46000191/utf-8-codec-cant-decode-byte-0x92-in-position-18-invalid-start-byte\n",
    "test_unlabeled = pd.read_csv(\"data/TEST/unlabeled_17k.csv\", engine = 'python')"
   ]
  },
  {
   "cell_type": "code",
   "execution_count": 425,
   "metadata": {},
   "outputs": [
    {
     "data": {
      "text/html": [
       "<div>\n",
       "<style scoped>\n",
       "    .dataframe tbody tr th:only-of-type {\n",
       "        vertical-align: middle;\n",
       "    }\n",
       "\n",
       "    .dataframe tbody tr th {\n",
       "        vertical-align: top;\n",
       "    }\n",
       "\n",
       "    .dataframe thead th {\n",
       "        text-align: right;\n",
       "    }\n",
       "</style>\n",
       "<table border=\"1\" class=\"dataframe\">\n",
       "  <thead>\n",
       "    <tr style=\"text-align: right;\">\n",
       "      <th></th>\n",
       "      <th>hmid</th>\n",
       "      <th>moment</th>\n",
       "      <th>concepts</th>\n",
       "      <th>agency</th>\n",
       "      <th>social</th>\n",
       "      <th>age</th>\n",
       "      <th>country</th>\n",
       "      <th>gender</th>\n",
       "      <th>married</th>\n",
       "      <th>parenthood</th>\n",
       "      <th>reflection</th>\n",
       "      <th>duration</th>\n",
       "    </tr>\n",
       "  </thead>\n",
       "  <tbody>\n",
       "    <tr>\n",
       "      <th>0</th>\n",
       "      <td>27674</td>\n",
       "      <td>I was happy when my son got 90% marks in his e...</td>\n",
       "      <td>education|family</td>\n",
       "      <td>no</td>\n",
       "      <td>yes</td>\n",
       "      <td>29.0</td>\n",
       "      <td>IND</td>\n",
       "      <td>m</td>\n",
       "      <td>married</td>\n",
       "      <td>y</td>\n",
       "      <td>24h</td>\n",
       "      <td>half_a_day</td>\n",
       "    </tr>\n",
       "    <tr>\n",
       "      <th>1</th>\n",
       "      <td>27685</td>\n",
       "      <td>went to movies with my friends it was fun</td>\n",
       "      <td>entertainment</td>\n",
       "      <td>yes</td>\n",
       "      <td>yes</td>\n",
       "      <td>29.0</td>\n",
       "      <td>IND</td>\n",
       "      <td>m</td>\n",
       "      <td>single</td>\n",
       "      <td>y</td>\n",
       "      <td>24h</td>\n",
       "      <td>half_a_day</td>\n",
       "    </tr>\n",
       "    <tr>\n",
       "      <th>2</th>\n",
       "      <td>27691</td>\n",
       "      <td>A hot kiss with my girl friend last night made...</td>\n",
       "      <td>romance</td>\n",
       "      <td>yes</td>\n",
       "      <td>yes</td>\n",
       "      <td>25.0</td>\n",
       "      <td>IND</td>\n",
       "      <td>m</td>\n",
       "      <td>married</td>\n",
       "      <td>y</td>\n",
       "      <td>24h</td>\n",
       "      <td>at_least_one_hour</td>\n",
       "    </tr>\n",
       "    <tr>\n",
       "      <th>3</th>\n",
       "      <td>27701</td>\n",
       "      <td>My son woke me up to a fantastic breakfast of ...</td>\n",
       "      <td>family|food</td>\n",
       "      <td>no</td>\n",
       "      <td>yes</td>\n",
       "      <td>79</td>\n",
       "      <td>USA</td>\n",
       "      <td>f</td>\n",
       "      <td>widowed</td>\n",
       "      <td>y</td>\n",
       "      <td>24h</td>\n",
       "      <td>all_day_im_still_feeling_it</td>\n",
       "    </tr>\n",
       "    <tr>\n",
       "      <th>4</th>\n",
       "      <td>27712</td>\n",
       "      <td>My older daughter keeps patting my younger dau...</td>\n",
       "      <td>family</td>\n",
       "      <td>no</td>\n",
       "      <td>yes</td>\n",
       "      <td>30</td>\n",
       "      <td>USA</td>\n",
       "      <td>f</td>\n",
       "      <td>married</td>\n",
       "      <td>y</td>\n",
       "      <td>24h</td>\n",
       "      <td>a_few_moment</td>\n",
       "    </tr>\n",
       "  </tbody>\n",
       "</table>\n",
       "</div>"
      ],
      "text/plain": [
       "    hmid                                             moment          concepts  \\\n",
       "0  27674  I was happy when my son got 90% marks in his e...  education|family   \n",
       "1  27685          went to movies with my friends it was fun     entertainment   \n",
       "2  27691  A hot kiss with my girl friend last night made...           romance   \n",
       "3  27701  My son woke me up to a fantastic breakfast of ...       family|food   \n",
       "4  27712  My older daughter keeps patting my younger dau...            family   \n",
       "\n",
       "  agency social   age country gender  married parenthood reflection  \\\n",
       "0     no    yes  29.0     IND      m  married          y        24h   \n",
       "1    yes    yes  29.0     IND      m   single          y        24h   \n",
       "2    yes    yes  25.0     IND      m  married          y        24h   \n",
       "3     no    yes    79     USA      f  widowed          y        24h   \n",
       "4     no    yes    30     USA      f  married          y        24h   \n",
       "\n",
       "                      duration  \n",
       "0                   half_a_day  \n",
       "1                   half_a_day  \n",
       "2            at_least_one_hour  \n",
       "3  all_day_im_still_feeling_it  \n",
       "4                 a_few_moment  "
      ]
     },
     "execution_count": 425,
     "metadata": {},
     "output_type": "execute_result"
    }
   ],
   "source": [
    "train_labeled.head()"
   ]
  },
  {
   "cell_type": "code",
   "execution_count": 426,
   "metadata": {},
   "outputs": [
    {
     "data": {
      "text/html": [
       "<div>\n",
       "<style scoped>\n",
       "    .dataframe tbody tr th:only-of-type {\n",
       "        vertical-align: middle;\n",
       "    }\n",
       "\n",
       "    .dataframe tbody tr th {\n",
       "        vertical-align: top;\n",
       "    }\n",
       "\n",
       "    .dataframe thead th {\n",
       "        text-align: right;\n",
       "    }\n",
       "</style>\n",
       "<table border=\"1\" class=\"dataframe\">\n",
       "  <thead>\n",
       "    <tr style=\"text-align: right;\">\n",
       "      <th></th>\n",
       "      <th>hmid</th>\n",
       "      <th>moment</th>\n",
       "      <th>age</th>\n",
       "      <th>country</th>\n",
       "      <th>gender</th>\n",
       "      <th>married</th>\n",
       "      <th>parenthood</th>\n",
       "      <th>reflection</th>\n",
       "      <th>duration</th>\n",
       "    </tr>\n",
       "  </thead>\n",
       "  <tbody>\n",
       "    <tr>\n",
       "      <th>0</th>\n",
       "      <td>27673</td>\n",
       "      <td>I went on a successful date with someone I fel...</td>\n",
       "      <td>35.0</td>\n",
       "      <td>USA</td>\n",
       "      <td>m</td>\n",
       "      <td>single</td>\n",
       "      <td>n</td>\n",
       "      <td>24h</td>\n",
       "      <td>at_least_one_hour</td>\n",
       "    </tr>\n",
       "    <tr>\n",
       "      <th>1</th>\n",
       "      <td>27675</td>\n",
       "      <td>I went to the gym this morning and did yoga.</td>\n",
       "      <td>30.0</td>\n",
       "      <td>USA</td>\n",
       "      <td>f</td>\n",
       "      <td>married</td>\n",
       "      <td>y</td>\n",
       "      <td>24h</td>\n",
       "      <td>at_least_one_hour</td>\n",
       "    </tr>\n",
       "    <tr>\n",
       "      <th>2</th>\n",
       "      <td>27678</td>\n",
       "      <td>I meditated last night.</td>\n",
       "      <td>23.0</td>\n",
       "      <td>IND</td>\n",
       "      <td>m</td>\n",
       "      <td>single</td>\n",
       "      <td>n</td>\n",
       "      <td>24h</td>\n",
       "      <td>at_least_one_hour</td>\n",
       "    </tr>\n",
       "    <tr>\n",
       "      <th>3</th>\n",
       "      <td>27679</td>\n",
       "      <td>I made a new recipe for peasant bread, and it ...</td>\n",
       "      <td>30.0</td>\n",
       "      <td>USA</td>\n",
       "      <td>m</td>\n",
       "      <td>single</td>\n",
       "      <td>n</td>\n",
       "      <td>24h</td>\n",
       "      <td>half_a_day</td>\n",
       "    </tr>\n",
       "    <tr>\n",
       "      <th>4</th>\n",
       "      <td>27680</td>\n",
       "      <td>I got gift from my elder brother which was rea...</td>\n",
       "      <td>23.0</td>\n",
       "      <td>IND</td>\n",
       "      <td>m</td>\n",
       "      <td>single</td>\n",
       "      <td>n</td>\n",
       "      <td>24h</td>\n",
       "      <td>at_least_one_hour</td>\n",
       "    </tr>\n",
       "  </tbody>\n",
       "</table>\n",
       "</div>"
      ],
      "text/plain": [
       "    hmid                                             moment   age country  \\\n",
       "0  27673  I went on a successful date with someone I fel...  35.0     USA   \n",
       "1  27675       I went to the gym this morning and did yoga.  30.0     USA   \n",
       "2  27678                            I meditated last night.  23.0     IND   \n",
       "3  27679  I made a new recipe for peasant bread, and it ...  30.0     USA   \n",
       "4  27680  I got gift from my elder brother which was rea...  23.0     IND   \n",
       "\n",
       "  gender  married parenthood reflection           duration  \n",
       "0      m   single          n        24h  at_least_one_hour  \n",
       "1      f  married          y        24h  at_least_one_hour  \n",
       "2      m   single          n        24h  at_least_one_hour  \n",
       "3      m   single          n        24h         half_a_day  \n",
       "4      m   single          n        24h  at_least_one_hour  "
      ]
     },
     "execution_count": 426,
     "metadata": {},
     "output_type": "execute_result"
    }
   ],
   "source": [
    "train_unlabeled.head()"
   ]
  },
  {
   "cell_type": "code",
   "execution_count": 427,
   "metadata": {},
   "outputs": [
    {
     "data": {
      "text/html": [
       "<div>\n",
       "<style scoped>\n",
       "    .dataframe tbody tr th:only-of-type {\n",
       "        vertical-align: middle;\n",
       "    }\n",
       "\n",
       "    .dataframe tbody tr th {\n",
       "        vertical-align: top;\n",
       "    }\n",
       "\n",
       "    .dataframe thead th {\n",
       "        text-align: right;\n",
       "    }\n",
       "</style>\n",
       "<table border=\"1\" class=\"dataframe\">\n",
       "  <thead>\n",
       "    <tr style=\"text-align: right;\">\n",
       "      <th></th>\n",
       "      <th>hmid</th>\n",
       "      <th>moment</th>\n",
       "      <th>reflection</th>\n",
       "      <th>age</th>\n",
       "      <th>country</th>\n",
       "      <th>gender</th>\n",
       "      <th>duration</th>\n",
       "      <th>married</th>\n",
       "      <th>parenthood</th>\n",
       "      <th>concepts</th>\n",
       "      <th>agency</th>\n",
       "      <th>social</th>\n",
       "    </tr>\n",
       "  </thead>\n",
       "  <tbody>\n",
       "    <tr>\n",
       "      <th>0</th>\n",
       "      <td>0</td>\n",
       "      <td>I was able to spend the day with my fiance sho...</td>\n",
       "      <td>24h</td>\n",
       "      <td>28</td>\n",
       "      <td>USA</td>\n",
       "      <td>m</td>\n",
       "      <td>all_day_im_still_feeling_it</td>\n",
       "      <td>single</td>\n",
       "      <td>n</td>\n",
       "      <td>shopping|family|romance</td>\n",
       "      <td>yes</td>\n",
       "      <td>no</td>\n",
       "    </tr>\n",
       "    <tr>\n",
       "      <th>1</th>\n",
       "      <td>1</td>\n",
       "      <td>I was able to play with my cat.</td>\n",
       "      <td>24h</td>\n",
       "      <td>28</td>\n",
       "      <td>USA</td>\n",
       "      <td>m</td>\n",
       "      <td>at_least_one_hour</td>\n",
       "      <td>single</td>\n",
       "      <td>n</td>\n",
       "      <td>animals</td>\n",
       "      <td>yes</td>\n",
       "      <td>no</td>\n",
       "    </tr>\n",
       "    <tr>\n",
       "      <th>2</th>\n",
       "      <td>2</td>\n",
       "      <td>I was able to clean my room and gold my laundry.</td>\n",
       "      <td>24h</td>\n",
       "      <td>28</td>\n",
       "      <td>USA</td>\n",
       "      <td>m</td>\n",
       "      <td>at_least_one_hour</td>\n",
       "      <td>single</td>\n",
       "      <td>n</td>\n",
       "      <td>0</td>\n",
       "      <td>yes</td>\n",
       "      <td>no</td>\n",
       "    </tr>\n",
       "    <tr>\n",
       "      <th>3</th>\n",
       "      <td>3</td>\n",
       "      <td>I spend the day at a party on the beach and I ...</td>\n",
       "      <td>24h</td>\n",
       "      <td>24</td>\n",
       "      <td>USA</td>\n",
       "      <td>m</td>\n",
       "      <td>half_a_day</td>\n",
       "      <td>single</td>\n",
       "      <td>n</td>\n",
       "      <td>vacation|party|weather</td>\n",
       "      <td>yes</td>\n",
       "      <td>yes</td>\n",
       "    </tr>\n",
       "    <tr>\n",
       "      <th>4</th>\n",
       "      <td>4</td>\n",
       "      <td>My cat greeting me when I got home from work -...</td>\n",
       "      <td>24h</td>\n",
       "      <td>24</td>\n",
       "      <td>USA</td>\n",
       "      <td>m</td>\n",
       "      <td>half_a_day</td>\n",
       "      <td>single</td>\n",
       "      <td>n</td>\n",
       "      <td>animals</td>\n",
       "      <td>no</td>\n",
       "      <td>no</td>\n",
       "    </tr>\n",
       "  </tbody>\n",
       "</table>\n",
       "</div>"
      ],
      "text/plain": [
       "   hmid                                             moment reflection age  \\\n",
       "0     0  I was able to spend the day with my fiance sho...        24h  28   \n",
       "1     1                    I was able to play with my cat.        24h  28   \n",
       "2     2   I was able to clean my room and gold my laundry.        24h  28   \n",
       "3     3  I spend the day at a party on the beach and I ...        24h  24   \n",
       "4     4  My cat greeting me when I got home from work -...        24h  24   \n",
       "\n",
       "  country gender                     duration married parenthood  \\\n",
       "0     USA      m  all_day_im_still_feeling_it  single          n   \n",
       "1     USA      m            at_least_one_hour  single          n   \n",
       "2     USA      m            at_least_one_hour  single          n   \n",
       "3     USA      m                   half_a_day  single          n   \n",
       "4     USA      m                   half_a_day  single          n   \n",
       "\n",
       "                  concepts agency social  \n",
       "0  shopping|family|romance    yes     no  \n",
       "1                  animals    yes     no  \n",
       "2                        0    yes     no  \n",
       "3   vacation|party|weather    yes    yes  \n",
       "4                  animals     no     no  "
      ]
     },
     "execution_count": 427,
     "metadata": {},
     "output_type": "execute_result"
    }
   ],
   "source": [
    "test_labeled.head()"
   ]
  },
  {
   "cell_type": "code",
   "execution_count": 428,
   "metadata": {},
   "outputs": [
    {
     "data": {
      "text/html": [
       "<div>\n",
       "<style scoped>\n",
       "    .dataframe tbody tr th:only-of-type {\n",
       "        vertical-align: middle;\n",
       "    }\n",
       "\n",
       "    .dataframe tbody tr th {\n",
       "        vertical-align: top;\n",
       "    }\n",
       "\n",
       "    .dataframe thead th {\n",
       "        text-align: right;\n",
       "    }\n",
       "</style>\n",
       "<table border=\"1\" class=\"dataframe\">\n",
       "  <thead>\n",
       "    <tr style=\"text-align: right;\">\n",
       "      <th></th>\n",
       "      <th>hmid</th>\n",
       "      <th>moment</th>\n",
       "      <th>reflection</th>\n",
       "      <th>age</th>\n",
       "      <th>country</th>\n",
       "      <th>gender</th>\n",
       "      <th>duration</th>\n",
       "      <th>married</th>\n",
       "      <th>parenthood</th>\n",
       "    </tr>\n",
       "  </thead>\n",
       "  <tbody>\n",
       "    <tr>\n",
       "      <th>0</th>\n",
       "      <td>0</td>\n",
       "      <td>I was able to spend the day with my fiance sho...</td>\n",
       "      <td>24h</td>\n",
       "      <td>28</td>\n",
       "      <td>USA</td>\n",
       "      <td>m</td>\n",
       "      <td>all_day_im_still_feeling_it</td>\n",
       "      <td>single</td>\n",
       "      <td>n</td>\n",
       "    </tr>\n",
       "    <tr>\n",
       "      <th>1</th>\n",
       "      <td>1</td>\n",
       "      <td>I was able to play with my cat.</td>\n",
       "      <td>24h</td>\n",
       "      <td>28</td>\n",
       "      <td>USA</td>\n",
       "      <td>m</td>\n",
       "      <td>at_least_one_hour</td>\n",
       "      <td>single</td>\n",
       "      <td>n</td>\n",
       "    </tr>\n",
       "    <tr>\n",
       "      <th>2</th>\n",
       "      <td>2</td>\n",
       "      <td>I was able to clean my room and gold my laundry.</td>\n",
       "      <td>24h</td>\n",
       "      <td>28</td>\n",
       "      <td>USA</td>\n",
       "      <td>m</td>\n",
       "      <td>at_least_one_hour</td>\n",
       "      <td>single</td>\n",
       "      <td>n</td>\n",
       "    </tr>\n",
       "    <tr>\n",
       "      <th>3</th>\n",
       "      <td>3</td>\n",
       "      <td>I spend the day at a party on the beach and I ...</td>\n",
       "      <td>24h</td>\n",
       "      <td>24</td>\n",
       "      <td>USA</td>\n",
       "      <td>m</td>\n",
       "      <td>half_a_day</td>\n",
       "      <td>single</td>\n",
       "      <td>n</td>\n",
       "    </tr>\n",
       "    <tr>\n",
       "      <th>4</th>\n",
       "      <td>4</td>\n",
       "      <td>My cat greeting me when I got home from work -...</td>\n",
       "      <td>24h</td>\n",
       "      <td>24</td>\n",
       "      <td>USA</td>\n",
       "      <td>m</td>\n",
       "      <td>half_a_day</td>\n",
       "      <td>single</td>\n",
       "      <td>n</td>\n",
       "    </tr>\n",
       "  </tbody>\n",
       "</table>\n",
       "</div>"
      ],
      "text/plain": [
       "   hmid                                             moment reflection age  \\\n",
       "0     0  I was able to spend the day with my fiance sho...        24h  28   \n",
       "1     1                    I was able to play with my cat.        24h  28   \n",
       "2     2   I was able to clean my room and gold my laundry.        24h  28   \n",
       "3     3  I spend the day at a party on the beach and I ...        24h  24   \n",
       "4     4  My cat greeting me when I got home from work -...        24h  24   \n",
       "\n",
       "  country gender                     duration married parenthood  \n",
       "0     USA      m  all_day_im_still_feeling_it  single          n  \n",
       "1     USA      m            at_least_one_hour  single          n  \n",
       "2     USA      m            at_least_one_hour  single          n  \n",
       "3     USA      m                   half_a_day  single          n  \n",
       "4     USA      m                   half_a_day  single          n  "
      ]
     },
     "execution_count": 428,
     "metadata": {},
     "output_type": "execute_result"
    }
   ],
   "source": [
    "test_unlabeled.head()"
   ]
  },
  {
   "cell_type": "markdown",
   "metadata": {},
   "source": [
    "### Pre-processing ###"
   ]
  },
  {
   "cell_type": "code",
   "execution_count": null,
   "metadata": {},
   "outputs": [],
   "source": []
  },
  {
   "cell_type": "code",
   "execution_count": 429,
   "metadata": {},
   "outputs": [],
   "source": [
    "import nltk"
   ]
  },
  {
   "cell_type": "code",
   "execution_count": 430,
   "metadata": {},
   "outputs": [
    {
     "data": {
      "text/plain": [
       "0    I was happy when my son got 90% marks in his e...\n",
       "1            went to movies with my friends it was fun\n",
       "2    A hot kiss with my girl friend last night made...\n",
       "Name: moment, dtype: object"
      ]
     },
     "execution_count": 430,
     "metadata": {},
     "output_type": "execute_result"
    }
   ],
   "source": [
    "train_labeled['moment'].head(3)"
   ]
  },
  {
   "cell_type": "code",
   "execution_count": 431,
   "metadata": {},
   "outputs": [
    {
     "data": {
      "text/plain": [
       "0    I went on a successful date with someone I fel...\n",
       "1         I went to the gym this morning and did yoga.\n",
       "2                              I meditated last night.\n",
       "Name: moment, dtype: object"
      ]
     },
     "execution_count": 431,
     "metadata": {},
     "output_type": "execute_result"
    }
   ],
   "source": [
    "train_unlabeled['moment'].head(3)"
   ]
  },
  {
   "cell_type": "code",
   "execution_count": 432,
   "metadata": {},
   "outputs": [],
   "source": [
    "train_labeled['moment'] = train_labeled['moment'].str.lower()\n",
    "train_unlabeled['moment'] = train_unlabeled['moment'].str.lower()"
   ]
  },
  {
   "cell_type": "code",
   "execution_count": 433,
   "metadata": {},
   "outputs": [
    {
     "data": {
      "text/plain": [
       "0    i went on a successful date with someone i fel...\n",
       "1         i went to the gym this morning and did yoga.\n",
       "2                              i meditated last night.\n",
       "Name: moment, dtype: object"
      ]
     },
     "execution_count": 433,
     "metadata": {},
     "output_type": "execute_result"
    }
   ],
   "source": [
    "train_unlabeled['moment'].head(3)"
   ]
  },
  {
   "cell_type": "markdown",
   "metadata": {},
   "source": [
    "## Removing the punctuations ##"
   ]
  },
  {
   "cell_type": "code",
   "execution_count": 434,
   "metadata": {},
   "outputs": [
    {
     "name": "stdout",
     "output_type": "stream",
     "text": [
      "!\"#$%&'()*+,-./:;<=>?@[\\]^_`{|}~\n"
     ]
    }
   ],
   "source": [
    "import string\n",
    "print(string.punctuation)\n",
    "punct_str = string.punctuation"
   ]
  },
  {
   "cell_type": "code",
   "execution_count": 435,
   "metadata": {},
   "outputs": [],
   "source": [
    "upd_moment = []\n",
    "upd_moment_2 = []\n",
    "\n",
    "for text_t1 in train_labeled['moment']:\n",
    "    text_upd = \"\".join([ char for char in text_t1 if char not in string.punctuation])\n",
    "    upd_moment.append(text_upd)\n",
    "    \n",
    "for text_t2 in train_unlabeled['moment']:\n",
    "    text_upd_2 = \"\".join([ char for char in text_t2 if char not in string.punctuation])\n",
    "    upd_moment_2.append(text_upd_2)"
   ]
  },
  {
   "cell_type": "code",
   "execution_count": 436,
   "metadata": {},
   "outputs": [],
   "source": [
    "train_labeled['moment'] = upd_moment\n",
    "train_unlabeled['moment']= upd_moment_2"
   ]
  },
  {
   "cell_type": "code",
   "execution_count": 437,
   "metadata": {},
   "outputs": [
    {
     "data": {
      "text/plain": [
       "'my older daughter keeps patting my younger daughters head'"
      ]
     },
     "execution_count": 437,
     "metadata": {},
     "output_type": "execute_result"
    }
   ],
   "source": [
    "train_labeled['moment'][4]"
   ]
  },
  {
   "cell_type": "code",
   "execution_count": null,
   "metadata": {},
   "outputs": [],
   "source": []
  },
  {
   "cell_type": "markdown",
   "metadata": {},
   "source": [
    "## Tokenization ##"
   ]
  },
  {
   "cell_type": "code",
   "execution_count": 340,
   "metadata": {},
   "outputs": [
    {
     "name": "stderr",
     "output_type": "stream",
     "text": [
      "[nltk_data] Downloading package punkt to /Users/ranjan/nltk_data...\n",
      "[nltk_data]   Package punkt is already up-to-date!\n",
      "[nltk_data] Downloading package stopwords to\n",
      "[nltk_data]     /Users/ranjan/nltk_data...\n",
      "[nltk_data]   Package stopwords is already up-to-date!\n",
      "[nltk_data] Error loading corpus: Package 'corpus' not found in index\n"
     ]
    },
    {
     "data": {
      "text/plain": [
       "False"
      ]
     },
     "execution_count": 340,
     "metadata": {},
     "output_type": "execute_result"
    }
   ],
   "source": [
    "import nltk\n",
    "nltk.download('punkt')\n",
    "nltk.download('stopwords')\n",
    "nltk.download('corpus')"
   ]
  },
  {
   "cell_type": "code",
   "execution_count": 341,
   "metadata": {},
   "outputs": [],
   "source": [
    "from nltk import word_tokenize\n",
    "list_tokenize = []\n",
    "\n",
    "for moments_sent in train_labeled['moment']:\n",
    "    tokenized_wrds = word_tokenize(moments_sent)\n",
    "    list_tokenize.append(tokenized_wrds)\n",
    "train_labeled['moment'] = list_tokenize\n",
    "    \n",
    "list_tokenize = []\n",
    "for moments_sent in train_unlabeled['moment']:\n",
    "    tokenized_wrds = word_tokenize(moments_sent)\n",
    "    list_tokenize.append(tokenized_wrds)\n",
    "train_unlabeled['moment'] = list_tokenize\n"
   ]
  },
  {
   "cell_type": "code",
   "execution_count": 342,
   "metadata": {
    "scrolled": true
   },
   "outputs": [
    {
     "data": {
      "text/html": [
       "<div>\n",
       "<style scoped>\n",
       "    .dataframe tbody tr th:only-of-type {\n",
       "        vertical-align: middle;\n",
       "    }\n",
       "\n",
       "    .dataframe tbody tr th {\n",
       "        vertical-align: top;\n",
       "    }\n",
       "\n",
       "    .dataframe thead th {\n",
       "        text-align: right;\n",
       "    }\n",
       "</style>\n",
       "<table border=\"1\" class=\"dataframe\">\n",
       "  <thead>\n",
       "    <tr style=\"text-align: right;\">\n",
       "      <th></th>\n",
       "      <th>hmid</th>\n",
       "      <th>moment</th>\n",
       "      <th>concepts</th>\n",
       "      <th>agency</th>\n",
       "      <th>social</th>\n",
       "      <th>age</th>\n",
       "      <th>country</th>\n",
       "      <th>gender</th>\n",
       "      <th>married</th>\n",
       "      <th>parenthood</th>\n",
       "      <th>reflection</th>\n",
       "      <th>duration</th>\n",
       "    </tr>\n",
       "  </thead>\n",
       "  <tbody>\n",
       "    <tr>\n",
       "      <th>0</th>\n",
       "      <td>27674</td>\n",
       "      <td>[i, was, happy, when, my, son, got, 90, marks,...</td>\n",
       "      <td>education|family</td>\n",
       "      <td>no</td>\n",
       "      <td>yes</td>\n",
       "      <td>29.0</td>\n",
       "      <td>IND</td>\n",
       "      <td>m</td>\n",
       "      <td>married</td>\n",
       "      <td>y</td>\n",
       "      <td>24h</td>\n",
       "      <td>half_a_day</td>\n",
       "    </tr>\n",
       "    <tr>\n",
       "      <th>1</th>\n",
       "      <td>27685</td>\n",
       "      <td>[went, to, movies, with, my, friends, it, was,...</td>\n",
       "      <td>entertainment</td>\n",
       "      <td>yes</td>\n",
       "      <td>yes</td>\n",
       "      <td>29.0</td>\n",
       "      <td>IND</td>\n",
       "      <td>m</td>\n",
       "      <td>single</td>\n",
       "      <td>y</td>\n",
       "      <td>24h</td>\n",
       "      <td>half_a_day</td>\n",
       "    </tr>\n",
       "    <tr>\n",
       "      <th>2</th>\n",
       "      <td>27691</td>\n",
       "      <td>[a, hot, kiss, with, my, girl, friend, last, n...</td>\n",
       "      <td>romance</td>\n",
       "      <td>yes</td>\n",
       "      <td>yes</td>\n",
       "      <td>25.0</td>\n",
       "      <td>IND</td>\n",
       "      <td>m</td>\n",
       "      <td>married</td>\n",
       "      <td>y</td>\n",
       "      <td>24h</td>\n",
       "      <td>at_least_one_hour</td>\n",
       "    </tr>\n",
       "    <tr>\n",
       "      <th>3</th>\n",
       "      <td>27701</td>\n",
       "      <td>[my, son, woke, me, up, to, a, fantastic, brea...</td>\n",
       "      <td>family|food</td>\n",
       "      <td>no</td>\n",
       "      <td>yes</td>\n",
       "      <td>79</td>\n",
       "      <td>USA</td>\n",
       "      <td>f</td>\n",
       "      <td>widowed</td>\n",
       "      <td>y</td>\n",
       "      <td>24h</td>\n",
       "      <td>all_day_im_still_feeling_it</td>\n",
       "    </tr>\n",
       "    <tr>\n",
       "      <th>4</th>\n",
       "      <td>27712</td>\n",
       "      <td>[my, older, daughter, keeps, patting, my, youn...</td>\n",
       "      <td>family</td>\n",
       "      <td>no</td>\n",
       "      <td>yes</td>\n",
       "      <td>30</td>\n",
       "      <td>USA</td>\n",
       "      <td>f</td>\n",
       "      <td>married</td>\n",
       "      <td>y</td>\n",
       "      <td>24h</td>\n",
       "      <td>a_few_moment</td>\n",
       "    </tr>\n",
       "  </tbody>\n",
       "</table>\n",
       "</div>"
      ],
      "text/plain": [
       "    hmid                                             moment          concepts  \\\n",
       "0  27674  [i, was, happy, when, my, son, got, 90, marks,...  education|family   \n",
       "1  27685  [went, to, movies, with, my, friends, it, was,...     entertainment   \n",
       "2  27691  [a, hot, kiss, with, my, girl, friend, last, n...           romance   \n",
       "3  27701  [my, son, woke, me, up, to, a, fantastic, brea...       family|food   \n",
       "4  27712  [my, older, daughter, keeps, patting, my, youn...            family   \n",
       "\n",
       "  agency social   age country gender  married parenthood reflection  \\\n",
       "0     no    yes  29.0     IND      m  married          y        24h   \n",
       "1    yes    yes  29.0     IND      m   single          y        24h   \n",
       "2    yes    yes  25.0     IND      m  married          y        24h   \n",
       "3     no    yes    79     USA      f  widowed          y        24h   \n",
       "4     no    yes    30     USA      f  married          y        24h   \n",
       "\n",
       "                      duration  \n",
       "0                   half_a_day  \n",
       "1                   half_a_day  \n",
       "2            at_least_one_hour  \n",
       "3  all_day_im_still_feeling_it  \n",
       "4                 a_few_moment  "
      ]
     },
     "execution_count": 342,
     "metadata": {},
     "output_type": "execute_result"
    }
   ],
   "source": [
    "train_labeled.head()"
   ]
  },
  {
   "cell_type": "code",
   "execution_count": 343,
   "metadata": {},
   "outputs": [
    {
     "data": {
      "text/html": [
       "<div>\n",
       "<style scoped>\n",
       "    .dataframe tbody tr th:only-of-type {\n",
       "        vertical-align: middle;\n",
       "    }\n",
       "\n",
       "    .dataframe tbody tr th {\n",
       "        vertical-align: top;\n",
       "    }\n",
       "\n",
       "    .dataframe thead th {\n",
       "        text-align: right;\n",
       "    }\n",
       "</style>\n",
       "<table border=\"1\" class=\"dataframe\">\n",
       "  <thead>\n",
       "    <tr style=\"text-align: right;\">\n",
       "      <th></th>\n",
       "      <th>hmid</th>\n",
       "      <th>moment</th>\n",
       "      <th>age</th>\n",
       "      <th>country</th>\n",
       "      <th>gender</th>\n",
       "      <th>married</th>\n",
       "      <th>parenthood</th>\n",
       "      <th>reflection</th>\n",
       "      <th>duration</th>\n",
       "    </tr>\n",
       "  </thead>\n",
       "  <tbody>\n",
       "    <tr>\n",
       "      <th>0</th>\n",
       "      <td>27673</td>\n",
       "      <td>[i, went, on, a, successful, date, with, someo...</td>\n",
       "      <td>35.0</td>\n",
       "      <td>USA</td>\n",
       "      <td>m</td>\n",
       "      <td>single</td>\n",
       "      <td>n</td>\n",
       "      <td>24h</td>\n",
       "      <td>at_least_one_hour</td>\n",
       "    </tr>\n",
       "    <tr>\n",
       "      <th>1</th>\n",
       "      <td>27675</td>\n",
       "      <td>[i, went, to, the, gym, this, morning, and, di...</td>\n",
       "      <td>30.0</td>\n",
       "      <td>USA</td>\n",
       "      <td>f</td>\n",
       "      <td>married</td>\n",
       "      <td>y</td>\n",
       "      <td>24h</td>\n",
       "      <td>at_least_one_hour</td>\n",
       "    </tr>\n",
       "    <tr>\n",
       "      <th>2</th>\n",
       "      <td>27678</td>\n",
       "      <td>[i, meditated, last, night]</td>\n",
       "      <td>23.0</td>\n",
       "      <td>IND</td>\n",
       "      <td>m</td>\n",
       "      <td>single</td>\n",
       "      <td>n</td>\n",
       "      <td>24h</td>\n",
       "      <td>at_least_one_hour</td>\n",
       "    </tr>\n",
       "    <tr>\n",
       "      <th>3</th>\n",
       "      <td>27679</td>\n",
       "      <td>[i, made, a, new, recipe, for, peasant, bread,...</td>\n",
       "      <td>30.0</td>\n",
       "      <td>USA</td>\n",
       "      <td>m</td>\n",
       "      <td>single</td>\n",
       "      <td>n</td>\n",
       "      <td>24h</td>\n",
       "      <td>half_a_day</td>\n",
       "    </tr>\n",
       "    <tr>\n",
       "      <th>4</th>\n",
       "      <td>27680</td>\n",
       "      <td>[i, got, gift, from, my, elder, brother, which...</td>\n",
       "      <td>23.0</td>\n",
       "      <td>IND</td>\n",
       "      <td>m</td>\n",
       "      <td>single</td>\n",
       "      <td>n</td>\n",
       "      <td>24h</td>\n",
       "      <td>at_least_one_hour</td>\n",
       "    </tr>\n",
       "  </tbody>\n",
       "</table>\n",
       "</div>"
      ],
      "text/plain": [
       "    hmid                                             moment   age country  \\\n",
       "0  27673  [i, went, on, a, successful, date, with, someo...  35.0     USA   \n",
       "1  27675  [i, went, to, the, gym, this, morning, and, di...  30.0     USA   \n",
       "2  27678                        [i, meditated, last, night]  23.0     IND   \n",
       "3  27679  [i, made, a, new, recipe, for, peasant, bread,...  30.0     USA   \n",
       "4  27680  [i, got, gift, from, my, elder, brother, which...  23.0     IND   \n",
       "\n",
       "  gender  married parenthood reflection           duration  \n",
       "0      m   single          n        24h  at_least_one_hour  \n",
       "1      f  married          y        24h  at_least_one_hour  \n",
       "2      m   single          n        24h  at_least_one_hour  \n",
       "3      m   single          n        24h         half_a_day  \n",
       "4      m   single          n        24h  at_least_one_hour  "
      ]
     },
     "execution_count": 343,
     "metadata": {},
     "output_type": "execute_result"
    }
   ],
   "source": [
    "train_unlabeled.head()"
   ]
  },
  {
   "cell_type": "markdown",
   "metadata": {},
   "source": [
    "## Remove Stopwords  ##"
   ]
  },
  {
   "cell_type": "code",
   "execution_count": 344,
   "metadata": {},
   "outputs": [
    {
     "name": "stdout",
     "output_type": "stream",
     "text": [
      "['i', 'me', 'my', 'myself', 'we', 'our', 'ours', 'ourselves', 'you', \"you're\", \"you've\", \"you'll\", \"you'd\", 'your', 'yours', 'yourself', 'yourselves', 'he', 'him', 'his', 'himself', 'she', \"she's\", 'her', 'hers', 'herself', 'it', \"it's\", 'its', 'itself', 'they', 'them', 'their', 'theirs', 'themselves', 'what', 'which', 'who', 'whom', 'this', 'that', \"that'll\", 'these', 'those', 'am', 'is', 'are', 'was', 'were', 'be', 'been', 'being', 'have', 'has', 'had', 'having', 'do', 'does', 'did', 'doing', 'a', 'an', 'the', 'and', 'but', 'if', 'or', 'because', 'as', 'until', 'while', 'of', 'at', 'by', 'for', 'with', 'about', 'against', 'between', 'into', 'through', 'during', 'before', 'after', 'above', 'below', 'to', 'from', 'up', 'down', 'in', 'out', 'on', 'off', 'over', 'under', 'again', 'further', 'then', 'once', 'here', 'there', 'when', 'where', 'why', 'how', 'all', 'any', 'both', 'each', 'few', 'more', 'most', 'other', 'some', 'such', 'no', 'nor', 'not', 'only', 'own', 'same', 'so', 'than', 'too', 'very', 's', 't', 'can', 'will', 'just', 'don', \"don't\", 'should', \"should've\", 'now', 'd', 'll', 'm', 'o', 're', 've', 'y', 'ain', 'aren', \"aren't\", 'couldn', \"couldn't\", 'didn', \"didn't\", 'doesn', \"doesn't\", 'hadn', \"hadn't\", 'hasn', \"hasn't\", 'haven', \"haven't\", 'isn', \"isn't\", 'ma', 'mightn', \"mightn't\", 'mustn', \"mustn't\", 'needn', \"needn't\", 'shan', \"shan't\", 'shouldn', \"shouldn't\", 'wasn', \"wasn't\", 'weren', \"weren't\", 'won', \"won't\", 'wouldn', \"wouldn't\"]\n"
     ]
    }
   ],
   "source": [
    "from nltk.corpus import stopwords\n",
    "stop_words_eng = stopwords.words('english')\n",
    "print(stop_words_eng)"
   ]
  },
  {
   "cell_type": "code",
   "execution_count": 345,
   "metadata": {},
   "outputs": [],
   "source": [
    "filt_wrd_list=[]\n",
    "for words in train_labeled['moment']:\n",
    "    filtered_words = [word for word in words if word not in stop_words_eng]    \n",
    "    filt_wrd_list.append(filtered_words)\n",
    "train_labeled['moment'] = filt_wrd_list\n",
    "\n",
    "filt_wrd_list=[]\n",
    "for words in train_unlabeled['moment']:\n",
    "    filtered_words = [word for word in words if word not in stop_words_eng]    \n",
    "    filt_wrd_list.append(filtered_words)\n",
    "train_unlabeled['moment'] = filt_wrd_list"
   ]
  },
  {
   "cell_type": "code",
   "execution_count": 346,
   "metadata": {},
   "outputs": [
    {
     "data": {
      "text/plain": [
       "0                [happy, son, got, 90, marks, examination]\n",
       "1                             [went, movies, friends, fun]\n",
       "2        [hot, kiss, girl, friend, last, night, made, day]\n",
       "3        [son, woke, fantastic, breakfast, eggs, specia...\n",
       "4        [older, daughter, keeps, patting, younger, dau...\n",
       "                               ...                        \n",
       "10555                       [husband, called, tell, loved]\n",
       "10556                  [worked, always, makes, feel, good]\n",
       "10557    [finally, got, watch, new, resident, evil, movie]\n",
       "10558     [got, talk, old, friend, reminisce, good, times]\n",
       "10559    [great, meeting, yesterday, work, boss, collea...\n",
       "Name: moment, Length: 10560, dtype: object"
      ]
     },
     "execution_count": 346,
     "metadata": {},
     "output_type": "execute_result"
    }
   ],
   "source": [
    "train_labeled['moment']"
   ]
  },
  {
   "cell_type": "code",
   "execution_count": 347,
   "metadata": {},
   "outputs": [
    {
     "data": {
      "text/plain": [
       "0        [went, successful, date, someone, felt, sympat...\n",
       "1                               [went, gym, morning, yoga]\n",
       "2                                 [meditated, last, night]\n",
       "3        [made, new, recipe, peasant, bread, came, spec...\n",
       "4          [got, gift, elder, brother, really, surprising]\n",
       "                               ...                        \n",
       "72319                              [spent, time, daughter]\n",
       "72320    [husband, announced, getting, decent, bonus, q...\n",
       "72321                                       [pepsi, drink]\n",
       "72322                  [cuddling, girlfriend, last, night]\n",
       "72323                        [great, workout, last, night]\n",
       "Name: moment, Length: 72324, dtype: object"
      ]
     },
     "execution_count": 347,
     "metadata": {},
     "output_type": "execute_result"
    }
   ],
   "source": [
    "train_unlabeled['moment']"
   ]
  },
  {
   "cell_type": "markdown",
   "metadata": {},
   "source": [
    "## Lemmatizer ##"
   ]
  },
  {
   "cell_type": "code",
   "execution_count": 348,
   "metadata": {},
   "outputs": [
    {
     "name": "stderr",
     "output_type": "stream",
     "text": [
      "[nltk_data] Downloading package wordnet to /Users/ranjan/nltk_data...\n",
      "[nltk_data]   Package wordnet is already up-to-date!\n"
     ]
    }
   ],
   "source": [
    "nltk.download('wordnet')\n",
    "from nltk.stem import WordNetLemmatizer\n",
    "lemmatizer = WordNetLemmatizer()"
   ]
  },
  {
   "cell_type": "code",
   "execution_count": 349,
   "metadata": {},
   "outputs": [],
   "source": [
    "# lemm_wrd_list=[]\n",
    "# for words in train_labeled['moment']:\n",
    "#     lemm_words = [lemmatizer.lemmatize(word) for word in words]    \n",
    "#     lemm_wrd_list.append(lemm_words)\n",
    "\n",
    "# train_labeled['moment'] = lemm_wrd_list\n",
    "lemm_wrd_list=[]\n",
    "for words in train_labeled['moment']:\n",
    "    lemm_words = [lemmatizer.lemmatize(word) for word in words] \n",
    "    lemm_string = \"\";\n",
    "    for i in range(0, len(lemm_words)):\n",
    "        lemm_string += lemm_words[i] + \" \"\n",
    "    lemm_wrd_list.append(lemm_string.strip())\n",
    "train_labeled['moment'] = lemm_wrd_list"
   ]
  },
  {
   "cell_type": "code",
   "execution_count": 350,
   "metadata": {},
   "outputs": [
    {
     "data": {
      "text/html": [
       "<div>\n",
       "<style scoped>\n",
       "    .dataframe tbody tr th:only-of-type {\n",
       "        vertical-align: middle;\n",
       "    }\n",
       "\n",
       "    .dataframe tbody tr th {\n",
       "        vertical-align: top;\n",
       "    }\n",
       "\n",
       "    .dataframe thead th {\n",
       "        text-align: right;\n",
       "    }\n",
       "</style>\n",
       "<table border=\"1\" class=\"dataframe\">\n",
       "  <thead>\n",
       "    <tr style=\"text-align: right;\">\n",
       "      <th></th>\n",
       "      <th>hmid</th>\n",
       "      <th>moment</th>\n",
       "      <th>concepts</th>\n",
       "      <th>agency</th>\n",
       "      <th>social</th>\n",
       "      <th>age</th>\n",
       "      <th>country</th>\n",
       "      <th>gender</th>\n",
       "      <th>married</th>\n",
       "      <th>parenthood</th>\n",
       "      <th>reflection</th>\n",
       "      <th>duration</th>\n",
       "    </tr>\n",
       "  </thead>\n",
       "  <tbody>\n",
       "    <tr>\n",
       "      <th>0</th>\n",
       "      <td>27674</td>\n",
       "      <td>happy son got 90 mark examination</td>\n",
       "      <td>education|family</td>\n",
       "      <td>no</td>\n",
       "      <td>yes</td>\n",
       "      <td>29.0</td>\n",
       "      <td>IND</td>\n",
       "      <td>m</td>\n",
       "      <td>married</td>\n",
       "      <td>y</td>\n",
       "      <td>24h</td>\n",
       "      <td>half_a_day</td>\n",
       "    </tr>\n",
       "    <tr>\n",
       "      <th>1</th>\n",
       "      <td>27685</td>\n",
       "      <td>went movie friend fun</td>\n",
       "      <td>entertainment</td>\n",
       "      <td>yes</td>\n",
       "      <td>yes</td>\n",
       "      <td>29.0</td>\n",
       "      <td>IND</td>\n",
       "      <td>m</td>\n",
       "      <td>single</td>\n",
       "      <td>y</td>\n",
       "      <td>24h</td>\n",
       "      <td>half_a_day</td>\n",
       "    </tr>\n",
       "    <tr>\n",
       "      <th>2</th>\n",
       "      <td>27691</td>\n",
       "      <td>hot kiss girl friend last night made day</td>\n",
       "      <td>romance</td>\n",
       "      <td>yes</td>\n",
       "      <td>yes</td>\n",
       "      <td>25.0</td>\n",
       "      <td>IND</td>\n",
       "      <td>m</td>\n",
       "      <td>married</td>\n",
       "      <td>y</td>\n",
       "      <td>24h</td>\n",
       "      <td>at_least_one_hour</td>\n",
       "    </tr>\n",
       "    <tr>\n",
       "      <th>3</th>\n",
       "      <td>27701</td>\n",
       "      <td>son woke fantastic breakfast egg special hambu...</td>\n",
       "      <td>family|food</td>\n",
       "      <td>no</td>\n",
       "      <td>yes</td>\n",
       "      <td>79</td>\n",
       "      <td>USA</td>\n",
       "      <td>f</td>\n",
       "      <td>widowed</td>\n",
       "      <td>y</td>\n",
       "      <td>24h</td>\n",
       "      <td>all_day_im_still_feeling_it</td>\n",
       "    </tr>\n",
       "    <tr>\n",
       "      <th>4</th>\n",
       "      <td>27712</td>\n",
       "      <td>older daughter keep patting younger daughter head</td>\n",
       "      <td>family</td>\n",
       "      <td>no</td>\n",
       "      <td>yes</td>\n",
       "      <td>30</td>\n",
       "      <td>USA</td>\n",
       "      <td>f</td>\n",
       "      <td>married</td>\n",
       "      <td>y</td>\n",
       "      <td>24h</td>\n",
       "      <td>a_few_moment</td>\n",
       "    </tr>\n",
       "  </tbody>\n",
       "</table>\n",
       "</div>"
      ],
      "text/plain": [
       "    hmid                                             moment          concepts  \\\n",
       "0  27674                  happy son got 90 mark examination  education|family   \n",
       "1  27685                              went movie friend fun     entertainment   \n",
       "2  27691           hot kiss girl friend last night made day           romance   \n",
       "3  27701  son woke fantastic breakfast egg special hambu...       family|food   \n",
       "4  27712  older daughter keep patting younger daughter head            family   \n",
       "\n",
       "  agency social   age country gender  married parenthood reflection  \\\n",
       "0     no    yes  29.0     IND      m  married          y        24h   \n",
       "1    yes    yes  29.0     IND      m   single          y        24h   \n",
       "2    yes    yes  25.0     IND      m  married          y        24h   \n",
       "3     no    yes    79     USA      f  widowed          y        24h   \n",
       "4     no    yes    30     USA      f  married          y        24h   \n",
       "\n",
       "                      duration  \n",
       "0                   half_a_day  \n",
       "1                   half_a_day  \n",
       "2            at_least_one_hour  \n",
       "3  all_day_im_still_feeling_it  \n",
       "4                 a_few_moment  "
      ]
     },
     "execution_count": 350,
     "metadata": {},
     "output_type": "execute_result"
    }
   ],
   "source": [
    "train_labeled.head()"
   ]
  },
  {
   "cell_type": "code",
   "execution_count": 351,
   "metadata": {},
   "outputs": [],
   "source": [
    "# lemm_wrd_list=[]\n",
    "# for words in train_unlabeled['moment']:\n",
    "#     lemm_words = [lemmatizer.lemmatize(word) for word in words]    \n",
    "#     lemm_wrd_list.append(lemm_words)\n",
    "\n",
    "lemm_wrd_list=[]\n",
    "for words in train_unlabeled['moment']:\n",
    "    lemm_words = [lemmatizer.lemmatize(word) for word in words] \n",
    "    lemm_string = \"\";\n",
    "    for i in range(0, len(lemm_words)):\n",
    "        lemm_string += lemm_words[i] + \" \"\n",
    "    lemm_wrd_list.append(lemm_string.strip())\n",
    "\n",
    "train_unlabeled['moment'] = lemm_wrd_list"
   ]
  },
  {
   "cell_type": "code",
   "execution_count": 438,
   "metadata": {},
   "outputs": [],
   "source": [
    "concepts_list = []\n",
    "for i in range(0, len(train_labeled['concepts'])):\n",
    "    arr = train_labeled['concepts'][i].split(\"|\")\n",
    "    concept_string = \"\"\n",
    "    for j in range(0, len(arr)):\n",
    "        concept_string += arr[j] + \" \"\n",
    "    concepts_list.append(concept_string.strip())\n",
    "train_labeled['concepts'] = concepts_list"
   ]
  },
  {
   "cell_type": "code",
   "execution_count": 439,
   "metadata": {},
   "outputs": [
    {
     "data": {
      "text/html": [
       "<div>\n",
       "<style scoped>\n",
       "    .dataframe tbody tr th:only-of-type {\n",
       "        vertical-align: middle;\n",
       "    }\n",
       "\n",
       "    .dataframe tbody tr th {\n",
       "        vertical-align: top;\n",
       "    }\n",
       "\n",
       "    .dataframe thead th {\n",
       "        text-align: right;\n",
       "    }\n",
       "</style>\n",
       "<table border=\"1\" class=\"dataframe\">\n",
       "  <thead>\n",
       "    <tr style=\"text-align: right;\">\n",
       "      <th></th>\n",
       "      <th>hmid</th>\n",
       "      <th>moment</th>\n",
       "      <th>concepts</th>\n",
       "      <th>agency</th>\n",
       "      <th>social</th>\n",
       "      <th>age</th>\n",
       "      <th>country</th>\n",
       "      <th>gender</th>\n",
       "      <th>married</th>\n",
       "      <th>parenthood</th>\n",
       "      <th>reflection</th>\n",
       "      <th>duration</th>\n",
       "    </tr>\n",
       "  </thead>\n",
       "  <tbody>\n",
       "    <tr>\n",
       "      <th>0</th>\n",
       "      <td>27674</td>\n",
       "      <td>i was happy when my son got 90 marks in his ex...</td>\n",
       "      <td>education family</td>\n",
       "      <td>no</td>\n",
       "      <td>yes</td>\n",
       "      <td>29.0</td>\n",
       "      <td>IND</td>\n",
       "      <td>m</td>\n",
       "      <td>married</td>\n",
       "      <td>y</td>\n",
       "      <td>24h</td>\n",
       "      <td>half_a_day</td>\n",
       "    </tr>\n",
       "    <tr>\n",
       "      <th>1</th>\n",
       "      <td>27685</td>\n",
       "      <td>went to movies with my friends it was fun</td>\n",
       "      <td>entertainment</td>\n",
       "      <td>yes</td>\n",
       "      <td>yes</td>\n",
       "      <td>29.0</td>\n",
       "      <td>IND</td>\n",
       "      <td>m</td>\n",
       "      <td>single</td>\n",
       "      <td>y</td>\n",
       "      <td>24h</td>\n",
       "      <td>half_a_day</td>\n",
       "    </tr>\n",
       "    <tr>\n",
       "      <th>2</th>\n",
       "      <td>27691</td>\n",
       "      <td>a hot kiss with my girl friend last night made...</td>\n",
       "      <td>romance</td>\n",
       "      <td>yes</td>\n",
       "      <td>yes</td>\n",
       "      <td>25.0</td>\n",
       "      <td>IND</td>\n",
       "      <td>m</td>\n",
       "      <td>married</td>\n",
       "      <td>y</td>\n",
       "      <td>24h</td>\n",
       "      <td>at_least_one_hour</td>\n",
       "    </tr>\n",
       "    <tr>\n",
       "      <th>3</th>\n",
       "      <td>27701</td>\n",
       "      <td>my son woke me up to a fantastic breakfast of ...</td>\n",
       "      <td>family food</td>\n",
       "      <td>no</td>\n",
       "      <td>yes</td>\n",
       "      <td>79</td>\n",
       "      <td>USA</td>\n",
       "      <td>f</td>\n",
       "      <td>widowed</td>\n",
       "      <td>y</td>\n",
       "      <td>24h</td>\n",
       "      <td>all_day_im_still_feeling_it</td>\n",
       "    </tr>\n",
       "    <tr>\n",
       "      <th>4</th>\n",
       "      <td>27712</td>\n",
       "      <td>my older daughter keeps patting my younger dau...</td>\n",
       "      <td>family</td>\n",
       "      <td>no</td>\n",
       "      <td>yes</td>\n",
       "      <td>30</td>\n",
       "      <td>USA</td>\n",
       "      <td>f</td>\n",
       "      <td>married</td>\n",
       "      <td>y</td>\n",
       "      <td>24h</td>\n",
       "      <td>a_few_moment</td>\n",
       "    </tr>\n",
       "  </tbody>\n",
       "</table>\n",
       "</div>"
      ],
      "text/plain": [
       "    hmid                                             moment          concepts  \\\n",
       "0  27674  i was happy when my son got 90 marks in his ex...  education family   \n",
       "1  27685          went to movies with my friends it was fun     entertainment   \n",
       "2  27691  a hot kiss with my girl friend last night made...           romance   \n",
       "3  27701  my son woke me up to a fantastic breakfast of ...       family food   \n",
       "4  27712  my older daughter keeps patting my younger dau...            family   \n",
       "\n",
       "  agency social   age country gender  married parenthood reflection  \\\n",
       "0     no    yes  29.0     IND      m  married          y        24h   \n",
       "1    yes    yes  29.0     IND      m   single          y        24h   \n",
       "2    yes    yes  25.0     IND      m  married          y        24h   \n",
       "3     no    yes    79     USA      f  widowed          y        24h   \n",
       "4     no    yes    30     USA      f  married          y        24h   \n",
       "\n",
       "                      duration  \n",
       "0                   half_a_day  \n",
       "1                   half_a_day  \n",
       "2            at_least_one_hour  \n",
       "3  all_day_im_still_feeling_it  \n",
       "4                 a_few_moment  "
      ]
     },
     "execution_count": 439,
     "metadata": {},
     "output_type": "execute_result"
    }
   ],
   "source": [
    "train_labeled.head()"
   ]
  },
  {
   "cell_type": "markdown",
   "metadata": {},
   "source": [
    "## Preprocessing Other Columns ##"
   ]
  },
  {
   "cell_type": "code",
   "execution_count": 440,
   "metadata": {},
   "outputs": [
    {
     "data": {
      "text/plain": [
       "array(['IND', 'USA', 'VEN', 'DNK', 'FIN', 'PER', 'GBR', 'SRB', 'DOM',\n",
       "       'ARM', 'PAK', 'SGP', 'FRA', 'JAM', 'LTU', 'TUR', 'PHL', 'PRT',\n",
       "       'ESP', 'THA', 'MEX', 'ARE', 'IDN', 'BRA', 'IRL', 'NGA', 'CAN',\n",
       "       'BGR', 'DEU', nan, 'DZA', 'MKD', 'ETH', 'RUS', 'EGY', 'NLD', 'ALB',\n",
       "       'BEL', 'MDA', 'ISR', 'NZL', 'AUS', 'ZAF', 'SWE', 'VNM', 'KAZ',\n",
       "       'GRC', 'TTO', 'UGA', 'MAR', 'URY', 'ISL', 'SUR', 'KOR', 'BHS',\n",
       "       'COL', 'ITA', 'CZE', 'BRB', 'MLT', 'MYS', 'KEN', 'KWT', 'PRI',\n",
       "       'ROU', 'SVN', 'MAC', 'GTM', 'NOR', 'AFG'], dtype=object)"
      ]
     },
     "execution_count": 440,
     "metadata": {},
     "output_type": "execute_result"
    }
   ],
   "source": [
    "train_labeled['country'].unique()"
   ]
  },
  {
   "cell_type": "code",
   "execution_count": 441,
   "metadata": {},
   "outputs": [
    {
     "data": {
      "text/plain": [
       "array(['USA', 'IND', 'VNM', 'KWT', 'GBR', 'FIN', 'AUS', 'BGD', 'IDN',\n",
       "       'BEL', 'CAN', 'SGP', 'IRL', 'PHL', 'VEN', 'LTU', 'BGR', 'DNK',\n",
       "       'URY', 'SRB', 'JAM', 'ITA', 'KEN', 'DOM', 'EGY', 'PER', 'PRT',\n",
       "       'ESP', 'NGA', 'BRA', 'MEX', 'TUR', 'MKD', 'FRA', 'COL', 'GRC', nan,\n",
       "       'MDA', 'POL', 'ARM', 'PAK', 'DZA', 'UGA', 'MYS', 'ZAF', 'THA',\n",
       "       'ARE', 'AUT', 'LKA', 'DEU', 'ROU', 'ETH', 'NZL', 'NIC', 'NLD',\n",
       "       'ALB', 'RUS', 'UMI', 'ISR', 'MAR', 'SWE', 'KAZ', 'ASM', 'TTO',\n",
       "       'JPN', 'PRI', 'AFG', 'KNA', 'CYP', 'TUN', 'HRV', 'ECU', 'KOR',\n",
       "       'BRB', 'CZE', 'EST', 'BHS', 'GTM', 'GHA', 'GMB', 'ISL', 'SAU',\n",
       "       'SUR', 'MLT', 'TCA', 'IRQ', 'ARG', 'TWN', 'CHL', 'MAC', 'SVN',\n",
       "       'NPL', 'VIR', 'SLV', 'NOR', 'LVA'], dtype=object)"
      ]
     },
     "execution_count": 441,
     "metadata": {},
     "output_type": "execute_result"
    }
   ],
   "source": [
    "train_unlabeled['country'].unique()"
   ]
  },
  {
   "cell_type": "markdown",
   "metadata": {},
   "source": [
    "- First issue the unlabelled data set has more terms different from the labelled data \n",
    "- Agency and Social are TARGET"
   ]
  },
  {
   "cell_type": "code",
   "execution_count": 442,
   "metadata": {},
   "outputs": [
    {
     "data": {
      "text/plain": [
       "Index(['hmid', 'moment', 'concepts', 'agency', 'social', 'age', 'country',\n",
       "       'gender', 'married', 'parenthood', 'reflection', 'duration'],\n",
       "      dtype='object')"
      ]
     },
     "execution_count": 442,
     "metadata": {},
     "output_type": "execute_result"
    }
   ],
   "source": [
    "train_labeled.columns"
   ]
  },
  {
   "cell_type": "code",
   "execution_count": 443,
   "metadata": {},
   "outputs": [],
   "source": [
    "# print(train_labeled['married'].unique())\n",
    "# print(train_labeled['gender'].unique())\n",
    "# print(train_labeled['age'].unique())\n",
    "# print(train_labeled['duration'].unique())\n",
    "# print(train_labeled['reflection'].unique())\n",
    "# print(train_labeled['parenthood'].unique())\n",
    "# print(train_labeled['concepts'].unique())"
   ]
  },
  {
   "cell_type": "code",
   "execution_count": 444,
   "metadata": {},
   "outputs": [
    {
     "name": "stdout",
     "output_type": "stream",
     "text": [
      "hmid           0\n",
      "moment         0\n",
      "concepts       0\n",
      "agency         0\n",
      "social         0\n",
      "age            9\n",
      "country       22\n",
      "gender         6\n",
      "married       15\n",
      "parenthood     9\n",
      "reflection     0\n",
      "duration      31\n",
      "dtype: int64\n"
     ]
    }
   ],
   "source": [
    "print(train_labeled.isna().sum())"
   ]
  },
  {
   "cell_type": "code",
   "execution_count": 445,
   "metadata": {},
   "outputs": [
    {
     "name": "stdout",
     "output_type": "stream",
     "text": [
      "hmid            0\n",
      "moment          0\n",
      "age            96\n",
      "country       124\n",
      "gender         47\n",
      "married        95\n",
      "parenthood     50\n",
      "reflection      0\n",
      "duration      226\n",
      "dtype: int64\n"
     ]
    }
   ],
   "source": [
    "print(train_unlabeled.isna().sum())"
   ]
  },
  {
   "cell_type": "code",
   "execution_count": 446,
   "metadata": {},
   "outputs": [
    {
     "name": "stdout",
     "output_type": "stream",
     "text": [
      "hmid            0\n",
      "moment          0\n",
      "reflection      0\n",
      "age             0\n",
      "country       262\n",
      "gender         50\n",
      "duration        0\n",
      "married       215\n",
      "parenthood    122\n",
      "concepts        0\n",
      "agency          0\n",
      "social          0\n",
      "dtype: int64\n"
     ]
    }
   ],
   "source": [
    "print(test_labeled.isna().sum())"
   ]
  },
  {
   "cell_type": "code",
   "execution_count": 447,
   "metadata": {},
   "outputs": [
    {
     "name": "stdout",
     "output_type": "stream",
     "text": [
      "hmid            0\n",
      "moment          0\n",
      "reflection      0\n",
      "age             0\n",
      "country       262\n",
      "gender         50\n",
      "duration        0\n",
      "married       215\n",
      "parenthood    122\n",
      "dtype: int64\n"
     ]
    }
   ],
   "source": [
    "print(test_unlabeled.isna().sum())"
   ]
  },
  {
   "cell_type": "markdown",
   "metadata": {},
   "source": [
    "## Remove all the nan, null and prefer not to say values ##"
   ]
  },
  {
   "cell_type": "code",
   "execution_count": 448,
   "metadata": {},
   "outputs": [
    {
     "data": {
      "text/plain": [
       "(10560, 12)"
      ]
     },
     "execution_count": 448,
     "metadata": {},
     "output_type": "execute_result"
    }
   ],
   "source": [
    "train_labeled.shape"
   ]
  },
  {
   "cell_type": "code",
   "execution_count": 449,
   "metadata": {},
   "outputs": [
    {
     "name": "stdout",
     "output_type": "stream",
     "text": [
      "(10485, 12)\n"
     ]
    }
   ],
   "source": [
    "train_labeled = train_labeled.dropna()\n",
    "print(train_labeled.shape)"
   ]
  },
  {
   "cell_type": "code",
   "execution_count": 450,
   "metadata": {},
   "outputs": [
    {
     "data": {
      "text/plain": [
       "(72324, 9)"
      ]
     },
     "execution_count": 450,
     "metadata": {},
     "output_type": "execute_result"
    }
   ],
   "source": [
    "train_unlabeled.shape"
   ]
  },
  {
   "cell_type": "code",
   "execution_count": 451,
   "metadata": {},
   "outputs": [
    {
     "data": {
      "text/plain": [
       "(71771, 9)"
      ]
     },
     "execution_count": 451,
     "metadata": {},
     "output_type": "execute_result"
    }
   ],
   "source": [
    "train_unlabeled = train_unlabeled.dropna()\n",
    "train_unlabeled.shape"
   ]
  },
  {
   "cell_type": "code",
   "execution_count": 452,
   "metadata": {},
   "outputs": [
    {
     "data": {
      "text/plain": [
       "(16665, 12)"
      ]
     },
     "execution_count": 452,
     "metadata": {},
     "output_type": "execute_result"
    }
   ],
   "source": [
    "test_labeled = test_labeled.dropna()\n",
    "test_labeled.shape"
   ]
  },
  {
   "cell_type": "code",
   "execution_count": 453,
   "metadata": {},
   "outputs": [
    {
     "data": {
      "text/plain": [
       "(16665, 9)"
      ]
     },
     "execution_count": 453,
     "metadata": {},
     "output_type": "execute_result"
    }
   ],
   "source": [
    "test_unlabeled = test_unlabeled.dropna()\n",
    "test_unlabeled.shape"
   ]
  },
  {
   "cell_type": "code",
   "execution_count": 454,
   "metadata": {},
   "outputs": [],
   "source": [
    "# print(train_labeled['married'].unique())\n",
    "# print(train_labeled['gender'].unique())\n",
    "# print(train_labeled['duration'].unique())\n",
    "# print(train_labeled['reflection'].unique())\n",
    "# print(train_labeled['parenthood'].unique())\n",
    "# print(train_labeled['age'].unique())\n",
    "# print(train_labeled['country'].unique())\n",
    "# print(train_labeled['country'].describe())"
   ]
  },
  {
   "cell_type": "code",
   "execution_count": 455,
   "metadata": {},
   "outputs": [],
   "source": [
    "#print(train_labeled.shape)\n",
    "train_labeled = train_labeled[train_labeled[\"age\"].str.contains(\"prefer not to say\") == False]\n",
    "#print(train_labeled.shape)\n",
    "\n",
    "train_labeled['age'] = train_labeled['age'].astype(float)"
   ]
  },
  {
   "cell_type": "code",
   "execution_count": 456,
   "metadata": {},
   "outputs": [
    {
     "name": "stdout",
     "output_type": "stream",
     "text": [
      "['all_day_im_still_feeling_it' 'at_least_one_hour' 'half_a_day'\n",
      " 'a_few_minutes' 'select one']\n",
      "\n",
      "Rows with \"Select One\" word  45 \n",
      "\n",
      "['28' '24' '34' '27' '31' '21' '57' '36' '71' '32' '40' '43' '38' '30'\n",
      " '49' '25' '46' '35' '69' '26' '29' '19' '33' '54' '23' '45' '72' '41'\n",
      " '22' '56' '70' '60' '37' '51' '50' '48' '39' '55' '47' '62' '74' '61'\n",
      " '68' '65' '59' '20' '67' '{}' '42' '44' '66' '64' '18' '76' '58' '63'\n",
      " '52' '53' '78' '73' '2' '3' '119' '5' '37years' '80' ',30' '247' '586']\n",
      "count     16665\n",
      "unique       61\n",
      "top         USA\n",
      "freq      13952\n",
      "Name: country, dtype: object\n"
     ]
    }
   ],
   "source": [
    "# print(test_labeled['married'].unique())\n",
    "# print(test_labeled['gender'].unique())\n",
    "print(test_labeled['duration'].unique())\n",
    "\n",
    "cnt=0\n",
    "for i in test_labeled['duration']:\n",
    "    if i=='select one':\n",
    "        cnt+=1;\n",
    "print('\\nRows with \"Select One\" word ',cnt,'\\n')\n",
    "\n",
    "\n",
    "\n",
    "# print(test_labeled['reflection'].unique())\n",
    "# print(test_labeled['parenthood'].unique())\n",
    "print(test_labeled['age'].unique())\n",
    "# print(test_labeled['country'].unique())\n",
    "print(test_labeled['country'].describe())"
   ]
  },
  {
   "cell_type": "code",
   "execution_count": 457,
   "metadata": {},
   "outputs": [
    {
     "name": "stdout",
     "output_type": "stream",
     "text": [
      "['single' 'married' 'divorced' 'separated' 'widowed']\n",
      "['m' 'f' 'o']\n",
      "['at_least_one_hour' 'half_a_day' 'all_day_im_still_feeling_it'\n",
      " 'a_few_moment' 'a_few_minutes']\n",
      "['24h' '3m']\n",
      "['n' 'y']\n",
      "[ 35.  30.  23.  25.  41.  37.  29.  39.  28.  38.  27.  22.  47.  26.\n",
      "  64.  32.  33.  48.  61.  66.  36.  18.  56.  31.  42.  24.  62.  44.\n",
      "  21.  45.  46.  40.  55.   3.  52.  19.  34.  53.  49.  65.  43.  20.\n",
      "  51.  50.  54.  69.  57.  63.  60.  73.  58.  71.  98.  70.  59. 227.\n",
      "  68.  72.  83.   2.  78.  76.  67.  74.  81. 233.  79.  95.  80.  88.\n",
      "  75.  77.]\n"
     ]
    }
   ],
   "source": [
    "print(train_unlabeled['married'].unique())\n",
    "print(train_unlabeled['gender'].unique())\n",
    "print(train_unlabeled['duration'].unique())\n",
    "print(train_unlabeled['reflection'].unique())\n",
    "print(train_unlabeled['parenthood'].unique())\n",
    "print(train_unlabeled['age'].unique())"
   ]
  },
  {
   "cell_type": "code",
   "execution_count": 458,
   "metadata": {},
   "outputs": [
    {
     "name": "stdout",
     "output_type": "stream",
     "text": [
      "['single' 'married' 'divorced' 'separated' 'widowed']\n",
      "['m' 'f' 'o']\n",
      "['all_day_im_still_feeling_it' 'at_least_one_hour' 'half_a_day'\n",
      " 'a_few_minutes' 'select one']\n",
      "['24h' '3m']\n",
      "['n' 'y']\n",
      "['28' '24' '34' '27' '31' '21' '57' '36' '71' '32' '40' '43' '38' '30'\n",
      " '49' '25' '46' '35' '69' '26' '29' '19' '33' '54' '23' '45' '72' '41'\n",
      " '22' '56' '70' '60' '37' '51' '50' '48' '39' '55' '47' '62' '74' '61'\n",
      " '68' '65' '59' '20' '67' '{}' '42' '44' '66' '64' '18' '76' '58' '63'\n",
      " '52' '53' '78' '73' '2' '3' '119' '5' '37years' '80' ',30' '247' '586']\n"
     ]
    }
   ],
   "source": [
    "print(test_unlabeled['married'].unique())\n",
    "print(test_unlabeled['gender'].unique())\n",
    "print(test_unlabeled['duration'].unique())\n",
    "print(test_unlabeled['reflection'].unique())\n",
    "print(test_unlabeled['parenthood'].unique())\n",
    "print(test_unlabeled['age'].unique())"
   ]
  },
  {
   "cell_type": "code",
   "execution_count": null,
   "metadata": {},
   "outputs": [],
   "source": []
  },
  {
   "cell_type": "code",
   "execution_count": 459,
   "metadata": {},
   "outputs": [
    {
     "name": "stdout",
     "output_type": "stream",
     "text": [
      "['single' 'married' 'divorced' 'separated' 'widowed']\n",
      "['m' 'f' 'o']\n",
      "['all_day_im_still_feeling_it' 'at_least_one_hour' 'half_a_day'\n",
      " 'a_few_minutes' 'select one']\n",
      "['24h' '3m']\n",
      "['n' 'y']\n"
     ]
    }
   ],
   "source": [
    "print(test_labeled['married'].unique())\n",
    "print(test_labeled['gender'].unique())\n",
    "print(test_labeled['duration'].unique())\n",
    "print(test_labeled['reflection'].unique())\n",
    "print(test_labeled['parenthood'].unique())"
   ]
  },
  {
   "cell_type": "code",
   "execution_count": null,
   "metadata": {},
   "outputs": [],
   "source": []
  },
  {
   "cell_type": "code",
   "execution_count": 460,
   "metadata": {},
   "outputs": [
    {
     "name": "stdout",
     "output_type": "stream",
     "text": [
      "['no' 'yes']\n",
      "['yes' 'no']\n"
     ]
    }
   ],
   "source": [
    "print(train_labeled['agency'].unique())\n",
    "print(train_labeled['social'].unique())"
   ]
  },
  {
   "cell_type": "code",
   "execution_count": 461,
   "metadata": {},
   "outputs": [
    {
     "data": {
      "text/plain": [
       "Index(['hmid', 'moment', 'age', 'country', 'gender', 'married', 'parenthood',\n",
       "       'reflection', 'duration'],\n",
       "      dtype='object')"
      ]
     },
     "execution_count": 461,
     "metadata": {},
     "output_type": "execute_result"
    }
   ],
   "source": [
    "train_unlabeled.columns"
   ]
  },
  {
   "cell_type": "code",
   "execution_count": 462,
   "metadata": {},
   "outputs": [
    {
     "data": {
      "text/plain": [
       "Index(['hmid', 'moment', 'concepts', 'agency', 'social', 'age', 'country',\n",
       "       'gender', 'married', 'parenthood', 'reflection', 'duration'],\n",
       "      dtype='object')"
      ]
     },
     "execution_count": 462,
     "metadata": {},
     "output_type": "execute_result"
    }
   ],
   "source": [
    "train_labeled.columns"
   ]
  },
  {
   "cell_type": "code",
   "execution_count": 463,
   "metadata": {},
   "outputs": [
    {
     "data": {
      "text/plain": [
       "Index(['hmid', 'moment', 'reflection', 'age', 'country', 'gender', 'duration',\n",
       "       'married', 'parenthood', 'concepts', 'agency', 'social'],\n",
       "      dtype='object')"
      ]
     },
     "execution_count": 463,
     "metadata": {},
     "output_type": "execute_result"
    }
   ],
   "source": [
    "test_labeled.columns"
   ]
  },
  {
   "cell_type": "code",
   "execution_count": 464,
   "metadata": {},
   "outputs": [
    {
     "data": {
      "text/plain": [
       "Index(['hmid', 'moment', 'reflection', 'age', 'country', 'gender', 'duration',\n",
       "       'married', 'parenthood'],\n",
       "      dtype='object')"
      ]
     },
     "execution_count": 464,
     "metadata": {},
     "output_type": "execute_result"
    }
   ],
   "source": [
    "test_unlabeled.columns"
   ]
  },
  {
   "cell_type": "markdown",
   "metadata": {},
   "source": [
    "## Encoding the columns ##"
   ]
  },
  {
   "cell_type": "code",
   "execution_count": 465,
   "metadata": {},
   "outputs": [],
   "source": [
    "# Dealing with yes->1 and No->0 # for agency and social#\n",
    "train_labeled['social'].replace({'yes':1,'no':0},inplace=True)\n",
    "train_labeled['agency'].replace({'yes':1,'no':0},inplace=True)"
   ]
  },
  {
   "cell_type": "code",
   "execution_count": 466,
   "metadata": {},
   "outputs": [],
   "source": [
    "# Dealing with yes->1 and No->0 # for agency and social#\n",
    "test_labeled['social'].replace({'yes':1,'no':0},inplace=True)\n",
    "test_labeled['agency'].replace({'yes':1,'no':0},inplace=True)"
   ]
  },
  {
   "cell_type": "code",
   "execution_count": 467,
   "metadata": {},
   "outputs": [],
   "source": [
    "list1 = []\n",
    "for i in train_labeled['country']:\n",
    "    if i=='USA':\n",
    "        list1.append(1)\n",
    "    else:\n",
    "        list1.append(0)\n",
    "\n",
    "train_labeled['country'] = list1\n",
    "\n",
    "list1 = []\n",
    "for i in train_unlabeled['country']:\n",
    "    if i=='USA':\n",
    "        list1.append(1)\n",
    "    else:\n",
    "        list1.append(0)\n",
    "\n",
    "train_unlabeled['country'] = list1"
   ]
  },
  {
   "cell_type": "code",
   "execution_count": 468,
   "metadata": {},
   "outputs": [],
   "source": [
    "list2 = []\n",
    "for i in test_labeled['country']:\n",
    "    if i=='USA':\n",
    "        list2.append(1)\n",
    "    else:\n",
    "        list2.append(0)\n",
    "\n",
    "test_labeled['country'] = list2\n",
    "\n",
    "list2 = []\n",
    "for i in test_unlabeled['country']:\n",
    "    if i=='USA':\n",
    "        list2.append(1)\n",
    "    else:\n",
    "        list2.append(0)\n",
    "\n",
    "test_unlabeled['country'] = list2"
   ]
  },
  {
   "cell_type": "code",
   "execution_count": 469,
   "metadata": {},
   "outputs": [],
   "source": [
    "from sklearn.preprocessing import MinMaxScaler"
   ]
  },
  {
   "cell_type": "code",
   "execution_count": 470,
   "metadata": {},
   "outputs": [],
   "source": [
    "from sklearn.preprocessing import OrdinalEncoder,LabelEncoder,OneHotEncoder"
   ]
  },
  {
   "cell_type": "code",
   "execution_count": 471,
   "metadata": {},
   "outputs": [],
   "source": [
    "label_enc_age = LabelEncoder()\n",
    "label_enc_gender = LabelEncoder()\n",
    "label_enc_parenthood = LabelEncoder()\n",
    "label_enc_reflection = LabelEncoder()\n",
    "label_enc_country = LabelEncoder()\n",
    "label_enc_married = LabelEncoder()\n",
    "label_enc_duration = LabelEncoder()\n",
    "\n",
    "label_enc_age_test = LabelEncoder()\n",
    "label_enc_duration_test = LabelEncoder()\n",
    "\n",
    "label_enc_age_test_unl = LabelEncoder()\n"
   ]
  },
  {
   "cell_type": "code",
   "execution_count": 472,
   "metadata": {},
   "outputs": [],
   "source": [
    "#train_labeled['age'] = label_enc_age.fit_transform(train_labeled['age'])\n",
    "train_labeled['gender'] = label_enc_gender.fit_transform(train_labeled['gender'])\n",
    "train_labeled['parenthood'] = label_enc_parenthood.fit_transform(train_labeled['parenthood'])\n",
    "train_labeled['reflection'] = label_enc_reflection.fit_transform(train_labeled['reflection'])\n",
    "train_labeled['country'] = label_enc_country.fit_transform(train_labeled['country'])\n",
    "train_labeled['duration'] = label_enc_duration.fit_transform(train_labeled['duration'])\n",
    "train_labeled['married'] = label_enc_married.fit_transform(train_labeled['married'])\n",
    "\n",
    "#train_unlabeled['age'] = label_enc_age_new.fit_transform(train_unlabeled['age'])\n",
    "train_unlabeled['gender'] = label_enc_gender.fit_transform(train_unlabeled['gender'])\n",
    "train_unlabeled['parenthood'] = label_enc_parenthood.fit_transform(train_unlabeled['parenthood'])\n",
    "train_unlabeled['reflection'] = label_enc_reflection.fit_transform(train_unlabeled['reflection'])\n",
    "train_unlabeled['country'] = label_enc_country.fit_transform(train_unlabeled['country'])\n",
    "train_unlabeled['duration'] = label_enc_duration.fit_transform(train_unlabeled['duration'])\n",
    "train_unlabeled['married'] = label_enc_married.fit_transform(train_unlabeled['married'])\n",
    "\n",
    "\n",
    "#test_labeled['age'] = label_enc_age_test.fit_transform(test_labeled['age'])\n",
    "test_labeled['duration'] = label_enc_duration_test.fit_transform(test_labeled['duration'])\n",
    "test_labeled['gender'] = label_enc_gender.fit_transform(test_labeled['gender'])\n",
    "test_labeled['parenthood'] = label_enc_parenthood.fit_transform(test_labeled['parenthood'])\n",
    "test_labeled['reflection'] = label_enc_reflection.fit_transform(test_labeled['reflection'])\n",
    "test_labeled['country'] = label_enc_country.fit_transform(test_labeled['country'])\n",
    "test_labeled['married'] = label_enc_married.fit_transform(test_labeled['married'])\n",
    "\n",
    "\n",
    "#test_labeled['age'] = label_enc_age_test.fit_transform(test_labeled['age'])\n",
    "test_unlabeled['duration'] = label_enc_duration_test.fit_transform(test_unlabeled['duration'])\n",
    "test_unlabeled['gender'] = label_enc_gender.fit_transform(test_unlabeled['gender'])\n",
    "test_unlabeled['parenthood'] = label_enc_parenthood.fit_transform(test_unlabeled['parenthood'])\n",
    "test_unlabeled['reflection'] = label_enc_reflection.fit_transform(test_unlabeled['reflection'])\n",
    "test_unlabeled['country'] = label_enc_country.fit_transform(test_unlabeled['country'])\n",
    "test_unlabeled['married'] = label_enc_married.fit_transform(test_unlabeled['married'])\n"
   ]
  },
  {
   "cell_type": "code",
   "execution_count": 473,
   "metadata": {},
   "outputs": [
    {
     "data": {
      "text/html": [
       "<div>\n",
       "<style scoped>\n",
       "    .dataframe tbody tr th:only-of-type {\n",
       "        vertical-align: middle;\n",
       "    }\n",
       "\n",
       "    .dataframe tbody tr th {\n",
       "        vertical-align: top;\n",
       "    }\n",
       "\n",
       "    .dataframe thead th {\n",
       "        text-align: right;\n",
       "    }\n",
       "</style>\n",
       "<table border=\"1\" class=\"dataframe\">\n",
       "  <thead>\n",
       "    <tr style=\"text-align: right;\">\n",
       "      <th></th>\n",
       "      <th>hmid</th>\n",
       "      <th>moment</th>\n",
       "      <th>concepts</th>\n",
       "      <th>agency</th>\n",
       "      <th>social</th>\n",
       "      <th>age</th>\n",
       "      <th>country</th>\n",
       "      <th>gender</th>\n",
       "      <th>married</th>\n",
       "      <th>parenthood</th>\n",
       "      <th>reflection</th>\n",
       "      <th>duration</th>\n",
       "    </tr>\n",
       "  </thead>\n",
       "  <tbody>\n",
       "    <tr>\n",
       "      <th>0</th>\n",
       "      <td>27674</td>\n",
       "      <td>i was happy when my son got 90 marks in his ex...</td>\n",
       "      <td>education family</td>\n",
       "      <td>0</td>\n",
       "      <td>1</td>\n",
       "      <td>29.0</td>\n",
       "      <td>0</td>\n",
       "      <td>1</td>\n",
       "      <td>1</td>\n",
       "      <td>1</td>\n",
       "      <td>0</td>\n",
       "      <td>4</td>\n",
       "    </tr>\n",
       "    <tr>\n",
       "      <th>1</th>\n",
       "      <td>27685</td>\n",
       "      <td>went to movies with my friends it was fun</td>\n",
       "      <td>entertainment</td>\n",
       "      <td>1</td>\n",
       "      <td>1</td>\n",
       "      <td>29.0</td>\n",
       "      <td>0</td>\n",
       "      <td>1</td>\n",
       "      <td>3</td>\n",
       "      <td>1</td>\n",
       "      <td>0</td>\n",
       "      <td>4</td>\n",
       "    </tr>\n",
       "    <tr>\n",
       "      <th>2</th>\n",
       "      <td>27691</td>\n",
       "      <td>a hot kiss with my girl friend last night made...</td>\n",
       "      <td>romance</td>\n",
       "      <td>1</td>\n",
       "      <td>1</td>\n",
       "      <td>25.0</td>\n",
       "      <td>0</td>\n",
       "      <td>1</td>\n",
       "      <td>1</td>\n",
       "      <td>1</td>\n",
       "      <td>0</td>\n",
       "      <td>3</td>\n",
       "    </tr>\n",
       "    <tr>\n",
       "      <th>3</th>\n",
       "      <td>27701</td>\n",
       "      <td>my son woke me up to a fantastic breakfast of ...</td>\n",
       "      <td>family food</td>\n",
       "      <td>0</td>\n",
       "      <td>1</td>\n",
       "      <td>79.0</td>\n",
       "      <td>1</td>\n",
       "      <td>0</td>\n",
       "      <td>4</td>\n",
       "      <td>1</td>\n",
       "      <td>0</td>\n",
       "      <td>2</td>\n",
       "    </tr>\n",
       "    <tr>\n",
       "      <th>4</th>\n",
       "      <td>27712</td>\n",
       "      <td>my older daughter keeps patting my younger dau...</td>\n",
       "      <td>family</td>\n",
       "      <td>0</td>\n",
       "      <td>1</td>\n",
       "      <td>30.0</td>\n",
       "      <td>1</td>\n",
       "      <td>0</td>\n",
       "      <td>1</td>\n",
       "      <td>1</td>\n",
       "      <td>0</td>\n",
       "      <td>1</td>\n",
       "    </tr>\n",
       "    <tr>\n",
       "      <th>...</th>\n",
       "      <td>...</td>\n",
       "      <td>...</td>\n",
       "      <td>...</td>\n",
       "      <td>...</td>\n",
       "      <td>...</td>\n",
       "      <td>...</td>\n",
       "      <td>...</td>\n",
       "      <td>...</td>\n",
       "      <td>...</td>\n",
       "      <td>...</td>\n",
       "      <td>...</td>\n",
       "      <td>...</td>\n",
       "    </tr>\n",
       "    <tr>\n",
       "      <th>10555</th>\n",
       "      <td>128748</td>\n",
       "      <td>my husband called me just to tell me he loved me</td>\n",
       "      <td>romance family</td>\n",
       "      <td>0</td>\n",
       "      <td>1</td>\n",
       "      <td>58.0</td>\n",
       "      <td>1</td>\n",
       "      <td>0</td>\n",
       "      <td>1</td>\n",
       "      <td>0</td>\n",
       "      <td>0</td>\n",
       "      <td>0</td>\n",
       "    </tr>\n",
       "    <tr>\n",
       "      <th>10556</th>\n",
       "      <td>128753</td>\n",
       "      <td>i worked out which always makes me feel good</td>\n",
       "      <td>career</td>\n",
       "      <td>1</td>\n",
       "      <td>0</td>\n",
       "      <td>24.0</td>\n",
       "      <td>1</td>\n",
       "      <td>1</td>\n",
       "      <td>1</td>\n",
       "      <td>1</td>\n",
       "      <td>0</td>\n",
       "      <td>3</td>\n",
       "    </tr>\n",
       "    <tr>\n",
       "      <th>10557</th>\n",
       "      <td>128754</td>\n",
       "      <td>finally got to watch the new resident evil movie</td>\n",
       "      <td>entertainment</td>\n",
       "      <td>1</td>\n",
       "      <td>0</td>\n",
       "      <td>34.0</td>\n",
       "      <td>1</td>\n",
       "      <td>1</td>\n",
       "      <td>0</td>\n",
       "      <td>1</td>\n",
       "      <td>0</td>\n",
       "      <td>3</td>\n",
       "    </tr>\n",
       "    <tr>\n",
       "      <th>10558</th>\n",
       "      <td>128757</td>\n",
       "      <td>i got to talk to an old friend and reminisce o...</td>\n",
       "      <td>conversation</td>\n",
       "      <td>1</td>\n",
       "      <td>1</td>\n",
       "      <td>28.0</td>\n",
       "      <td>1</td>\n",
       "      <td>0</td>\n",
       "      <td>3</td>\n",
       "      <td>1</td>\n",
       "      <td>0</td>\n",
       "      <td>3</td>\n",
       "    </tr>\n",
       "    <tr>\n",
       "      <th>10559</th>\n",
       "      <td>128765</td>\n",
       "      <td>i had a great meeting yesterday at work with m...</td>\n",
       "      <td>career</td>\n",
       "      <td>1</td>\n",
       "      <td>1</td>\n",
       "      <td>56.0</td>\n",
       "      <td>1</td>\n",
       "      <td>0</td>\n",
       "      <td>1</td>\n",
       "      <td>0</td>\n",
       "      <td>0</td>\n",
       "      <td>2</td>\n",
       "    </tr>\n",
       "  </tbody>\n",
       "</table>\n",
       "<p>10483 rows × 12 columns</p>\n",
       "</div>"
      ],
      "text/plain": [
       "         hmid                                             moment  \\\n",
       "0       27674  i was happy when my son got 90 marks in his ex...   \n",
       "1       27685          went to movies with my friends it was fun   \n",
       "2       27691  a hot kiss with my girl friend last night made...   \n",
       "3       27701  my son woke me up to a fantastic breakfast of ...   \n",
       "4       27712  my older daughter keeps patting my younger dau...   \n",
       "...       ...                                                ...   \n",
       "10555  128748   my husband called me just to tell me he loved me   \n",
       "10556  128753       i worked out which always makes me feel good   \n",
       "10557  128754   finally got to watch the new resident evil movie   \n",
       "10558  128757  i got to talk to an old friend and reminisce o...   \n",
       "10559  128765  i had a great meeting yesterday at work with m...   \n",
       "\n",
       "               concepts  agency  social   age  country  gender  married  \\\n",
       "0      education family       0       1  29.0        0       1        1   \n",
       "1         entertainment       1       1  29.0        0       1        3   \n",
       "2               romance       1       1  25.0        0       1        1   \n",
       "3           family food       0       1  79.0        1       0        4   \n",
       "4                family       0       1  30.0        1       0        1   \n",
       "...                 ...     ...     ...   ...      ...     ...      ...   \n",
       "10555    romance family       0       1  58.0        1       0        1   \n",
       "10556            career       1       0  24.0        1       1        1   \n",
       "10557     entertainment       1       0  34.0        1       1        0   \n",
       "10558      conversation       1       1  28.0        1       0        3   \n",
       "10559            career       1       1  56.0        1       0        1   \n",
       "\n",
       "       parenthood  reflection  duration  \n",
       "0               1           0         4  \n",
       "1               1           0         4  \n",
       "2               1           0         3  \n",
       "3               1           0         2  \n",
       "4               1           0         1  \n",
       "...           ...         ...       ...  \n",
       "10555           0           0         0  \n",
       "10556           1           0         3  \n",
       "10557           1           0         3  \n",
       "10558           1           0         3  \n",
       "10559           0           0         2  \n",
       "\n",
       "[10483 rows x 12 columns]"
      ]
     },
     "execution_count": 473,
     "metadata": {},
     "output_type": "execute_result"
    }
   ],
   "source": [
    "train_labeled"
   ]
  },
  {
   "cell_type": "code",
   "execution_count": 474,
   "metadata": {},
   "outputs": [
    {
     "data": {
      "text/html": [
       "<div>\n",
       "<style scoped>\n",
       "    .dataframe tbody tr th:only-of-type {\n",
       "        vertical-align: middle;\n",
       "    }\n",
       "\n",
       "    .dataframe tbody tr th {\n",
       "        vertical-align: top;\n",
       "    }\n",
       "\n",
       "    .dataframe thead th {\n",
       "        text-align: right;\n",
       "    }\n",
       "</style>\n",
       "<table border=\"1\" class=\"dataframe\">\n",
       "  <thead>\n",
       "    <tr style=\"text-align: right;\">\n",
       "      <th></th>\n",
       "      <th>hmid</th>\n",
       "      <th>moment</th>\n",
       "      <th>age</th>\n",
       "      <th>country</th>\n",
       "      <th>gender</th>\n",
       "      <th>married</th>\n",
       "      <th>parenthood</th>\n",
       "      <th>reflection</th>\n",
       "      <th>duration</th>\n",
       "    </tr>\n",
       "  </thead>\n",
       "  <tbody>\n",
       "    <tr>\n",
       "      <th>0</th>\n",
       "      <td>27673</td>\n",
       "      <td>i went on a successful date with someone i fel...</td>\n",
       "      <td>35.0</td>\n",
       "      <td>1</td>\n",
       "      <td>1</td>\n",
       "      <td>3</td>\n",
       "      <td>0</td>\n",
       "      <td>0</td>\n",
       "      <td>3</td>\n",
       "    </tr>\n",
       "    <tr>\n",
       "      <th>1</th>\n",
       "      <td>27675</td>\n",
       "      <td>i went to the gym this morning and did yoga</td>\n",
       "      <td>30.0</td>\n",
       "      <td>1</td>\n",
       "      <td>0</td>\n",
       "      <td>1</td>\n",
       "      <td>1</td>\n",
       "      <td>0</td>\n",
       "      <td>3</td>\n",
       "    </tr>\n",
       "    <tr>\n",
       "      <th>2</th>\n",
       "      <td>27678</td>\n",
       "      <td>i meditated last night</td>\n",
       "      <td>23.0</td>\n",
       "      <td>0</td>\n",
       "      <td>1</td>\n",
       "      <td>3</td>\n",
       "      <td>0</td>\n",
       "      <td>0</td>\n",
       "      <td>3</td>\n",
       "    </tr>\n",
       "    <tr>\n",
       "      <th>3</th>\n",
       "      <td>27679</td>\n",
       "      <td>i made a new recipe for peasant bread and it c...</td>\n",
       "      <td>30.0</td>\n",
       "      <td>1</td>\n",
       "      <td>1</td>\n",
       "      <td>3</td>\n",
       "      <td>0</td>\n",
       "      <td>0</td>\n",
       "      <td>4</td>\n",
       "    </tr>\n",
       "    <tr>\n",
       "      <th>4</th>\n",
       "      <td>27680</td>\n",
       "      <td>i got gift from my elder brother which was rea...</td>\n",
       "      <td>23.0</td>\n",
       "      <td>0</td>\n",
       "      <td>1</td>\n",
       "      <td>3</td>\n",
       "      <td>0</td>\n",
       "      <td>0</td>\n",
       "      <td>3</td>\n",
       "    </tr>\n",
       "    <tr>\n",
       "      <th>...</th>\n",
       "      <td>...</td>\n",
       "      <td>...</td>\n",
       "      <td>...</td>\n",
       "      <td>...</td>\n",
       "      <td>...</td>\n",
       "      <td>...</td>\n",
       "      <td>...</td>\n",
       "      <td>...</td>\n",
       "      <td>...</td>\n",
       "    </tr>\n",
       "    <tr>\n",
       "      <th>72319</th>\n",
       "      <td>128761</td>\n",
       "      <td>i spent time with my daughter</td>\n",
       "      <td>40.0</td>\n",
       "      <td>1</td>\n",
       "      <td>0</td>\n",
       "      <td>3</td>\n",
       "      <td>1</td>\n",
       "      <td>0</td>\n",
       "      <td>4</td>\n",
       "    </tr>\n",
       "    <tr>\n",
       "      <th>72320</th>\n",
       "      <td>128762</td>\n",
       "      <td>my husband announced he is getting a decent bo...</td>\n",
       "      <td>48.0</td>\n",
       "      <td>1</td>\n",
       "      <td>0</td>\n",
       "      <td>1</td>\n",
       "      <td>1</td>\n",
       "      <td>0</td>\n",
       "      <td>3</td>\n",
       "    </tr>\n",
       "    <tr>\n",
       "      <th>72321</th>\n",
       "      <td>128763</td>\n",
       "      <td>had a can of pepsi to drink</td>\n",
       "      <td>29.0</td>\n",
       "      <td>1</td>\n",
       "      <td>1</td>\n",
       "      <td>3</td>\n",
       "      <td>0</td>\n",
       "      <td>0</td>\n",
       "      <td>0</td>\n",
       "    </tr>\n",
       "    <tr>\n",
       "      <th>72322</th>\n",
       "      <td>128764</td>\n",
       "      <td>cuddling with my girlfriend last night</td>\n",
       "      <td>23.0</td>\n",
       "      <td>1</td>\n",
       "      <td>1</td>\n",
       "      <td>3</td>\n",
       "      <td>0</td>\n",
       "      <td>0</td>\n",
       "      <td>2</td>\n",
       "    </tr>\n",
       "    <tr>\n",
       "      <th>72323</th>\n",
       "      <td>128766</td>\n",
       "      <td>i had a great workout last night</td>\n",
       "      <td>35.0</td>\n",
       "      <td>1</td>\n",
       "      <td>1</td>\n",
       "      <td>3</td>\n",
       "      <td>0</td>\n",
       "      <td>0</td>\n",
       "      <td>3</td>\n",
       "    </tr>\n",
       "  </tbody>\n",
       "</table>\n",
       "<p>71771 rows × 9 columns</p>\n",
       "</div>"
      ],
      "text/plain": [
       "         hmid                                             moment   age  \\\n",
       "0       27673  i went on a successful date with someone i fel...  35.0   \n",
       "1       27675        i went to the gym this morning and did yoga  30.0   \n",
       "2       27678                             i meditated last night  23.0   \n",
       "3       27679  i made a new recipe for peasant bread and it c...  30.0   \n",
       "4       27680  i got gift from my elder brother which was rea...  23.0   \n",
       "...       ...                                                ...   ...   \n",
       "72319  128761                      i spent time with my daughter  40.0   \n",
       "72320  128762  my husband announced he is getting a decent bo...  48.0   \n",
       "72321  128763                        had a can of pepsi to drink  29.0   \n",
       "72322  128764             cuddling with my girlfriend last night  23.0   \n",
       "72323  128766                   i had a great workout last night  35.0   \n",
       "\n",
       "       country  gender  married  parenthood  reflection  duration  \n",
       "0            1       1        3           0           0         3  \n",
       "1            1       0        1           1           0         3  \n",
       "2            0       1        3           0           0         3  \n",
       "3            1       1        3           0           0         4  \n",
       "4            0       1        3           0           0         3  \n",
       "...        ...     ...      ...         ...         ...       ...  \n",
       "72319        1       0        3           1           0         4  \n",
       "72320        1       0        1           1           0         3  \n",
       "72321        1       1        3           0           0         0  \n",
       "72322        1       1        3           0           0         2  \n",
       "72323        1       1        3           0           0         3  \n",
       "\n",
       "[71771 rows x 9 columns]"
      ]
     },
     "execution_count": 474,
     "metadata": {},
     "output_type": "execute_result"
    }
   ],
   "source": [
    "train_unlabeled"
   ]
  },
  {
   "cell_type": "code",
   "execution_count": null,
   "metadata": {},
   "outputs": [],
   "source": []
  },
  {
   "cell_type": "code",
   "execution_count": null,
   "metadata": {},
   "outputs": [],
   "source": []
  },
  {
   "cell_type": "code",
   "execution_count": 475,
   "metadata": {
    "scrolled": true
   },
   "outputs": [
    {
     "name": "stdout",
     "output_type": "stream",
     "text": [
      "[0 1]\n",
      "count    10483.000000\n",
      "mean         0.799580\n",
      "std          0.400334\n",
      "min          0.000000\n",
      "25%          1.000000\n",
      "50%          1.000000\n",
      "75%          1.000000\n",
      "max          1.000000\n",
      "Name: country, dtype: float64\n"
     ]
    }
   ],
   "source": [
    "print(train_labeled['country'].unique())\n",
    "print(train_labeled['country'].describe())"
   ]
  },
  {
   "cell_type": "code",
   "execution_count": null,
   "metadata": {},
   "outputs": [],
   "source": []
  },
  {
   "cell_type": "code",
   "execution_count": 476,
   "metadata": {
    "scrolled": true
   },
   "outputs": [
    {
     "data": {
      "text/plain": [
       "hmid         -0.021528\n",
       "agency       -0.257795\n",
       "social        1.000000\n",
       "age           0.054685\n",
       "country      -0.033266\n",
       "gender       -0.084028\n",
       "married      -0.122568\n",
       "parenthood    0.164944\n",
       "reflection    0.041243\n",
       "duration      0.044728\n",
       "Name: social, dtype: float64"
      ]
     },
     "execution_count": 476,
     "metadata": {},
     "output_type": "execute_result"
    }
   ],
   "source": [
    "train_labeled.corr()['social']"
   ]
  },
  {
   "cell_type": "code",
   "execution_count": 477,
   "metadata": {},
   "outputs": [
    {
     "data": {
      "text/plain": [
       "hmid         -0.002089\n",
       "agency        1.000000\n",
       "social       -0.257795\n",
       "age          -0.083176\n",
       "country      -0.006700\n",
       "gender        0.073615\n",
       "married       0.097052\n",
       "parenthood   -0.124688\n",
       "reflection   -0.023294\n",
       "duration      0.069562\n",
       "Name: agency, dtype: float64"
      ]
     },
     "execution_count": 477,
     "metadata": {},
     "output_type": "execute_result"
    }
   ],
   "source": [
    "train_labeled.corr()['agency']"
   ]
  },
  {
   "cell_type": "code",
   "execution_count": 478,
   "metadata": {},
   "outputs": [],
   "source": [
    "# run this in conda terminal\n",
    "# conda install -c conda-forge spacy\n",
    "# python -m spacy download en_core_web_sm"
   ]
  },
  {
   "cell_type": "code",
   "execution_count": 479,
   "metadata": {},
   "outputs": [
    {
     "name": "stdout",
     "output_type": "stream",
     "text": [
      "Requirement already satisfied: en-core-web-md==3.2.0 from https://github.com/explosion/spacy-models/releases/download/en_core_web_md-3.2.0/en_core_web_md-3.2.0-py3-none-any.whl#egg=en_core_web_md==3.2.0 in /Users/ranjan/opt/anaconda3/lib/python3.8/site-packages (3.2.0)\n",
      "Requirement already satisfied: spacy<3.3.0,>=3.2.0 in /Users/ranjan/opt/anaconda3/lib/python3.8/site-packages (from en-core-web-md==3.2.0) (3.2.2)\n",
      "Requirement already satisfied: cymem<2.1.0,>=2.0.2 in /Users/ranjan/opt/anaconda3/lib/python3.8/site-packages (from spacy<3.3.0,>=3.2.0->en-core-web-md==3.2.0) (2.0.6)\n",
      "Requirement already satisfied: pathy>=0.3.5 in /Users/ranjan/opt/anaconda3/lib/python3.8/site-packages (from spacy<3.3.0,>=3.2.0->en-core-web-md==3.2.0) (0.6.1)\n",
      "Requirement already satisfied: thinc<8.1.0,>=8.0.12 in /Users/ranjan/opt/anaconda3/lib/python3.8/site-packages (from spacy<3.3.0,>=3.2.0->en-core-web-md==3.2.0) (8.0.13)\n",
      "Requirement already satisfied: numpy>=1.15.0 in /Users/ranjan/opt/anaconda3/lib/python3.8/site-packages (from spacy<3.3.0,>=3.2.0->en-core-web-md==3.2.0) (1.21.4)\n",
      "Requirement already satisfied: tqdm<5.0.0,>=4.38.0 in /Users/ranjan/opt/anaconda3/lib/python3.8/site-packages (from spacy<3.3.0,>=3.2.0->en-core-web-md==3.2.0) (4.50.2)\n",
      "Requirement already satisfied: spacy-legacy<3.1.0,>=3.0.8 in /Users/ranjan/opt/anaconda3/lib/python3.8/site-packages (from spacy<3.3.0,>=3.2.0->en-core-web-md==3.2.0) (3.0.9)\n",
      "Requirement already satisfied: wasabi<1.1.0,>=0.8.1 in /Users/ranjan/opt/anaconda3/lib/python3.8/site-packages (from spacy<3.3.0,>=3.2.0->en-core-web-md==3.2.0) (0.9.0)\n",
      "Requirement already satisfied: langcodes<4.0.0,>=3.2.0 in /Users/ranjan/opt/anaconda3/lib/python3.8/site-packages (from spacy<3.3.0,>=3.2.0->en-core-web-md==3.2.0) (3.3.0)\n",
      "Requirement already satisfied: spacy-loggers<2.0.0,>=1.0.0 in /Users/ranjan/opt/anaconda3/lib/python3.8/site-packages (from spacy<3.3.0,>=3.2.0->en-core-web-md==3.2.0) (1.0.1)\n",
      "Requirement already satisfied: preshed<3.1.0,>=3.0.2 in /Users/ranjan/opt/anaconda3/lib/python3.8/site-packages (from spacy<3.3.0,>=3.2.0->en-core-web-md==3.2.0) (3.0.6)\n",
      "Requirement already satisfied: packaging>=20.0 in /Users/ranjan/opt/anaconda3/lib/python3.8/site-packages (from spacy<3.3.0,>=3.2.0->en-core-web-md==3.2.0) (20.4)\n",
      "Requirement already satisfied: setuptools in /Users/ranjan/opt/anaconda3/lib/python3.8/site-packages (from spacy<3.3.0,>=3.2.0->en-core-web-md==3.2.0) (50.3.1.post20201107)\n",
      "Requirement already satisfied: murmurhash<1.1.0,>=0.28.0 in /Users/ranjan/opt/anaconda3/lib/python3.8/site-packages (from spacy<3.3.0,>=3.2.0->en-core-web-md==3.2.0) (1.0.6)\n",
      "Requirement already satisfied: catalogue<2.1.0,>=2.0.6 in /Users/ranjan/opt/anaconda3/lib/python3.8/site-packages (from spacy<3.3.0,>=3.2.0->en-core-web-md==3.2.0) (2.0.6)\n",
      "Requirement already satisfied: requests<3.0.0,>=2.13.0 in /Users/ranjan/opt/anaconda3/lib/python3.8/site-packages (from spacy<3.3.0,>=3.2.0->en-core-web-md==3.2.0) (2.24.0)\n",
      "Requirement already satisfied: pydantic!=1.8,!=1.8.1,<1.9.0,>=1.7.4 in /Users/ranjan/opt/anaconda3/lib/python3.8/site-packages (from spacy<3.3.0,>=3.2.0->en-core-web-md==3.2.0) (1.8.2)\n",
      "Requirement already satisfied: srsly<3.0.0,>=2.4.1 in /Users/ranjan/opt/anaconda3/lib/python3.8/site-packages (from spacy<3.3.0,>=3.2.0->en-core-web-md==3.2.0) (2.4.2)\n",
      "Requirement already satisfied: jinja2 in /Users/ranjan/opt/anaconda3/lib/python3.8/site-packages (from spacy<3.3.0,>=3.2.0->en-core-web-md==3.2.0) (2.11.2)\n",
      "Requirement already satisfied: blis<0.8.0,>=0.4.0 in /Users/ranjan/opt/anaconda3/lib/python3.8/site-packages (from spacy<3.3.0,>=3.2.0->en-core-web-md==3.2.0) (0.7.4)\n",
      "Requirement already satisfied: typer<0.5.0,>=0.3.0 in /Users/ranjan/opt/anaconda3/lib/python3.8/site-packages (from spacy<3.3.0,>=3.2.0->en-core-web-md==3.2.0) (0.4.0)\n",
      "Requirement already satisfied: smart-open<6.0.0,>=5.0.0 in /Users/ranjan/opt/anaconda3/lib/python3.8/site-packages (from pathy>=0.3.5->spacy<3.3.0,>=3.2.0->en-core-web-md==3.2.0) (5.2.1)\n",
      "Requirement already satisfied: six in /Users/ranjan/opt/anaconda3/lib/python3.8/site-packages (from packaging>=20.0->spacy<3.3.0,>=3.2.0->en-core-web-md==3.2.0) (1.15.0)\n",
      "Requirement already satisfied: pyparsing>=2.0.2 in /Users/ranjan/opt/anaconda3/lib/python3.8/site-packages (from packaging>=20.0->spacy<3.3.0,>=3.2.0->en-core-web-md==3.2.0) (2.4.7)\n",
      "Requirement already satisfied: urllib3!=1.25.0,!=1.25.1,<1.26,>=1.21.1 in /Users/ranjan/opt/anaconda3/lib/python3.8/site-packages (from requests<3.0.0,>=2.13.0->spacy<3.3.0,>=3.2.0->en-core-web-md==3.2.0) (1.25.11)\n",
      "Requirement already satisfied: idna<3,>=2.5 in /Users/ranjan/opt/anaconda3/lib/python3.8/site-packages (from requests<3.0.0,>=2.13.0->spacy<3.3.0,>=3.2.0->en-core-web-md==3.2.0) (2.10)\n",
      "Requirement already satisfied: chardet<4,>=3.0.2 in /Users/ranjan/opt/anaconda3/lib/python3.8/site-packages (from requests<3.0.0,>=2.13.0->spacy<3.3.0,>=3.2.0->en-core-web-md==3.2.0) (3.0.4)\n",
      "Requirement already satisfied: certifi>=2017.4.17 in /Users/ranjan/opt/anaconda3/lib/python3.8/site-packages (from requests<3.0.0,>=2.13.0->spacy<3.3.0,>=3.2.0->en-core-web-md==3.2.0) (2021.10.8)\n",
      "Requirement already satisfied: typing-extensions>=3.7.4.3 in /Users/ranjan/opt/anaconda3/lib/python3.8/site-packages (from pydantic!=1.8,!=1.8.1,<1.9.0,>=1.7.4->spacy<3.3.0,>=3.2.0->en-core-web-md==3.2.0) (4.1.1)\n",
      "Requirement already satisfied: MarkupSafe>=0.23 in /Users/ranjan/opt/anaconda3/lib/python3.8/site-packages (from jinja2->spacy<3.3.0,>=3.2.0->en-core-web-md==3.2.0) (1.1.1)\n",
      "Requirement already satisfied: click<9.0.0,>=7.1.1 in /Users/ranjan/opt/anaconda3/lib/python3.8/site-packages (from typer<0.5.0,>=0.3.0->spacy<3.3.0,>=3.2.0->en-core-web-md==3.2.0) (7.1.2)\n",
      "\u001b[38;5;2m✔ Download and installation successful\u001b[0m\n",
      "You can now load the package via spacy.load('en_core_web_md')\n"
     ]
    }
   ],
   "source": [
    "!python -m spacy download en_core_web_md "
   ]
  },
  {
   "cell_type": "code",
   "execution_count": 480,
   "metadata": {},
   "outputs": [],
   "source": [
    "def vectors(nlp, data):\n",
    "    vectors = []\n",
    "    for row in data[:, 0]:\n",
    "        doc = nlp(row)\n",
    "        vectors.append(doc.vector)\n",
    "    return np.array(vectors)"
   ]
  },
  {
   "cell_type": "code",
   "execution_count": 481,
   "metadata": {},
   "outputs": [],
   "source": [
    "train_cols = [1, 2, 5, 6, 7, 8, 9, 10, 11]\n",
    "X_labeled_train = train_labeled.iloc[:, train_cols].values\n",
    "y_agency_labeled_train = train_labeled.iloc[:, 3].values\n",
    "y_social_labeled_train = train_labeled.iloc[:, 4].values"
   ]
  },
  {
   "cell_type": "code",
   "execution_count": 482,
   "metadata": {},
   "outputs": [],
   "source": [
    "import spacy\n",
    "nlp = spacy.load('en_core_web_md')\n",
    "train_vectors = vectors(nlp, X_labeled_train)"
   ]
  },
  {
   "cell_type": "code",
   "execution_count": 483,
   "metadata": {},
   "outputs": [],
   "source": [
    "test_cols = [1, 2, 3, 4, 5, 6, 7, 8, 9]\n",
    "X_labeled_test = test_labeled.iloc[:, test_cols].values\n",
    "y_agency_labeled_test = test_labeled.iloc[:, 10].values\n",
    "y_social_labeled_test = test_labeled.iloc[:, 11].values\n",
    "test_vectors = vectors(nlp, X_labeled_test)"
   ]
  },
  {
   "cell_type": "markdown",
   "metadata": {},
   "source": [
    "## Random Forest Classifier"
   ]
  },
  {
   "cell_type": "code",
   "execution_count": 484,
   "metadata": {},
   "outputs": [],
   "source": [
    "from sklearn.ensemble import RandomForestClassifier\n",
    "rf_model_agency = RandomForestClassifier(n_estimators = 200)\n",
    "rf_model_agency.fit(train_vectors, y_agency_labeled_train)\n",
    "y_pred_rf_agency = rf_model_agency.predict(test_vectors)"
   ]
  },
  {
   "cell_type": "code",
   "execution_count": 485,
   "metadata": {},
   "outputs": [],
   "source": [
    "from sklearn.metrics import accuracy_score, f1_score, precision_score, recall_score, confusion_matrix\n",
    "def evaluate(y_true, y_pred):\n",
    "    # print evaluation results for model\n",
    "    # print confusion matrix\n",
    "    print(\"Confusion Matrix:\")\n",
    "    print(confusion_matrix(y_true, y_pred))\n",
    "    # accuracy\n",
    "    print(\"Accuracy: \", accuracy_score(y_true, y_pred))\n",
    "    # precision\n",
    "    print(\"Precision: \", precision_score(y_true, y_pred))\n",
    "    # recall\n",
    "    print(\"Recall \", recall_score(y_true, y_pred))\n",
    "    # f-measure\n",
    "    print(\"F1: \", f1_score(y_true, y_pred))"
   ]
  },
  {
   "cell_type": "code",
   "execution_count": 486,
   "metadata": {},
   "outputs": [
    {
     "name": "stdout",
     "output_type": "stream",
     "text": [
      "Confusion Matrix:\n",
      "[[ 1582  3317]\n",
      " [  493 11273]]\n",
      "Accuracy:  0.7713771377137714\n",
      "Precision:  0.7726525017135024\n",
      "Recall  0.9580996090430053\n",
      "F1:  0.8554408863256943\n"
     ]
    }
   ],
   "source": [
    "evaluate(y_agency_labeled_test, y_pred_rf_agency)"
   ]
  },
  {
   "cell_type": "code",
   "execution_count": 487,
   "metadata": {},
   "outputs": [],
   "source": [
    "rf_model_social = RandomForestClassifier(n_estimators = 200)\n",
    "rf_model_social.fit(train_vectors, y_social_labeled_train)\n",
    "y_pred_rf_social = rf_model_social.predict(test_vectors)"
   ]
  },
  {
   "cell_type": "code",
   "execution_count": 488,
   "metadata": {},
   "outputs": [
    {
     "name": "stdout",
     "output_type": "stream",
     "text": [
      "Confusion Matrix:\n",
      "[[6353  798]\n",
      " [1395 8119]]\n",
      "Accuracy:  0.8684068406840684\n",
      "Precision:  0.9105080183918358\n",
      "Recall  0.8533739751944502\n",
      "F1:  0.8810156801041722\n"
     ]
    }
   ],
   "source": [
    "evaluate(y_social_labeled_test, y_pred_rf_social)"
   ]
  },
  {
   "cell_type": "markdown",
   "metadata": {},
   "source": [
    "## SVM Classifier"
   ]
  },
  {
   "cell_type": "code",
   "execution_count": 489,
   "metadata": {},
   "outputs": [],
   "source": [
    "from sklearn import svm\n",
    "svm_model_agency = svm.SVC()\n",
    "svm_model_agency.fit(train_vectors, y_agency_labeled_train)\n",
    "y_pred_svm_agency = svm_model_agency.predict(test_vectors)"
   ]
  },
  {
   "cell_type": "code",
   "execution_count": 490,
   "metadata": {},
   "outputs": [
    {
     "name": "stdout",
     "output_type": "stream",
     "text": [
      "Confusion Matrix:\n",
      "[[ 2334  2565]\n",
      " [  821 10945]]\n",
      "Accuracy:  0.7968196819681969\n",
      "Precision:  0.810140636565507\n",
      "Recall  0.9302226755056944\n",
      "F1:  0.8660389302104763\n"
     ]
    }
   ],
   "source": [
    "evaluate(y_agency_labeled_test, y_pred_svm_agency)"
   ]
  },
  {
   "cell_type": "code",
   "execution_count": 491,
   "metadata": {},
   "outputs": [],
   "source": [
    "svm_model_social = svm.SVC()\n",
    "svm_model_social.fit(train_vectors, y_social_labeled_train)\n",
    "y_pred_svm_social = svm_model_social.predict(test_vectors)"
   ]
  },
  {
   "cell_type": "code",
   "execution_count": 492,
   "metadata": {},
   "outputs": [
    {
     "name": "stdout",
     "output_type": "stream",
     "text": [
      "Confusion Matrix:\n",
      "[[6647  504]\n",
      " [1203 8311]]\n",
      "Accuracy:  0.8975697569756975\n",
      "Precision:  0.9428247305728871\n",
      "Recall  0.8735547614042464\n",
      "F1:  0.9068688962845763\n"
     ]
    }
   ],
   "source": [
    "evaluate(y_social_labeled_test, y_pred_svm_social)"
   ]
  },
  {
   "cell_type": "markdown",
   "metadata": {},
   "source": [
    "## XGBoost Classifier"
   ]
  },
  {
   "cell_type": "code",
   "execution_count": 493,
   "metadata": {},
   "outputs": [
    {
     "name": "stdout",
     "output_type": "stream",
     "text": [
      "[22:46:20] WARNING: /Users/travis/build/dmlc/xgboost/src/learner.cc:1115: Starting in XGBoost 1.3.0, the default evaluation metric used with the objective 'binary:logistic' was changed from 'error' to 'logloss'. Explicitly set eval_metric if you'd like to restore the old behavior.\n"
     ]
    },
    {
     "name": "stderr",
     "output_type": "stream",
     "text": [
      "/Users/ranjan/opt/anaconda3/lib/python3.8/site-packages/xgboost/sklearn.py:1224: UserWarning: The use of label encoder in XGBClassifier is deprecated and will be removed in a future release. To remove this warning, do the following: 1) Pass option use_label_encoder=False when constructing XGBClassifier object; and 2) Encode your labels (y) as integers starting with 0, i.e. 0, 1, 2, ..., [num_class - 1].\n",
      "  warnings.warn(label_encoder_deprecation_msg, UserWarning)\n"
     ]
    }
   ],
   "source": [
    "from xgboost import XGBClassifier\n",
    "xg_model_agency = XGBClassifier()\n",
    "xg_model_agency.fit(train_vectors, y_agency_labeled_train)\n",
    "y_pred_xg_agency = xg_model_agency.predict(test_vectors)"
   ]
  },
  {
   "cell_type": "code",
   "execution_count": 494,
   "metadata": {},
   "outputs": [
    {
     "name": "stdout",
     "output_type": "stream",
     "text": [
      "Confusion Matrix:\n",
      "[[ 2311  2588]\n",
      " [  983 10783]]\n",
      "Accuracy:  0.7857185718571857\n",
      "Precision:  0.806446787824396\n",
      "Recall  0.9164541900390957\n",
      "F1:  0.8579384970362415\n"
     ]
    }
   ],
   "source": [
    "evaluate(y_agency_labeled_test, y_pred_xg_agency)"
   ]
  },
  {
   "cell_type": "code",
   "execution_count": 495,
   "metadata": {},
   "outputs": [
    {
     "name": "stderr",
     "output_type": "stream",
     "text": [
      "/Users/ranjan/opt/anaconda3/lib/python3.8/site-packages/xgboost/sklearn.py:1224: UserWarning: The use of label encoder in XGBClassifier is deprecated and will be removed in a future release. To remove this warning, do the following: 1) Pass option use_label_encoder=False when constructing XGBClassifier object; and 2) Encode your labels (y) as integers starting with 0, i.e. 0, 1, 2, ..., [num_class - 1].\n",
      "  warnings.warn(label_encoder_deprecation_msg, UserWarning)\n"
     ]
    },
    {
     "name": "stdout",
     "output_type": "stream",
     "text": [
      "[22:46:30] WARNING: /Users/travis/build/dmlc/xgboost/src/learner.cc:1115: Starting in XGBoost 1.3.0, the default evaluation metric used with the objective 'binary:logistic' was changed from 'error' to 'logloss'. Explicitly set eval_metric if you'd like to restore the old behavior.\n"
     ]
    }
   ],
   "source": [
    "xg_model_social = XGBClassifier()\n",
    "xg_model_social.fit(train_vectors, y_social_labeled_train)\n",
    "y_pred_xg_social = xg_model_social.predict(test_vectors)"
   ]
  },
  {
   "cell_type": "code",
   "execution_count": 496,
   "metadata": {},
   "outputs": [
    {
     "name": "stdout",
     "output_type": "stream",
     "text": [
      "Confusion Matrix:\n",
      "[[6396  755]\n",
      " [1219 8295]]\n",
      "Accuracy:  0.8815481548154815\n",
      "Precision:  0.9165745856353591\n",
      "Recall  0.8718730292200967\n",
      "F1:  0.8936651583710407\n"
     ]
    }
   ],
   "source": [
    "evaluate(y_social_labeled_test, y_pred_xg_social)"
   ]
  },
  {
   "cell_type": "markdown",
   "metadata": {},
   "source": [
    "## Encoding the Unlabeled Training Dataset ##"
   ]
  },
  {
   "cell_type": "code",
   "execution_count": 126,
   "metadata": {},
   "outputs": [
    {
     "data": {
      "text/html": [
       "<div>\n",
       "<style scoped>\n",
       "    .dataframe tbody tr th:only-of-type {\n",
       "        vertical-align: middle;\n",
       "    }\n",
       "\n",
       "    .dataframe tbody tr th {\n",
       "        vertical-align: top;\n",
       "    }\n",
       "\n",
       "    .dataframe thead th {\n",
       "        text-align: right;\n",
       "    }\n",
       "</style>\n",
       "<table border=\"1\" class=\"dataframe\">\n",
       "  <thead>\n",
       "    <tr style=\"text-align: right;\">\n",
       "      <th></th>\n",
       "      <th>hmid</th>\n",
       "      <th>moment</th>\n",
       "      <th>age</th>\n",
       "      <th>country</th>\n",
       "      <th>gender</th>\n",
       "      <th>married</th>\n",
       "      <th>parenthood</th>\n",
       "      <th>reflection</th>\n",
       "      <th>duration</th>\n",
       "    </tr>\n",
       "  </thead>\n",
       "  <tbody>\n",
       "    <tr>\n",
       "      <th>0</th>\n",
       "      <td>27673</td>\n",
       "      <td>[went, successful, date, someone, felt, sympat...</td>\n",
       "      <td>35.0</td>\n",
       "      <td>1</td>\n",
       "      <td>1</td>\n",
       "      <td>3</td>\n",
       "      <td>0</td>\n",
       "      <td>0</td>\n",
       "      <td>3</td>\n",
       "    </tr>\n",
       "    <tr>\n",
       "      <th>1</th>\n",
       "      <td>27675</td>\n",
       "      <td>[went, gym, morning, yoga]</td>\n",
       "      <td>30.0</td>\n",
       "      <td>1</td>\n",
       "      <td>0</td>\n",
       "      <td>1</td>\n",
       "      <td>1</td>\n",
       "      <td>0</td>\n",
       "      <td>3</td>\n",
       "    </tr>\n",
       "    <tr>\n",
       "      <th>2</th>\n",
       "      <td>27678</td>\n",
       "      <td>[meditated, last, night]</td>\n",
       "      <td>23.0</td>\n",
       "      <td>0</td>\n",
       "      <td>1</td>\n",
       "      <td>3</td>\n",
       "      <td>0</td>\n",
       "      <td>0</td>\n",
       "      <td>3</td>\n",
       "    </tr>\n",
       "    <tr>\n",
       "      <th>3</th>\n",
       "      <td>27679</td>\n",
       "      <td>[made, new, recipe, peasant, bread, came, spec...</td>\n",
       "      <td>30.0</td>\n",
       "      <td>1</td>\n",
       "      <td>1</td>\n",
       "      <td>3</td>\n",
       "      <td>0</td>\n",
       "      <td>0</td>\n",
       "      <td>4</td>\n",
       "    </tr>\n",
       "    <tr>\n",
       "      <th>4</th>\n",
       "      <td>27680</td>\n",
       "      <td>[got, gift, elder, brother, really, surprising]</td>\n",
       "      <td>23.0</td>\n",
       "      <td>0</td>\n",
       "      <td>1</td>\n",
       "      <td>3</td>\n",
       "      <td>0</td>\n",
       "      <td>0</td>\n",
       "      <td>3</td>\n",
       "    </tr>\n",
       "    <tr>\n",
       "      <th>...</th>\n",
       "      <td>...</td>\n",
       "      <td>...</td>\n",
       "      <td>...</td>\n",
       "      <td>...</td>\n",
       "      <td>...</td>\n",
       "      <td>...</td>\n",
       "      <td>...</td>\n",
       "      <td>...</td>\n",
       "      <td>...</td>\n",
       "    </tr>\n",
       "    <tr>\n",
       "      <th>72319</th>\n",
       "      <td>128761</td>\n",
       "      <td>[spent, time, daughter]</td>\n",
       "      <td>40.0</td>\n",
       "      <td>1</td>\n",
       "      <td>0</td>\n",
       "      <td>3</td>\n",
       "      <td>1</td>\n",
       "      <td>0</td>\n",
       "      <td>4</td>\n",
       "    </tr>\n",
       "    <tr>\n",
       "      <th>72320</th>\n",
       "      <td>128762</td>\n",
       "      <td>[husband, announced, getting, decent, bonus, q...</td>\n",
       "      <td>48.0</td>\n",
       "      <td>1</td>\n",
       "      <td>0</td>\n",
       "      <td>1</td>\n",
       "      <td>1</td>\n",
       "      <td>0</td>\n",
       "      <td>3</td>\n",
       "    </tr>\n",
       "    <tr>\n",
       "      <th>72321</th>\n",
       "      <td>128763</td>\n",
       "      <td>[pepsi, drink]</td>\n",
       "      <td>29.0</td>\n",
       "      <td>1</td>\n",
       "      <td>1</td>\n",
       "      <td>3</td>\n",
       "      <td>0</td>\n",
       "      <td>0</td>\n",
       "      <td>0</td>\n",
       "    </tr>\n",
       "    <tr>\n",
       "      <th>72322</th>\n",
       "      <td>128764</td>\n",
       "      <td>[cuddling, girlfriend, last, night]</td>\n",
       "      <td>23.0</td>\n",
       "      <td>1</td>\n",
       "      <td>1</td>\n",
       "      <td>3</td>\n",
       "      <td>0</td>\n",
       "      <td>0</td>\n",
       "      <td>2</td>\n",
       "    </tr>\n",
       "    <tr>\n",
       "      <th>72323</th>\n",
       "      <td>128766</td>\n",
       "      <td>[great, workout, last, night]</td>\n",
       "      <td>35.0</td>\n",
       "      <td>1</td>\n",
       "      <td>1</td>\n",
       "      <td>3</td>\n",
       "      <td>0</td>\n",
       "      <td>0</td>\n",
       "      <td>3</td>\n",
       "    </tr>\n",
       "  </tbody>\n",
       "</table>\n",
       "<p>71771 rows × 9 columns</p>\n",
       "</div>"
      ],
      "text/plain": [
       "         hmid                                             moment   age  \\\n",
       "0       27673  [went, successful, date, someone, felt, sympat...  35.0   \n",
       "1       27675                         [went, gym, morning, yoga]  30.0   \n",
       "2       27678                           [meditated, last, night]  23.0   \n",
       "3       27679  [made, new, recipe, peasant, bread, came, spec...  30.0   \n",
       "4       27680    [got, gift, elder, brother, really, surprising]  23.0   \n",
       "...       ...                                                ...   ...   \n",
       "72319  128761                            [spent, time, daughter]  40.0   \n",
       "72320  128762  [husband, announced, getting, decent, bonus, q...  48.0   \n",
       "72321  128763                                     [pepsi, drink]  29.0   \n",
       "72322  128764                [cuddling, girlfriend, last, night]  23.0   \n",
       "72323  128766                      [great, workout, last, night]  35.0   \n",
       "\n",
       "       country  gender  married  parenthood  reflection  duration  \n",
       "0            1       1        3           0           0         3  \n",
       "1            1       0        1           1           0         3  \n",
       "2            0       1        3           0           0         3  \n",
       "3            1       1        3           0           0         4  \n",
       "4            0       1        3           0           0         3  \n",
       "...        ...     ...      ...         ...         ...       ...  \n",
       "72319        1       0        3           1           0         4  \n",
       "72320        1       0        1           1           0         3  \n",
       "72321        1       1        3           0           0         0  \n",
       "72322        1       1        3           0           0         2  \n",
       "72323        1       1        3           0           0         3  \n",
       "\n",
       "[71771 rows x 9 columns]"
      ]
     },
     "execution_count": 126,
     "metadata": {},
     "output_type": "execute_result"
    }
   ],
   "source": [
    "train_unlabeled"
   ]
  },
  {
   "cell_type": "code",
   "execution_count": 128,
   "metadata": {},
   "outputs": [
    {
     "data": {
      "text/html": [
       "<div>\n",
       "<style scoped>\n",
       "    .dataframe tbody tr th:only-of-type {\n",
       "        vertical-align: middle;\n",
       "    }\n",
       "\n",
       "    .dataframe tbody tr th {\n",
       "        vertical-align: top;\n",
       "    }\n",
       "\n",
       "    .dataframe thead th {\n",
       "        text-align: right;\n",
       "    }\n",
       "</style>\n",
       "<table border=\"1\" class=\"dataframe\">\n",
       "  <thead>\n",
       "    <tr style=\"text-align: right;\">\n",
       "      <th></th>\n",
       "      <th>hmid</th>\n",
       "      <th>moment</th>\n",
       "      <th>reflection</th>\n",
       "      <th>age</th>\n",
       "      <th>country</th>\n",
       "      <th>gender</th>\n",
       "      <th>duration</th>\n",
       "      <th>married</th>\n",
       "      <th>parenthood</th>\n",
       "    </tr>\n",
       "  </thead>\n",
       "  <tbody>\n",
       "    <tr>\n",
       "      <th>0</th>\n",
       "      <td>0</td>\n",
       "      <td>I was able to spend the day with my fiance sho...</td>\n",
       "      <td>0</td>\n",
       "      <td>28</td>\n",
       "      <td>1</td>\n",
       "      <td>1</td>\n",
       "      <td>1</td>\n",
       "      <td>3</td>\n",
       "      <td>0</td>\n",
       "    </tr>\n",
       "    <tr>\n",
       "      <th>1</th>\n",
       "      <td>1</td>\n",
       "      <td>I was able to play with my cat.</td>\n",
       "      <td>0</td>\n",
       "      <td>28</td>\n",
       "      <td>1</td>\n",
       "      <td>1</td>\n",
       "      <td>2</td>\n",
       "      <td>3</td>\n",
       "      <td>0</td>\n",
       "    </tr>\n",
       "    <tr>\n",
       "      <th>2</th>\n",
       "      <td>2</td>\n",
       "      <td>I was able to clean my room and gold my laundry.</td>\n",
       "      <td>0</td>\n",
       "      <td>28</td>\n",
       "      <td>1</td>\n",
       "      <td>1</td>\n",
       "      <td>2</td>\n",
       "      <td>3</td>\n",
       "      <td>0</td>\n",
       "    </tr>\n",
       "    <tr>\n",
       "      <th>3</th>\n",
       "      <td>3</td>\n",
       "      <td>I spend the day at a party on the beach and I ...</td>\n",
       "      <td>0</td>\n",
       "      <td>24</td>\n",
       "      <td>1</td>\n",
       "      <td>1</td>\n",
       "      <td>3</td>\n",
       "      <td>3</td>\n",
       "      <td>0</td>\n",
       "    </tr>\n",
       "    <tr>\n",
       "      <th>4</th>\n",
       "      <td>4</td>\n",
       "      <td>My cat greeting me when I got home from work -...</td>\n",
       "      <td>0</td>\n",
       "      <td>24</td>\n",
       "      <td>1</td>\n",
       "      <td>1</td>\n",
       "      <td>3</td>\n",
       "      <td>3</td>\n",
       "      <td>0</td>\n",
       "    </tr>\n",
       "    <tr>\n",
       "      <th>...</th>\n",
       "      <td>...</td>\n",
       "      <td>...</td>\n",
       "      <td>...</td>\n",
       "      <td>...</td>\n",
       "      <td>...</td>\n",
       "      <td>...</td>\n",
       "      <td>...</td>\n",
       "      <td>...</td>\n",
       "      <td>...</td>\n",
       "    </tr>\n",
       "    <tr>\n",
       "      <th>17210</th>\n",
       "      <td>21892</td>\n",
       "      <td>My wife and I went for a hike last week and we...</td>\n",
       "      <td>1</td>\n",
       "      <td>34</td>\n",
       "      <td>1</td>\n",
       "      <td>1</td>\n",
       "      <td>3</td>\n",
       "      <td>1</td>\n",
       "      <td>0</td>\n",
       "    </tr>\n",
       "    <tr>\n",
       "      <th>17211</th>\n",
       "      <td>21893</td>\n",
       "      <td>I finally hit platinum rank in Overwatch.</td>\n",
       "      <td>1</td>\n",
       "      <td>34</td>\n",
       "      <td>1</td>\n",
       "      <td>1</td>\n",
       "      <td>2</td>\n",
       "      <td>1</td>\n",
       "      <td>0</td>\n",
       "    </tr>\n",
       "    <tr>\n",
       "      <th>17212</th>\n",
       "      <td>21897</td>\n",
       "      <td>One of my long-time friends and I finally ackn...</td>\n",
       "      <td>1</td>\n",
       "      <td>34</td>\n",
       "      <td>1</td>\n",
       "      <td>1</td>\n",
       "      <td>1</td>\n",
       "      <td>3</td>\n",
       "      <td>0</td>\n",
       "    </tr>\n",
       "    <tr>\n",
       "      <th>17213</th>\n",
       "      <td>21898</td>\n",
       "      <td>I earned a professional certification.</td>\n",
       "      <td>1</td>\n",
       "      <td>34</td>\n",
       "      <td>1</td>\n",
       "      <td>1</td>\n",
       "      <td>3</td>\n",
       "      <td>3</td>\n",
       "      <td>0</td>\n",
       "    </tr>\n",
       "    <tr>\n",
       "      <th>17214</th>\n",
       "      <td>21899</td>\n",
       "      <td>I built a new computer.</td>\n",
       "      <td>1</td>\n",
       "      <td>34</td>\n",
       "      <td>1</td>\n",
       "      <td>1</td>\n",
       "      <td>3</td>\n",
       "      <td>3</td>\n",
       "      <td>0</td>\n",
       "    </tr>\n",
       "  </tbody>\n",
       "</table>\n",
       "<p>16665 rows × 9 columns</p>\n",
       "</div>"
      ],
      "text/plain": [
       "        hmid                                             moment  reflection  \\\n",
       "0          0  I was able to spend the day with my fiance sho...           0   \n",
       "1          1                    I was able to play with my cat.           0   \n",
       "2          2   I was able to clean my room and gold my laundry.           0   \n",
       "3          3  I spend the day at a party on the beach and I ...           0   \n",
       "4          4  My cat greeting me when I got home from work -...           0   \n",
       "...      ...                                                ...         ...   \n",
       "17210  21892  My wife and I went for a hike last week and we...           1   \n",
       "17211  21893          I finally hit platinum rank in Overwatch.           1   \n",
       "17212  21897  One of my long-time friends and I finally ackn...           1   \n",
       "17213  21898             I earned a professional certification.           1   \n",
       "17214  21899                            I built a new computer.           1   \n",
       "\n",
       "      age  country  gender  duration  married  parenthood  \n",
       "0      28        1       1         1        3           0  \n",
       "1      28        1       1         2        3           0  \n",
       "2      28        1       1         2        3           0  \n",
       "3      24        1       1         3        3           0  \n",
       "4      24        1       1         3        3           0  \n",
       "...    ..      ...     ...       ...      ...         ...  \n",
       "17210  34        1       1         3        1           0  \n",
       "17211  34        1       1         2        1           0  \n",
       "17212  34        1       1         1        3           0  \n",
       "17213  34        1       1         3        3           0  \n",
       "17214  34        1       1         3        3           0  \n",
       "\n",
       "[16665 rows x 9 columns]"
      ]
     },
     "execution_count": 128,
     "metadata": {},
     "output_type": "execute_result"
    }
   ],
   "source": [
    "test_unlabeled"
   ]
  },
  {
   "cell_type": "code",
   "execution_count": 129,
   "metadata": {},
   "outputs": [
    {
     "data": {
      "text/html": [
       "<div>\n",
       "<style scoped>\n",
       "    .dataframe tbody tr th:only-of-type {\n",
       "        vertical-align: middle;\n",
       "    }\n",
       "\n",
       "    .dataframe tbody tr th {\n",
       "        vertical-align: top;\n",
       "    }\n",
       "\n",
       "    .dataframe thead th {\n",
       "        text-align: right;\n",
       "    }\n",
       "</style>\n",
       "<table border=\"1\" class=\"dataframe\">\n",
       "  <thead>\n",
       "    <tr style=\"text-align: right;\">\n",
       "      <th></th>\n",
       "      <th>hmid</th>\n",
       "      <th>moment</th>\n",
       "      <th>reflection</th>\n",
       "      <th>age</th>\n",
       "      <th>country</th>\n",
       "      <th>gender</th>\n",
       "      <th>duration</th>\n",
       "      <th>married</th>\n",
       "      <th>parenthood</th>\n",
       "      <th>concepts</th>\n",
       "      <th>agency</th>\n",
       "      <th>social</th>\n",
       "    </tr>\n",
       "  </thead>\n",
       "  <tbody>\n",
       "    <tr>\n",
       "      <th>0</th>\n",
       "      <td>0</td>\n",
       "      <td>I was able to spend the day with my fiance sho...</td>\n",
       "      <td>0</td>\n",
       "      <td>28</td>\n",
       "      <td>1</td>\n",
       "      <td>1</td>\n",
       "      <td>1</td>\n",
       "      <td>3</td>\n",
       "      <td>0</td>\n",
       "      <td>shopping|family|romance</td>\n",
       "      <td>1</td>\n",
       "      <td>0</td>\n",
       "    </tr>\n",
       "    <tr>\n",
       "      <th>1</th>\n",
       "      <td>1</td>\n",
       "      <td>I was able to play with my cat.</td>\n",
       "      <td>0</td>\n",
       "      <td>28</td>\n",
       "      <td>1</td>\n",
       "      <td>1</td>\n",
       "      <td>2</td>\n",
       "      <td>3</td>\n",
       "      <td>0</td>\n",
       "      <td>animals</td>\n",
       "      <td>1</td>\n",
       "      <td>0</td>\n",
       "    </tr>\n",
       "    <tr>\n",
       "      <th>2</th>\n",
       "      <td>2</td>\n",
       "      <td>I was able to clean my room and gold my laundry.</td>\n",
       "      <td>0</td>\n",
       "      <td>28</td>\n",
       "      <td>1</td>\n",
       "      <td>1</td>\n",
       "      <td>2</td>\n",
       "      <td>3</td>\n",
       "      <td>0</td>\n",
       "      <td>0</td>\n",
       "      <td>1</td>\n",
       "      <td>0</td>\n",
       "    </tr>\n",
       "    <tr>\n",
       "      <th>3</th>\n",
       "      <td>3</td>\n",
       "      <td>I spend the day at a party on the beach and I ...</td>\n",
       "      <td>0</td>\n",
       "      <td>24</td>\n",
       "      <td>1</td>\n",
       "      <td>1</td>\n",
       "      <td>3</td>\n",
       "      <td>3</td>\n",
       "      <td>0</td>\n",
       "      <td>vacation|party|weather</td>\n",
       "      <td>1</td>\n",
       "      <td>1</td>\n",
       "    </tr>\n",
       "    <tr>\n",
       "      <th>4</th>\n",
       "      <td>4</td>\n",
       "      <td>My cat greeting me when I got home from work -...</td>\n",
       "      <td>0</td>\n",
       "      <td>24</td>\n",
       "      <td>1</td>\n",
       "      <td>1</td>\n",
       "      <td>3</td>\n",
       "      <td>3</td>\n",
       "      <td>0</td>\n",
       "      <td>animals</td>\n",
       "      <td>0</td>\n",
       "      <td>0</td>\n",
       "    </tr>\n",
       "    <tr>\n",
       "      <th>...</th>\n",
       "      <td>...</td>\n",
       "      <td>...</td>\n",
       "      <td>...</td>\n",
       "      <td>...</td>\n",
       "      <td>...</td>\n",
       "      <td>...</td>\n",
       "      <td>...</td>\n",
       "      <td>...</td>\n",
       "      <td>...</td>\n",
       "      <td>...</td>\n",
       "      <td>...</td>\n",
       "      <td>...</td>\n",
       "    </tr>\n",
       "    <tr>\n",
       "      <th>17210</th>\n",
       "      <td>21892</td>\n",
       "      <td>My wife and I went for a hike last week and we...</td>\n",
       "      <td>1</td>\n",
       "      <td>34</td>\n",
       "      <td>1</td>\n",
       "      <td>1</td>\n",
       "      <td>3</td>\n",
       "      <td>1</td>\n",
       "      <td>0</td>\n",
       "      <td>romance|exercise|family</td>\n",
       "      <td>1</td>\n",
       "      <td>1</td>\n",
       "    </tr>\n",
       "    <tr>\n",
       "      <th>17211</th>\n",
       "      <td>21893</td>\n",
       "      <td>I finally hit platinum rank in Overwatch.</td>\n",
       "      <td>1</td>\n",
       "      <td>34</td>\n",
       "      <td>1</td>\n",
       "      <td>1</td>\n",
       "      <td>2</td>\n",
       "      <td>1</td>\n",
       "      <td>0</td>\n",
       "      <td>entertainment</td>\n",
       "      <td>1</td>\n",
       "      <td>0</td>\n",
       "    </tr>\n",
       "    <tr>\n",
       "      <th>17212</th>\n",
       "      <td>21897</td>\n",
       "      <td>One of my long-time friends and I finally ackn...</td>\n",
       "      <td>1</td>\n",
       "      <td>34</td>\n",
       "      <td>1</td>\n",
       "      <td>1</td>\n",
       "      <td>1</td>\n",
       "      <td>3</td>\n",
       "      <td>0</td>\n",
       "      <td>romance</td>\n",
       "      <td>1</td>\n",
       "      <td>1</td>\n",
       "    </tr>\n",
       "    <tr>\n",
       "      <th>17213</th>\n",
       "      <td>21898</td>\n",
       "      <td>I earned a professional certification.</td>\n",
       "      <td>1</td>\n",
       "      <td>34</td>\n",
       "      <td>1</td>\n",
       "      <td>1</td>\n",
       "      <td>3</td>\n",
       "      <td>3</td>\n",
       "      <td>0</td>\n",
       "      <td>career|education</td>\n",
       "      <td>1</td>\n",
       "      <td>0</td>\n",
       "    </tr>\n",
       "    <tr>\n",
       "      <th>17214</th>\n",
       "      <td>21899</td>\n",
       "      <td>I built a new computer.</td>\n",
       "      <td>1</td>\n",
       "      <td>34</td>\n",
       "      <td>1</td>\n",
       "      <td>1</td>\n",
       "      <td>3</td>\n",
       "      <td>3</td>\n",
       "      <td>0</td>\n",
       "      <td>technology</td>\n",
       "      <td>1</td>\n",
       "      <td>0</td>\n",
       "    </tr>\n",
       "  </tbody>\n",
       "</table>\n",
       "<p>16665 rows × 12 columns</p>\n",
       "</div>"
      ],
      "text/plain": [
       "        hmid                                             moment  reflection  \\\n",
       "0          0  I was able to spend the day with my fiance sho...           0   \n",
       "1          1                    I was able to play with my cat.           0   \n",
       "2          2   I was able to clean my room and gold my laundry.           0   \n",
       "3          3  I spend the day at a party on the beach and I ...           0   \n",
       "4          4  My cat greeting me when I got home from work -...           0   \n",
       "...      ...                                                ...         ...   \n",
       "17210  21892  My wife and I went for a hike last week and we...           1   \n",
       "17211  21893          I finally hit platinum rank in Overwatch.           1   \n",
       "17212  21897  One of my long-time friends and I finally ackn...           1   \n",
       "17213  21898             I earned a professional certification.           1   \n",
       "17214  21899                            I built a new computer.           1   \n",
       "\n",
       "      age  country  gender  duration  married  parenthood  \\\n",
       "0      28        1       1         1        3           0   \n",
       "1      28        1       1         2        3           0   \n",
       "2      28        1       1         2        3           0   \n",
       "3      24        1       1         3        3           0   \n",
       "4      24        1       1         3        3           0   \n",
       "...    ..      ...     ...       ...      ...         ...   \n",
       "17210  34        1       1         3        1           0   \n",
       "17211  34        1       1         2        1           0   \n",
       "17212  34        1       1         1        3           0   \n",
       "17213  34        1       1         3        3           0   \n",
       "17214  34        1       1         3        3           0   \n",
       "\n",
       "                      concepts  agency  social  \n",
       "0      shopping|family|romance       1       0  \n",
       "1                      animals       1       0  \n",
       "2                            0       1       0  \n",
       "3       vacation|party|weather       1       1  \n",
       "4                      animals       0       0  \n",
       "...                        ...     ...     ...  \n",
       "17210  romance|exercise|family       1       1  \n",
       "17211            entertainment       1       0  \n",
       "17212                  romance       1       1  \n",
       "17213         career|education       1       0  \n",
       "17214               technology       1       0  \n",
       "\n",
       "[16665 rows x 12 columns]"
      ]
     },
     "execution_count": 129,
     "metadata": {},
     "output_type": "execute_result"
    }
   ],
   "source": [
    "test_labeled"
   ]
  },
  {
   "cell_type": "code",
   "execution_count": null,
   "metadata": {},
   "outputs": [],
   "source": []
  }
 ],
 "metadata": {
  "kernelspec": {
   "display_name": "Python 3",
   "language": "python",
   "name": "python3"
  },
  "language_info": {
   "codemirror_mode": {
    "name": "ipython",
    "version": 3
   },
   "file_extension": ".py",
   "mimetype": "text/x-python",
   "name": "python",
   "nbconvert_exporter": "python",
   "pygments_lexer": "ipython3",
   "version": "3.8.5"
  }
 },
 "nbformat": 4,
 "nbformat_minor": 4
}
