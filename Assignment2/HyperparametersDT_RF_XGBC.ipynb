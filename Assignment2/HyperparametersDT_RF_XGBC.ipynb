{
 "cells": [
  {
   "cell_type": "code",
   "execution_count": null,
   "id": "01fa886f",
   "metadata": {},
   "outputs": [],
   "source": []
  },
  {
   "cell_type": "code",
   "execution_count": null,
   "id": "8b8350c2",
   "metadata": {},
   "outputs": [],
   "source": []
  },
  {
   "cell_type": "code",
   "execution_count": null,
   "id": "9317894f",
   "metadata": {},
   "outputs": [],
   "source": [
    "#Decision Tree\n",
    "\n",
    "param = {\n",
    "    'criterion':['gini','entropy'],\n",
    "    'max_depth':[1, 2, 3, 4, 5, 6, 7, 8, 9, 10],\n",
    "    'min_samples_split':[1, 2, 3, 5, 7, 10],\n",
    "    'min_samples_leaf':[1,2,4,5,7,10]\n",
    "}"
   ]
  },
  {
   "cell_type": "code",
   "execution_count": null,
   "id": "cb07f875",
   "metadata": {},
   "outputs": [],
   "source": []
  },
  {
   "cell_type": "code",
   "execution_count": null,
   "id": "31425c36",
   "metadata": {},
   "outputs": [],
   "source": [
    "#Random Forest\n",
    "\n",
    "{'bootstrap': [True, False],\n",
    " 'max_depth': [5, 7, 10, 15, 20, 25, 30, 40, 50],\n",
    " 'max_features': ['auto', 'sqrt'],\n",
    " 'min_samples_leaf': [1, 2, 4, 5],\n",
    " 'min_samples_split': [2, 5, 7, 10],\n",
    " 'n_estimators': [50, 100, 200, 350, 500, 1000, 1250, 1500, 2000]}"
   ]
  },
  {
   "cell_type": "code",
   "execution_count": null,
   "id": "4e584e41",
   "metadata": {},
   "outputs": [],
   "source": [
    "#XGBoost\n",
    "## early_stopping_rounds= 15 or 10 -> pass inside the models apart from all other params\n",
    "\n",
    "params = {\n",
    "    'n_estimator':[10,25,50,100,250,500,1000]    \n",
    "    'min_child_weight': [1, 3, 5, 6, 8, 10],\n",
    "    'max_leaves':[0, 4, 5, 10, 15, 20, 25],    \n",
    "    'gamma': [0, 0.1, 0.2, 0.4, 0.8, 1],\n",
    "    'subsample': [0.5, 0.6, 0.8, 0.9, 1.0],\n",
    "    'colsample_bytree': [0.5, 0.6, 0.8, 0.9, 1.0],\n",
    "    'max_depth': [3, 4, 5, 7, 10, 12, 15],\n",
    "    'nthread':[4,6],\n",
    "    'learning_rate':[0.1,0.001,0.0001]\n",
    "        }\n"
   ]
  },
  {
   "cell_type": "code",
   "execution_count": null,
   "id": "609b0401",
   "metadata": {},
   "outputs": [],
   "source": []
  },
  {
   "cell_type": "code",
   "execution_count": null,
   "id": "f7e856c8",
   "metadata": {},
   "outputs": [],
   "source": []
  },
  {
   "cell_type": "code",
   "execution_count": null,
   "id": "5f757313",
   "metadata": {},
   "outputs": [],
   "source": []
  },
  {
   "cell_type": "code",
   "execution_count": null,
   "id": "2d97c468",
   "metadata": {},
   "outputs": [],
   "source": []
  }
 ],
 "metadata": {
  "kernelspec": {
   "display_name": "Python 3 (ipykernel)",
   "language": "python",
   "name": "python3"
  },
  "language_info": {
   "codemirror_mode": {
    "name": "ipython",
    "version": 3
   },
   "file_extension": ".py",
   "mimetype": "text/x-python",
   "name": "python",
   "nbconvert_exporter": "python",
   "pygments_lexer": "ipython3",
   "version": "3.8.8"
  }
 },
 "nbformat": 4,
 "nbformat_minor": 5
}
