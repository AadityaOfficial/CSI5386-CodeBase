{
 "cells": [
  {
   "cell_type": "markdown",
   "metadata": {},
   "source": [
    "# CSI5388 Natural Language Processing\n",
    "## Assignment - 2\n",
    "## INGREDIENTS FOR HAPPINESS"
   ]
  },
  {
   "cell_type": "code",
   "execution_count": 1,
   "metadata": {},
   "outputs": [],
   "source": [
    "# Import Data\n",
    "import pandas as pd\n",
    "import numpy as np\n",
    "train_labeled = pd.read_csv(\"data/TRAIN/labeled_10k.csv\", engine = 'python')\n",
    "train_unlabeled = pd.read_csv(\"data/TRAIN/unlabeled_70k.csv\", engine = 'python')\n",
    "test_labeled = pd.read_csv(\"data/TEST/labeled_17k.csv\", engine = 'python') # engine should be set as python to avoid error due to some characters: https://stackoverflow.com/questions/46000191/utf-8-codec-cant-decode-byte-0x92-in-position-18-invalid-start-byte\n",
    "test_unlabeled = pd.read_csv(\"data/TEST/unlabeled_17k.csv\", engine = 'python')"
   ]
  },
  {
   "cell_type": "code",
   "execution_count": 2,
   "metadata": {},
   "outputs": [
    {
     "data": {
      "text/html": [
       "<div>\n",
       "<style scoped>\n",
       "    .dataframe tbody tr th:only-of-type {\n",
       "        vertical-align: middle;\n",
       "    }\n",
       "\n",
       "    .dataframe tbody tr th {\n",
       "        vertical-align: top;\n",
       "    }\n",
       "\n",
       "    .dataframe thead th {\n",
       "        text-align: right;\n",
       "    }\n",
       "</style>\n",
       "<table border=\"1\" class=\"dataframe\">\n",
       "  <thead>\n",
       "    <tr style=\"text-align: right;\">\n",
       "      <th></th>\n",
       "      <th>hmid</th>\n",
       "      <th>moment</th>\n",
       "      <th>concepts</th>\n",
       "      <th>agency</th>\n",
       "      <th>social</th>\n",
       "      <th>age</th>\n",
       "      <th>country</th>\n",
       "      <th>gender</th>\n",
       "      <th>married</th>\n",
       "      <th>parenthood</th>\n",
       "      <th>reflection</th>\n",
       "      <th>duration</th>\n",
       "    </tr>\n",
       "  </thead>\n",
       "  <tbody>\n",
       "    <tr>\n",
       "      <th>0</th>\n",
       "      <td>27674</td>\n",
       "      <td>I was happy when my son got 90% marks in his e...</td>\n",
       "      <td>education|family</td>\n",
       "      <td>no</td>\n",
       "      <td>yes</td>\n",
       "      <td>29.0</td>\n",
       "      <td>IND</td>\n",
       "      <td>m</td>\n",
       "      <td>married</td>\n",
       "      <td>y</td>\n",
       "      <td>24h</td>\n",
       "      <td>half_a_day</td>\n",
       "    </tr>\n",
       "    <tr>\n",
       "      <th>1</th>\n",
       "      <td>27685</td>\n",
       "      <td>went to movies with my friends it was fun</td>\n",
       "      <td>entertainment</td>\n",
       "      <td>yes</td>\n",
       "      <td>yes</td>\n",
       "      <td>29.0</td>\n",
       "      <td>IND</td>\n",
       "      <td>m</td>\n",
       "      <td>single</td>\n",
       "      <td>y</td>\n",
       "      <td>24h</td>\n",
       "      <td>half_a_day</td>\n",
       "    </tr>\n",
       "    <tr>\n",
       "      <th>2</th>\n",
       "      <td>27691</td>\n",
       "      <td>A hot kiss with my girl friend last night made...</td>\n",
       "      <td>romance</td>\n",
       "      <td>yes</td>\n",
       "      <td>yes</td>\n",
       "      <td>25.0</td>\n",
       "      <td>IND</td>\n",
       "      <td>m</td>\n",
       "      <td>married</td>\n",
       "      <td>y</td>\n",
       "      <td>24h</td>\n",
       "      <td>at_least_one_hour</td>\n",
       "    </tr>\n",
       "    <tr>\n",
       "      <th>3</th>\n",
       "      <td>27701</td>\n",
       "      <td>My son woke me up to a fantastic breakfast of ...</td>\n",
       "      <td>family|food</td>\n",
       "      <td>no</td>\n",
       "      <td>yes</td>\n",
       "      <td>79</td>\n",
       "      <td>USA</td>\n",
       "      <td>f</td>\n",
       "      <td>widowed</td>\n",
       "      <td>y</td>\n",
       "      <td>24h</td>\n",
       "      <td>all_day_im_still_feeling_it</td>\n",
       "    </tr>\n",
       "    <tr>\n",
       "      <th>4</th>\n",
       "      <td>27712</td>\n",
       "      <td>My older daughter keeps patting my younger dau...</td>\n",
       "      <td>family</td>\n",
       "      <td>no</td>\n",
       "      <td>yes</td>\n",
       "      <td>30</td>\n",
       "      <td>USA</td>\n",
       "      <td>f</td>\n",
       "      <td>married</td>\n",
       "      <td>y</td>\n",
       "      <td>24h</td>\n",
       "      <td>a_few_moment</td>\n",
       "    </tr>\n",
       "  </tbody>\n",
       "</table>\n",
       "</div>"
      ],
      "text/plain": [
       "    hmid                                             moment          concepts  \\\n",
       "0  27674  I was happy when my son got 90% marks in his e...  education|family   \n",
       "1  27685          went to movies with my friends it was fun     entertainment   \n",
       "2  27691  A hot kiss with my girl friend last night made...           romance   \n",
       "3  27701  My son woke me up to a fantastic breakfast of ...       family|food   \n",
       "4  27712  My older daughter keeps patting my younger dau...            family   \n",
       "\n",
       "  agency social   age country gender  married parenthood reflection  \\\n",
       "0     no    yes  29.0     IND      m  married          y        24h   \n",
       "1    yes    yes  29.0     IND      m   single          y        24h   \n",
       "2    yes    yes  25.0     IND      m  married          y        24h   \n",
       "3     no    yes    79     USA      f  widowed          y        24h   \n",
       "4     no    yes    30     USA      f  married          y        24h   \n",
       "\n",
       "                      duration  \n",
       "0                   half_a_day  \n",
       "1                   half_a_day  \n",
       "2            at_least_one_hour  \n",
       "3  all_day_im_still_feeling_it  \n",
       "4                 a_few_moment  "
      ]
     },
     "execution_count": 2,
     "metadata": {},
     "output_type": "execute_result"
    }
   ],
   "source": [
    "train_labeled.head()"
   ]
  },
  {
   "cell_type": "code",
   "execution_count": 3,
   "metadata": {},
   "outputs": [
    {
     "data": {
      "text/html": [
       "<div>\n",
       "<style scoped>\n",
       "    .dataframe tbody tr th:only-of-type {\n",
       "        vertical-align: middle;\n",
       "    }\n",
       "\n",
       "    .dataframe tbody tr th {\n",
       "        vertical-align: top;\n",
       "    }\n",
       "\n",
       "    .dataframe thead th {\n",
       "        text-align: right;\n",
       "    }\n",
       "</style>\n",
       "<table border=\"1\" class=\"dataframe\">\n",
       "  <thead>\n",
       "    <tr style=\"text-align: right;\">\n",
       "      <th></th>\n",
       "      <th>hmid</th>\n",
       "      <th>moment</th>\n",
       "      <th>age</th>\n",
       "      <th>country</th>\n",
       "      <th>gender</th>\n",
       "      <th>married</th>\n",
       "      <th>parenthood</th>\n",
       "      <th>reflection</th>\n",
       "      <th>duration</th>\n",
       "    </tr>\n",
       "  </thead>\n",
       "  <tbody>\n",
       "    <tr>\n",
       "      <th>0</th>\n",
       "      <td>27673</td>\n",
       "      <td>I went on a successful date with someone I fel...</td>\n",
       "      <td>35.0</td>\n",
       "      <td>USA</td>\n",
       "      <td>m</td>\n",
       "      <td>single</td>\n",
       "      <td>n</td>\n",
       "      <td>24h</td>\n",
       "      <td>at_least_one_hour</td>\n",
       "    </tr>\n",
       "    <tr>\n",
       "      <th>1</th>\n",
       "      <td>27675</td>\n",
       "      <td>I went to the gym this morning and did yoga.</td>\n",
       "      <td>30.0</td>\n",
       "      <td>USA</td>\n",
       "      <td>f</td>\n",
       "      <td>married</td>\n",
       "      <td>y</td>\n",
       "      <td>24h</td>\n",
       "      <td>at_least_one_hour</td>\n",
       "    </tr>\n",
       "    <tr>\n",
       "      <th>2</th>\n",
       "      <td>27678</td>\n",
       "      <td>I meditated last night.</td>\n",
       "      <td>23.0</td>\n",
       "      <td>IND</td>\n",
       "      <td>m</td>\n",
       "      <td>single</td>\n",
       "      <td>n</td>\n",
       "      <td>24h</td>\n",
       "      <td>at_least_one_hour</td>\n",
       "    </tr>\n",
       "    <tr>\n",
       "      <th>3</th>\n",
       "      <td>27679</td>\n",
       "      <td>I made a new recipe for peasant bread, and it ...</td>\n",
       "      <td>30.0</td>\n",
       "      <td>USA</td>\n",
       "      <td>m</td>\n",
       "      <td>single</td>\n",
       "      <td>n</td>\n",
       "      <td>24h</td>\n",
       "      <td>half_a_day</td>\n",
       "    </tr>\n",
       "    <tr>\n",
       "      <th>4</th>\n",
       "      <td>27680</td>\n",
       "      <td>I got gift from my elder brother which was rea...</td>\n",
       "      <td>23.0</td>\n",
       "      <td>IND</td>\n",
       "      <td>m</td>\n",
       "      <td>single</td>\n",
       "      <td>n</td>\n",
       "      <td>24h</td>\n",
       "      <td>at_least_one_hour</td>\n",
       "    </tr>\n",
       "  </tbody>\n",
       "</table>\n",
       "</div>"
      ],
      "text/plain": [
       "    hmid                                             moment   age country  \\\n",
       "0  27673  I went on a successful date with someone I fel...  35.0     USA   \n",
       "1  27675       I went to the gym this morning and did yoga.  30.0     USA   \n",
       "2  27678                            I meditated last night.  23.0     IND   \n",
       "3  27679  I made a new recipe for peasant bread, and it ...  30.0     USA   \n",
       "4  27680  I got gift from my elder brother which was rea...  23.0     IND   \n",
       "\n",
       "  gender  married parenthood reflection           duration  \n",
       "0      m   single          n        24h  at_least_one_hour  \n",
       "1      f  married          y        24h  at_least_one_hour  \n",
       "2      m   single          n        24h  at_least_one_hour  \n",
       "3      m   single          n        24h         half_a_day  \n",
       "4      m   single          n        24h  at_least_one_hour  "
      ]
     },
     "execution_count": 3,
     "metadata": {},
     "output_type": "execute_result"
    }
   ],
   "source": [
    "train_unlabeled.head()"
   ]
  },
  {
   "cell_type": "code",
   "execution_count": 4,
   "metadata": {},
   "outputs": [
    {
     "data": {
      "text/html": [
       "<div>\n",
       "<style scoped>\n",
       "    .dataframe tbody tr th:only-of-type {\n",
       "        vertical-align: middle;\n",
       "    }\n",
       "\n",
       "    .dataframe tbody tr th {\n",
       "        vertical-align: top;\n",
       "    }\n",
       "\n",
       "    .dataframe thead th {\n",
       "        text-align: right;\n",
       "    }\n",
       "</style>\n",
       "<table border=\"1\" class=\"dataframe\">\n",
       "  <thead>\n",
       "    <tr style=\"text-align: right;\">\n",
       "      <th></th>\n",
       "      <th>hmid</th>\n",
       "      <th>moment</th>\n",
       "      <th>reflection</th>\n",
       "      <th>age</th>\n",
       "      <th>country</th>\n",
       "      <th>gender</th>\n",
       "      <th>duration</th>\n",
       "      <th>married</th>\n",
       "      <th>parenthood</th>\n",
       "      <th>concepts</th>\n",
       "      <th>agency</th>\n",
       "      <th>social</th>\n",
       "    </tr>\n",
       "  </thead>\n",
       "  <tbody>\n",
       "    <tr>\n",
       "      <th>0</th>\n",
       "      <td>0</td>\n",
       "      <td>I was able to spend the day with my fiance sho...</td>\n",
       "      <td>24h</td>\n",
       "      <td>28</td>\n",
       "      <td>USA</td>\n",
       "      <td>m</td>\n",
       "      <td>all_day_im_still_feeling_it</td>\n",
       "      <td>single</td>\n",
       "      <td>n</td>\n",
       "      <td>shopping|family|romance</td>\n",
       "      <td>yes</td>\n",
       "      <td>no</td>\n",
       "    </tr>\n",
       "    <tr>\n",
       "      <th>1</th>\n",
       "      <td>1</td>\n",
       "      <td>I was able to play with my cat.</td>\n",
       "      <td>24h</td>\n",
       "      <td>28</td>\n",
       "      <td>USA</td>\n",
       "      <td>m</td>\n",
       "      <td>at_least_one_hour</td>\n",
       "      <td>single</td>\n",
       "      <td>n</td>\n",
       "      <td>animals</td>\n",
       "      <td>yes</td>\n",
       "      <td>no</td>\n",
       "    </tr>\n",
       "    <tr>\n",
       "      <th>2</th>\n",
       "      <td>2</td>\n",
       "      <td>I was able to clean my room and gold my laundry.</td>\n",
       "      <td>24h</td>\n",
       "      <td>28</td>\n",
       "      <td>USA</td>\n",
       "      <td>m</td>\n",
       "      <td>at_least_one_hour</td>\n",
       "      <td>single</td>\n",
       "      <td>n</td>\n",
       "      <td>0</td>\n",
       "      <td>yes</td>\n",
       "      <td>no</td>\n",
       "    </tr>\n",
       "    <tr>\n",
       "      <th>3</th>\n",
       "      <td>3</td>\n",
       "      <td>I spend the day at a party on the beach and I ...</td>\n",
       "      <td>24h</td>\n",
       "      <td>24</td>\n",
       "      <td>USA</td>\n",
       "      <td>m</td>\n",
       "      <td>half_a_day</td>\n",
       "      <td>single</td>\n",
       "      <td>n</td>\n",
       "      <td>vacation|party|weather</td>\n",
       "      <td>yes</td>\n",
       "      <td>yes</td>\n",
       "    </tr>\n",
       "    <tr>\n",
       "      <th>4</th>\n",
       "      <td>4</td>\n",
       "      <td>My cat greeting me when I got home from work -...</td>\n",
       "      <td>24h</td>\n",
       "      <td>24</td>\n",
       "      <td>USA</td>\n",
       "      <td>m</td>\n",
       "      <td>half_a_day</td>\n",
       "      <td>single</td>\n",
       "      <td>n</td>\n",
       "      <td>animals</td>\n",
       "      <td>no</td>\n",
       "      <td>no</td>\n",
       "    </tr>\n",
       "  </tbody>\n",
       "</table>\n",
       "</div>"
      ],
      "text/plain": [
       "   hmid                                             moment reflection age  \\\n",
       "0     0  I was able to spend the day with my fiance sho...        24h  28   \n",
       "1     1                    I was able to play with my cat.        24h  28   \n",
       "2     2   I was able to clean my room and gold my laundry.        24h  28   \n",
       "3     3  I spend the day at a party on the beach and I ...        24h  24   \n",
       "4     4  My cat greeting me when I got home from work -...        24h  24   \n",
       "\n",
       "  country gender                     duration married parenthood  \\\n",
       "0     USA      m  all_day_im_still_feeling_it  single          n   \n",
       "1     USA      m            at_least_one_hour  single          n   \n",
       "2     USA      m            at_least_one_hour  single          n   \n",
       "3     USA      m                   half_a_day  single          n   \n",
       "4     USA      m                   half_a_day  single          n   \n",
       "\n",
       "                  concepts agency social  \n",
       "0  shopping|family|romance    yes     no  \n",
       "1                  animals    yes     no  \n",
       "2                        0    yes     no  \n",
       "3   vacation|party|weather    yes    yes  \n",
       "4                  animals     no     no  "
      ]
     },
     "execution_count": 4,
     "metadata": {},
     "output_type": "execute_result"
    }
   ],
   "source": [
    "test_labeled.head()"
   ]
  },
  {
   "cell_type": "code",
   "execution_count": 5,
   "metadata": {},
   "outputs": [
    {
     "data": {
      "text/html": [
       "<div>\n",
       "<style scoped>\n",
       "    .dataframe tbody tr th:only-of-type {\n",
       "        vertical-align: middle;\n",
       "    }\n",
       "\n",
       "    .dataframe tbody tr th {\n",
       "        vertical-align: top;\n",
       "    }\n",
       "\n",
       "    .dataframe thead th {\n",
       "        text-align: right;\n",
       "    }\n",
       "</style>\n",
       "<table border=\"1\" class=\"dataframe\">\n",
       "  <thead>\n",
       "    <tr style=\"text-align: right;\">\n",
       "      <th></th>\n",
       "      <th>hmid</th>\n",
       "      <th>moment</th>\n",
       "      <th>reflection</th>\n",
       "      <th>age</th>\n",
       "      <th>country</th>\n",
       "      <th>gender</th>\n",
       "      <th>duration</th>\n",
       "      <th>married</th>\n",
       "      <th>parenthood</th>\n",
       "    </tr>\n",
       "  </thead>\n",
       "  <tbody>\n",
       "    <tr>\n",
       "      <th>0</th>\n",
       "      <td>0</td>\n",
       "      <td>I was able to spend the day with my fiance sho...</td>\n",
       "      <td>24h</td>\n",
       "      <td>28</td>\n",
       "      <td>USA</td>\n",
       "      <td>m</td>\n",
       "      <td>all_day_im_still_feeling_it</td>\n",
       "      <td>single</td>\n",
       "      <td>n</td>\n",
       "    </tr>\n",
       "    <tr>\n",
       "      <th>1</th>\n",
       "      <td>1</td>\n",
       "      <td>I was able to play with my cat.</td>\n",
       "      <td>24h</td>\n",
       "      <td>28</td>\n",
       "      <td>USA</td>\n",
       "      <td>m</td>\n",
       "      <td>at_least_one_hour</td>\n",
       "      <td>single</td>\n",
       "      <td>n</td>\n",
       "    </tr>\n",
       "    <tr>\n",
       "      <th>2</th>\n",
       "      <td>2</td>\n",
       "      <td>I was able to clean my room and gold my laundry.</td>\n",
       "      <td>24h</td>\n",
       "      <td>28</td>\n",
       "      <td>USA</td>\n",
       "      <td>m</td>\n",
       "      <td>at_least_one_hour</td>\n",
       "      <td>single</td>\n",
       "      <td>n</td>\n",
       "    </tr>\n",
       "    <tr>\n",
       "      <th>3</th>\n",
       "      <td>3</td>\n",
       "      <td>I spend the day at a party on the beach and I ...</td>\n",
       "      <td>24h</td>\n",
       "      <td>24</td>\n",
       "      <td>USA</td>\n",
       "      <td>m</td>\n",
       "      <td>half_a_day</td>\n",
       "      <td>single</td>\n",
       "      <td>n</td>\n",
       "    </tr>\n",
       "    <tr>\n",
       "      <th>4</th>\n",
       "      <td>4</td>\n",
       "      <td>My cat greeting me when I got home from work -...</td>\n",
       "      <td>24h</td>\n",
       "      <td>24</td>\n",
       "      <td>USA</td>\n",
       "      <td>m</td>\n",
       "      <td>half_a_day</td>\n",
       "      <td>single</td>\n",
       "      <td>n</td>\n",
       "    </tr>\n",
       "  </tbody>\n",
       "</table>\n",
       "</div>"
      ],
      "text/plain": [
       "   hmid                                             moment reflection age  \\\n",
       "0     0  I was able to spend the day with my fiance sho...        24h  28   \n",
       "1     1                    I was able to play with my cat.        24h  28   \n",
       "2     2   I was able to clean my room and gold my laundry.        24h  28   \n",
       "3     3  I spend the day at a party on the beach and I ...        24h  24   \n",
       "4     4  My cat greeting me when I got home from work -...        24h  24   \n",
       "\n",
       "  country gender                     duration married parenthood  \n",
       "0     USA      m  all_day_im_still_feeling_it  single          n  \n",
       "1     USA      m            at_least_one_hour  single          n  \n",
       "2     USA      m            at_least_one_hour  single          n  \n",
       "3     USA      m                   half_a_day  single          n  \n",
       "4     USA      m                   half_a_day  single          n  "
      ]
     },
     "execution_count": 5,
     "metadata": {},
     "output_type": "execute_result"
    }
   ],
   "source": [
    "test_unlabeled.head()"
   ]
  },
  {
   "cell_type": "markdown",
   "metadata": {},
   "source": [
    "### Pre-processing ###"
   ]
  },
  {
   "cell_type": "code",
   "execution_count": null,
   "metadata": {},
   "outputs": [],
   "source": []
  },
  {
   "cell_type": "code",
   "execution_count": 6,
   "metadata": {},
   "outputs": [],
   "source": [
    "import nltk"
   ]
  },
  {
   "cell_type": "code",
   "execution_count": 7,
   "metadata": {},
   "outputs": [
    {
     "data": {
      "text/plain": [
       "0    I was happy when my son got 90% marks in his e...\n",
       "1            went to movies with my friends it was fun\n",
       "2    A hot kiss with my girl friend last night made...\n",
       "Name: moment, dtype: object"
      ]
     },
     "execution_count": 7,
     "metadata": {},
     "output_type": "execute_result"
    }
   ],
   "source": [
    "train_labeled['moment'].head(3)"
   ]
  },
  {
   "cell_type": "code",
   "execution_count": 8,
   "metadata": {},
   "outputs": [
    {
     "data": {
      "text/plain": [
       "0    I went on a successful date with someone I fel...\n",
       "1         I went to the gym this morning and did yoga.\n",
       "2                              I meditated last night.\n",
       "Name: moment, dtype: object"
      ]
     },
     "execution_count": 8,
     "metadata": {},
     "output_type": "execute_result"
    }
   ],
   "source": [
    "train_unlabeled['moment'].head(3)"
   ]
  },
  {
   "cell_type": "code",
   "execution_count": 9,
   "metadata": {},
   "outputs": [],
   "source": [
    "train_labeled['moment'] = train_labeled['moment'].str.lower()\n",
    "train_unlabeled['moment'] = train_unlabeled['moment'].str.lower()"
   ]
  },
  {
   "cell_type": "code",
   "execution_count": 10,
   "metadata": {},
   "outputs": [
    {
     "data": {
      "text/plain": [
       "0    i went on a successful date with someone i fel...\n",
       "1         i went to the gym this morning and did yoga.\n",
       "2                              i meditated last night.\n",
       "Name: moment, dtype: object"
      ]
     },
     "execution_count": 10,
     "metadata": {},
     "output_type": "execute_result"
    }
   ],
   "source": [
    "train_unlabeled['moment'].head(3)"
   ]
  },
  {
   "cell_type": "markdown",
   "metadata": {},
   "source": [
    "## Removing the punctuations ##"
   ]
  },
  {
   "cell_type": "code",
   "execution_count": 11,
   "metadata": {},
   "outputs": [
    {
     "name": "stdout",
     "output_type": "stream",
     "text": [
      "!\"#$%&'()*+,-./:;<=>?@[\\]^_`{|}~\n"
     ]
    }
   ],
   "source": [
    "import string\n",
    "print(string.punctuation)\n",
    "punct_str = string.punctuation"
   ]
  },
  {
   "cell_type": "code",
   "execution_count": 12,
   "metadata": {},
   "outputs": [],
   "source": [
    "upd_moment = []\n",
    "upd_moment_2 = []\n",
    "\n",
    "for text_t1 in train_labeled['moment']:\n",
    "    text_upd = \"\".join([ char for char in text_t1 if char not in string.punctuation])\n",
    "    upd_moment.append(text_upd)\n",
    "    \n",
    "for text_t2 in train_unlabeled['moment']:\n",
    "    text_upd_2 = \"\".join([ char for char in text_t2 if char not in string.punctuation])\n",
    "    upd_moment_2.append(text_upd_2)"
   ]
  },
  {
   "cell_type": "code",
   "execution_count": 13,
   "metadata": {},
   "outputs": [],
   "source": [
    "train_labeled['moment'] = upd_moment\n",
    "train_unlabeled['moment']= upd_moment_2"
   ]
  },
  {
   "cell_type": "code",
   "execution_count": 14,
   "metadata": {},
   "outputs": [
    {
     "data": {
      "text/plain": [
       "'my older daughter keeps patting my younger daughters head'"
      ]
     },
     "execution_count": 14,
     "metadata": {},
     "output_type": "execute_result"
    }
   ],
   "source": [
    "train_labeled['moment'][4]"
   ]
  },
  {
   "cell_type": "code",
   "execution_count": null,
   "metadata": {},
   "outputs": [],
   "source": []
  },
  {
   "cell_type": "markdown",
   "metadata": {},
   "source": [
    "## Tokenization ##"
   ]
  },
  {
   "cell_type": "code",
   "execution_count": 15,
   "metadata": {},
   "outputs": [],
   "source": [
    "from nltk import word_tokenize\n",
    "list_tokenize = []\n",
    "\n",
    "for moments_sent in train_labeled['moment']:\n",
    "    tokenized_wrds = word_tokenize(moments_sent)\n",
    "    list_tokenize.append(tokenized_wrds)\n",
    "train_labeled['moment'] = list_tokenize\n",
    "    \n",
    "list_tokenize = []\n",
    "for moments_sent in train_unlabeled['moment']:\n",
    "    tokenized_wrds = word_tokenize(moments_sent)\n",
    "    list_tokenize.append(tokenized_wrds)\n",
    "train_unlabeled['moment'] = list_tokenize\n"
   ]
  },
  {
   "cell_type": "code",
   "execution_count": 16,
   "metadata": {
    "scrolled": true
   },
   "outputs": [
    {
     "data": {
      "text/html": [
       "<div>\n",
       "<style scoped>\n",
       "    .dataframe tbody tr th:only-of-type {\n",
       "        vertical-align: middle;\n",
       "    }\n",
       "\n",
       "    .dataframe tbody tr th {\n",
       "        vertical-align: top;\n",
       "    }\n",
       "\n",
       "    .dataframe thead th {\n",
       "        text-align: right;\n",
       "    }\n",
       "</style>\n",
       "<table border=\"1\" class=\"dataframe\">\n",
       "  <thead>\n",
       "    <tr style=\"text-align: right;\">\n",
       "      <th></th>\n",
       "      <th>hmid</th>\n",
       "      <th>moment</th>\n",
       "      <th>concepts</th>\n",
       "      <th>agency</th>\n",
       "      <th>social</th>\n",
       "      <th>age</th>\n",
       "      <th>country</th>\n",
       "      <th>gender</th>\n",
       "      <th>married</th>\n",
       "      <th>parenthood</th>\n",
       "      <th>reflection</th>\n",
       "      <th>duration</th>\n",
       "    </tr>\n",
       "  </thead>\n",
       "  <tbody>\n",
       "    <tr>\n",
       "      <th>0</th>\n",
       "      <td>27674</td>\n",
       "      <td>[i, was, happy, when, my, son, got, 90, marks,...</td>\n",
       "      <td>education|family</td>\n",
       "      <td>no</td>\n",
       "      <td>yes</td>\n",
       "      <td>29.0</td>\n",
       "      <td>IND</td>\n",
       "      <td>m</td>\n",
       "      <td>married</td>\n",
       "      <td>y</td>\n",
       "      <td>24h</td>\n",
       "      <td>half_a_day</td>\n",
       "    </tr>\n",
       "    <tr>\n",
       "      <th>1</th>\n",
       "      <td>27685</td>\n",
       "      <td>[went, to, movies, with, my, friends, it, was,...</td>\n",
       "      <td>entertainment</td>\n",
       "      <td>yes</td>\n",
       "      <td>yes</td>\n",
       "      <td>29.0</td>\n",
       "      <td>IND</td>\n",
       "      <td>m</td>\n",
       "      <td>single</td>\n",
       "      <td>y</td>\n",
       "      <td>24h</td>\n",
       "      <td>half_a_day</td>\n",
       "    </tr>\n",
       "    <tr>\n",
       "      <th>2</th>\n",
       "      <td>27691</td>\n",
       "      <td>[a, hot, kiss, with, my, girl, friend, last, n...</td>\n",
       "      <td>romance</td>\n",
       "      <td>yes</td>\n",
       "      <td>yes</td>\n",
       "      <td>25.0</td>\n",
       "      <td>IND</td>\n",
       "      <td>m</td>\n",
       "      <td>married</td>\n",
       "      <td>y</td>\n",
       "      <td>24h</td>\n",
       "      <td>at_least_one_hour</td>\n",
       "    </tr>\n",
       "    <tr>\n",
       "      <th>3</th>\n",
       "      <td>27701</td>\n",
       "      <td>[my, son, woke, me, up, to, a, fantastic, brea...</td>\n",
       "      <td>family|food</td>\n",
       "      <td>no</td>\n",
       "      <td>yes</td>\n",
       "      <td>79</td>\n",
       "      <td>USA</td>\n",
       "      <td>f</td>\n",
       "      <td>widowed</td>\n",
       "      <td>y</td>\n",
       "      <td>24h</td>\n",
       "      <td>all_day_im_still_feeling_it</td>\n",
       "    </tr>\n",
       "    <tr>\n",
       "      <th>4</th>\n",
       "      <td>27712</td>\n",
       "      <td>[my, older, daughter, keeps, patting, my, youn...</td>\n",
       "      <td>family</td>\n",
       "      <td>no</td>\n",
       "      <td>yes</td>\n",
       "      <td>30</td>\n",
       "      <td>USA</td>\n",
       "      <td>f</td>\n",
       "      <td>married</td>\n",
       "      <td>y</td>\n",
       "      <td>24h</td>\n",
       "      <td>a_few_moment</td>\n",
       "    </tr>\n",
       "  </tbody>\n",
       "</table>\n",
       "</div>"
      ],
      "text/plain": [
       "    hmid                                             moment          concepts  \\\n",
       "0  27674  [i, was, happy, when, my, son, got, 90, marks,...  education|family   \n",
       "1  27685  [went, to, movies, with, my, friends, it, was,...     entertainment   \n",
       "2  27691  [a, hot, kiss, with, my, girl, friend, last, n...           romance   \n",
       "3  27701  [my, son, woke, me, up, to, a, fantastic, brea...       family|food   \n",
       "4  27712  [my, older, daughter, keeps, patting, my, youn...            family   \n",
       "\n",
       "  agency social   age country gender  married parenthood reflection  \\\n",
       "0     no    yes  29.0     IND      m  married          y        24h   \n",
       "1    yes    yes  29.0     IND      m   single          y        24h   \n",
       "2    yes    yes  25.0     IND      m  married          y        24h   \n",
       "3     no    yes    79     USA      f  widowed          y        24h   \n",
       "4     no    yes    30     USA      f  married          y        24h   \n",
       "\n",
       "                      duration  \n",
       "0                   half_a_day  \n",
       "1                   half_a_day  \n",
       "2            at_least_one_hour  \n",
       "3  all_day_im_still_feeling_it  \n",
       "4                 a_few_moment  "
      ]
     },
     "execution_count": 16,
     "metadata": {},
     "output_type": "execute_result"
    }
   ],
   "source": [
    "train_labeled.head()"
   ]
  },
  {
   "cell_type": "code",
   "execution_count": 17,
   "metadata": {},
   "outputs": [
    {
     "data": {
      "text/html": [
       "<div>\n",
       "<style scoped>\n",
       "    .dataframe tbody tr th:only-of-type {\n",
       "        vertical-align: middle;\n",
       "    }\n",
       "\n",
       "    .dataframe tbody tr th {\n",
       "        vertical-align: top;\n",
       "    }\n",
       "\n",
       "    .dataframe thead th {\n",
       "        text-align: right;\n",
       "    }\n",
       "</style>\n",
       "<table border=\"1\" class=\"dataframe\">\n",
       "  <thead>\n",
       "    <tr style=\"text-align: right;\">\n",
       "      <th></th>\n",
       "      <th>hmid</th>\n",
       "      <th>moment</th>\n",
       "      <th>age</th>\n",
       "      <th>country</th>\n",
       "      <th>gender</th>\n",
       "      <th>married</th>\n",
       "      <th>parenthood</th>\n",
       "      <th>reflection</th>\n",
       "      <th>duration</th>\n",
       "    </tr>\n",
       "  </thead>\n",
       "  <tbody>\n",
       "    <tr>\n",
       "      <th>0</th>\n",
       "      <td>27673</td>\n",
       "      <td>[i, went, on, a, successful, date, with, someo...</td>\n",
       "      <td>35.0</td>\n",
       "      <td>USA</td>\n",
       "      <td>m</td>\n",
       "      <td>single</td>\n",
       "      <td>n</td>\n",
       "      <td>24h</td>\n",
       "      <td>at_least_one_hour</td>\n",
       "    </tr>\n",
       "    <tr>\n",
       "      <th>1</th>\n",
       "      <td>27675</td>\n",
       "      <td>[i, went, to, the, gym, this, morning, and, di...</td>\n",
       "      <td>30.0</td>\n",
       "      <td>USA</td>\n",
       "      <td>f</td>\n",
       "      <td>married</td>\n",
       "      <td>y</td>\n",
       "      <td>24h</td>\n",
       "      <td>at_least_one_hour</td>\n",
       "    </tr>\n",
       "    <tr>\n",
       "      <th>2</th>\n",
       "      <td>27678</td>\n",
       "      <td>[i, meditated, last, night]</td>\n",
       "      <td>23.0</td>\n",
       "      <td>IND</td>\n",
       "      <td>m</td>\n",
       "      <td>single</td>\n",
       "      <td>n</td>\n",
       "      <td>24h</td>\n",
       "      <td>at_least_one_hour</td>\n",
       "    </tr>\n",
       "    <tr>\n",
       "      <th>3</th>\n",
       "      <td>27679</td>\n",
       "      <td>[i, made, a, new, recipe, for, peasant, bread,...</td>\n",
       "      <td>30.0</td>\n",
       "      <td>USA</td>\n",
       "      <td>m</td>\n",
       "      <td>single</td>\n",
       "      <td>n</td>\n",
       "      <td>24h</td>\n",
       "      <td>half_a_day</td>\n",
       "    </tr>\n",
       "    <tr>\n",
       "      <th>4</th>\n",
       "      <td>27680</td>\n",
       "      <td>[i, got, gift, from, my, elder, brother, which...</td>\n",
       "      <td>23.0</td>\n",
       "      <td>IND</td>\n",
       "      <td>m</td>\n",
       "      <td>single</td>\n",
       "      <td>n</td>\n",
       "      <td>24h</td>\n",
       "      <td>at_least_one_hour</td>\n",
       "    </tr>\n",
       "  </tbody>\n",
       "</table>\n",
       "</div>"
      ],
      "text/plain": [
       "    hmid                                             moment   age country  \\\n",
       "0  27673  [i, went, on, a, successful, date, with, someo...  35.0     USA   \n",
       "1  27675  [i, went, to, the, gym, this, morning, and, di...  30.0     USA   \n",
       "2  27678                        [i, meditated, last, night]  23.0     IND   \n",
       "3  27679  [i, made, a, new, recipe, for, peasant, bread,...  30.0     USA   \n",
       "4  27680  [i, got, gift, from, my, elder, brother, which...  23.0     IND   \n",
       "\n",
       "  gender  married parenthood reflection           duration  \n",
       "0      m   single          n        24h  at_least_one_hour  \n",
       "1      f  married          y        24h  at_least_one_hour  \n",
       "2      m   single          n        24h  at_least_one_hour  \n",
       "3      m   single          n        24h         half_a_day  \n",
       "4      m   single          n        24h  at_least_one_hour  "
      ]
     },
     "execution_count": 17,
     "metadata": {},
     "output_type": "execute_result"
    }
   ],
   "source": [
    "train_unlabeled.head()"
   ]
  },
  {
   "cell_type": "markdown",
   "metadata": {},
   "source": [
    "## Remove Stopwords  ##"
   ]
  },
  {
   "cell_type": "code",
   "execution_count": 18,
   "metadata": {},
   "outputs": [
    {
     "name": "stdout",
     "output_type": "stream",
     "text": [
      "['i', 'me', 'my', 'myself', 'we', 'our', 'ours', 'ourselves', 'you', \"you're\", \"you've\", \"you'll\", \"you'd\", 'your', 'yours', 'yourself', 'yourselves', 'he', 'him', 'his', 'himself', 'she', \"she's\", 'her', 'hers', 'herself', 'it', \"it's\", 'its', 'itself', 'they', 'them', 'their', 'theirs', 'themselves', 'what', 'which', 'who', 'whom', 'this', 'that', \"that'll\", 'these', 'those', 'am', 'is', 'are', 'was', 'were', 'be', 'been', 'being', 'have', 'has', 'had', 'having', 'do', 'does', 'did', 'doing', 'a', 'an', 'the', 'and', 'but', 'if', 'or', 'because', 'as', 'until', 'while', 'of', 'at', 'by', 'for', 'with', 'about', 'against', 'between', 'into', 'through', 'during', 'before', 'after', 'above', 'below', 'to', 'from', 'up', 'down', 'in', 'out', 'on', 'off', 'over', 'under', 'again', 'further', 'then', 'once', 'here', 'there', 'when', 'where', 'why', 'how', 'all', 'any', 'both', 'each', 'few', 'more', 'most', 'other', 'some', 'such', 'no', 'nor', 'not', 'only', 'own', 'same', 'so', 'than', 'too', 'very', 's', 't', 'can', 'will', 'just', 'don', \"don't\", 'should', \"should've\", 'now', 'd', 'll', 'm', 'o', 're', 've', 'y', 'ain', 'aren', \"aren't\", 'couldn', \"couldn't\", 'didn', \"didn't\", 'doesn', \"doesn't\", 'hadn', \"hadn't\", 'hasn', \"hasn't\", 'haven', \"haven't\", 'isn', \"isn't\", 'ma', 'mightn', \"mightn't\", 'mustn', \"mustn't\", 'needn', \"needn't\", 'shan', \"shan't\", 'shouldn', \"shouldn't\", 'wasn', \"wasn't\", 'weren', \"weren't\", 'won', \"won't\", 'wouldn', \"wouldn't\"]\n"
     ]
    }
   ],
   "source": [
    "from nltk.corpus import stopwords\n",
    "stop_words_eng = stopwords.words('english')\n",
    "print(stop_words_eng)"
   ]
  },
  {
   "cell_type": "code",
   "execution_count": 19,
   "metadata": {},
   "outputs": [],
   "source": [
    "filt_wrd_list=[]\n",
    "for words in train_labeled['moment']:\n",
    "    filtered_words = [word for word in words if word not in stop_words_eng]    \n",
    "    filt_wrd_list.append(filtered_words)\n",
    "train_labeled['moment'] = filt_wrd_list\n",
    "\n",
    "filt_wrd_list=[]\n",
    "for words in train_unlabeled['moment']:\n",
    "    filtered_words = [word for word in words if word not in stop_words_eng]    \n",
    "    filt_wrd_list.append(filtered_words)\n",
    "train_unlabeled['moment'] = filt_wrd_list"
   ]
  },
  {
   "cell_type": "code",
   "execution_count": 20,
   "metadata": {},
   "outputs": [
    {
     "data": {
      "text/plain": [
       "0                [happy, son, got, 90, marks, examination]\n",
       "1                             [went, movies, friends, fun]\n",
       "2        [hot, kiss, girl, friend, last, night, made, day]\n",
       "3        [son, woke, fantastic, breakfast, eggs, specia...\n",
       "4        [older, daughter, keeps, patting, younger, dau...\n",
       "                               ...                        \n",
       "10555                       [husband, called, tell, loved]\n",
       "10556                  [worked, always, makes, feel, good]\n",
       "10557    [finally, got, watch, new, resident, evil, movie]\n",
       "10558     [got, talk, old, friend, reminisce, good, times]\n",
       "10559    [great, meeting, yesterday, work, boss, collea...\n",
       "Name: moment, Length: 10560, dtype: object"
      ]
     },
     "execution_count": 20,
     "metadata": {},
     "output_type": "execute_result"
    }
   ],
   "source": [
    "train_labeled['moment']"
   ]
  },
  {
   "cell_type": "code",
   "execution_count": 21,
   "metadata": {},
   "outputs": [
    {
     "data": {
      "text/plain": [
       "0        [went, successful, date, someone, felt, sympat...\n",
       "1                               [went, gym, morning, yoga]\n",
       "2                                 [meditated, last, night]\n",
       "3        [made, new, recipe, peasant, bread, came, spec...\n",
       "4          [got, gift, elder, brother, really, surprising]\n",
       "                               ...                        \n",
       "72319                              [spent, time, daughter]\n",
       "72320    [husband, announced, getting, decent, bonus, q...\n",
       "72321                                       [pepsi, drink]\n",
       "72322                  [cuddling, girlfriend, last, night]\n",
       "72323                        [great, workout, last, night]\n",
       "Name: moment, Length: 72324, dtype: object"
      ]
     },
     "execution_count": 21,
     "metadata": {},
     "output_type": "execute_result"
    }
   ],
   "source": [
    "train_unlabeled['moment']"
   ]
  },
  {
   "cell_type": "markdown",
   "metadata": {},
   "source": [
    "## Lemmatizer ##"
   ]
  },
  {
   "cell_type": "code",
   "execution_count": 22,
   "metadata": {},
   "outputs": [
    {
     "name": "stderr",
     "output_type": "stream",
     "text": [
      "[nltk_data] Downloading package wordnet to\n",
      "[nltk_data]     C:\\Users\\parit\\AppData\\Roaming\\nltk_data...\n",
      "[nltk_data]   Package wordnet is already up-to-date!\n"
     ]
    }
   ],
   "source": [
    "nltk.download('wordnet')\n",
    "from nltk.stem import WordNetLemmatizer\n",
    "lemmatizer = WordNetLemmatizer()"
   ]
  },
  {
   "cell_type": "code",
   "execution_count": 23,
   "metadata": {},
   "outputs": [],
   "source": [
    "lemm_wrd_list=[]\n",
    "for words in train_labeled['moment']:\n",
    "    lemm_words = [lemmatizer.lemmatize(word) for word in words]    \n",
    "    lemm_wrd_list.append(lemm_words)\n",
    "\n",
    "train_labeled['moment'] = lemm_wrd_list"
   ]
  },
  {
   "cell_type": "code",
   "execution_count": 24,
   "metadata": {},
   "outputs": [],
   "source": [
    "lemm_wrd_list=[]\n",
    "for words in train_unlabeled['moment']:\n",
    "    lemm_words = [lemmatizer.lemmatize(word) for word in words]    \n",
    "    lemm_wrd_list.append(lemm_words)\n",
    "\n",
    "train_unlabeled['moment'] = lemm_wrd_list"
   ]
  },
  {
   "cell_type": "code",
   "execution_count": null,
   "metadata": {},
   "outputs": [],
   "source": []
  },
  {
   "cell_type": "markdown",
   "metadata": {},
   "source": [
    "## Preprocessing Other Columns ##"
   ]
  },
  {
   "cell_type": "code",
   "execution_count": 25,
   "metadata": {},
   "outputs": [
    {
     "data": {
      "text/plain": [
       "array(['IND', 'USA', 'VEN', 'DNK', 'FIN', 'PER', 'GBR', 'SRB', 'DOM',\n",
       "       'ARM', 'PAK', 'SGP', 'FRA', 'JAM', 'LTU', 'TUR', 'PHL', 'PRT',\n",
       "       'ESP', 'THA', 'MEX', 'ARE', 'IDN', 'BRA', 'IRL', 'NGA', 'CAN',\n",
       "       'BGR', 'DEU', nan, 'DZA', 'MKD', 'ETH', 'RUS', 'EGY', 'NLD', 'ALB',\n",
       "       'BEL', 'MDA', 'ISR', 'NZL', 'AUS', 'ZAF', 'SWE', 'VNM', 'KAZ',\n",
       "       'GRC', 'TTO', 'UGA', 'MAR', 'URY', 'ISL', 'SUR', 'KOR', 'BHS',\n",
       "       'COL', 'ITA', 'CZE', 'BRB', 'MLT', 'MYS', 'KEN', 'KWT', 'PRI',\n",
       "       'ROU', 'SVN', 'MAC', 'GTM', 'NOR', 'AFG'], dtype=object)"
      ]
     },
     "execution_count": 25,
     "metadata": {},
     "output_type": "execute_result"
    }
   ],
   "source": [
    "train_labeled['country'].unique()"
   ]
  },
  {
   "cell_type": "code",
   "execution_count": 26,
   "metadata": {},
   "outputs": [
    {
     "data": {
      "text/plain": [
       "array(['USA', 'IND', 'VNM', 'KWT', 'GBR', 'FIN', 'AUS', 'BGD', 'IDN',\n",
       "       'BEL', 'CAN', 'SGP', 'IRL', 'PHL', 'VEN', 'LTU', 'BGR', 'DNK',\n",
       "       'URY', 'SRB', 'JAM', 'ITA', 'KEN', 'DOM', 'EGY', 'PER', 'PRT',\n",
       "       'ESP', 'NGA', 'BRA', 'MEX', 'TUR', 'MKD', 'FRA', 'COL', 'GRC', nan,\n",
       "       'MDA', 'POL', 'ARM', 'PAK', 'DZA', 'UGA', 'MYS', 'ZAF', 'THA',\n",
       "       'ARE', 'AUT', 'LKA', 'DEU', 'ROU', 'ETH', 'NZL', 'NIC', 'NLD',\n",
       "       'ALB', 'RUS', 'UMI', 'ISR', 'MAR', 'SWE', 'KAZ', 'ASM', 'TTO',\n",
       "       'JPN', 'PRI', 'AFG', 'KNA', 'CYP', 'TUN', 'HRV', 'ECU', 'KOR',\n",
       "       'BRB', 'CZE', 'EST', 'BHS', 'GTM', 'GHA', 'GMB', 'ISL', 'SAU',\n",
       "       'SUR', 'MLT', 'TCA', 'IRQ', 'ARG', 'TWN', 'CHL', 'MAC', 'SVN',\n",
       "       'NPL', 'VIR', 'SLV', 'NOR', 'LVA'], dtype=object)"
      ]
     },
     "execution_count": 26,
     "metadata": {},
     "output_type": "execute_result"
    }
   ],
   "source": [
    "train_unlabeled['country'].unique()"
   ]
  },
  {
   "cell_type": "markdown",
   "metadata": {},
   "source": [
    "- First issue the unlabelled data set has more terms different from the labelled data \n",
    "- Agency and Social are TARGET"
   ]
  },
  {
   "cell_type": "code",
   "execution_count": 27,
   "metadata": {},
   "outputs": [
    {
     "data": {
      "text/plain": [
       "Index(['hmid', 'moment', 'concepts', 'agency', 'social', 'age', 'country',\n",
       "       'gender', 'married', 'parenthood', 'reflection', 'duration'],\n",
       "      dtype='object')"
      ]
     },
     "execution_count": 27,
     "metadata": {},
     "output_type": "execute_result"
    }
   ],
   "source": [
    "train_labeled.columns"
   ]
  },
  {
   "cell_type": "code",
   "execution_count": 28,
   "metadata": {},
   "outputs": [
    {
     "name": "stdout",
     "output_type": "stream",
     "text": [
      "['married' 'single' 'widowed' 'divorced' 'separated' nan]\n",
      "['m' 'f' 'o' nan]\n",
      "['29.0' '25.0' '79' '30' '34' '26' '25' '22' '21' '35' '55' '27' '46' '29'\n",
      " '31' '61' '28' '64' '66' '30.0' '45' '37' '39' '32' '63' '23.0' '37.0'\n",
      " '20.0' '27.0' '38' '24.0' '36.0' '49' '34.0' '52' '21.0' '56' '28.0'\n",
      " '35.0' '31.0' '20' '98' '41' '18.0' '19' '48' '32.0' '61.0' '51.0' '26.0'\n",
      " '24' '45.0' '44.0' '33' '42.0' '53' '22.0' '38.0' '71.0' '23' '33.0'\n",
      " '48.0' '39.0' '44' '50.0' '42' '19.0' '47.0' '41.0' nan '51' '36' '43'\n",
      " '50' '59' '62' '54.0' '60.0' '40' '18' '60' '57' '65' '68' '54' '57.0'\n",
      " '47' '40.0' '69' '58' '2' '3' 'prefer not to say' '83' '49.0' '62.0'\n",
      " '64.0' '78.0' '46.0' '65.0' '63.0' '88.0' '43.0' '58.0' '67' '66.0'\n",
      " '52.0' '53.0' '74' '56.0' '55.0' '2.0' '76.0' '59.0' '73.0' '72.0' '70.0'\n",
      " '70' '233.0' '79.0' '71' '67.0' '69.0' '68.0' '75' '74.0' '77']\n",
      "['half_a_day' 'at_least_one_hour' 'all_day_im_still_feeling_it'\n",
      " 'a_few_moment' nan 'a_few_minutes']\n",
      "['24h' '3m']\n",
      "['y' 'n' nan]\n"
     ]
    }
   ],
   "source": [
    "print(train_labeled['married'].unique())\n",
    "print(train_labeled['gender'].unique())\n",
    "print(train_labeled['age'].unique())\n",
    "print(train_labeled['duration'].unique())\n",
    "print(train_labeled['reflection'].unique())\n",
    "print(train_labeled['parenthood'].unique())\n",
    "#print(train_labeled['concepts'].unique())\n"
   ]
  },
  {
   "cell_type": "code",
   "execution_count": 29,
   "metadata": {},
   "outputs": [
    {
     "name": "stdout",
     "output_type": "stream",
     "text": [
      "hmid           0\n",
      "moment         0\n",
      "concepts       0\n",
      "agency         0\n",
      "social         0\n",
      "age            9\n",
      "country       22\n",
      "gender         6\n",
      "married       15\n",
      "parenthood     9\n",
      "reflection     0\n",
      "duration      31\n",
      "dtype: int64\n"
     ]
    }
   ],
   "source": [
    "print(train_labeled.isna().sum())"
   ]
  },
  {
   "cell_type": "markdown",
   "metadata": {},
   "source": [
    "## Remove all the nan, null and prefer not to say values ##"
   ]
  },
  {
   "cell_type": "code",
   "execution_count": 30,
   "metadata": {},
   "outputs": [
    {
     "data": {
      "text/plain": [
       "(10560, 12)"
      ]
     },
     "execution_count": 30,
     "metadata": {},
     "output_type": "execute_result"
    }
   ],
   "source": [
    "train_labeled.shape"
   ]
  },
  {
   "cell_type": "code",
   "execution_count": 31,
   "metadata": {},
   "outputs": [
    {
     "name": "stdout",
     "output_type": "stream",
     "text": [
      "(10485, 12)\n"
     ]
    }
   ],
   "source": [
    "train_labeled = train_labeled.dropna()\n",
    "print(train_labeled.shape)"
   ]
  },
  {
   "cell_type": "code",
   "execution_count": 32,
   "metadata": {},
   "outputs": [
    {
     "data": {
      "text/plain": [
       "(72324, 9)"
      ]
     },
     "execution_count": 32,
     "metadata": {},
     "output_type": "execute_result"
    }
   ],
   "source": [
    "train_unlabeled.shape"
   ]
  },
  {
   "cell_type": "code",
   "execution_count": 33,
   "metadata": {},
   "outputs": [
    {
     "data": {
      "text/plain": [
       "(71771, 9)"
      ]
     },
     "execution_count": 33,
     "metadata": {},
     "output_type": "execute_result"
    }
   ],
   "source": [
    "train_unlabeled = train_unlabeled.dropna()\n",
    "train_unlabeled.shape"
   ]
  },
  {
   "cell_type": "code",
   "execution_count": 34,
   "metadata": {},
   "outputs": [
    {
     "name": "stdout",
     "output_type": "stream",
     "text": [
      "['married' 'single' 'widowed' 'divorced' 'separated']\n",
      "['m' 'f' 'o']\n",
      "['half_a_day' 'at_least_one_hour' 'all_day_im_still_feeling_it'\n",
      " 'a_few_moment' 'a_few_minutes']\n",
      "['24h' '3m']\n",
      "['y' 'n']\n",
      "['29.0' '25.0' '79' '30' '34' '26' '25' '22' '21' '35' '55' '27' '46' '29'\n",
      " '31' '61' '28' '64' '66' '30.0' '45' '37' '39' '32' '63' '23.0' '37.0'\n",
      " '20.0' '27.0' '38' '24.0' '36.0' '49' '34.0' '52' '21.0' '56' '28.0'\n",
      " '35.0' '31.0' '20' '98' '41' '18.0' '19' '48' '32.0' '61.0' '51.0' '26.0'\n",
      " '24' '45.0' '44.0' '33' '42.0' '53' '22.0' '38.0' '71.0' '23' '33.0'\n",
      " '48.0' '39.0' '44' '50.0' '42' '19.0' '47.0' '41.0' '51' '36' '43' '50'\n",
      " '59' '62' '54.0' '60.0' '40' '18' '60' '57' '65' '68' '54' '57.0' '47'\n",
      " '40.0' '69' '58' '2' '3' 'prefer not to say' '83' '49.0' '62.0' '64.0'\n",
      " '78.0' '46.0' '65.0' '63.0' '88.0' '43.0' '58.0' '67' '66.0' '52.0'\n",
      " '53.0' '74' '56.0' '55.0' '2.0' '76.0' '59.0' '73.0' '72.0' '70.0' '70'\n",
      " '233.0' '79.0' '71' '69.0' '68.0' '75' '74.0' '77']\n",
      "['IND' 'USA' 'VEN' 'DNK' 'FIN' 'PER' 'GBR' 'SRB' 'DOM' 'ARM' 'PAK' 'SGP'\n",
      " 'FRA' 'JAM' 'LTU' 'TUR' 'PHL' 'PRT' 'ESP' 'THA' 'MEX' 'ARE' 'IDN' 'BRA'\n",
      " 'IRL' 'NGA' 'CAN' 'BGR' 'DEU' 'DZA' 'MKD' 'ETH' 'RUS' 'EGY' 'NLD' 'ALB'\n",
      " 'BEL' 'MDA' 'ISR' 'NZL' 'AUS' 'ZAF' 'SWE' 'VNM' 'KAZ' 'GRC' 'TTO' 'UGA'\n",
      " 'MAR' 'URY' 'ISL' 'SUR' 'KOR' 'BHS' 'COL' 'ITA' 'CZE' 'BRB' 'MLT' 'MYS'\n",
      " 'KEN' 'KWT' 'PRI' 'ROU' 'SVN' 'MAC' 'GTM' 'NOR' 'AFG']\n",
      "count     10485\n",
      "unique       69\n",
      "top         USA\n",
      "freq       8384\n",
      "Name: country, dtype: object\n"
     ]
    }
   ],
   "source": [
    "print(train_labeled['married'].unique())\n",
    "print(train_labeled['gender'].unique())\n",
    "print(train_labeled['duration'].unique())\n",
    "print(train_labeled['reflection'].unique())\n",
    "print(train_labeled['parenthood'].unique())\n",
    "print(train_labeled['age'].unique())\n",
    "\n",
    "print(train_labeled['country'].unique())\n",
    "print(train_labeled['country'].describe())"
   ]
  },
  {
   "cell_type": "code",
   "execution_count": 35,
   "metadata": {},
   "outputs": [
    {
     "name": "stdout",
     "output_type": "stream",
     "text": [
      "(10485, 12)\n",
      "(10483, 12)\n"
     ]
    }
   ],
   "source": [
    "print(train_labeled.shape)\n",
    "train_labeled = train_labeled[train_labeled[\"age\"].str.contains(\"prefer not to say\") == False]\n",
    "print(train_labeled.shape)\n",
    "\n",
    "train_labeled['age'] = train_labeled['age'].astype(float)"
   ]
  },
  {
   "cell_type": "code",
   "execution_count": 36,
   "metadata": {},
   "outputs": [],
   "source": [
    "#print(train_labeled['age'].unique())"
   ]
  },
  {
   "cell_type": "code",
   "execution_count": 37,
   "metadata": {},
   "outputs": [
    {
     "data": {
      "text/plain": [
       "array([ 35.,  30.,  23.,  25.,  41.,  37.,  29.,  39.,  28.,  38.,  27.,\n",
       "        22.,  47.,  26.,  64.,  32.,  33.,  48.,  61.,  66.,  36.,  18.,\n",
       "        56.,  31.,  42.,  24.,  62.,  44.,  21.,  45.,  46.,  40.,  55.,\n",
       "         3.,  52.,  19.,  34.,  53.,  49.,  65.,  43.,  20.,  51.,  50.,\n",
       "        54.,  69.,  57.,  63.,  60.,  73.,  58.,  71.,  98.,  70.,  59.,\n",
       "       227.,  68.,  72.,  83.,   2.,  78.,  76.,  67.,  74.,  81., 233.,\n",
       "        79.,  95.,  80.,  88.,  75.,  77.])"
      ]
     },
     "execution_count": 37,
     "metadata": {},
     "output_type": "execute_result"
    }
   ],
   "source": [
    "train_unlabeled['age'].unique()"
   ]
  },
  {
   "cell_type": "code",
   "execution_count": 38,
   "metadata": {},
   "outputs": [
    {
     "name": "stdout",
     "output_type": "stream",
     "text": [
      "['single' 'married' 'divorced' 'separated' 'widowed']\n",
      "['m' 'f' 'o']\n",
      "['at_least_one_hour' 'half_a_day' 'all_day_im_still_feeling_it'\n",
      " 'a_few_moment' 'a_few_minutes']\n",
      "['24h' '3m']\n",
      "['n' 'y']\n"
     ]
    }
   ],
   "source": [
    "print(train_unlabeled['married'].unique())\n",
    "print(train_unlabeled['gender'].unique())\n",
    "print(train_unlabeled['duration'].unique())\n",
    "print(train_unlabeled['reflection'].unique())\n",
    "print(train_unlabeled['parenthood'].unique())"
   ]
  },
  {
   "cell_type": "code",
   "execution_count": 39,
   "metadata": {},
   "outputs": [
    {
     "name": "stdout",
     "output_type": "stream",
     "text": [
      "['no' 'yes']\n",
      "['yes' 'no']\n"
     ]
    }
   ],
   "source": [
    "print(train_labeled['agency'].unique())\n",
    "print(train_labeled['social'].unique())"
   ]
  },
  {
   "cell_type": "code",
   "execution_count": 40,
   "metadata": {},
   "outputs": [
    {
     "data": {
      "text/plain": [
       "Index(['hmid', 'moment', 'age', 'country', 'gender', 'married', 'parenthood',\n",
       "       'reflection', 'duration'],\n",
       "      dtype='object')"
      ]
     },
     "execution_count": 40,
     "metadata": {},
     "output_type": "execute_result"
    }
   ],
   "source": [
    "train_unlabeled.columns"
   ]
  },
  {
   "cell_type": "code",
   "execution_count": 41,
   "metadata": {},
   "outputs": [
    {
     "data": {
      "text/plain": [
       "Index(['hmid', 'moment', 'concepts', 'agency', 'social', 'age', 'country',\n",
       "       'gender', 'married', 'parenthood', 'reflection', 'duration'],\n",
       "      dtype='object')"
      ]
     },
     "execution_count": 41,
     "metadata": {},
     "output_type": "execute_result"
    }
   ],
   "source": [
    "train_labeled.columns"
   ]
  },
  {
   "cell_type": "markdown",
   "metadata": {},
   "source": [
    "## Encoding the columns ##"
   ]
  },
  {
   "cell_type": "code",
   "execution_count": 42,
   "metadata": {},
   "outputs": [],
   "source": [
    "# Dealing with yes->1 and No->0 # for agency and social#\n",
    "train_labeled['social'].replace({'yes':1,'no':0},inplace=True)\n",
    "train_labeled['agency'].replace({'yes':1,'no':0},inplace=True)"
   ]
  },
  {
   "cell_type": "code",
   "execution_count": 43,
   "metadata": {},
   "outputs": [],
   "source": [
    "list1 = []\n",
    "for i in train_labeled['country']:\n",
    "    if i=='USA':\n",
    "        list1.append(1)\n",
    "    else:\n",
    "        list1.append(0)\n",
    "\n",
    "train_labeled['country'] = list1"
   ]
  },
  {
   "cell_type": "code",
   "execution_count": 44,
   "metadata": {},
   "outputs": [],
   "source": [
    "from sklearn.preprocessing import MinMaxScaler"
   ]
  },
  {
   "cell_type": "code",
   "execution_count": 45,
   "metadata": {},
   "outputs": [],
   "source": [
    "from sklearn.preprocessing import OrdinalEncoder,LabelEncoder,OneHotEncoder"
   ]
  },
  {
   "cell_type": "code",
   "execution_count": 46,
   "metadata": {},
   "outputs": [],
   "source": [
    "label_enc_age = LabelEncoder()\n",
    "label_enc_gender = LabelEncoder()\n",
    "label_enc_parenthood = LabelEncoder()\n",
    "label_enc_reflection = LabelEncoder()\n",
    "label_enc_country = LabelEncoder()\n",
    "label_enc_married = LabelEncoder()\n",
    "label_enc_duration = LabelEncoder()"
   ]
  },
  {
   "cell_type": "code",
   "execution_count": 47,
   "metadata": {},
   "outputs": [],
   "source": [
    "train_labeled['age'] = label_enc_age.fit_transform(train_labeled['age'])\n",
    "train_labeled['gender'] = label_enc_gender.fit_transform(train_labeled['gender'])\n",
    "train_labeled['parenthood'] = label_enc_parenthood.fit_transform(train_labeled['parenthood'])\n",
    "train_labeled['reflection'] = label_enc_reflection.fit_transform(train_labeled['reflection'])\n",
    "\n",
    "train_labeled['country'] = label_enc_country.fit_transform(train_labeled['country'])\n",
    "train_labeled['duration'] = label_enc_duration.fit_transform(train_labeled['duration'])\n",
    "train_labeled['married'] = label_enc_married.fit_transform(train_labeled['married'])"
   ]
  },
  {
   "cell_type": "code",
   "execution_count": 48,
   "metadata": {},
   "outputs": [
    {
     "data": {
      "text/html": [
       "<div>\n",
       "<style scoped>\n",
       "    .dataframe tbody tr th:only-of-type {\n",
       "        vertical-align: middle;\n",
       "    }\n",
       "\n",
       "    .dataframe tbody tr th {\n",
       "        vertical-align: top;\n",
       "    }\n",
       "\n",
       "    .dataframe thead th {\n",
       "        text-align: right;\n",
       "    }\n",
       "</style>\n",
       "<table border=\"1\" class=\"dataframe\">\n",
       "  <thead>\n",
       "    <tr style=\"text-align: right;\">\n",
       "      <th></th>\n",
       "      <th>hmid</th>\n",
       "      <th>moment</th>\n",
       "      <th>concepts</th>\n",
       "      <th>agency</th>\n",
       "      <th>social</th>\n",
       "      <th>age</th>\n",
       "      <th>country</th>\n",
       "      <th>gender</th>\n",
       "      <th>married</th>\n",
       "      <th>parenthood</th>\n",
       "      <th>reflection</th>\n",
       "      <th>duration</th>\n",
       "    </tr>\n",
       "  </thead>\n",
       "  <tbody>\n",
       "    <tr>\n",
       "      <th>0</th>\n",
       "      <td>27674</td>\n",
       "      <td>[happy, son, got, 90, mark, examination]</td>\n",
       "      <td>education|family</td>\n",
       "      <td>0</td>\n",
       "      <td>1</td>\n",
       "      <td>13</td>\n",
       "      <td>0</td>\n",
       "      <td>1</td>\n",
       "      <td>1</td>\n",
       "      <td>1</td>\n",
       "      <td>0</td>\n",
       "      <td>4</td>\n",
       "    </tr>\n",
       "    <tr>\n",
       "      <th>1</th>\n",
       "      <td>27685</td>\n",
       "      <td>[went, movie, friend, fun]</td>\n",
       "      <td>entertainment</td>\n",
       "      <td>1</td>\n",
       "      <td>1</td>\n",
       "      <td>13</td>\n",
       "      <td>0</td>\n",
       "      <td>1</td>\n",
       "      <td>3</td>\n",
       "      <td>1</td>\n",
       "      <td>0</td>\n",
       "      <td>4</td>\n",
       "    </tr>\n",
       "    <tr>\n",
       "      <th>2</th>\n",
       "      <td>27691</td>\n",
       "      <td>[hot, kiss, girl, friend, last, night, made, day]</td>\n",
       "      <td>romance</td>\n",
       "      <td>1</td>\n",
       "      <td>1</td>\n",
       "      <td>9</td>\n",
       "      <td>0</td>\n",
       "      <td>1</td>\n",
       "      <td>1</td>\n",
       "      <td>1</td>\n",
       "      <td>0</td>\n",
       "      <td>3</td>\n",
       "    </tr>\n",
       "    <tr>\n",
       "      <th>3</th>\n",
       "      <td>27701</td>\n",
       "      <td>[son, woke, fantastic, breakfast, egg, special...</td>\n",
       "      <td>family|food</td>\n",
       "      <td>0</td>\n",
       "      <td>1</td>\n",
       "      <td>63</td>\n",
       "      <td>1</td>\n",
       "      <td>0</td>\n",
       "      <td>4</td>\n",
       "      <td>1</td>\n",
       "      <td>0</td>\n",
       "      <td>2</td>\n",
       "    </tr>\n",
       "    <tr>\n",
       "      <th>4</th>\n",
       "      <td>27712</td>\n",
       "      <td>[older, daughter, keep, patting, younger, daug...</td>\n",
       "      <td>family</td>\n",
       "      <td>0</td>\n",
       "      <td>1</td>\n",
       "      <td>14</td>\n",
       "      <td>1</td>\n",
       "      <td>0</td>\n",
       "      <td>1</td>\n",
       "      <td>1</td>\n",
       "      <td>0</td>\n",
       "      <td>1</td>\n",
       "    </tr>\n",
       "    <tr>\n",
       "      <th>...</th>\n",
       "      <td>...</td>\n",
       "      <td>...</td>\n",
       "      <td>...</td>\n",
       "      <td>...</td>\n",
       "      <td>...</td>\n",
       "      <td>...</td>\n",
       "      <td>...</td>\n",
       "      <td>...</td>\n",
       "      <td>...</td>\n",
       "      <td>...</td>\n",
       "      <td>...</td>\n",
       "      <td>...</td>\n",
       "    </tr>\n",
       "    <tr>\n",
       "      <th>10555</th>\n",
       "      <td>128748</td>\n",
       "      <td>[husband, called, tell, loved]</td>\n",
       "      <td>romance|family</td>\n",
       "      <td>0</td>\n",
       "      <td>1</td>\n",
       "      <td>42</td>\n",
       "      <td>1</td>\n",
       "      <td>0</td>\n",
       "      <td>1</td>\n",
       "      <td>0</td>\n",
       "      <td>0</td>\n",
       "      <td>0</td>\n",
       "    </tr>\n",
       "    <tr>\n",
       "      <th>10556</th>\n",
       "      <td>128753</td>\n",
       "      <td>[worked, always, make, feel, good]</td>\n",
       "      <td>career</td>\n",
       "      <td>1</td>\n",
       "      <td>0</td>\n",
       "      <td>8</td>\n",
       "      <td>1</td>\n",
       "      <td>1</td>\n",
       "      <td>1</td>\n",
       "      <td>1</td>\n",
       "      <td>0</td>\n",
       "      <td>3</td>\n",
       "    </tr>\n",
       "    <tr>\n",
       "      <th>10557</th>\n",
       "      <td>128754</td>\n",
       "      <td>[finally, got, watch, new, resident, evil, movie]</td>\n",
       "      <td>entertainment</td>\n",
       "      <td>1</td>\n",
       "      <td>0</td>\n",
       "      <td>18</td>\n",
       "      <td>1</td>\n",
       "      <td>1</td>\n",
       "      <td>0</td>\n",
       "      <td>1</td>\n",
       "      <td>0</td>\n",
       "      <td>3</td>\n",
       "    </tr>\n",
       "    <tr>\n",
       "      <th>10558</th>\n",
       "      <td>128757</td>\n",
       "      <td>[got, talk, old, friend, reminisce, good, time]</td>\n",
       "      <td>conversation</td>\n",
       "      <td>1</td>\n",
       "      <td>1</td>\n",
       "      <td>12</td>\n",
       "      <td>1</td>\n",
       "      <td>0</td>\n",
       "      <td>3</td>\n",
       "      <td>1</td>\n",
       "      <td>0</td>\n",
       "      <td>3</td>\n",
       "    </tr>\n",
       "    <tr>\n",
       "      <th>10559</th>\n",
       "      <td>128765</td>\n",
       "      <td>[great, meeting, yesterday, work, bos, colleag...</td>\n",
       "      <td>career</td>\n",
       "      <td>1</td>\n",
       "      <td>1</td>\n",
       "      <td>40</td>\n",
       "      <td>1</td>\n",
       "      <td>0</td>\n",
       "      <td>1</td>\n",
       "      <td>0</td>\n",
       "      <td>0</td>\n",
       "      <td>2</td>\n",
       "    </tr>\n",
       "  </tbody>\n",
       "</table>\n",
       "<p>10483 rows × 12 columns</p>\n",
       "</div>"
      ],
      "text/plain": [
       "         hmid                                             moment  \\\n",
       "0       27674           [happy, son, got, 90, mark, examination]   \n",
       "1       27685                         [went, movie, friend, fun]   \n",
       "2       27691  [hot, kiss, girl, friend, last, night, made, day]   \n",
       "3       27701  [son, woke, fantastic, breakfast, egg, special...   \n",
       "4       27712  [older, daughter, keep, patting, younger, daug...   \n",
       "...       ...                                                ...   \n",
       "10555  128748                     [husband, called, tell, loved]   \n",
       "10556  128753                 [worked, always, make, feel, good]   \n",
       "10557  128754  [finally, got, watch, new, resident, evil, movie]   \n",
       "10558  128757    [got, talk, old, friend, reminisce, good, time]   \n",
       "10559  128765  [great, meeting, yesterday, work, bos, colleag...   \n",
       "\n",
       "               concepts  agency  social  age  country  gender  married  \\\n",
       "0      education|family       0       1   13        0       1        1   \n",
       "1         entertainment       1       1   13        0       1        3   \n",
       "2               romance       1       1    9        0       1        1   \n",
       "3           family|food       0       1   63        1       0        4   \n",
       "4                family       0       1   14        1       0        1   \n",
       "...                 ...     ...     ...  ...      ...     ...      ...   \n",
       "10555    romance|family       0       1   42        1       0        1   \n",
       "10556            career       1       0    8        1       1        1   \n",
       "10557     entertainment       1       0   18        1       1        0   \n",
       "10558      conversation       1       1   12        1       0        3   \n",
       "10559            career       1       1   40        1       0        1   \n",
       "\n",
       "       parenthood  reflection  duration  \n",
       "0               1           0         4  \n",
       "1               1           0         4  \n",
       "2               1           0         3  \n",
       "3               1           0         2  \n",
       "4               1           0         1  \n",
       "...           ...         ...       ...  \n",
       "10555           0           0         0  \n",
       "10556           1           0         3  \n",
       "10557           1           0         3  \n",
       "10558           1           0         3  \n",
       "10559           0           0         2  \n",
       "\n",
       "[10483 rows x 12 columns]"
      ]
     },
     "execution_count": 48,
     "metadata": {},
     "output_type": "execute_result"
    }
   ],
   "source": [
    "train_labeled"
   ]
  },
  {
   "cell_type": "code",
   "execution_count": 49,
   "metadata": {
    "scrolled": true
   },
   "outputs": [
    {
     "name": "stdout",
     "output_type": "stream",
     "text": [
      "[0 1]\n",
      "count    10483.000000\n",
      "mean         0.799580\n",
      "std          0.400334\n",
      "min          0.000000\n",
      "25%          1.000000\n",
      "50%          1.000000\n",
      "75%          1.000000\n",
      "max          1.000000\n",
      "Name: country, dtype: float64\n"
     ]
    }
   ],
   "source": [
    "print(train_labeled['country'].unique())\n",
    "print(train_labeled['country'].describe())"
   ]
  },
  {
   "cell_type": "code",
   "execution_count": 54,
   "metadata": {},
   "outputs": [
    {
     "data": {
      "text/html": [
       "<div>\n",
       "<style scoped>\n",
       "    .dataframe tbody tr th:only-of-type {\n",
       "        vertical-align: middle;\n",
       "    }\n",
       "\n",
       "    .dataframe tbody tr th {\n",
       "        vertical-align: top;\n",
       "    }\n",
       "\n",
       "    .dataframe thead th {\n",
       "        text-align: right;\n",
       "    }\n",
       "</style>\n",
       "<table border=\"1\" class=\"dataframe\">\n",
       "  <thead>\n",
       "    <tr style=\"text-align: right;\">\n",
       "      <th></th>\n",
       "      <th>hmid</th>\n",
       "      <th>moment</th>\n",
       "      <th>age</th>\n",
       "      <th>country</th>\n",
       "      <th>gender</th>\n",
       "      <th>married</th>\n",
       "      <th>parenthood</th>\n",
       "      <th>reflection</th>\n",
       "      <th>duration</th>\n",
       "    </tr>\n",
       "  </thead>\n",
       "  <tbody>\n",
       "    <tr>\n",
       "      <th>0</th>\n",
       "      <td>27673</td>\n",
       "      <td>[went, successful, date, someone, felt, sympat...</td>\n",
       "      <td>35.0</td>\n",
       "      <td>USA</td>\n",
       "      <td>m</td>\n",
       "      <td>single</td>\n",
       "      <td>n</td>\n",
       "      <td>24h</td>\n",
       "      <td>at_least_one_hour</td>\n",
       "    </tr>\n",
       "    <tr>\n",
       "      <th>1</th>\n",
       "      <td>27675</td>\n",
       "      <td>[went, gym, morning, yoga]</td>\n",
       "      <td>30.0</td>\n",
       "      <td>USA</td>\n",
       "      <td>f</td>\n",
       "      <td>married</td>\n",
       "      <td>y</td>\n",
       "      <td>24h</td>\n",
       "      <td>at_least_one_hour</td>\n",
       "    </tr>\n",
       "    <tr>\n",
       "      <th>2</th>\n",
       "      <td>27678</td>\n",
       "      <td>[meditated, last, night]</td>\n",
       "      <td>23.0</td>\n",
       "      <td>IND</td>\n",
       "      <td>m</td>\n",
       "      <td>single</td>\n",
       "      <td>n</td>\n",
       "      <td>24h</td>\n",
       "      <td>at_least_one_hour</td>\n",
       "    </tr>\n",
       "    <tr>\n",
       "      <th>3</th>\n",
       "      <td>27679</td>\n",
       "      <td>[made, new, recipe, peasant, bread, came, spec...</td>\n",
       "      <td>30.0</td>\n",
       "      <td>USA</td>\n",
       "      <td>m</td>\n",
       "      <td>single</td>\n",
       "      <td>n</td>\n",
       "      <td>24h</td>\n",
       "      <td>half_a_day</td>\n",
       "    </tr>\n",
       "    <tr>\n",
       "      <th>4</th>\n",
       "      <td>27680</td>\n",
       "      <td>[got, gift, elder, brother, really, surprising]</td>\n",
       "      <td>23.0</td>\n",
       "      <td>IND</td>\n",
       "      <td>m</td>\n",
       "      <td>single</td>\n",
       "      <td>n</td>\n",
       "      <td>24h</td>\n",
       "      <td>at_least_one_hour</td>\n",
       "    </tr>\n",
       "    <tr>\n",
       "      <th>...</th>\n",
       "      <td>...</td>\n",
       "      <td>...</td>\n",
       "      <td>...</td>\n",
       "      <td>...</td>\n",
       "      <td>...</td>\n",
       "      <td>...</td>\n",
       "      <td>...</td>\n",
       "      <td>...</td>\n",
       "      <td>...</td>\n",
       "    </tr>\n",
       "    <tr>\n",
       "      <th>72319</th>\n",
       "      <td>128761</td>\n",
       "      <td>[spent, time, daughter]</td>\n",
       "      <td>40.0</td>\n",
       "      <td>USA</td>\n",
       "      <td>f</td>\n",
       "      <td>single</td>\n",
       "      <td>y</td>\n",
       "      <td>24h</td>\n",
       "      <td>half_a_day</td>\n",
       "    </tr>\n",
       "    <tr>\n",
       "      <th>72320</th>\n",
       "      <td>128762</td>\n",
       "      <td>[husband, announced, getting, decent, bonus, q...</td>\n",
       "      <td>48.0</td>\n",
       "      <td>USA</td>\n",
       "      <td>f</td>\n",
       "      <td>married</td>\n",
       "      <td>y</td>\n",
       "      <td>24h</td>\n",
       "      <td>at_least_one_hour</td>\n",
       "    </tr>\n",
       "    <tr>\n",
       "      <th>72321</th>\n",
       "      <td>128763</td>\n",
       "      <td>[pepsi, drink]</td>\n",
       "      <td>29.0</td>\n",
       "      <td>USA</td>\n",
       "      <td>m</td>\n",
       "      <td>single</td>\n",
       "      <td>n</td>\n",
       "      <td>24h</td>\n",
       "      <td>a_few_minutes</td>\n",
       "    </tr>\n",
       "    <tr>\n",
       "      <th>72322</th>\n",
       "      <td>128764</td>\n",
       "      <td>[cuddling, girlfriend, last, night]</td>\n",
       "      <td>23.0</td>\n",
       "      <td>USA</td>\n",
       "      <td>m</td>\n",
       "      <td>single</td>\n",
       "      <td>n</td>\n",
       "      <td>24h</td>\n",
       "      <td>all_day_im_still_feeling_it</td>\n",
       "    </tr>\n",
       "    <tr>\n",
       "      <th>72323</th>\n",
       "      <td>128766</td>\n",
       "      <td>[great, workout, last, night]</td>\n",
       "      <td>35.0</td>\n",
       "      <td>USA</td>\n",
       "      <td>m</td>\n",
       "      <td>single</td>\n",
       "      <td>n</td>\n",
       "      <td>24h</td>\n",
       "      <td>at_least_one_hour</td>\n",
       "    </tr>\n",
       "  </tbody>\n",
       "</table>\n",
       "<p>71771 rows × 9 columns</p>\n",
       "</div>"
      ],
      "text/plain": [
       "         hmid                                             moment   age  \\\n",
       "0       27673  [went, successful, date, someone, felt, sympat...  35.0   \n",
       "1       27675                         [went, gym, morning, yoga]  30.0   \n",
       "2       27678                           [meditated, last, night]  23.0   \n",
       "3       27679  [made, new, recipe, peasant, bread, came, spec...  30.0   \n",
       "4       27680    [got, gift, elder, brother, really, surprising]  23.0   \n",
       "...       ...                                                ...   ...   \n",
       "72319  128761                            [spent, time, daughter]  40.0   \n",
       "72320  128762  [husband, announced, getting, decent, bonus, q...  48.0   \n",
       "72321  128763                                     [pepsi, drink]  29.0   \n",
       "72322  128764                [cuddling, girlfriend, last, night]  23.0   \n",
       "72323  128766                      [great, workout, last, night]  35.0   \n",
       "\n",
       "      country gender  married parenthood reflection  \\\n",
       "0         USA      m   single          n        24h   \n",
       "1         USA      f  married          y        24h   \n",
       "2         IND      m   single          n        24h   \n",
       "3         USA      m   single          n        24h   \n",
       "4         IND      m   single          n        24h   \n",
       "...       ...    ...      ...        ...        ...   \n",
       "72319     USA      f   single          y        24h   \n",
       "72320     USA      f  married          y        24h   \n",
       "72321     USA      m   single          n        24h   \n",
       "72322     USA      m   single          n        24h   \n",
       "72323     USA      m   single          n        24h   \n",
       "\n",
       "                          duration  \n",
       "0                at_least_one_hour  \n",
       "1                at_least_one_hour  \n",
       "2                at_least_one_hour  \n",
       "3                       half_a_day  \n",
       "4                at_least_one_hour  \n",
       "...                            ...  \n",
       "72319                   half_a_day  \n",
       "72320            at_least_one_hour  \n",
       "72321                a_few_minutes  \n",
       "72322  all_day_im_still_feeling_it  \n",
       "72323            at_least_one_hour  \n",
       "\n",
       "[71771 rows x 9 columns]"
      ]
     },
     "execution_count": 54,
     "metadata": {},
     "output_type": "execute_result"
    }
   ],
   "source": [
    "train_unlabeled"
   ]
  },
  {
   "cell_type": "code",
   "execution_count": null,
   "metadata": {},
   "outputs": [],
   "source": []
  },
  {
   "cell_type": "code",
   "execution_count": null,
   "metadata": {},
   "outputs": [],
   "source": []
  },
  {
   "cell_type": "markdown",
   "metadata": {},
   "source": [
    "## Train baseline Classifier"
   ]
  },
  {
   "cell_type": "code",
   "execution_count": 50,
   "metadata": {},
   "outputs": [
    {
     "name": "stdout",
     "output_type": "stream",
     "text": [
      "firetruck\n"
     ]
    }
   ],
   "source": [
    "print('firetruck')"
   ]
  },
  {
   "cell_type": "code",
   "execution_count": null,
   "metadata": {},
   "outputs": [],
   "source": []
  }
 ],
 "metadata": {
  "kernelspec": {
   "display_name": "Python 3",
   "language": "python",
   "name": "python3"
  },
  "language_info": {
   "codemirror_mode": {
    "name": "ipython",
    "version": 3
   },
   "file_extension": ".py",
   "mimetype": "text/x-python",
   "name": "python",
   "nbconvert_exporter": "python",
   "pygments_lexer": "ipython3",
   "version": "3.8.8"
  }
 },
 "nbformat": 4,
 "nbformat_minor": 4
}
