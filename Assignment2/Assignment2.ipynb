{
 "cells": [
  {
   "cell_type": "markdown",
   "metadata": {},
   "source": [
    "# CSI5388 Natural Language Processing\n",
    "## Assignment - 2\n",
    "## INGREDIENTS FOR HAPPINESS"
   ]
  },
  {
   "cell_type": "code",
   "execution_count": 1,
   "metadata": {},
   "outputs": [],
   "source": [
    "# Import Data\n",
    "import pandas as pd\n",
    "import numpy as np\n",
    "train_labeled = pd.read_csv(\"data/TRAIN/labeled_10k.csv\", engine = 'python')\n",
    "train_unlabeled = pd.read_csv(\"data/TRAIN/unlabeled_70k.csv\", engine = 'python')\n",
    "test_labeled = pd.read_csv(\"data/TEST/labeled_17k.csv\", engine = 'python') # engine should be set as python to avoid error due to some characters: https://stackoverflow.com/questions/46000191/utf-8-codec-cant-decode-byte-0x92-in-position-18-invalid-start-byte\n",
    "test_unlabeled = pd.read_csv(\"data/TEST/unlabeled_17k.csv\", engine = 'python')"
   ]
  },
  {
   "cell_type": "code",
   "execution_count": 2,
   "metadata": {},
   "outputs": [
    {
     "data": {
      "text/html": [
       "<div>\n",
       "<style scoped>\n",
       "    .dataframe tbody tr th:only-of-type {\n",
       "        vertical-align: middle;\n",
       "    }\n",
       "\n",
       "    .dataframe tbody tr th {\n",
       "        vertical-align: top;\n",
       "    }\n",
       "\n",
       "    .dataframe thead th {\n",
       "        text-align: right;\n",
       "    }\n",
       "</style>\n",
       "<table border=\"1\" class=\"dataframe\">\n",
       "  <thead>\n",
       "    <tr style=\"text-align: right;\">\n",
       "      <th></th>\n",
       "      <th>hmid</th>\n",
       "      <th>moment</th>\n",
       "      <th>concepts</th>\n",
       "      <th>agency</th>\n",
       "      <th>social</th>\n",
       "      <th>age</th>\n",
       "      <th>country</th>\n",
       "      <th>gender</th>\n",
       "      <th>married</th>\n",
       "      <th>parenthood</th>\n",
       "      <th>reflection</th>\n",
       "      <th>duration</th>\n",
       "    </tr>\n",
       "  </thead>\n",
       "  <tbody>\n",
       "    <tr>\n",
       "      <th>0</th>\n",
       "      <td>27674</td>\n",
       "      <td>I was happy when my son got 90% marks in his e...</td>\n",
       "      <td>education|family</td>\n",
       "      <td>no</td>\n",
       "      <td>yes</td>\n",
       "      <td>29.0</td>\n",
       "      <td>IND</td>\n",
       "      <td>m</td>\n",
       "      <td>married</td>\n",
       "      <td>y</td>\n",
       "      <td>24h</td>\n",
       "      <td>half_a_day</td>\n",
       "    </tr>\n",
       "    <tr>\n",
       "      <th>1</th>\n",
       "      <td>27685</td>\n",
       "      <td>went to movies with my friends it was fun</td>\n",
       "      <td>entertainment</td>\n",
       "      <td>yes</td>\n",
       "      <td>yes</td>\n",
       "      <td>29.0</td>\n",
       "      <td>IND</td>\n",
       "      <td>m</td>\n",
       "      <td>single</td>\n",
       "      <td>y</td>\n",
       "      <td>24h</td>\n",
       "      <td>half_a_day</td>\n",
       "    </tr>\n",
       "    <tr>\n",
       "      <th>2</th>\n",
       "      <td>27691</td>\n",
       "      <td>A hot kiss with my girl friend last night made...</td>\n",
       "      <td>romance</td>\n",
       "      <td>yes</td>\n",
       "      <td>yes</td>\n",
       "      <td>25.0</td>\n",
       "      <td>IND</td>\n",
       "      <td>m</td>\n",
       "      <td>married</td>\n",
       "      <td>y</td>\n",
       "      <td>24h</td>\n",
       "      <td>at_least_one_hour</td>\n",
       "    </tr>\n",
       "    <tr>\n",
       "      <th>3</th>\n",
       "      <td>27701</td>\n",
       "      <td>My son woke me up to a fantastic breakfast of ...</td>\n",
       "      <td>family|food</td>\n",
       "      <td>no</td>\n",
       "      <td>yes</td>\n",
       "      <td>79</td>\n",
       "      <td>USA</td>\n",
       "      <td>f</td>\n",
       "      <td>widowed</td>\n",
       "      <td>y</td>\n",
       "      <td>24h</td>\n",
       "      <td>all_day_im_still_feeling_it</td>\n",
       "    </tr>\n",
       "    <tr>\n",
       "      <th>4</th>\n",
       "      <td>27712</td>\n",
       "      <td>My older daughter keeps patting my younger dau...</td>\n",
       "      <td>family</td>\n",
       "      <td>no</td>\n",
       "      <td>yes</td>\n",
       "      <td>30</td>\n",
       "      <td>USA</td>\n",
       "      <td>f</td>\n",
       "      <td>married</td>\n",
       "      <td>y</td>\n",
       "      <td>24h</td>\n",
       "      <td>a_few_moment</td>\n",
       "    </tr>\n",
       "  </tbody>\n",
       "</table>\n",
       "</div>"
      ],
      "text/plain": [
       "    hmid                                             moment          concepts  \\\n",
       "0  27674  I was happy when my son got 90% marks in his e...  education|family   \n",
       "1  27685          went to movies with my friends it was fun     entertainment   \n",
       "2  27691  A hot kiss with my girl friend last night made...           romance   \n",
       "3  27701  My son woke me up to a fantastic breakfast of ...       family|food   \n",
       "4  27712  My older daughter keeps patting my younger dau...            family   \n",
       "\n",
       "  agency social   age country gender  married parenthood reflection  \\\n",
       "0     no    yes  29.0     IND      m  married          y        24h   \n",
       "1    yes    yes  29.0     IND      m   single          y        24h   \n",
       "2    yes    yes  25.0     IND      m  married          y        24h   \n",
       "3     no    yes    79     USA      f  widowed          y        24h   \n",
       "4     no    yes    30     USA      f  married          y        24h   \n",
       "\n",
       "                      duration  \n",
       "0                   half_a_day  \n",
       "1                   half_a_day  \n",
       "2            at_least_one_hour  \n",
       "3  all_day_im_still_feeling_it  \n",
       "4                 a_few_moment  "
      ]
     },
     "execution_count": 2,
     "metadata": {},
     "output_type": "execute_result"
    }
   ],
   "source": [
    "train_labeled.head()"
   ]
  },
  {
   "cell_type": "code",
   "execution_count": 3,
   "metadata": {},
   "outputs": [
    {
     "data": {
      "text/html": [
       "<div>\n",
       "<style scoped>\n",
       "    .dataframe tbody tr th:only-of-type {\n",
       "        vertical-align: middle;\n",
       "    }\n",
       "\n",
       "    .dataframe tbody tr th {\n",
       "        vertical-align: top;\n",
       "    }\n",
       "\n",
       "    .dataframe thead th {\n",
       "        text-align: right;\n",
       "    }\n",
       "</style>\n",
       "<table border=\"1\" class=\"dataframe\">\n",
       "  <thead>\n",
       "    <tr style=\"text-align: right;\">\n",
       "      <th></th>\n",
       "      <th>hmid</th>\n",
       "      <th>moment</th>\n",
       "      <th>age</th>\n",
       "      <th>country</th>\n",
       "      <th>gender</th>\n",
       "      <th>married</th>\n",
       "      <th>parenthood</th>\n",
       "      <th>reflection</th>\n",
       "      <th>duration</th>\n",
       "    </tr>\n",
       "  </thead>\n",
       "  <tbody>\n",
       "    <tr>\n",
       "      <th>0</th>\n",
       "      <td>27673</td>\n",
       "      <td>I went on a successful date with someone I fel...</td>\n",
       "      <td>35.0</td>\n",
       "      <td>USA</td>\n",
       "      <td>m</td>\n",
       "      <td>single</td>\n",
       "      <td>n</td>\n",
       "      <td>24h</td>\n",
       "      <td>at_least_one_hour</td>\n",
       "    </tr>\n",
       "    <tr>\n",
       "      <th>1</th>\n",
       "      <td>27675</td>\n",
       "      <td>I went to the gym this morning and did yoga.</td>\n",
       "      <td>30.0</td>\n",
       "      <td>USA</td>\n",
       "      <td>f</td>\n",
       "      <td>married</td>\n",
       "      <td>y</td>\n",
       "      <td>24h</td>\n",
       "      <td>at_least_one_hour</td>\n",
       "    </tr>\n",
       "    <tr>\n",
       "      <th>2</th>\n",
       "      <td>27678</td>\n",
       "      <td>I meditated last night.</td>\n",
       "      <td>23.0</td>\n",
       "      <td>IND</td>\n",
       "      <td>m</td>\n",
       "      <td>single</td>\n",
       "      <td>n</td>\n",
       "      <td>24h</td>\n",
       "      <td>at_least_one_hour</td>\n",
       "    </tr>\n",
       "    <tr>\n",
       "      <th>3</th>\n",
       "      <td>27679</td>\n",
       "      <td>I made a new recipe for peasant bread, and it ...</td>\n",
       "      <td>30.0</td>\n",
       "      <td>USA</td>\n",
       "      <td>m</td>\n",
       "      <td>single</td>\n",
       "      <td>n</td>\n",
       "      <td>24h</td>\n",
       "      <td>half_a_day</td>\n",
       "    </tr>\n",
       "    <tr>\n",
       "      <th>4</th>\n",
       "      <td>27680</td>\n",
       "      <td>I got gift from my elder brother which was rea...</td>\n",
       "      <td>23.0</td>\n",
       "      <td>IND</td>\n",
       "      <td>m</td>\n",
       "      <td>single</td>\n",
       "      <td>n</td>\n",
       "      <td>24h</td>\n",
       "      <td>at_least_one_hour</td>\n",
       "    </tr>\n",
       "  </tbody>\n",
       "</table>\n",
       "</div>"
      ],
      "text/plain": [
       "    hmid                                             moment   age country  \\\n",
       "0  27673  I went on a successful date with someone I fel...  35.0     USA   \n",
       "1  27675       I went to the gym this morning and did yoga.  30.0     USA   \n",
       "2  27678                            I meditated last night.  23.0     IND   \n",
       "3  27679  I made a new recipe for peasant bread, and it ...  30.0     USA   \n",
       "4  27680  I got gift from my elder brother which was rea...  23.0     IND   \n",
       "\n",
       "  gender  married parenthood reflection           duration  \n",
       "0      m   single          n        24h  at_least_one_hour  \n",
       "1      f  married          y        24h  at_least_one_hour  \n",
       "2      m   single          n        24h  at_least_one_hour  \n",
       "3      m   single          n        24h         half_a_day  \n",
       "4      m   single          n        24h  at_least_one_hour  "
      ]
     },
     "execution_count": 3,
     "metadata": {},
     "output_type": "execute_result"
    }
   ],
   "source": [
    "train_unlabeled.head()"
   ]
  },
  {
   "cell_type": "code",
   "execution_count": 4,
   "metadata": {},
   "outputs": [
    {
     "data": {
      "text/html": [
       "<div>\n",
       "<style scoped>\n",
       "    .dataframe tbody tr th:only-of-type {\n",
       "        vertical-align: middle;\n",
       "    }\n",
       "\n",
       "    .dataframe tbody tr th {\n",
       "        vertical-align: top;\n",
       "    }\n",
       "\n",
       "    .dataframe thead th {\n",
       "        text-align: right;\n",
       "    }\n",
       "</style>\n",
       "<table border=\"1\" class=\"dataframe\">\n",
       "  <thead>\n",
       "    <tr style=\"text-align: right;\">\n",
       "      <th></th>\n",
       "      <th>hmid</th>\n",
       "      <th>moment</th>\n",
       "      <th>reflection</th>\n",
       "      <th>age</th>\n",
       "      <th>country</th>\n",
       "      <th>gender</th>\n",
       "      <th>duration</th>\n",
       "      <th>married</th>\n",
       "      <th>parenthood</th>\n",
       "      <th>concepts</th>\n",
       "      <th>agency</th>\n",
       "      <th>social</th>\n",
       "    </tr>\n",
       "  </thead>\n",
       "  <tbody>\n",
       "    <tr>\n",
       "      <th>0</th>\n",
       "      <td>0</td>\n",
       "      <td>I was able to spend the day with my fiance sho...</td>\n",
       "      <td>24h</td>\n",
       "      <td>28</td>\n",
       "      <td>USA</td>\n",
       "      <td>m</td>\n",
       "      <td>all_day_im_still_feeling_it</td>\n",
       "      <td>single</td>\n",
       "      <td>n</td>\n",
       "      <td>shopping|family|romance</td>\n",
       "      <td>yes</td>\n",
       "      <td>no</td>\n",
       "    </tr>\n",
       "    <tr>\n",
       "      <th>1</th>\n",
       "      <td>1</td>\n",
       "      <td>I was able to play with my cat.</td>\n",
       "      <td>24h</td>\n",
       "      <td>28</td>\n",
       "      <td>USA</td>\n",
       "      <td>m</td>\n",
       "      <td>at_least_one_hour</td>\n",
       "      <td>single</td>\n",
       "      <td>n</td>\n",
       "      <td>animals</td>\n",
       "      <td>yes</td>\n",
       "      <td>no</td>\n",
       "    </tr>\n",
       "    <tr>\n",
       "      <th>2</th>\n",
       "      <td>2</td>\n",
       "      <td>I was able to clean my room and gold my laundry.</td>\n",
       "      <td>24h</td>\n",
       "      <td>28</td>\n",
       "      <td>USA</td>\n",
       "      <td>m</td>\n",
       "      <td>at_least_one_hour</td>\n",
       "      <td>single</td>\n",
       "      <td>n</td>\n",
       "      <td>0</td>\n",
       "      <td>yes</td>\n",
       "      <td>no</td>\n",
       "    </tr>\n",
       "    <tr>\n",
       "      <th>3</th>\n",
       "      <td>3</td>\n",
       "      <td>I spend the day at a party on the beach and I ...</td>\n",
       "      <td>24h</td>\n",
       "      <td>24</td>\n",
       "      <td>USA</td>\n",
       "      <td>m</td>\n",
       "      <td>half_a_day</td>\n",
       "      <td>single</td>\n",
       "      <td>n</td>\n",
       "      <td>vacation|party|weather</td>\n",
       "      <td>yes</td>\n",
       "      <td>yes</td>\n",
       "    </tr>\n",
       "    <tr>\n",
       "      <th>4</th>\n",
       "      <td>4</td>\n",
       "      <td>My cat greeting me when I got home from work -...</td>\n",
       "      <td>24h</td>\n",
       "      <td>24</td>\n",
       "      <td>USA</td>\n",
       "      <td>m</td>\n",
       "      <td>half_a_day</td>\n",
       "      <td>single</td>\n",
       "      <td>n</td>\n",
       "      <td>animals</td>\n",
       "      <td>no</td>\n",
       "      <td>no</td>\n",
       "    </tr>\n",
       "  </tbody>\n",
       "</table>\n",
       "</div>"
      ],
      "text/plain": [
       "   hmid                                             moment reflection age  \\\n",
       "0     0  I was able to spend the day with my fiance sho...        24h  28   \n",
       "1     1                    I was able to play with my cat.        24h  28   \n",
       "2     2   I was able to clean my room and gold my laundry.        24h  28   \n",
       "3     3  I spend the day at a party on the beach and I ...        24h  24   \n",
       "4     4  My cat greeting me when I got home from work -...        24h  24   \n",
       "\n",
       "  country gender                     duration married parenthood  \\\n",
       "0     USA      m  all_day_im_still_feeling_it  single          n   \n",
       "1     USA      m            at_least_one_hour  single          n   \n",
       "2     USA      m            at_least_one_hour  single          n   \n",
       "3     USA      m                   half_a_day  single          n   \n",
       "4     USA      m                   half_a_day  single          n   \n",
       "\n",
       "                  concepts agency social  \n",
       "0  shopping|family|romance    yes     no  \n",
       "1                  animals    yes     no  \n",
       "2                        0    yes     no  \n",
       "3   vacation|party|weather    yes    yes  \n",
       "4                  animals     no     no  "
      ]
     },
     "execution_count": 4,
     "metadata": {},
     "output_type": "execute_result"
    }
   ],
   "source": [
    "test_labeled.head()"
   ]
  },
  {
   "cell_type": "code",
   "execution_count": 5,
   "metadata": {},
   "outputs": [
    {
     "data": {
      "text/html": [
       "<div>\n",
       "<style scoped>\n",
       "    .dataframe tbody tr th:only-of-type {\n",
       "        vertical-align: middle;\n",
       "    }\n",
       "\n",
       "    .dataframe tbody tr th {\n",
       "        vertical-align: top;\n",
       "    }\n",
       "\n",
       "    .dataframe thead th {\n",
       "        text-align: right;\n",
       "    }\n",
       "</style>\n",
       "<table border=\"1\" class=\"dataframe\">\n",
       "  <thead>\n",
       "    <tr style=\"text-align: right;\">\n",
       "      <th></th>\n",
       "      <th>hmid</th>\n",
       "      <th>moment</th>\n",
       "      <th>reflection</th>\n",
       "      <th>age</th>\n",
       "      <th>country</th>\n",
       "      <th>gender</th>\n",
       "      <th>duration</th>\n",
       "      <th>married</th>\n",
       "      <th>parenthood</th>\n",
       "    </tr>\n",
       "  </thead>\n",
       "  <tbody>\n",
       "    <tr>\n",
       "      <th>0</th>\n",
       "      <td>0</td>\n",
       "      <td>I was able to spend the day with my fiance sho...</td>\n",
       "      <td>24h</td>\n",
       "      <td>28</td>\n",
       "      <td>USA</td>\n",
       "      <td>m</td>\n",
       "      <td>all_day_im_still_feeling_it</td>\n",
       "      <td>single</td>\n",
       "      <td>n</td>\n",
       "    </tr>\n",
       "    <tr>\n",
       "      <th>1</th>\n",
       "      <td>1</td>\n",
       "      <td>I was able to play with my cat.</td>\n",
       "      <td>24h</td>\n",
       "      <td>28</td>\n",
       "      <td>USA</td>\n",
       "      <td>m</td>\n",
       "      <td>at_least_one_hour</td>\n",
       "      <td>single</td>\n",
       "      <td>n</td>\n",
       "    </tr>\n",
       "    <tr>\n",
       "      <th>2</th>\n",
       "      <td>2</td>\n",
       "      <td>I was able to clean my room and gold my laundry.</td>\n",
       "      <td>24h</td>\n",
       "      <td>28</td>\n",
       "      <td>USA</td>\n",
       "      <td>m</td>\n",
       "      <td>at_least_one_hour</td>\n",
       "      <td>single</td>\n",
       "      <td>n</td>\n",
       "    </tr>\n",
       "    <tr>\n",
       "      <th>3</th>\n",
       "      <td>3</td>\n",
       "      <td>I spend the day at a party on the beach and I ...</td>\n",
       "      <td>24h</td>\n",
       "      <td>24</td>\n",
       "      <td>USA</td>\n",
       "      <td>m</td>\n",
       "      <td>half_a_day</td>\n",
       "      <td>single</td>\n",
       "      <td>n</td>\n",
       "    </tr>\n",
       "    <tr>\n",
       "      <th>4</th>\n",
       "      <td>4</td>\n",
       "      <td>My cat greeting me when I got home from work -...</td>\n",
       "      <td>24h</td>\n",
       "      <td>24</td>\n",
       "      <td>USA</td>\n",
       "      <td>m</td>\n",
       "      <td>half_a_day</td>\n",
       "      <td>single</td>\n",
       "      <td>n</td>\n",
       "    </tr>\n",
       "  </tbody>\n",
       "</table>\n",
       "</div>"
      ],
      "text/plain": [
       "   hmid                                             moment reflection age  \\\n",
       "0     0  I was able to spend the day with my fiance sho...        24h  28   \n",
       "1     1                    I was able to play with my cat.        24h  28   \n",
       "2     2   I was able to clean my room and gold my laundry.        24h  28   \n",
       "3     3  I spend the day at a party on the beach and I ...        24h  24   \n",
       "4     4  My cat greeting me when I got home from work -...        24h  24   \n",
       "\n",
       "  country gender                     duration married parenthood  \n",
       "0     USA      m  all_day_im_still_feeling_it  single          n  \n",
       "1     USA      m            at_least_one_hour  single          n  \n",
       "2     USA      m            at_least_one_hour  single          n  \n",
       "3     USA      m                   half_a_day  single          n  \n",
       "4     USA      m                   half_a_day  single          n  "
      ]
     },
     "execution_count": 5,
     "metadata": {},
     "output_type": "execute_result"
    }
   ],
   "source": [
    "test_unlabeled.head()"
   ]
  },
  {
   "cell_type": "markdown",
   "metadata": {},
   "source": [
    "### Pre-processing ###"
   ]
  },
  {
   "cell_type": "code",
   "execution_count": null,
   "metadata": {},
   "outputs": [],
   "source": []
  },
  {
   "cell_type": "code",
   "execution_count": 6,
   "metadata": {},
   "outputs": [],
   "source": [
    "import nltk"
   ]
  },
  {
   "cell_type": "code",
   "execution_count": 7,
   "metadata": {},
   "outputs": [
    {
     "data": {
      "text/plain": [
       "0    I was happy when my son got 90% marks in his e...\n",
       "1            went to movies with my friends it was fun\n",
       "2    A hot kiss with my girl friend last night made...\n",
       "Name: moment, dtype: object"
      ]
     },
     "execution_count": 7,
     "metadata": {},
     "output_type": "execute_result"
    }
   ],
   "source": [
    "train_labeled['moment'].head(3)"
   ]
  },
  {
   "cell_type": "code",
   "execution_count": 8,
   "metadata": {},
   "outputs": [
    {
     "data": {
      "text/plain": [
       "0    I went on a successful date with someone I fel...\n",
       "1         I went to the gym this morning and did yoga.\n",
       "2                              I meditated last night.\n",
       "Name: moment, dtype: object"
      ]
     },
     "execution_count": 8,
     "metadata": {},
     "output_type": "execute_result"
    }
   ],
   "source": [
    "train_unlabeled['moment'].head(3)"
   ]
  },
  {
   "cell_type": "code",
   "execution_count": 9,
   "metadata": {},
   "outputs": [],
   "source": [
    "train_labeled['moment'] = train_labeled['moment'].str.lower()\n",
    "train_unlabeled['moment'] = train_unlabeled['moment'].str.lower()"
   ]
  },
  {
   "cell_type": "code",
   "execution_count": 10,
   "metadata": {},
   "outputs": [
    {
     "data": {
      "text/plain": [
       "0    i went on a successful date with someone i fel...\n",
       "1         i went to the gym this morning and did yoga.\n",
       "2                              i meditated last night.\n",
       "Name: moment, dtype: object"
      ]
     },
     "execution_count": 10,
     "metadata": {},
     "output_type": "execute_result"
    }
   ],
   "source": [
    "train_unlabeled['moment'].head(3)"
   ]
  },
  {
   "cell_type": "markdown",
   "metadata": {},
   "source": [
    "## Removing the punctuations ##"
   ]
  },
  {
   "cell_type": "code",
   "execution_count": 11,
   "metadata": {},
   "outputs": [
    {
     "name": "stdout",
     "output_type": "stream",
     "text": [
      "!\"#$%&'()*+,-./:;<=>?@[\\]^_`{|}~\n"
     ]
    }
   ],
   "source": [
    "import string\n",
    "print(string.punctuation)\n",
    "punct_str = string.punctuation"
   ]
  },
  {
   "cell_type": "code",
   "execution_count": 12,
   "metadata": {},
   "outputs": [],
   "source": [
    "upd_moment = []\n",
    "upd_moment_2 = []\n",
    "\n",
    "for text_t1 in train_labeled['moment']:\n",
    "    text_upd = \"\".join([ char for char in text_t1 if char not in string.punctuation])\n",
    "    upd_moment.append(text_upd)\n",
    "    \n",
    "for text_t2 in train_unlabeled['moment']:\n",
    "    text_upd_2 = \"\".join([ char for char in text_t2 if char not in string.punctuation])\n",
    "    upd_moment_2.append(text_upd_2)"
   ]
  },
  {
   "cell_type": "code",
   "execution_count": 13,
   "metadata": {},
   "outputs": [],
   "source": [
    "train_labeled['moment'] = upd_moment\n",
    "train_unlabeled['moment']= upd_moment_2"
   ]
  },
  {
   "cell_type": "code",
   "execution_count": 14,
   "metadata": {},
   "outputs": [
    {
     "data": {
      "text/plain": [
       "'my older daughter keeps patting my younger daughters head'"
      ]
     },
     "execution_count": 14,
     "metadata": {},
     "output_type": "execute_result"
    }
   ],
   "source": [
    "train_labeled['moment'][4]"
   ]
  },
  {
   "cell_type": "code",
   "execution_count": null,
   "metadata": {},
   "outputs": [],
   "source": []
  },
  {
   "cell_type": "markdown",
   "metadata": {},
   "source": [
    "## Tokenization ##"
   ]
  },
  {
   "cell_type": "code",
   "execution_count": 15,
   "metadata": {},
   "outputs": [],
   "source": [
    "from nltk import word_tokenize\n",
    "list_tokenize = []\n",
    "\n",
    "for moments_sent in train_labeled['moment']:\n",
    "    tokenized_wrds = word_tokenize(moments_sent)\n",
    "    list_tokenize.append(tokenized_wrds)\n",
    "train_labeled['moment'] = list_tokenize\n",
    "    \n",
    "list_tokenize = []\n",
    "for moments_sent in train_unlabeled['moment']:\n",
    "    tokenized_wrds = word_tokenize(moments_sent)\n",
    "    list_tokenize.append(tokenized_wrds)\n",
    "train_unlabeled['moment'] = list_tokenize\n"
   ]
  },
  {
   "cell_type": "code",
   "execution_count": 16,
   "metadata": {
    "scrolled": true
   },
   "outputs": [
    {
     "data": {
      "text/html": [
       "<div>\n",
       "<style scoped>\n",
       "    .dataframe tbody tr th:only-of-type {\n",
       "        vertical-align: middle;\n",
       "    }\n",
       "\n",
       "    .dataframe tbody tr th {\n",
       "        vertical-align: top;\n",
       "    }\n",
       "\n",
       "    .dataframe thead th {\n",
       "        text-align: right;\n",
       "    }\n",
       "</style>\n",
       "<table border=\"1\" class=\"dataframe\">\n",
       "  <thead>\n",
       "    <tr style=\"text-align: right;\">\n",
       "      <th></th>\n",
       "      <th>hmid</th>\n",
       "      <th>moment</th>\n",
       "      <th>concepts</th>\n",
       "      <th>agency</th>\n",
       "      <th>social</th>\n",
       "      <th>age</th>\n",
       "      <th>country</th>\n",
       "      <th>gender</th>\n",
       "      <th>married</th>\n",
       "      <th>parenthood</th>\n",
       "      <th>reflection</th>\n",
       "      <th>duration</th>\n",
       "    </tr>\n",
       "  </thead>\n",
       "  <tbody>\n",
       "    <tr>\n",
       "      <th>0</th>\n",
       "      <td>27674</td>\n",
       "      <td>[i, was, happy, when, my, son, got, 90, marks,...</td>\n",
       "      <td>education|family</td>\n",
       "      <td>no</td>\n",
       "      <td>yes</td>\n",
       "      <td>29.0</td>\n",
       "      <td>IND</td>\n",
       "      <td>m</td>\n",
       "      <td>married</td>\n",
       "      <td>y</td>\n",
       "      <td>24h</td>\n",
       "      <td>half_a_day</td>\n",
       "    </tr>\n",
       "    <tr>\n",
       "      <th>1</th>\n",
       "      <td>27685</td>\n",
       "      <td>[went, to, movies, with, my, friends, it, was,...</td>\n",
       "      <td>entertainment</td>\n",
       "      <td>yes</td>\n",
       "      <td>yes</td>\n",
       "      <td>29.0</td>\n",
       "      <td>IND</td>\n",
       "      <td>m</td>\n",
       "      <td>single</td>\n",
       "      <td>y</td>\n",
       "      <td>24h</td>\n",
       "      <td>half_a_day</td>\n",
       "    </tr>\n",
       "    <tr>\n",
       "      <th>2</th>\n",
       "      <td>27691</td>\n",
       "      <td>[a, hot, kiss, with, my, girl, friend, last, n...</td>\n",
       "      <td>romance</td>\n",
       "      <td>yes</td>\n",
       "      <td>yes</td>\n",
       "      <td>25.0</td>\n",
       "      <td>IND</td>\n",
       "      <td>m</td>\n",
       "      <td>married</td>\n",
       "      <td>y</td>\n",
       "      <td>24h</td>\n",
       "      <td>at_least_one_hour</td>\n",
       "    </tr>\n",
       "    <tr>\n",
       "      <th>3</th>\n",
       "      <td>27701</td>\n",
       "      <td>[my, son, woke, me, up, to, a, fantastic, brea...</td>\n",
       "      <td>family|food</td>\n",
       "      <td>no</td>\n",
       "      <td>yes</td>\n",
       "      <td>79</td>\n",
       "      <td>USA</td>\n",
       "      <td>f</td>\n",
       "      <td>widowed</td>\n",
       "      <td>y</td>\n",
       "      <td>24h</td>\n",
       "      <td>all_day_im_still_feeling_it</td>\n",
       "    </tr>\n",
       "    <tr>\n",
       "      <th>4</th>\n",
       "      <td>27712</td>\n",
       "      <td>[my, older, daughter, keeps, patting, my, youn...</td>\n",
       "      <td>family</td>\n",
       "      <td>no</td>\n",
       "      <td>yes</td>\n",
       "      <td>30</td>\n",
       "      <td>USA</td>\n",
       "      <td>f</td>\n",
       "      <td>married</td>\n",
       "      <td>y</td>\n",
       "      <td>24h</td>\n",
       "      <td>a_few_moment</td>\n",
       "    </tr>\n",
       "  </tbody>\n",
       "</table>\n",
       "</div>"
      ],
      "text/plain": [
       "    hmid                                             moment          concepts  \\\n",
       "0  27674  [i, was, happy, when, my, son, got, 90, marks,...  education|family   \n",
       "1  27685  [went, to, movies, with, my, friends, it, was,...     entertainment   \n",
       "2  27691  [a, hot, kiss, with, my, girl, friend, last, n...           romance   \n",
       "3  27701  [my, son, woke, me, up, to, a, fantastic, brea...       family|food   \n",
       "4  27712  [my, older, daughter, keeps, patting, my, youn...            family   \n",
       "\n",
       "  agency social   age country gender  married parenthood reflection  \\\n",
       "0     no    yes  29.0     IND      m  married          y        24h   \n",
       "1    yes    yes  29.0     IND      m   single          y        24h   \n",
       "2    yes    yes  25.0     IND      m  married          y        24h   \n",
       "3     no    yes    79     USA      f  widowed          y        24h   \n",
       "4     no    yes    30     USA      f  married          y        24h   \n",
       "\n",
       "                      duration  \n",
       "0                   half_a_day  \n",
       "1                   half_a_day  \n",
       "2            at_least_one_hour  \n",
       "3  all_day_im_still_feeling_it  \n",
       "4                 a_few_moment  "
      ]
     },
     "execution_count": 16,
     "metadata": {},
     "output_type": "execute_result"
    }
   ],
   "source": [
    "train_labeled.head()"
   ]
  },
  {
   "cell_type": "code",
   "execution_count": 17,
   "metadata": {},
   "outputs": [
    {
     "data": {
      "text/html": [
       "<div>\n",
       "<style scoped>\n",
       "    .dataframe tbody tr th:only-of-type {\n",
       "        vertical-align: middle;\n",
       "    }\n",
       "\n",
       "    .dataframe tbody tr th {\n",
       "        vertical-align: top;\n",
       "    }\n",
       "\n",
       "    .dataframe thead th {\n",
       "        text-align: right;\n",
       "    }\n",
       "</style>\n",
       "<table border=\"1\" class=\"dataframe\">\n",
       "  <thead>\n",
       "    <tr style=\"text-align: right;\">\n",
       "      <th></th>\n",
       "      <th>hmid</th>\n",
       "      <th>moment</th>\n",
       "      <th>age</th>\n",
       "      <th>country</th>\n",
       "      <th>gender</th>\n",
       "      <th>married</th>\n",
       "      <th>parenthood</th>\n",
       "      <th>reflection</th>\n",
       "      <th>duration</th>\n",
       "    </tr>\n",
       "  </thead>\n",
       "  <tbody>\n",
       "    <tr>\n",
       "      <th>0</th>\n",
       "      <td>27673</td>\n",
       "      <td>[i, went, on, a, successful, date, with, someo...</td>\n",
       "      <td>35.0</td>\n",
       "      <td>USA</td>\n",
       "      <td>m</td>\n",
       "      <td>single</td>\n",
       "      <td>n</td>\n",
       "      <td>24h</td>\n",
       "      <td>at_least_one_hour</td>\n",
       "    </tr>\n",
       "    <tr>\n",
       "      <th>1</th>\n",
       "      <td>27675</td>\n",
       "      <td>[i, went, to, the, gym, this, morning, and, di...</td>\n",
       "      <td>30.0</td>\n",
       "      <td>USA</td>\n",
       "      <td>f</td>\n",
       "      <td>married</td>\n",
       "      <td>y</td>\n",
       "      <td>24h</td>\n",
       "      <td>at_least_one_hour</td>\n",
       "    </tr>\n",
       "    <tr>\n",
       "      <th>2</th>\n",
       "      <td>27678</td>\n",
       "      <td>[i, meditated, last, night]</td>\n",
       "      <td>23.0</td>\n",
       "      <td>IND</td>\n",
       "      <td>m</td>\n",
       "      <td>single</td>\n",
       "      <td>n</td>\n",
       "      <td>24h</td>\n",
       "      <td>at_least_one_hour</td>\n",
       "    </tr>\n",
       "    <tr>\n",
       "      <th>3</th>\n",
       "      <td>27679</td>\n",
       "      <td>[i, made, a, new, recipe, for, peasant, bread,...</td>\n",
       "      <td>30.0</td>\n",
       "      <td>USA</td>\n",
       "      <td>m</td>\n",
       "      <td>single</td>\n",
       "      <td>n</td>\n",
       "      <td>24h</td>\n",
       "      <td>half_a_day</td>\n",
       "    </tr>\n",
       "    <tr>\n",
       "      <th>4</th>\n",
       "      <td>27680</td>\n",
       "      <td>[i, got, gift, from, my, elder, brother, which...</td>\n",
       "      <td>23.0</td>\n",
       "      <td>IND</td>\n",
       "      <td>m</td>\n",
       "      <td>single</td>\n",
       "      <td>n</td>\n",
       "      <td>24h</td>\n",
       "      <td>at_least_one_hour</td>\n",
       "    </tr>\n",
       "  </tbody>\n",
       "</table>\n",
       "</div>"
      ],
      "text/plain": [
       "    hmid                                             moment   age country  \\\n",
       "0  27673  [i, went, on, a, successful, date, with, someo...  35.0     USA   \n",
       "1  27675  [i, went, to, the, gym, this, morning, and, di...  30.0     USA   \n",
       "2  27678                        [i, meditated, last, night]  23.0     IND   \n",
       "3  27679  [i, made, a, new, recipe, for, peasant, bread,...  30.0     USA   \n",
       "4  27680  [i, got, gift, from, my, elder, brother, which...  23.0     IND   \n",
       "\n",
       "  gender  married parenthood reflection           duration  \n",
       "0      m   single          n        24h  at_least_one_hour  \n",
       "1      f  married          y        24h  at_least_one_hour  \n",
       "2      m   single          n        24h  at_least_one_hour  \n",
       "3      m   single          n        24h         half_a_day  \n",
       "4      m   single          n        24h  at_least_one_hour  "
      ]
     },
     "execution_count": 17,
     "metadata": {},
     "output_type": "execute_result"
    }
   ],
   "source": [
    "train_unlabeled.head()"
   ]
  },
  {
   "cell_type": "markdown",
   "metadata": {},
   "source": [
    "## Remove Stopwords  ##"
   ]
  },
  {
   "cell_type": "code",
   "execution_count": 18,
   "metadata": {},
   "outputs": [
    {
     "name": "stdout",
     "output_type": "stream",
     "text": [
      "['i', 'me', 'my', 'myself', 'we', 'our', 'ours', 'ourselves', 'you', \"you're\", \"you've\", \"you'll\", \"you'd\", 'your', 'yours', 'yourself', 'yourselves', 'he', 'him', 'his', 'himself', 'she', \"she's\", 'her', 'hers', 'herself', 'it', \"it's\", 'its', 'itself', 'they', 'them', 'their', 'theirs', 'themselves', 'what', 'which', 'who', 'whom', 'this', 'that', \"that'll\", 'these', 'those', 'am', 'is', 'are', 'was', 'were', 'be', 'been', 'being', 'have', 'has', 'had', 'having', 'do', 'does', 'did', 'doing', 'a', 'an', 'the', 'and', 'but', 'if', 'or', 'because', 'as', 'until', 'while', 'of', 'at', 'by', 'for', 'with', 'about', 'against', 'between', 'into', 'through', 'during', 'before', 'after', 'above', 'below', 'to', 'from', 'up', 'down', 'in', 'out', 'on', 'off', 'over', 'under', 'again', 'further', 'then', 'once', 'here', 'there', 'when', 'where', 'why', 'how', 'all', 'any', 'both', 'each', 'few', 'more', 'most', 'other', 'some', 'such', 'no', 'nor', 'not', 'only', 'own', 'same', 'so', 'than', 'too', 'very', 's', 't', 'can', 'will', 'just', 'don', \"don't\", 'should', \"should've\", 'now', 'd', 'll', 'm', 'o', 're', 've', 'y', 'ain', 'aren', \"aren't\", 'couldn', \"couldn't\", 'didn', \"didn't\", 'doesn', \"doesn't\", 'hadn', \"hadn't\", 'hasn', \"hasn't\", 'haven', \"haven't\", 'isn', \"isn't\", 'ma', 'mightn', \"mightn't\", 'mustn', \"mustn't\", 'needn', \"needn't\", 'shan', \"shan't\", 'shouldn', \"shouldn't\", 'wasn', \"wasn't\", 'weren', \"weren't\", 'won', \"won't\", 'wouldn', \"wouldn't\"]\n"
     ]
    }
   ],
   "source": [
    "from nltk.corpus import stopwords\n",
    "stop_words_eng = stopwords.words('english')\n",
    "print(stop_words_eng)"
   ]
  },
  {
   "cell_type": "code",
   "execution_count": 19,
   "metadata": {},
   "outputs": [],
   "source": [
    "filt_wrd_list=[]\n",
    "for words in train_labeled['moment']:\n",
    "    filtered_words = [word for word in words if word not in stop_words_eng]    \n",
    "    filt_wrd_list.append(filtered_words)\n",
    "train_labeled['moment'] = filt_wrd_list\n",
    "\n",
    "filt_wrd_list=[]\n",
    "for words in train_unlabeled['moment']:\n",
    "    filtered_words = [word for word in words if word not in stop_words_eng]    \n",
    "    filt_wrd_list.append(filtered_words)\n",
    "train_unlabeled['moment'] = filt_wrd_list"
   ]
  },
  {
   "cell_type": "code",
   "execution_count": 20,
   "metadata": {},
   "outputs": [
    {
     "data": {
      "text/plain": [
       "0                [happy, son, got, 90, marks, examination]\n",
       "1                             [went, movies, friends, fun]\n",
       "2        [hot, kiss, girl, friend, last, night, made, day]\n",
       "3        [son, woke, fantastic, breakfast, eggs, specia...\n",
       "4        [older, daughter, keeps, patting, younger, dau...\n",
       "                               ...                        \n",
       "10555                       [husband, called, tell, loved]\n",
       "10556                  [worked, always, makes, feel, good]\n",
       "10557    [finally, got, watch, new, resident, evil, movie]\n",
       "10558     [got, talk, old, friend, reminisce, good, times]\n",
       "10559    [great, meeting, yesterday, work, boss, collea...\n",
       "Name: moment, Length: 10560, dtype: object"
      ]
     },
     "execution_count": 20,
     "metadata": {},
     "output_type": "execute_result"
    }
   ],
   "source": [
    "train_labeled['moment']"
   ]
  },
  {
   "cell_type": "code",
   "execution_count": 21,
   "metadata": {},
   "outputs": [
    {
     "data": {
      "text/plain": [
       "0        [went, successful, date, someone, felt, sympat...\n",
       "1                               [went, gym, morning, yoga]\n",
       "2                                 [meditated, last, night]\n",
       "3        [made, new, recipe, peasant, bread, came, spec...\n",
       "4          [got, gift, elder, brother, really, surprising]\n",
       "                               ...                        \n",
       "72319                              [spent, time, daughter]\n",
       "72320    [husband, announced, getting, decent, bonus, q...\n",
       "72321                                       [pepsi, drink]\n",
       "72322                  [cuddling, girlfriend, last, night]\n",
       "72323                        [great, workout, last, night]\n",
       "Name: moment, Length: 72324, dtype: object"
      ]
     },
     "execution_count": 21,
     "metadata": {},
     "output_type": "execute_result"
    }
   ],
   "source": [
    "train_unlabeled['moment']"
   ]
  },
  {
   "cell_type": "markdown",
   "metadata": {},
   "source": [
    "## Lemmatizer ##"
   ]
  },
  {
   "cell_type": "code",
   "execution_count": 22,
   "metadata": {},
   "outputs": [
    {
     "name": "stderr",
     "output_type": "stream",
     "text": [
      "[nltk_data] Downloading package wordnet to\n",
      "[nltk_data]     C:\\Users\\parit\\AppData\\Roaming\\nltk_data...\n",
      "[nltk_data]   Package wordnet is already up-to-date!\n"
     ]
    }
   ],
   "source": [
    "nltk.download('wordnet')\n",
    "from nltk.stem import WordNetLemmatizer\n",
    "lemmatizer = WordNetLemmatizer()"
   ]
  },
  {
   "cell_type": "code",
   "execution_count": 23,
   "metadata": {},
   "outputs": [],
   "source": [
    "lemm_wrd_list=[]\n",
    "for words in train_labeled['moment']:\n",
    "    lemm_words = [lemmatizer.lemmatize(word) for word in words]    \n",
    "    lemm_wrd_list.append(lemm_words)\n",
    "\n",
    "train_labeled['moment'] = lemm_wrd_list"
   ]
  },
  {
   "cell_type": "code",
   "execution_count": 25,
   "metadata": {},
   "outputs": [],
   "source": [
    "lemm_wrd_list=[]\n",
    "for words in train_unlabeled['moment']:\n",
    "    lemm_words = [lemmatizer.lemmatize(word) for word in words]    \n",
    "    lemm_wrd_list.append(lemm_words)\n",
    "\n",
    "train_unlabeled['moment'] = lemm_wrd_list"
   ]
  },
  {
   "cell_type": "code",
   "execution_count": null,
   "metadata": {},
   "outputs": [],
   "source": []
  },
  {
   "cell_type": "markdown",
   "metadata": {},
   "source": [
    "## Preprocessing Other Columns ##"
   ]
  },
  {
   "cell_type": "code",
   "execution_count": 27,
   "metadata": {},
   "outputs": [
    {
     "data": {
      "text/plain": [
       "array(['IND', 'USA', 'VEN', 'DNK', 'FIN', 'PER', 'GBR', 'SRB', 'DOM',\n",
       "       'ARM', 'PAK', 'SGP', 'FRA', 'JAM', 'LTU', 'TUR', 'PHL', 'PRT',\n",
       "       'ESP', 'THA', 'MEX', 'ARE', 'IDN', 'BRA', 'IRL', 'NGA', 'CAN',\n",
       "       'BGR', 'DEU', nan, 'DZA', 'MKD', 'ETH', 'RUS', 'EGY', 'NLD', 'ALB',\n",
       "       'BEL', 'MDA', 'ISR', 'NZL', 'AUS', 'ZAF', 'SWE', 'VNM', 'KAZ',\n",
       "       'GRC', 'TTO', 'UGA', 'MAR', 'URY', 'ISL', 'SUR', 'KOR', 'BHS',\n",
       "       'COL', 'ITA', 'CZE', 'BRB', 'MLT', 'MYS', 'KEN', 'KWT', 'PRI',\n",
       "       'ROU', 'SVN', 'MAC', 'GTM', 'NOR', 'AFG'], dtype=object)"
      ]
     },
     "execution_count": 27,
     "metadata": {},
     "output_type": "execute_result"
    }
   ],
   "source": [
    "train_labeled['country'].unique()"
   ]
  },
  {
   "cell_type": "code",
   "execution_count": 28,
   "metadata": {},
   "outputs": [
    {
     "data": {
      "text/plain": [
       "array(['USA', 'IND', 'VNM', 'KWT', 'GBR', 'FIN', 'AUS', 'BGD', 'IDN',\n",
       "       'BEL', 'CAN', 'SGP', 'IRL', 'PHL', 'VEN', 'LTU', 'BGR', 'DNK',\n",
       "       'URY', 'SRB', 'JAM', 'ITA', 'KEN', 'DOM', 'EGY', 'PER', 'PRT',\n",
       "       'ESP', 'NGA', 'BRA', 'MEX', 'TUR', 'MKD', 'FRA', 'COL', 'GRC', nan,\n",
       "       'MDA', 'POL', 'ARM', 'PAK', 'DZA', 'UGA', 'MYS', 'ZAF', 'THA',\n",
       "       'ARE', 'AUT', 'LKA', 'DEU', 'ROU', 'ETH', 'NZL', 'NIC', 'NLD',\n",
       "       'ALB', 'RUS', 'UMI', 'ISR', 'MAR', 'SWE', 'KAZ', 'ASM', 'TTO',\n",
       "       'JPN', 'PRI', 'AFG', 'KNA', 'CYP', 'TUN', 'HRV', 'ECU', 'KOR',\n",
       "       'BRB', 'CZE', 'EST', 'BHS', 'GTM', 'GHA', 'GMB', 'ISL', 'SAU',\n",
       "       'SUR', 'MLT', 'TCA', 'IRQ', 'ARG', 'TWN', 'CHL', 'MAC', 'SVN',\n",
       "       'NPL', 'VIR', 'SLV', 'NOR', 'LVA'], dtype=object)"
      ]
     },
     "execution_count": 28,
     "metadata": {},
     "output_type": "execute_result"
    }
   ],
   "source": [
    "train_unlabeled['country'].unique()"
   ]
  },
  {
   "cell_type": "markdown",
   "metadata": {},
   "source": [
    "- First issue the unlabelled data set has more terms different from the labelled data \n",
    "- Agency and Social are TARGET"
   ]
  },
  {
   "cell_type": "code",
   "execution_count": 30,
   "metadata": {},
   "outputs": [
    {
     "data": {
      "text/plain": [
       "Index(['hmid', 'moment', 'concepts', 'agency', 'social', 'age', 'country',\n",
       "       'gender', 'married', 'parenthood', 'reflection', 'duration'],\n",
       "      dtype='object')"
      ]
     },
     "execution_count": 30,
     "metadata": {},
     "output_type": "execute_result"
    }
   ],
   "source": [
    "train_labeled.columns"
   ]
  },
  {
   "cell_type": "code",
   "execution_count": 32,
   "metadata": {},
   "outputs": [
    {
     "name": "stdout",
     "output_type": "stream",
     "text": [
      "['married' 'single' 'widowed' 'divorced' 'separated' nan]\n",
      "['m' 'f' 'o' nan]\n",
      "['29.0' '25.0' '79' '30' '34' '26' '25' '22' '21' '35' '55' '27' '46' '29'\n",
      " '31' '61' '28' '64' '66' '30.0' '45' '37' '39' '32' '63' '23.0' '37.0'\n",
      " '20.0' '27.0' '38' '24.0' '36.0' '49' '34.0' '52' '21.0' '56' '28.0'\n",
      " '35.0' '31.0' '20' '98' '41' '18.0' '19' '48' '32.0' '61.0' '51.0' '26.0'\n",
      " '24' '45.0' '44.0' '33' '42.0' '53' '22.0' '38.0' '71.0' '23' '33.0'\n",
      " '48.0' '39.0' '44' '50.0' '42' '19.0' '47.0' '41.0' nan '51' '36' '43'\n",
      " '50' '59' '62' '54.0' '60.0' '40' '18' '60' '57' '65' '68' '54' '57.0'\n",
      " '47' '40.0' '69' '58' '2' '3' 'prefer not to say' '83' '49.0' '62.0'\n",
      " '64.0' '78.0' '46.0' '65.0' '63.0' '88.0' '43.0' '58.0' '67' '66.0'\n",
      " '52.0' '53.0' '74' '56.0' '55.0' '2.0' '76.0' '59.0' '73.0' '72.0' '70.0'\n",
      " '70' '233.0' '79.0' '71' '67.0' '69.0' '68.0' '75' '74.0' '77']\n",
      "['half_a_day' 'at_least_one_hour' 'all_day_im_still_feeling_it'\n",
      " 'a_few_moment' nan 'a_few_minutes']\n",
      "['24h' '3m']\n",
      "['y' 'n' nan]\n"
     ]
    }
   ],
   "source": [
    "print(train_labeled['married'].unique())\n",
    "print(train_labeled['gender'].unique())\n",
    "print(train_labeled['age'].unique())\n",
    "print(train_labeled['duration'].unique())\n",
    "print(train_labeled['reflection'].unique())\n",
    "print(train_labeled['parenthood'].unique())"
   ]
  },
  {
   "cell_type": "code",
   "execution_count": null,
   "metadata": {},
   "outputs": [],
   "source": []
  },
  {
   "cell_type": "code",
   "execution_count": null,
   "metadata": {},
   "outputs": [],
   "source": []
  },
  {
   "cell_type": "code",
   "execution_count": null,
   "metadata": {},
   "outputs": [],
   "source": []
  },
  {
   "cell_type": "code",
   "execution_count": null,
   "metadata": {},
   "outputs": [],
   "source": []
  },
  {
   "cell_type": "code",
   "execution_count": null,
   "metadata": {},
   "outputs": [],
   "source": []
  },
  {
   "cell_type": "code",
   "execution_count": null,
   "metadata": {},
   "outputs": [],
   "source": []
  },
  {
   "cell_type": "markdown",
   "metadata": {},
   "source": [
    "## Train baseline Classifier"
   ]
  },
  {
   "cell_type": "code",
   "execution_count": 24,
   "metadata": {},
   "outputs": [
    {
     "name": "stdout",
     "output_type": "stream",
     "text": [
      "firetruck\n"
     ]
    }
   ],
   "source": [
    "print('firetruck')"
   ]
  },
  {
   "cell_type": "code",
   "execution_count": null,
   "metadata": {},
   "outputs": [],
   "source": []
  }
 ],
 "metadata": {
  "kernelspec": {
   "display_name": "Python 3",
   "language": "python",
   "name": "python3"
  },
  "language_info": {
   "codemirror_mode": {
    "name": "ipython",
    "version": 3
   },
   "file_extension": ".py",
   "mimetype": "text/x-python",
   "name": "python",
   "nbconvert_exporter": "python",
   "pygments_lexer": "ipython3",
   "version": "3.8.8"
  }
 },
 "nbformat": 4,
 "nbformat_minor": 4
}
