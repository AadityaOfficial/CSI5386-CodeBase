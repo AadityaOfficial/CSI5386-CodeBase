{
 "cells": [
  {
   "cell_type": "markdown",
   "metadata": {},
   "source": [
    "# CSI5388 Natural Language Processing\n",
    "## Assignment - 2\n",
    "## INGREDIENTS FOR HAPPINESS"
   ]
  },
  {
   "cell_type": "code",
   "execution_count": 64,
   "metadata": {},
   "outputs": [],
   "source": [
    "# Import Data\n",
    "import pandas as pd\n",
    "import numpy as np\n",
    "train_labeled = pd.read_csv(\"data/TRAIN/labeled_10k.csv\", engine = 'python')\n",
    "train_unlabeled = pd.read_csv(\"data/TRAIN/unlabeled_70k.csv\", engine = 'python')\n",
    "test_labeled = pd.read_csv(\"data/TEST/labeled_17k.csv\", engine = 'python') # engine should be set as python to avoid error due to some characters: https://stackoverflow.com/questions/46000191/utf-8-codec-cant-decode-byte-0x92-in-position-18-invalid-start-byte\n",
    "test_unlabeled = pd.read_csv(\"data/TEST/unlabeled_17k.csv\", engine = 'python')"
   ]
  },
  {
   "cell_type": "code",
   "execution_count": 65,
   "metadata": {},
   "outputs": [
    {
     "data": {
      "text/html": [
       "<div>\n",
       "<style scoped>\n",
       "    .dataframe tbody tr th:only-of-type {\n",
       "        vertical-align: middle;\n",
       "    }\n",
       "\n",
       "    .dataframe tbody tr th {\n",
       "        vertical-align: top;\n",
       "    }\n",
       "\n",
       "    .dataframe thead th {\n",
       "        text-align: right;\n",
       "    }\n",
       "</style>\n",
       "<table border=\"1\" class=\"dataframe\">\n",
       "  <thead>\n",
       "    <tr style=\"text-align: right;\">\n",
       "      <th></th>\n",
       "      <th>hmid</th>\n",
       "      <th>moment</th>\n",
       "      <th>concepts</th>\n",
       "      <th>agency</th>\n",
       "      <th>social</th>\n",
       "      <th>age</th>\n",
       "      <th>country</th>\n",
       "      <th>gender</th>\n",
       "      <th>married</th>\n",
       "      <th>parenthood</th>\n",
       "      <th>reflection</th>\n",
       "      <th>duration</th>\n",
       "    </tr>\n",
       "  </thead>\n",
       "  <tbody>\n",
       "    <tr>\n",
       "      <th>0</th>\n",
       "      <td>27674</td>\n",
       "      <td>I was happy when my son got 90% marks in his e...</td>\n",
       "      <td>education|family</td>\n",
       "      <td>no</td>\n",
       "      <td>yes</td>\n",
       "      <td>29.0</td>\n",
       "      <td>IND</td>\n",
       "      <td>m</td>\n",
       "      <td>married</td>\n",
       "      <td>y</td>\n",
       "      <td>24h</td>\n",
       "      <td>half_a_day</td>\n",
       "    </tr>\n",
       "    <tr>\n",
       "      <th>1</th>\n",
       "      <td>27685</td>\n",
       "      <td>went to movies with my friends it was fun</td>\n",
       "      <td>entertainment</td>\n",
       "      <td>yes</td>\n",
       "      <td>yes</td>\n",
       "      <td>29.0</td>\n",
       "      <td>IND</td>\n",
       "      <td>m</td>\n",
       "      <td>single</td>\n",
       "      <td>y</td>\n",
       "      <td>24h</td>\n",
       "      <td>half_a_day</td>\n",
       "    </tr>\n",
       "    <tr>\n",
       "      <th>2</th>\n",
       "      <td>27691</td>\n",
       "      <td>A hot kiss with my girl friend last night made...</td>\n",
       "      <td>romance</td>\n",
       "      <td>yes</td>\n",
       "      <td>yes</td>\n",
       "      <td>25.0</td>\n",
       "      <td>IND</td>\n",
       "      <td>m</td>\n",
       "      <td>married</td>\n",
       "      <td>y</td>\n",
       "      <td>24h</td>\n",
       "      <td>at_least_one_hour</td>\n",
       "    </tr>\n",
       "    <tr>\n",
       "      <th>3</th>\n",
       "      <td>27701</td>\n",
       "      <td>My son woke me up to a fantastic breakfast of ...</td>\n",
       "      <td>family|food</td>\n",
       "      <td>no</td>\n",
       "      <td>yes</td>\n",
       "      <td>79</td>\n",
       "      <td>USA</td>\n",
       "      <td>f</td>\n",
       "      <td>widowed</td>\n",
       "      <td>y</td>\n",
       "      <td>24h</td>\n",
       "      <td>all_day_im_still_feeling_it</td>\n",
       "    </tr>\n",
       "    <tr>\n",
       "      <th>4</th>\n",
       "      <td>27712</td>\n",
       "      <td>My older daughter keeps patting my younger dau...</td>\n",
       "      <td>family</td>\n",
       "      <td>no</td>\n",
       "      <td>yes</td>\n",
       "      <td>30</td>\n",
       "      <td>USA</td>\n",
       "      <td>f</td>\n",
       "      <td>married</td>\n",
       "      <td>y</td>\n",
       "      <td>24h</td>\n",
       "      <td>a_few_moment</td>\n",
       "    </tr>\n",
       "  </tbody>\n",
       "</table>\n",
       "</div>"
      ],
      "text/plain": [
       "    hmid                                             moment          concepts  \\\n",
       "0  27674  I was happy when my son got 90% marks in his e...  education|family   \n",
       "1  27685          went to movies with my friends it was fun     entertainment   \n",
       "2  27691  A hot kiss with my girl friend last night made...           romance   \n",
       "3  27701  My son woke me up to a fantastic breakfast of ...       family|food   \n",
       "4  27712  My older daughter keeps patting my younger dau...            family   \n",
       "\n",
       "  agency social   age country gender  married parenthood reflection  \\\n",
       "0     no    yes  29.0     IND      m  married          y        24h   \n",
       "1    yes    yes  29.0     IND      m   single          y        24h   \n",
       "2    yes    yes  25.0     IND      m  married          y        24h   \n",
       "3     no    yes    79     USA      f  widowed          y        24h   \n",
       "4     no    yes    30     USA      f  married          y        24h   \n",
       "\n",
       "                      duration  \n",
       "0                   half_a_day  \n",
       "1                   half_a_day  \n",
       "2            at_least_one_hour  \n",
       "3  all_day_im_still_feeling_it  \n",
       "4                 a_few_moment  "
      ]
     },
     "execution_count": 65,
     "metadata": {},
     "output_type": "execute_result"
    }
   ],
   "source": [
    "train_labeled.head()"
   ]
  },
  {
   "cell_type": "code",
   "execution_count": 66,
   "metadata": {},
   "outputs": [
    {
     "data": {
      "text/html": [
       "<div>\n",
       "<style scoped>\n",
       "    .dataframe tbody tr th:only-of-type {\n",
       "        vertical-align: middle;\n",
       "    }\n",
       "\n",
       "    .dataframe tbody tr th {\n",
       "        vertical-align: top;\n",
       "    }\n",
       "\n",
       "    .dataframe thead th {\n",
       "        text-align: right;\n",
       "    }\n",
       "</style>\n",
       "<table border=\"1\" class=\"dataframe\">\n",
       "  <thead>\n",
       "    <tr style=\"text-align: right;\">\n",
       "      <th></th>\n",
       "      <th>hmid</th>\n",
       "      <th>moment</th>\n",
       "      <th>age</th>\n",
       "      <th>country</th>\n",
       "      <th>gender</th>\n",
       "      <th>married</th>\n",
       "      <th>parenthood</th>\n",
       "      <th>reflection</th>\n",
       "      <th>duration</th>\n",
       "    </tr>\n",
       "  </thead>\n",
       "  <tbody>\n",
       "    <tr>\n",
       "      <th>0</th>\n",
       "      <td>27673</td>\n",
       "      <td>I went on a successful date with someone I fel...</td>\n",
       "      <td>35.0</td>\n",
       "      <td>USA</td>\n",
       "      <td>m</td>\n",
       "      <td>single</td>\n",
       "      <td>n</td>\n",
       "      <td>24h</td>\n",
       "      <td>at_least_one_hour</td>\n",
       "    </tr>\n",
       "    <tr>\n",
       "      <th>1</th>\n",
       "      <td>27675</td>\n",
       "      <td>I went to the gym this morning and did yoga.</td>\n",
       "      <td>30.0</td>\n",
       "      <td>USA</td>\n",
       "      <td>f</td>\n",
       "      <td>married</td>\n",
       "      <td>y</td>\n",
       "      <td>24h</td>\n",
       "      <td>at_least_one_hour</td>\n",
       "    </tr>\n",
       "    <tr>\n",
       "      <th>2</th>\n",
       "      <td>27678</td>\n",
       "      <td>I meditated last night.</td>\n",
       "      <td>23.0</td>\n",
       "      <td>IND</td>\n",
       "      <td>m</td>\n",
       "      <td>single</td>\n",
       "      <td>n</td>\n",
       "      <td>24h</td>\n",
       "      <td>at_least_one_hour</td>\n",
       "    </tr>\n",
       "    <tr>\n",
       "      <th>3</th>\n",
       "      <td>27679</td>\n",
       "      <td>I made a new recipe for peasant bread, and it ...</td>\n",
       "      <td>30.0</td>\n",
       "      <td>USA</td>\n",
       "      <td>m</td>\n",
       "      <td>single</td>\n",
       "      <td>n</td>\n",
       "      <td>24h</td>\n",
       "      <td>half_a_day</td>\n",
       "    </tr>\n",
       "    <tr>\n",
       "      <th>4</th>\n",
       "      <td>27680</td>\n",
       "      <td>I got gift from my elder brother which was rea...</td>\n",
       "      <td>23.0</td>\n",
       "      <td>IND</td>\n",
       "      <td>m</td>\n",
       "      <td>single</td>\n",
       "      <td>n</td>\n",
       "      <td>24h</td>\n",
       "      <td>at_least_one_hour</td>\n",
       "    </tr>\n",
       "  </tbody>\n",
       "</table>\n",
       "</div>"
      ],
      "text/plain": [
       "    hmid                                             moment   age country  \\\n",
       "0  27673  I went on a successful date with someone I fel...  35.0     USA   \n",
       "1  27675       I went to the gym this morning and did yoga.  30.0     USA   \n",
       "2  27678                            I meditated last night.  23.0     IND   \n",
       "3  27679  I made a new recipe for peasant bread, and it ...  30.0     USA   \n",
       "4  27680  I got gift from my elder brother which was rea...  23.0     IND   \n",
       "\n",
       "  gender  married parenthood reflection           duration  \n",
       "0      m   single          n        24h  at_least_one_hour  \n",
       "1      f  married          y        24h  at_least_one_hour  \n",
       "2      m   single          n        24h  at_least_one_hour  \n",
       "3      m   single          n        24h         half_a_day  \n",
       "4      m   single          n        24h  at_least_one_hour  "
      ]
     },
     "execution_count": 66,
     "metadata": {},
     "output_type": "execute_result"
    }
   ],
   "source": [
    "train_unlabeled.head()"
   ]
  },
  {
   "cell_type": "code",
   "execution_count": 67,
   "metadata": {},
   "outputs": [
    {
     "data": {
      "text/html": [
       "<div>\n",
       "<style scoped>\n",
       "    .dataframe tbody tr th:only-of-type {\n",
       "        vertical-align: middle;\n",
       "    }\n",
       "\n",
       "    .dataframe tbody tr th {\n",
       "        vertical-align: top;\n",
       "    }\n",
       "\n",
       "    .dataframe thead th {\n",
       "        text-align: right;\n",
       "    }\n",
       "</style>\n",
       "<table border=\"1\" class=\"dataframe\">\n",
       "  <thead>\n",
       "    <tr style=\"text-align: right;\">\n",
       "      <th></th>\n",
       "      <th>hmid</th>\n",
       "      <th>moment</th>\n",
       "      <th>reflection</th>\n",
       "      <th>age</th>\n",
       "      <th>country</th>\n",
       "      <th>gender</th>\n",
       "      <th>duration</th>\n",
       "      <th>married</th>\n",
       "      <th>parenthood</th>\n",
       "      <th>concepts</th>\n",
       "      <th>agency</th>\n",
       "      <th>social</th>\n",
       "    </tr>\n",
       "  </thead>\n",
       "  <tbody>\n",
       "    <tr>\n",
       "      <th>0</th>\n",
       "      <td>0</td>\n",
       "      <td>I was able to spend the day with my fiance sho...</td>\n",
       "      <td>24h</td>\n",
       "      <td>28</td>\n",
       "      <td>USA</td>\n",
       "      <td>m</td>\n",
       "      <td>all_day_im_still_feeling_it</td>\n",
       "      <td>single</td>\n",
       "      <td>n</td>\n",
       "      <td>shopping|family|romance</td>\n",
       "      <td>yes</td>\n",
       "      <td>no</td>\n",
       "    </tr>\n",
       "    <tr>\n",
       "      <th>1</th>\n",
       "      <td>1</td>\n",
       "      <td>I was able to play with my cat.</td>\n",
       "      <td>24h</td>\n",
       "      <td>28</td>\n",
       "      <td>USA</td>\n",
       "      <td>m</td>\n",
       "      <td>at_least_one_hour</td>\n",
       "      <td>single</td>\n",
       "      <td>n</td>\n",
       "      <td>animals</td>\n",
       "      <td>yes</td>\n",
       "      <td>no</td>\n",
       "    </tr>\n",
       "    <tr>\n",
       "      <th>2</th>\n",
       "      <td>2</td>\n",
       "      <td>I was able to clean my room and gold my laundry.</td>\n",
       "      <td>24h</td>\n",
       "      <td>28</td>\n",
       "      <td>USA</td>\n",
       "      <td>m</td>\n",
       "      <td>at_least_one_hour</td>\n",
       "      <td>single</td>\n",
       "      <td>n</td>\n",
       "      <td>0</td>\n",
       "      <td>yes</td>\n",
       "      <td>no</td>\n",
       "    </tr>\n",
       "    <tr>\n",
       "      <th>3</th>\n",
       "      <td>3</td>\n",
       "      <td>I spend the day at a party on the beach and I ...</td>\n",
       "      <td>24h</td>\n",
       "      <td>24</td>\n",
       "      <td>USA</td>\n",
       "      <td>m</td>\n",
       "      <td>half_a_day</td>\n",
       "      <td>single</td>\n",
       "      <td>n</td>\n",
       "      <td>vacation|party|weather</td>\n",
       "      <td>yes</td>\n",
       "      <td>yes</td>\n",
       "    </tr>\n",
       "    <tr>\n",
       "      <th>4</th>\n",
       "      <td>4</td>\n",
       "      <td>My cat greeting me when I got home from work -...</td>\n",
       "      <td>24h</td>\n",
       "      <td>24</td>\n",
       "      <td>USA</td>\n",
       "      <td>m</td>\n",
       "      <td>half_a_day</td>\n",
       "      <td>single</td>\n",
       "      <td>n</td>\n",
       "      <td>animals</td>\n",
       "      <td>no</td>\n",
       "      <td>no</td>\n",
       "    </tr>\n",
       "  </tbody>\n",
       "</table>\n",
       "</div>"
      ],
      "text/plain": [
       "   hmid                                             moment reflection age  \\\n",
       "0     0  I was able to spend the day with my fiance sho...        24h  28   \n",
       "1     1                    I was able to play with my cat.        24h  28   \n",
       "2     2   I was able to clean my room and gold my laundry.        24h  28   \n",
       "3     3  I spend the day at a party on the beach and I ...        24h  24   \n",
       "4     4  My cat greeting me when I got home from work -...        24h  24   \n",
       "\n",
       "  country gender                     duration married parenthood  \\\n",
       "0     USA      m  all_day_im_still_feeling_it  single          n   \n",
       "1     USA      m            at_least_one_hour  single          n   \n",
       "2     USA      m            at_least_one_hour  single          n   \n",
       "3     USA      m                   half_a_day  single          n   \n",
       "4     USA      m                   half_a_day  single          n   \n",
       "\n",
       "                  concepts agency social  \n",
       "0  shopping|family|romance    yes     no  \n",
       "1                  animals    yes     no  \n",
       "2                        0    yes     no  \n",
       "3   vacation|party|weather    yes    yes  \n",
       "4                  animals     no     no  "
      ]
     },
     "execution_count": 67,
     "metadata": {},
     "output_type": "execute_result"
    }
   ],
   "source": [
    "test_labeled.head()"
   ]
  },
  {
   "cell_type": "code",
   "execution_count": 68,
   "metadata": {},
   "outputs": [
    {
     "data": {
      "text/html": [
       "<div>\n",
       "<style scoped>\n",
       "    .dataframe tbody tr th:only-of-type {\n",
       "        vertical-align: middle;\n",
       "    }\n",
       "\n",
       "    .dataframe tbody tr th {\n",
       "        vertical-align: top;\n",
       "    }\n",
       "\n",
       "    .dataframe thead th {\n",
       "        text-align: right;\n",
       "    }\n",
       "</style>\n",
       "<table border=\"1\" class=\"dataframe\">\n",
       "  <thead>\n",
       "    <tr style=\"text-align: right;\">\n",
       "      <th></th>\n",
       "      <th>hmid</th>\n",
       "      <th>moment</th>\n",
       "      <th>reflection</th>\n",
       "      <th>age</th>\n",
       "      <th>country</th>\n",
       "      <th>gender</th>\n",
       "      <th>duration</th>\n",
       "      <th>married</th>\n",
       "      <th>parenthood</th>\n",
       "    </tr>\n",
       "  </thead>\n",
       "  <tbody>\n",
       "    <tr>\n",
       "      <th>0</th>\n",
       "      <td>0</td>\n",
       "      <td>I was able to spend the day with my fiance sho...</td>\n",
       "      <td>24h</td>\n",
       "      <td>28</td>\n",
       "      <td>USA</td>\n",
       "      <td>m</td>\n",
       "      <td>all_day_im_still_feeling_it</td>\n",
       "      <td>single</td>\n",
       "      <td>n</td>\n",
       "    </tr>\n",
       "    <tr>\n",
       "      <th>1</th>\n",
       "      <td>1</td>\n",
       "      <td>I was able to play with my cat.</td>\n",
       "      <td>24h</td>\n",
       "      <td>28</td>\n",
       "      <td>USA</td>\n",
       "      <td>m</td>\n",
       "      <td>at_least_one_hour</td>\n",
       "      <td>single</td>\n",
       "      <td>n</td>\n",
       "    </tr>\n",
       "    <tr>\n",
       "      <th>2</th>\n",
       "      <td>2</td>\n",
       "      <td>I was able to clean my room and gold my laundry.</td>\n",
       "      <td>24h</td>\n",
       "      <td>28</td>\n",
       "      <td>USA</td>\n",
       "      <td>m</td>\n",
       "      <td>at_least_one_hour</td>\n",
       "      <td>single</td>\n",
       "      <td>n</td>\n",
       "    </tr>\n",
       "    <tr>\n",
       "      <th>3</th>\n",
       "      <td>3</td>\n",
       "      <td>I spend the day at a party on the beach and I ...</td>\n",
       "      <td>24h</td>\n",
       "      <td>24</td>\n",
       "      <td>USA</td>\n",
       "      <td>m</td>\n",
       "      <td>half_a_day</td>\n",
       "      <td>single</td>\n",
       "      <td>n</td>\n",
       "    </tr>\n",
       "    <tr>\n",
       "      <th>4</th>\n",
       "      <td>4</td>\n",
       "      <td>My cat greeting me when I got home from work -...</td>\n",
       "      <td>24h</td>\n",
       "      <td>24</td>\n",
       "      <td>USA</td>\n",
       "      <td>m</td>\n",
       "      <td>half_a_day</td>\n",
       "      <td>single</td>\n",
       "      <td>n</td>\n",
       "    </tr>\n",
       "  </tbody>\n",
       "</table>\n",
       "</div>"
      ],
      "text/plain": [
       "   hmid                                             moment reflection age  \\\n",
       "0     0  I was able to spend the day with my fiance sho...        24h  28   \n",
       "1     1                    I was able to play with my cat.        24h  28   \n",
       "2     2   I was able to clean my room and gold my laundry.        24h  28   \n",
       "3     3  I spend the day at a party on the beach and I ...        24h  24   \n",
       "4     4  My cat greeting me when I got home from work -...        24h  24   \n",
       "\n",
       "  country gender                     duration married parenthood  \n",
       "0     USA      m  all_day_im_still_feeling_it  single          n  \n",
       "1     USA      m            at_least_one_hour  single          n  \n",
       "2     USA      m            at_least_one_hour  single          n  \n",
       "3     USA      m                   half_a_day  single          n  \n",
       "4     USA      m                   half_a_day  single          n  "
      ]
     },
     "execution_count": 68,
     "metadata": {},
     "output_type": "execute_result"
    }
   ],
   "source": [
    "test_unlabeled.head()"
   ]
  },
  {
   "cell_type": "markdown",
   "metadata": {},
   "source": [
    "### Pre-processing ###"
   ]
  },
  {
   "cell_type": "code",
   "execution_count": null,
   "metadata": {},
   "outputs": [],
   "source": []
  },
  {
   "cell_type": "code",
   "execution_count": 69,
   "metadata": {},
   "outputs": [],
   "source": [
    "import nltk"
   ]
  },
  {
   "cell_type": "code",
   "execution_count": 70,
   "metadata": {},
   "outputs": [
    {
     "data": {
      "text/plain": [
       "0    I was happy when my son got 90% marks in his e...\n",
       "1            went to movies with my friends it was fun\n",
       "2    A hot kiss with my girl friend last night made...\n",
       "Name: moment, dtype: object"
      ]
     },
     "execution_count": 70,
     "metadata": {},
     "output_type": "execute_result"
    }
   ],
   "source": [
    "train_labeled['moment'].head(3)"
   ]
  },
  {
   "cell_type": "code",
   "execution_count": 71,
   "metadata": {},
   "outputs": [
    {
     "data": {
      "text/plain": [
       "0    I went on a successful date with someone I fel...\n",
       "1         I went to the gym this morning and did yoga.\n",
       "2                              I meditated last night.\n",
       "Name: moment, dtype: object"
      ]
     },
     "execution_count": 71,
     "metadata": {},
     "output_type": "execute_result"
    }
   ],
   "source": [
    "train_unlabeled['moment'].head(3)"
   ]
  },
  {
   "cell_type": "code",
   "execution_count": 72,
   "metadata": {},
   "outputs": [],
   "source": [
    "train_labeled['moment'] = train_labeled['moment'].str.lower()\n",
    "train_unlabeled['moment'] = train_unlabeled['moment'].str.lower()"
   ]
  },
  {
   "cell_type": "code",
   "execution_count": 73,
   "metadata": {},
   "outputs": [
    {
     "data": {
      "text/plain": [
       "0    i went on a successful date with someone i fel...\n",
       "1         i went to the gym this morning and did yoga.\n",
       "2                              i meditated last night.\n",
       "Name: moment, dtype: object"
      ]
     },
     "execution_count": 73,
     "metadata": {},
     "output_type": "execute_result"
    }
   ],
   "source": [
    "train_unlabeled['moment'].head(3)"
   ]
  },
  {
   "cell_type": "markdown",
   "metadata": {},
   "source": [
    "## Removing the punctuations ##"
   ]
  },
  {
   "cell_type": "code",
   "execution_count": 74,
   "metadata": {},
   "outputs": [
    {
     "name": "stdout",
     "output_type": "stream",
     "text": [
      "!\"#$%&'()*+,-./:;<=>?@[\\]^_`{|}~\n"
     ]
    }
   ],
   "source": [
    "import string\n",
    "print(string.punctuation)\n",
    "punct_str = string.punctuation"
   ]
  },
  {
   "cell_type": "code",
   "execution_count": 75,
   "metadata": {},
   "outputs": [],
   "source": [
    "upd_moment = []\n",
    "upd_moment_2 = []\n",
    "\n",
    "for text_t1 in train_labeled['moment']:\n",
    "    text_upd = \"\".join([ char for char in text_t1 if char not in string.punctuation])\n",
    "    upd_moment.append(text_upd)\n",
    "    \n",
    "for text_t2 in train_unlabeled['moment']:\n",
    "    text_upd_2 = \"\".join([ char for char in text_t2 if char not in string.punctuation])\n",
    "    upd_moment_2.append(text_upd_2)"
   ]
  },
  {
   "cell_type": "code",
   "execution_count": 76,
   "metadata": {},
   "outputs": [],
   "source": [
    "train_labeled['moment'] = upd_moment\n",
    "train_unlabeled['moment']= upd_moment_2"
   ]
  },
  {
   "cell_type": "code",
   "execution_count": 77,
   "metadata": {},
   "outputs": [
    {
     "data": {
      "text/plain": [
       "'my older daughter keeps patting my younger daughters head'"
      ]
     },
     "execution_count": 77,
     "metadata": {},
     "output_type": "execute_result"
    }
   ],
   "source": [
    "train_labeled['moment'][4]"
   ]
  },
  {
   "cell_type": "code",
   "execution_count": null,
   "metadata": {},
   "outputs": [],
   "source": []
  },
  {
   "cell_type": "markdown",
   "metadata": {},
   "source": [
    "## Tokenization ##"
   ]
  },
  {
   "cell_type": "code",
   "execution_count": 78,
   "metadata": {},
   "outputs": [],
   "source": [
    "from nltk import word_tokenize\n",
    "list_tokenize = []\n",
    "\n",
    "for moments_sent in train_labeled['moment']:\n",
    "    tokenized_wrds = word_tokenize(moments_sent)\n",
    "    list_tokenize.append(tokenized_wrds)\n",
    "train_labeled['moment'] = list_tokenize\n",
    "    \n",
    "list_tokenize = []\n",
    "for moments_sent in train_unlabeled['moment']:\n",
    "    tokenized_wrds = word_tokenize(moments_sent)\n",
    "    list_tokenize.append(tokenized_wrds)\n",
    "train_unlabeled['moment'] = list_tokenize\n"
   ]
  },
  {
   "cell_type": "code",
   "execution_count": 79,
   "metadata": {
    "scrolled": true
   },
   "outputs": [
    {
     "data": {
      "text/html": [
       "<div>\n",
       "<style scoped>\n",
       "    .dataframe tbody tr th:only-of-type {\n",
       "        vertical-align: middle;\n",
       "    }\n",
       "\n",
       "    .dataframe tbody tr th {\n",
       "        vertical-align: top;\n",
       "    }\n",
       "\n",
       "    .dataframe thead th {\n",
       "        text-align: right;\n",
       "    }\n",
       "</style>\n",
       "<table border=\"1\" class=\"dataframe\">\n",
       "  <thead>\n",
       "    <tr style=\"text-align: right;\">\n",
       "      <th></th>\n",
       "      <th>hmid</th>\n",
       "      <th>moment</th>\n",
       "      <th>concepts</th>\n",
       "      <th>agency</th>\n",
       "      <th>social</th>\n",
       "      <th>age</th>\n",
       "      <th>country</th>\n",
       "      <th>gender</th>\n",
       "      <th>married</th>\n",
       "      <th>parenthood</th>\n",
       "      <th>reflection</th>\n",
       "      <th>duration</th>\n",
       "    </tr>\n",
       "  </thead>\n",
       "  <tbody>\n",
       "    <tr>\n",
       "      <th>0</th>\n",
       "      <td>27674</td>\n",
       "      <td>[i, was, happy, when, my, son, got, 90, marks,...</td>\n",
       "      <td>education|family</td>\n",
       "      <td>no</td>\n",
       "      <td>yes</td>\n",
       "      <td>29.0</td>\n",
       "      <td>IND</td>\n",
       "      <td>m</td>\n",
       "      <td>married</td>\n",
       "      <td>y</td>\n",
       "      <td>24h</td>\n",
       "      <td>half_a_day</td>\n",
       "    </tr>\n",
       "    <tr>\n",
       "      <th>1</th>\n",
       "      <td>27685</td>\n",
       "      <td>[went, to, movies, with, my, friends, it, was,...</td>\n",
       "      <td>entertainment</td>\n",
       "      <td>yes</td>\n",
       "      <td>yes</td>\n",
       "      <td>29.0</td>\n",
       "      <td>IND</td>\n",
       "      <td>m</td>\n",
       "      <td>single</td>\n",
       "      <td>y</td>\n",
       "      <td>24h</td>\n",
       "      <td>half_a_day</td>\n",
       "    </tr>\n",
       "    <tr>\n",
       "      <th>2</th>\n",
       "      <td>27691</td>\n",
       "      <td>[a, hot, kiss, with, my, girl, friend, last, n...</td>\n",
       "      <td>romance</td>\n",
       "      <td>yes</td>\n",
       "      <td>yes</td>\n",
       "      <td>25.0</td>\n",
       "      <td>IND</td>\n",
       "      <td>m</td>\n",
       "      <td>married</td>\n",
       "      <td>y</td>\n",
       "      <td>24h</td>\n",
       "      <td>at_least_one_hour</td>\n",
       "    </tr>\n",
       "    <tr>\n",
       "      <th>3</th>\n",
       "      <td>27701</td>\n",
       "      <td>[my, son, woke, me, up, to, a, fantastic, brea...</td>\n",
       "      <td>family|food</td>\n",
       "      <td>no</td>\n",
       "      <td>yes</td>\n",
       "      <td>79</td>\n",
       "      <td>USA</td>\n",
       "      <td>f</td>\n",
       "      <td>widowed</td>\n",
       "      <td>y</td>\n",
       "      <td>24h</td>\n",
       "      <td>all_day_im_still_feeling_it</td>\n",
       "    </tr>\n",
       "    <tr>\n",
       "      <th>4</th>\n",
       "      <td>27712</td>\n",
       "      <td>[my, older, daughter, keeps, patting, my, youn...</td>\n",
       "      <td>family</td>\n",
       "      <td>no</td>\n",
       "      <td>yes</td>\n",
       "      <td>30</td>\n",
       "      <td>USA</td>\n",
       "      <td>f</td>\n",
       "      <td>married</td>\n",
       "      <td>y</td>\n",
       "      <td>24h</td>\n",
       "      <td>a_few_moment</td>\n",
       "    </tr>\n",
       "  </tbody>\n",
       "</table>\n",
       "</div>"
      ],
      "text/plain": [
       "    hmid                                             moment          concepts  \\\n",
       "0  27674  [i, was, happy, when, my, son, got, 90, marks,...  education|family   \n",
       "1  27685  [went, to, movies, with, my, friends, it, was,...     entertainment   \n",
       "2  27691  [a, hot, kiss, with, my, girl, friend, last, n...           romance   \n",
       "3  27701  [my, son, woke, me, up, to, a, fantastic, brea...       family|food   \n",
       "4  27712  [my, older, daughter, keeps, patting, my, youn...            family   \n",
       "\n",
       "  agency social   age country gender  married parenthood reflection  \\\n",
       "0     no    yes  29.0     IND      m  married          y        24h   \n",
       "1    yes    yes  29.0     IND      m   single          y        24h   \n",
       "2    yes    yes  25.0     IND      m  married          y        24h   \n",
       "3     no    yes    79     USA      f  widowed          y        24h   \n",
       "4     no    yes    30     USA      f  married          y        24h   \n",
       "\n",
       "                      duration  \n",
       "0                   half_a_day  \n",
       "1                   half_a_day  \n",
       "2            at_least_one_hour  \n",
       "3  all_day_im_still_feeling_it  \n",
       "4                 a_few_moment  "
      ]
     },
     "execution_count": 79,
     "metadata": {},
     "output_type": "execute_result"
    }
   ],
   "source": [
    "train_labeled.head()"
   ]
  },
  {
   "cell_type": "code",
   "execution_count": 80,
   "metadata": {},
   "outputs": [
    {
     "data": {
      "text/html": [
       "<div>\n",
       "<style scoped>\n",
       "    .dataframe tbody tr th:only-of-type {\n",
       "        vertical-align: middle;\n",
       "    }\n",
       "\n",
       "    .dataframe tbody tr th {\n",
       "        vertical-align: top;\n",
       "    }\n",
       "\n",
       "    .dataframe thead th {\n",
       "        text-align: right;\n",
       "    }\n",
       "</style>\n",
       "<table border=\"1\" class=\"dataframe\">\n",
       "  <thead>\n",
       "    <tr style=\"text-align: right;\">\n",
       "      <th></th>\n",
       "      <th>hmid</th>\n",
       "      <th>moment</th>\n",
       "      <th>age</th>\n",
       "      <th>country</th>\n",
       "      <th>gender</th>\n",
       "      <th>married</th>\n",
       "      <th>parenthood</th>\n",
       "      <th>reflection</th>\n",
       "      <th>duration</th>\n",
       "    </tr>\n",
       "  </thead>\n",
       "  <tbody>\n",
       "    <tr>\n",
       "      <th>0</th>\n",
       "      <td>27673</td>\n",
       "      <td>[i, went, on, a, successful, date, with, someo...</td>\n",
       "      <td>35.0</td>\n",
       "      <td>USA</td>\n",
       "      <td>m</td>\n",
       "      <td>single</td>\n",
       "      <td>n</td>\n",
       "      <td>24h</td>\n",
       "      <td>at_least_one_hour</td>\n",
       "    </tr>\n",
       "    <tr>\n",
       "      <th>1</th>\n",
       "      <td>27675</td>\n",
       "      <td>[i, went, to, the, gym, this, morning, and, di...</td>\n",
       "      <td>30.0</td>\n",
       "      <td>USA</td>\n",
       "      <td>f</td>\n",
       "      <td>married</td>\n",
       "      <td>y</td>\n",
       "      <td>24h</td>\n",
       "      <td>at_least_one_hour</td>\n",
       "    </tr>\n",
       "    <tr>\n",
       "      <th>2</th>\n",
       "      <td>27678</td>\n",
       "      <td>[i, meditated, last, night]</td>\n",
       "      <td>23.0</td>\n",
       "      <td>IND</td>\n",
       "      <td>m</td>\n",
       "      <td>single</td>\n",
       "      <td>n</td>\n",
       "      <td>24h</td>\n",
       "      <td>at_least_one_hour</td>\n",
       "    </tr>\n",
       "    <tr>\n",
       "      <th>3</th>\n",
       "      <td>27679</td>\n",
       "      <td>[i, made, a, new, recipe, for, peasant, bread,...</td>\n",
       "      <td>30.0</td>\n",
       "      <td>USA</td>\n",
       "      <td>m</td>\n",
       "      <td>single</td>\n",
       "      <td>n</td>\n",
       "      <td>24h</td>\n",
       "      <td>half_a_day</td>\n",
       "    </tr>\n",
       "    <tr>\n",
       "      <th>4</th>\n",
       "      <td>27680</td>\n",
       "      <td>[i, got, gift, from, my, elder, brother, which...</td>\n",
       "      <td>23.0</td>\n",
       "      <td>IND</td>\n",
       "      <td>m</td>\n",
       "      <td>single</td>\n",
       "      <td>n</td>\n",
       "      <td>24h</td>\n",
       "      <td>at_least_one_hour</td>\n",
       "    </tr>\n",
       "  </tbody>\n",
       "</table>\n",
       "</div>"
      ],
      "text/plain": [
       "    hmid                                             moment   age country  \\\n",
       "0  27673  [i, went, on, a, successful, date, with, someo...  35.0     USA   \n",
       "1  27675  [i, went, to, the, gym, this, morning, and, di...  30.0     USA   \n",
       "2  27678                        [i, meditated, last, night]  23.0     IND   \n",
       "3  27679  [i, made, a, new, recipe, for, peasant, bread,...  30.0     USA   \n",
       "4  27680  [i, got, gift, from, my, elder, brother, which...  23.0     IND   \n",
       "\n",
       "  gender  married parenthood reflection           duration  \n",
       "0      m   single          n        24h  at_least_one_hour  \n",
       "1      f  married          y        24h  at_least_one_hour  \n",
       "2      m   single          n        24h  at_least_one_hour  \n",
       "3      m   single          n        24h         half_a_day  \n",
       "4      m   single          n        24h  at_least_one_hour  "
      ]
     },
     "execution_count": 80,
     "metadata": {},
     "output_type": "execute_result"
    }
   ],
   "source": [
    "train_unlabeled.head()"
   ]
  },
  {
   "cell_type": "markdown",
   "metadata": {},
   "source": [
    "## Remove Stopwords  ##"
   ]
  },
  {
   "cell_type": "code",
   "execution_count": 81,
   "metadata": {},
   "outputs": [
    {
     "name": "stdout",
     "output_type": "stream",
     "text": [
      "['i', 'me', 'my', 'myself', 'we', 'our', 'ours', 'ourselves', 'you', \"you're\", \"you've\", \"you'll\", \"you'd\", 'your', 'yours', 'yourself', 'yourselves', 'he', 'him', 'his', 'himself', 'she', \"she's\", 'her', 'hers', 'herself', 'it', \"it's\", 'its', 'itself', 'they', 'them', 'their', 'theirs', 'themselves', 'what', 'which', 'who', 'whom', 'this', 'that', \"that'll\", 'these', 'those', 'am', 'is', 'are', 'was', 'were', 'be', 'been', 'being', 'have', 'has', 'had', 'having', 'do', 'does', 'did', 'doing', 'a', 'an', 'the', 'and', 'but', 'if', 'or', 'because', 'as', 'until', 'while', 'of', 'at', 'by', 'for', 'with', 'about', 'against', 'between', 'into', 'through', 'during', 'before', 'after', 'above', 'below', 'to', 'from', 'up', 'down', 'in', 'out', 'on', 'off', 'over', 'under', 'again', 'further', 'then', 'once', 'here', 'there', 'when', 'where', 'why', 'how', 'all', 'any', 'both', 'each', 'few', 'more', 'most', 'other', 'some', 'such', 'no', 'nor', 'not', 'only', 'own', 'same', 'so', 'than', 'too', 'very', 's', 't', 'can', 'will', 'just', 'don', \"don't\", 'should', \"should've\", 'now', 'd', 'll', 'm', 'o', 're', 've', 'y', 'ain', 'aren', \"aren't\", 'couldn', \"couldn't\", 'didn', \"didn't\", 'doesn', \"doesn't\", 'hadn', \"hadn't\", 'hasn', \"hasn't\", 'haven', \"haven't\", 'isn', \"isn't\", 'ma', 'mightn', \"mightn't\", 'mustn', \"mustn't\", 'needn', \"needn't\", 'shan', \"shan't\", 'shouldn', \"shouldn't\", 'wasn', \"wasn't\", 'weren', \"weren't\", 'won', \"won't\", 'wouldn', \"wouldn't\"]\n"
     ]
    }
   ],
   "source": [
    "from nltk.corpus import stopwords\n",
    "stop_words_eng = stopwords.words('english')\n",
    "print(stop_words_eng)"
   ]
  },
  {
   "cell_type": "code",
   "execution_count": 82,
   "metadata": {},
   "outputs": [],
   "source": [
    "filt_wrd_list=[]\n",
    "for words in train_labeled['moment']:\n",
    "    filtered_words = [word for word in words if word not in stop_words_eng]    \n",
    "    filt_wrd_list.append(filtered_words)\n",
    "train_labeled['moment'] = filt_wrd_list\n",
    "\n",
    "filt_wrd_list=[]\n",
    "for words in train_unlabeled['moment']:\n",
    "    filtered_words = [word for word in words if word not in stop_words_eng]    \n",
    "    filt_wrd_list.append(filtered_words)\n",
    "train_unlabeled['moment'] = filt_wrd_list"
   ]
  },
  {
   "cell_type": "code",
   "execution_count": 83,
   "metadata": {},
   "outputs": [
    {
     "data": {
      "text/plain": [
       "0                [happy, son, got, 90, marks, examination]\n",
       "1                             [went, movies, friends, fun]\n",
       "2        [hot, kiss, girl, friend, last, night, made, day]\n",
       "3        [son, woke, fantastic, breakfast, eggs, specia...\n",
       "4        [older, daughter, keeps, patting, younger, dau...\n",
       "                               ...                        \n",
       "10555                       [husband, called, tell, loved]\n",
       "10556                  [worked, always, makes, feel, good]\n",
       "10557    [finally, got, watch, new, resident, evil, movie]\n",
       "10558     [got, talk, old, friend, reminisce, good, times]\n",
       "10559    [great, meeting, yesterday, work, boss, collea...\n",
       "Name: moment, Length: 10560, dtype: object"
      ]
     },
     "execution_count": 83,
     "metadata": {},
     "output_type": "execute_result"
    }
   ],
   "source": [
    "train_labeled['moment']"
   ]
  },
  {
   "cell_type": "code",
   "execution_count": 84,
   "metadata": {},
   "outputs": [
    {
     "data": {
      "text/plain": [
       "0        [went, successful, date, someone, felt, sympat...\n",
       "1                               [went, gym, morning, yoga]\n",
       "2                                 [meditated, last, night]\n",
       "3        [made, new, recipe, peasant, bread, came, spec...\n",
       "4          [got, gift, elder, brother, really, surprising]\n",
       "                               ...                        \n",
       "72319                              [spent, time, daughter]\n",
       "72320    [husband, announced, getting, decent, bonus, q...\n",
       "72321                                       [pepsi, drink]\n",
       "72322                  [cuddling, girlfriend, last, night]\n",
       "72323                        [great, workout, last, night]\n",
       "Name: moment, Length: 72324, dtype: object"
      ]
     },
     "execution_count": 84,
     "metadata": {},
     "output_type": "execute_result"
    }
   ],
   "source": [
    "train_unlabeled['moment']"
   ]
  },
  {
   "cell_type": "markdown",
   "metadata": {},
   "source": [
    "## Lemmatizer ##"
   ]
  },
  {
   "cell_type": "code",
   "execution_count": 85,
   "metadata": {},
   "outputs": [
    {
     "name": "stderr",
     "output_type": "stream",
     "text": [
      "[nltk_data] Downloading package wordnet to\n",
      "[nltk_data]     C:\\Users\\parit\\AppData\\Roaming\\nltk_data...\n",
      "[nltk_data]   Package wordnet is already up-to-date!\n"
     ]
    }
   ],
   "source": [
    "nltk.download('wordnet')\n",
    "from nltk.stem import WordNetLemmatizer\n",
    "lemmatizer = WordNetLemmatizer()"
   ]
  },
  {
   "cell_type": "code",
   "execution_count": 86,
   "metadata": {},
   "outputs": [],
   "source": [
    "lemm_wrd_list=[]\n",
    "for words in train_labeled['moment']:\n",
    "    lemm_words = [lemmatizer.lemmatize(word) for word in words]    \n",
    "    lemm_wrd_list.append(lemm_words)\n",
    "\n",
    "train_labeled['moment'] = lemm_wrd_list"
   ]
  },
  {
   "cell_type": "code",
   "execution_count": 87,
   "metadata": {},
   "outputs": [],
   "source": [
    "lemm_wrd_list=[]\n",
    "for words in train_unlabeled['moment']:\n",
    "    lemm_words = [lemmatizer.lemmatize(word) for word in words]    \n",
    "    lemm_wrd_list.append(lemm_words)\n",
    "\n",
    "train_unlabeled['moment'] = lemm_wrd_list"
   ]
  },
  {
   "cell_type": "code",
   "execution_count": null,
   "metadata": {},
   "outputs": [],
   "source": []
  },
  {
   "cell_type": "markdown",
   "metadata": {},
   "source": [
    "## Preprocessing Other Columns ##"
   ]
  },
  {
   "cell_type": "code",
   "execution_count": 88,
   "metadata": {},
   "outputs": [
    {
     "data": {
      "text/plain": [
       "array(['IND', 'USA', 'VEN', 'DNK', 'FIN', 'PER', 'GBR', 'SRB', 'DOM',\n",
       "       'ARM', 'PAK', 'SGP', 'FRA', 'JAM', 'LTU', 'TUR', 'PHL', 'PRT',\n",
       "       'ESP', 'THA', 'MEX', 'ARE', 'IDN', 'BRA', 'IRL', 'NGA', 'CAN',\n",
       "       'BGR', 'DEU', nan, 'DZA', 'MKD', 'ETH', 'RUS', 'EGY', 'NLD', 'ALB',\n",
       "       'BEL', 'MDA', 'ISR', 'NZL', 'AUS', 'ZAF', 'SWE', 'VNM', 'KAZ',\n",
       "       'GRC', 'TTO', 'UGA', 'MAR', 'URY', 'ISL', 'SUR', 'KOR', 'BHS',\n",
       "       'COL', 'ITA', 'CZE', 'BRB', 'MLT', 'MYS', 'KEN', 'KWT', 'PRI',\n",
       "       'ROU', 'SVN', 'MAC', 'GTM', 'NOR', 'AFG'], dtype=object)"
      ]
     },
     "execution_count": 88,
     "metadata": {},
     "output_type": "execute_result"
    }
   ],
   "source": [
    "train_labeled['country'].unique()"
   ]
  },
  {
   "cell_type": "code",
   "execution_count": 89,
   "metadata": {},
   "outputs": [
    {
     "data": {
      "text/plain": [
       "array(['USA', 'IND', 'VNM', 'KWT', 'GBR', 'FIN', 'AUS', 'BGD', 'IDN',\n",
       "       'BEL', 'CAN', 'SGP', 'IRL', 'PHL', 'VEN', 'LTU', 'BGR', 'DNK',\n",
       "       'URY', 'SRB', 'JAM', 'ITA', 'KEN', 'DOM', 'EGY', 'PER', 'PRT',\n",
       "       'ESP', 'NGA', 'BRA', 'MEX', 'TUR', 'MKD', 'FRA', 'COL', 'GRC', nan,\n",
       "       'MDA', 'POL', 'ARM', 'PAK', 'DZA', 'UGA', 'MYS', 'ZAF', 'THA',\n",
       "       'ARE', 'AUT', 'LKA', 'DEU', 'ROU', 'ETH', 'NZL', 'NIC', 'NLD',\n",
       "       'ALB', 'RUS', 'UMI', 'ISR', 'MAR', 'SWE', 'KAZ', 'ASM', 'TTO',\n",
       "       'JPN', 'PRI', 'AFG', 'KNA', 'CYP', 'TUN', 'HRV', 'ECU', 'KOR',\n",
       "       'BRB', 'CZE', 'EST', 'BHS', 'GTM', 'GHA', 'GMB', 'ISL', 'SAU',\n",
       "       'SUR', 'MLT', 'TCA', 'IRQ', 'ARG', 'TWN', 'CHL', 'MAC', 'SVN',\n",
       "       'NPL', 'VIR', 'SLV', 'NOR', 'LVA'], dtype=object)"
      ]
     },
     "execution_count": 89,
     "metadata": {},
     "output_type": "execute_result"
    }
   ],
   "source": [
    "train_unlabeled['country'].unique()"
   ]
  },
  {
   "cell_type": "markdown",
   "metadata": {},
   "source": [
    "- First issue the unlabelled data set has more terms different from the labelled data \n",
    "- Agency and Social are TARGET"
   ]
  },
  {
   "cell_type": "code",
   "execution_count": 90,
   "metadata": {},
   "outputs": [
    {
     "data": {
      "text/plain": [
       "Index(['hmid', 'moment', 'concepts', 'agency', 'social', 'age', 'country',\n",
       "       'gender', 'married', 'parenthood', 'reflection', 'duration'],\n",
       "      dtype='object')"
      ]
     },
     "execution_count": 90,
     "metadata": {},
     "output_type": "execute_result"
    }
   ],
   "source": [
    "train_labeled.columns"
   ]
  },
  {
   "cell_type": "code",
   "execution_count": 91,
   "metadata": {},
   "outputs": [],
   "source": [
    "# print(train_labeled['married'].unique())\n",
    "# print(train_labeled['gender'].unique())\n",
    "# print(train_labeled['age'].unique())\n",
    "# print(train_labeled['duration'].unique())\n",
    "# print(train_labeled['reflection'].unique())\n",
    "# print(train_labeled['parenthood'].unique())\n",
    "# print(train_labeled['concepts'].unique())"
   ]
  },
  {
   "cell_type": "code",
   "execution_count": 92,
   "metadata": {},
   "outputs": [
    {
     "name": "stdout",
     "output_type": "stream",
     "text": [
      "hmid           0\n",
      "moment         0\n",
      "concepts       0\n",
      "agency         0\n",
      "social         0\n",
      "age            9\n",
      "country       22\n",
      "gender         6\n",
      "married       15\n",
      "parenthood     9\n",
      "reflection     0\n",
      "duration      31\n",
      "dtype: int64\n"
     ]
    }
   ],
   "source": [
    "print(train_labeled.isna().sum())"
   ]
  },
  {
   "cell_type": "code",
   "execution_count": 93,
   "metadata": {},
   "outputs": [
    {
     "name": "stdout",
     "output_type": "stream",
     "text": [
      "hmid            0\n",
      "moment          0\n",
      "age            96\n",
      "country       124\n",
      "gender         47\n",
      "married        95\n",
      "parenthood     50\n",
      "reflection      0\n",
      "duration      226\n",
      "dtype: int64\n"
     ]
    }
   ],
   "source": [
    "print(train_unlabeled.isna().sum())"
   ]
  },
  {
   "cell_type": "code",
   "execution_count": 94,
   "metadata": {},
   "outputs": [
    {
     "name": "stdout",
     "output_type": "stream",
     "text": [
      "hmid            0\n",
      "moment          0\n",
      "reflection      0\n",
      "age             0\n",
      "country       262\n",
      "gender         50\n",
      "duration        0\n",
      "married       215\n",
      "parenthood    122\n",
      "concepts        0\n",
      "agency          0\n",
      "social          0\n",
      "dtype: int64\n"
     ]
    }
   ],
   "source": [
    "print(test_labeled.isna().sum())"
   ]
  },
  {
   "cell_type": "code",
   "execution_count": 95,
   "metadata": {},
   "outputs": [
    {
     "name": "stdout",
     "output_type": "stream",
     "text": [
      "hmid            0\n",
      "moment          0\n",
      "reflection      0\n",
      "age             0\n",
      "country       262\n",
      "gender         50\n",
      "duration        0\n",
      "married       215\n",
      "parenthood    122\n",
      "dtype: int64\n"
     ]
    }
   ],
   "source": [
    "print(test_unlabeled.isna().sum())"
   ]
  },
  {
   "cell_type": "markdown",
   "metadata": {},
   "source": [
    "## Remove all the nan, null and prefer not to say values ##"
   ]
  },
  {
   "cell_type": "code",
   "execution_count": 96,
   "metadata": {},
   "outputs": [
    {
     "data": {
      "text/plain": [
       "(10560, 12)"
      ]
     },
     "execution_count": 96,
     "metadata": {},
     "output_type": "execute_result"
    }
   ],
   "source": [
    "train_labeled.shape"
   ]
  },
  {
   "cell_type": "code",
   "execution_count": 97,
   "metadata": {},
   "outputs": [
    {
     "name": "stdout",
     "output_type": "stream",
     "text": [
      "(10485, 12)\n"
     ]
    }
   ],
   "source": [
    "train_labeled = train_labeled.dropna()\n",
    "print(train_labeled.shape)"
   ]
  },
  {
   "cell_type": "code",
   "execution_count": 98,
   "metadata": {},
   "outputs": [
    {
     "data": {
      "text/plain": [
       "(72324, 9)"
      ]
     },
     "execution_count": 98,
     "metadata": {},
     "output_type": "execute_result"
    }
   ],
   "source": [
    "train_unlabeled.shape"
   ]
  },
  {
   "cell_type": "code",
   "execution_count": 99,
   "metadata": {},
   "outputs": [
    {
     "data": {
      "text/plain": [
       "(71771, 9)"
      ]
     },
     "execution_count": 99,
     "metadata": {},
     "output_type": "execute_result"
    }
   ],
   "source": [
    "train_unlabeled = train_unlabeled.dropna()\n",
    "train_unlabeled.shape"
   ]
  },
  {
   "cell_type": "code",
   "execution_count": 100,
   "metadata": {},
   "outputs": [
    {
     "data": {
      "text/plain": [
       "(16665, 12)"
      ]
     },
     "execution_count": 100,
     "metadata": {},
     "output_type": "execute_result"
    }
   ],
   "source": [
    "test_labeled = test_labeled.dropna()\n",
    "test_labeled.shape"
   ]
  },
  {
   "cell_type": "code",
   "execution_count": 101,
   "metadata": {},
   "outputs": [
    {
     "data": {
      "text/plain": [
       "(16665, 9)"
      ]
     },
     "execution_count": 101,
     "metadata": {},
     "output_type": "execute_result"
    }
   ],
   "source": [
    "test_unlabeled = test_unlabeled.dropna()\n",
    "test_unlabeled.shape"
   ]
  },
  {
   "cell_type": "code",
   "execution_count": 102,
   "metadata": {},
   "outputs": [],
   "source": [
    "# print(train_labeled['married'].unique())\n",
    "# print(train_labeled['gender'].unique())\n",
    "# print(train_labeled['duration'].unique())\n",
    "# print(train_labeled['reflection'].unique())\n",
    "# print(train_labeled['parenthood'].unique())\n",
    "# print(train_labeled['age'].unique())\n",
    "# print(train_labeled['country'].unique())\n",
    "# print(train_labeled['country'].describe())"
   ]
  },
  {
   "cell_type": "code",
   "execution_count": 103,
   "metadata": {},
   "outputs": [],
   "source": [
    "#print(train_labeled.shape)\n",
    "train_labeled = train_labeled[train_labeled[\"age\"].str.contains(\"prefer not to say\") == False]\n",
    "#print(train_labeled.shape)\n",
    "\n",
    "train_labeled['age'] = train_labeled['age'].astype(float)"
   ]
  },
  {
   "cell_type": "code",
   "execution_count": 104,
   "metadata": {},
   "outputs": [
    {
     "name": "stdout",
     "output_type": "stream",
     "text": [
      "['all_day_im_still_feeling_it' 'at_least_one_hour' 'half_a_day'\n",
      " 'a_few_minutes' 'select one']\n",
      "\n",
      "Rows with \"Select One\" word  45 \n",
      "\n",
      "['28' '24' '34' '27' '31' '21' '57' '36' '71' '32' '40' '43' '38' '30'\n",
      " '49' '25' '46' '35' '69' '26' '29' '19' '33' '54' '23' '45' '72' '41'\n",
      " '22' '56' '70' '60' '37' '51' '50' '48' '39' '55' '47' '62' '74' '61'\n",
      " '68' '65' '59' '20' '67' '{}' '42' '44' '66' '64' '18' '76' '58' '63'\n",
      " '52' '53' '78' '73' '2' '3' '119' '5' '37years' '80' ',30' '247' '586']\n",
      "count     16665\n",
      "unique       61\n",
      "top         USA\n",
      "freq      13952\n",
      "Name: country, dtype: object\n"
     ]
    }
   ],
   "source": [
    "# print(test_labeled['married'].unique())\n",
    "# print(test_labeled['gender'].unique())\n",
    "print(test_labeled['duration'].unique())\n",
    "\n",
    "cnt=0\n",
    "for i in test_labeled['duration']:\n",
    "    if i=='select one':\n",
    "        cnt+=1;\n",
    "print('\\nRows with \"Select One\" word ',cnt,'\\n')\n",
    "\n",
    "\n",
    "\n",
    "# print(test_labeled['reflection'].unique())\n",
    "# print(test_labeled['parenthood'].unique())\n",
    "print(test_labeled['age'].unique())\n",
    "# print(test_labeled['country'].unique())\n",
    "print(test_labeled['country'].describe())"
   ]
  },
  {
   "cell_type": "code",
   "execution_count": 105,
   "metadata": {},
   "outputs": [
    {
     "name": "stdout",
     "output_type": "stream",
     "text": [
      "['single' 'married' 'divorced' 'separated' 'widowed']\n",
      "['m' 'f' 'o']\n",
      "['at_least_one_hour' 'half_a_day' 'all_day_im_still_feeling_it'\n",
      " 'a_few_moment' 'a_few_minutes']\n",
      "['24h' '3m']\n",
      "['n' 'y']\n",
      "[ 35.  30.  23.  25.  41.  37.  29.  39.  28.  38.  27.  22.  47.  26.\n",
      "  64.  32.  33.  48.  61.  66.  36.  18.  56.  31.  42.  24.  62.  44.\n",
      "  21.  45.  46.  40.  55.   3.  52.  19.  34.  53.  49.  65.  43.  20.\n",
      "  51.  50.  54.  69.  57.  63.  60.  73.  58.  71.  98.  70.  59. 227.\n",
      "  68.  72.  83.   2.  78.  76.  67.  74.  81. 233.  79.  95.  80.  88.\n",
      "  75.  77.]\n"
     ]
    }
   ],
   "source": [
    "print(train_unlabeled['married'].unique())\n",
    "print(train_unlabeled['gender'].unique())\n",
    "print(train_unlabeled['duration'].unique())\n",
    "print(train_unlabeled['reflection'].unique())\n",
    "print(train_unlabeled['parenthood'].unique())\n",
    "print(train_unlabeled['age'].unique())"
   ]
  },
  {
   "cell_type": "code",
   "execution_count": 106,
   "metadata": {},
   "outputs": [
    {
     "name": "stdout",
     "output_type": "stream",
     "text": [
      "['single' 'married' 'divorced' 'separated' 'widowed']\n",
      "['m' 'f' 'o']\n",
      "['all_day_im_still_feeling_it' 'at_least_one_hour' 'half_a_day'\n",
      " 'a_few_minutes' 'select one']\n",
      "['24h' '3m']\n",
      "['n' 'y']\n",
      "['28' '24' '34' '27' '31' '21' '57' '36' '71' '32' '40' '43' '38' '30'\n",
      " '49' '25' '46' '35' '69' '26' '29' '19' '33' '54' '23' '45' '72' '41'\n",
      " '22' '56' '70' '60' '37' '51' '50' '48' '39' '55' '47' '62' '74' '61'\n",
      " '68' '65' '59' '20' '67' '{}' '42' '44' '66' '64' '18' '76' '58' '63'\n",
      " '52' '53' '78' '73' '2' '3' '119' '5' '37years' '80' ',30' '247' '586']\n"
     ]
    }
   ],
   "source": [
    "print(test_unlabeled['married'].unique())\n",
    "print(test_unlabeled['gender'].unique())\n",
    "print(test_unlabeled['duration'].unique())\n",
    "print(test_unlabeled['reflection'].unique())\n",
    "print(test_unlabeled['parenthood'].unique())\n",
    "print(test_unlabeled['age'].unique())"
   ]
  },
  {
   "cell_type": "code",
   "execution_count": null,
   "metadata": {},
   "outputs": [],
   "source": []
  },
  {
   "cell_type": "code",
   "execution_count": 107,
   "metadata": {},
   "outputs": [
    {
     "name": "stdout",
     "output_type": "stream",
     "text": [
      "['single' 'married' 'divorced' 'separated' 'widowed']\n",
      "['m' 'f' 'o']\n",
      "['all_day_im_still_feeling_it' 'at_least_one_hour' 'half_a_day'\n",
      " 'a_few_minutes' 'select one']\n",
      "['24h' '3m']\n",
      "['n' 'y']\n"
     ]
    }
   ],
   "source": [
    "print(test_labeled['married'].unique())\n",
    "print(test_labeled['gender'].unique())\n",
    "print(test_labeled['duration'].unique())\n",
    "print(test_labeled['reflection'].unique())\n",
    "print(test_labeled['parenthood'].unique())"
   ]
  },
  {
   "cell_type": "code",
   "execution_count": null,
   "metadata": {},
   "outputs": [],
   "source": []
  },
  {
   "cell_type": "code",
   "execution_count": 108,
   "metadata": {},
   "outputs": [
    {
     "name": "stdout",
     "output_type": "stream",
     "text": [
      "['no' 'yes']\n",
      "['yes' 'no']\n"
     ]
    }
   ],
   "source": [
    "print(train_labeled['agency'].unique())\n",
    "print(train_labeled['social'].unique())"
   ]
  },
  {
   "cell_type": "code",
   "execution_count": 109,
   "metadata": {},
   "outputs": [
    {
     "data": {
      "text/plain": [
       "Index(['hmid', 'moment', 'age', 'country', 'gender', 'married', 'parenthood',\n",
       "       'reflection', 'duration'],\n",
       "      dtype='object')"
      ]
     },
     "execution_count": 109,
     "metadata": {},
     "output_type": "execute_result"
    }
   ],
   "source": [
    "train_unlabeled.columns"
   ]
  },
  {
   "cell_type": "code",
   "execution_count": 110,
   "metadata": {},
   "outputs": [
    {
     "data": {
      "text/plain": [
       "Index(['hmid', 'moment', 'concepts', 'agency', 'social', 'age', 'country',\n",
       "       'gender', 'married', 'parenthood', 'reflection', 'duration'],\n",
       "      dtype='object')"
      ]
     },
     "execution_count": 110,
     "metadata": {},
     "output_type": "execute_result"
    }
   ],
   "source": [
    "train_labeled.columns"
   ]
  },
  {
   "cell_type": "code",
   "execution_count": 111,
   "metadata": {},
   "outputs": [
    {
     "data": {
      "text/plain": [
       "Index(['hmid', 'moment', 'reflection', 'age', 'country', 'gender', 'duration',\n",
       "       'married', 'parenthood', 'concepts', 'agency', 'social'],\n",
       "      dtype='object')"
      ]
     },
     "execution_count": 111,
     "metadata": {},
     "output_type": "execute_result"
    }
   ],
   "source": [
    "test_labeled.columns"
   ]
  },
  {
   "cell_type": "code",
   "execution_count": 112,
   "metadata": {},
   "outputs": [
    {
     "data": {
      "text/plain": [
       "Index(['hmid', 'moment', 'reflection', 'age', 'country', 'gender', 'duration',\n",
       "       'married', 'parenthood'],\n",
       "      dtype='object')"
      ]
     },
     "execution_count": 112,
     "metadata": {},
     "output_type": "execute_result"
    }
   ],
   "source": [
    "test_unlabeled.columns"
   ]
  },
  {
   "cell_type": "markdown",
   "metadata": {},
   "source": [
    "## Encoding the columns ##"
   ]
  },
  {
   "cell_type": "code",
   "execution_count": 113,
   "metadata": {},
   "outputs": [],
   "source": [
    "# Dealing with yes->1 and No->0 # for agency and social#\n",
    "train_labeled['social'].replace({'yes':1,'no':0},inplace=True)\n",
    "train_labeled['agency'].replace({'yes':1,'no':0},inplace=True)"
   ]
  },
  {
   "cell_type": "code",
   "execution_count": 114,
   "metadata": {},
   "outputs": [],
   "source": [
    "# Dealing with yes->1 and No->0 # for agency and social#\n",
    "test_labeled['social'].replace({'yes':1,'no':0},inplace=True)\n",
    "test_labeled['agency'].replace({'yes':1,'no':0},inplace=True)"
   ]
  },
  {
   "cell_type": "code",
   "execution_count": 115,
   "metadata": {},
   "outputs": [],
   "source": [
    "list1 = []\n",
    "for i in train_labeled['country']:\n",
    "    if i=='USA':\n",
    "        list1.append(1)\n",
    "    else:\n",
    "        list1.append(0)\n",
    "\n",
    "train_labeled['country'] = list1\n",
    "\n",
    "list1 = []\n",
    "for i in train_unlabeled['country']:\n",
    "    if i=='USA':\n",
    "        list1.append(1)\n",
    "    else:\n",
    "        list1.append(0)\n",
    "\n",
    "train_unlabeled['country'] = list1"
   ]
  },
  {
   "cell_type": "code",
   "execution_count": 116,
   "metadata": {},
   "outputs": [],
   "source": [
    "list2 = []\n",
    "for i in test_labeled['country']:\n",
    "    if i=='USA':\n",
    "        list2.append(1)\n",
    "    else:\n",
    "        list2.append(0)\n",
    "\n",
    "test_labeled['country'] = list2\n",
    "\n",
    "list2 = []\n",
    "for i in test_unlabeled['country']:\n",
    "    if i=='USA':\n",
    "        list2.append(1)\n",
    "    else:\n",
    "        list2.append(0)\n",
    "\n",
    "test_unlabeled['country'] = list2"
   ]
  },
  {
   "cell_type": "code",
   "execution_count": 117,
   "metadata": {},
   "outputs": [],
   "source": [
    "from sklearn.preprocessing import MinMaxScaler"
   ]
  },
  {
   "cell_type": "code",
   "execution_count": 118,
   "metadata": {},
   "outputs": [],
   "source": [
    "from sklearn.preprocessing import OrdinalEncoder,LabelEncoder,OneHotEncoder"
   ]
  },
  {
   "cell_type": "code",
   "execution_count": 119,
   "metadata": {},
   "outputs": [],
   "source": [
    "label_enc_age = LabelEncoder()\n",
    "label_enc_gender = LabelEncoder()\n",
    "label_enc_parenthood = LabelEncoder()\n",
    "label_enc_reflection = LabelEncoder()\n",
    "label_enc_country = LabelEncoder()\n",
    "label_enc_married = LabelEncoder()\n",
    "label_enc_duration = LabelEncoder()\n",
    "\n",
    "label_enc_age_test = LabelEncoder()\n",
    "label_enc_duration_test = LabelEncoder()\n",
    "\n",
    "label_enc_age_test_unl = LabelEncoder()\n"
   ]
  },
  {
   "cell_type": "code",
   "execution_count": 120,
   "metadata": {},
   "outputs": [],
   "source": [
    "#train_labeled['age'] = label_enc_age.fit_transform(train_labeled['age'])\n",
    "train_labeled['gender'] = label_enc_gender.fit_transform(train_labeled['gender'])\n",
    "train_labeled['parenthood'] = label_enc_parenthood.fit_transform(train_labeled['parenthood'])\n",
    "train_labeled['reflection'] = label_enc_reflection.fit_transform(train_labeled['reflection'])\n",
    "train_labeled['country'] = label_enc_country.fit_transform(train_labeled['country'])\n",
    "train_labeled['duration'] = label_enc_duration.fit_transform(train_labeled['duration'])\n",
    "train_labeled['married'] = label_enc_married.fit_transform(train_labeled['married'])\n",
    "\n",
    "#train_unlabeled['age'] = label_enc_age_new.fit_transform(train_unlabeled['age'])\n",
    "train_unlabeled['gender'] = label_enc_gender.fit_transform(train_unlabeled['gender'])\n",
    "train_unlabeled['parenthood'] = label_enc_parenthood.fit_transform(train_unlabeled['parenthood'])\n",
    "train_unlabeled['reflection'] = label_enc_reflection.fit_transform(train_unlabeled['reflection'])\n",
    "train_unlabeled['country'] = label_enc_country.fit_transform(train_unlabeled['country'])\n",
    "train_unlabeled['duration'] = label_enc_duration.fit_transform(train_unlabeled['duration'])\n",
    "train_unlabeled['married'] = label_enc_married.fit_transform(train_unlabeled['married'])\n",
    "\n",
    "\n",
    "#test_labeled['age'] = label_enc_age_test.fit_transform(test_labeled['age'])\n",
    "test_labeled['duration'] = label_enc_duration_test.fit_transform(test_labeled['duration'])\n",
    "test_labeled['gender'] = label_enc_gender.fit_transform(test_labeled['gender'])\n",
    "test_labeled['parenthood'] = label_enc_parenthood.fit_transform(test_labeled['parenthood'])\n",
    "test_labeled['reflection'] = label_enc_reflection.fit_transform(test_labeled['reflection'])\n",
    "test_labeled['country'] = label_enc_country.fit_transform(test_labeled['country'])\n",
    "test_labeled['married'] = label_enc_married.fit_transform(test_labeled['married'])\n",
    "\n",
    "\n",
    "#test_labeled['age'] = label_enc_age_test.fit_transform(test_labeled['age'])\n",
    "test_unlabeled['duration'] = label_enc_duration_test.fit_transform(test_unlabeled['duration'])\n",
    "test_unlabeled['gender'] = label_enc_gender.fit_transform(test_unlabeled['gender'])\n",
    "test_unlabeled['parenthood'] = label_enc_parenthood.fit_transform(test_unlabeled['parenthood'])\n",
    "test_unlabeled['reflection'] = label_enc_reflection.fit_transform(test_unlabeled['reflection'])\n",
    "test_unlabeled['country'] = label_enc_country.fit_transform(test_unlabeled['country'])\n",
    "test_unlabeled['married'] = label_enc_married.fit_transform(test_unlabeled['married'])\n"
   ]
  },
  {
   "cell_type": "code",
   "execution_count": 121,
   "metadata": {},
   "outputs": [
    {
     "data": {
      "text/html": [
       "<div>\n",
       "<style scoped>\n",
       "    .dataframe tbody tr th:only-of-type {\n",
       "        vertical-align: middle;\n",
       "    }\n",
       "\n",
       "    .dataframe tbody tr th {\n",
       "        vertical-align: top;\n",
       "    }\n",
       "\n",
       "    .dataframe thead th {\n",
       "        text-align: right;\n",
       "    }\n",
       "</style>\n",
       "<table border=\"1\" class=\"dataframe\">\n",
       "  <thead>\n",
       "    <tr style=\"text-align: right;\">\n",
       "      <th></th>\n",
       "      <th>hmid</th>\n",
       "      <th>moment</th>\n",
       "      <th>concepts</th>\n",
       "      <th>agency</th>\n",
       "      <th>social</th>\n",
       "      <th>age</th>\n",
       "      <th>country</th>\n",
       "      <th>gender</th>\n",
       "      <th>married</th>\n",
       "      <th>parenthood</th>\n",
       "      <th>reflection</th>\n",
       "      <th>duration</th>\n",
       "    </tr>\n",
       "  </thead>\n",
       "  <tbody>\n",
       "    <tr>\n",
       "      <th>0</th>\n",
       "      <td>27674</td>\n",
       "      <td>[happy, son, got, 90, mark, examination]</td>\n",
       "      <td>education|family</td>\n",
       "      <td>0</td>\n",
       "      <td>1</td>\n",
       "      <td>29.0</td>\n",
       "      <td>0</td>\n",
       "      <td>1</td>\n",
       "      <td>1</td>\n",
       "      <td>1</td>\n",
       "      <td>0</td>\n",
       "      <td>4</td>\n",
       "    </tr>\n",
       "    <tr>\n",
       "      <th>1</th>\n",
       "      <td>27685</td>\n",
       "      <td>[went, movie, friend, fun]</td>\n",
       "      <td>entertainment</td>\n",
       "      <td>1</td>\n",
       "      <td>1</td>\n",
       "      <td>29.0</td>\n",
       "      <td>0</td>\n",
       "      <td>1</td>\n",
       "      <td>3</td>\n",
       "      <td>1</td>\n",
       "      <td>0</td>\n",
       "      <td>4</td>\n",
       "    </tr>\n",
       "    <tr>\n",
       "      <th>2</th>\n",
       "      <td>27691</td>\n",
       "      <td>[hot, kiss, girl, friend, last, night, made, day]</td>\n",
       "      <td>romance</td>\n",
       "      <td>1</td>\n",
       "      <td>1</td>\n",
       "      <td>25.0</td>\n",
       "      <td>0</td>\n",
       "      <td>1</td>\n",
       "      <td>1</td>\n",
       "      <td>1</td>\n",
       "      <td>0</td>\n",
       "      <td>3</td>\n",
       "    </tr>\n",
       "    <tr>\n",
       "      <th>3</th>\n",
       "      <td>27701</td>\n",
       "      <td>[son, woke, fantastic, breakfast, egg, special...</td>\n",
       "      <td>family|food</td>\n",
       "      <td>0</td>\n",
       "      <td>1</td>\n",
       "      <td>79.0</td>\n",
       "      <td>1</td>\n",
       "      <td>0</td>\n",
       "      <td>4</td>\n",
       "      <td>1</td>\n",
       "      <td>0</td>\n",
       "      <td>2</td>\n",
       "    </tr>\n",
       "    <tr>\n",
       "      <th>4</th>\n",
       "      <td>27712</td>\n",
       "      <td>[older, daughter, keep, patting, younger, daug...</td>\n",
       "      <td>family</td>\n",
       "      <td>0</td>\n",
       "      <td>1</td>\n",
       "      <td>30.0</td>\n",
       "      <td>1</td>\n",
       "      <td>0</td>\n",
       "      <td>1</td>\n",
       "      <td>1</td>\n",
       "      <td>0</td>\n",
       "      <td>1</td>\n",
       "    </tr>\n",
       "    <tr>\n",
       "      <th>...</th>\n",
       "      <td>...</td>\n",
       "      <td>...</td>\n",
       "      <td>...</td>\n",
       "      <td>...</td>\n",
       "      <td>...</td>\n",
       "      <td>...</td>\n",
       "      <td>...</td>\n",
       "      <td>...</td>\n",
       "      <td>...</td>\n",
       "      <td>...</td>\n",
       "      <td>...</td>\n",
       "      <td>...</td>\n",
       "    </tr>\n",
       "    <tr>\n",
       "      <th>10555</th>\n",
       "      <td>128748</td>\n",
       "      <td>[husband, called, tell, loved]</td>\n",
       "      <td>romance|family</td>\n",
       "      <td>0</td>\n",
       "      <td>1</td>\n",
       "      <td>58.0</td>\n",
       "      <td>1</td>\n",
       "      <td>0</td>\n",
       "      <td>1</td>\n",
       "      <td>0</td>\n",
       "      <td>0</td>\n",
       "      <td>0</td>\n",
       "    </tr>\n",
       "    <tr>\n",
       "      <th>10556</th>\n",
       "      <td>128753</td>\n",
       "      <td>[worked, always, make, feel, good]</td>\n",
       "      <td>career</td>\n",
       "      <td>1</td>\n",
       "      <td>0</td>\n",
       "      <td>24.0</td>\n",
       "      <td>1</td>\n",
       "      <td>1</td>\n",
       "      <td>1</td>\n",
       "      <td>1</td>\n",
       "      <td>0</td>\n",
       "      <td>3</td>\n",
       "    </tr>\n",
       "    <tr>\n",
       "      <th>10557</th>\n",
       "      <td>128754</td>\n",
       "      <td>[finally, got, watch, new, resident, evil, movie]</td>\n",
       "      <td>entertainment</td>\n",
       "      <td>1</td>\n",
       "      <td>0</td>\n",
       "      <td>34.0</td>\n",
       "      <td>1</td>\n",
       "      <td>1</td>\n",
       "      <td>0</td>\n",
       "      <td>1</td>\n",
       "      <td>0</td>\n",
       "      <td>3</td>\n",
       "    </tr>\n",
       "    <tr>\n",
       "      <th>10558</th>\n",
       "      <td>128757</td>\n",
       "      <td>[got, talk, old, friend, reminisce, good, time]</td>\n",
       "      <td>conversation</td>\n",
       "      <td>1</td>\n",
       "      <td>1</td>\n",
       "      <td>28.0</td>\n",
       "      <td>1</td>\n",
       "      <td>0</td>\n",
       "      <td>3</td>\n",
       "      <td>1</td>\n",
       "      <td>0</td>\n",
       "      <td>3</td>\n",
       "    </tr>\n",
       "    <tr>\n",
       "      <th>10559</th>\n",
       "      <td>128765</td>\n",
       "      <td>[great, meeting, yesterday, work, bos, colleag...</td>\n",
       "      <td>career</td>\n",
       "      <td>1</td>\n",
       "      <td>1</td>\n",
       "      <td>56.0</td>\n",
       "      <td>1</td>\n",
       "      <td>0</td>\n",
       "      <td>1</td>\n",
       "      <td>0</td>\n",
       "      <td>0</td>\n",
       "      <td>2</td>\n",
       "    </tr>\n",
       "  </tbody>\n",
       "</table>\n",
       "<p>10483 rows × 12 columns</p>\n",
       "</div>"
      ],
      "text/plain": [
       "         hmid                                             moment  \\\n",
       "0       27674           [happy, son, got, 90, mark, examination]   \n",
       "1       27685                         [went, movie, friend, fun]   \n",
       "2       27691  [hot, kiss, girl, friend, last, night, made, day]   \n",
       "3       27701  [son, woke, fantastic, breakfast, egg, special...   \n",
       "4       27712  [older, daughter, keep, patting, younger, daug...   \n",
       "...       ...                                                ...   \n",
       "10555  128748                     [husband, called, tell, loved]   \n",
       "10556  128753                 [worked, always, make, feel, good]   \n",
       "10557  128754  [finally, got, watch, new, resident, evil, movie]   \n",
       "10558  128757    [got, talk, old, friend, reminisce, good, time]   \n",
       "10559  128765  [great, meeting, yesterday, work, bos, colleag...   \n",
       "\n",
       "               concepts  agency  social   age  country  gender  married  \\\n",
       "0      education|family       0       1  29.0        0       1        1   \n",
       "1         entertainment       1       1  29.0        0       1        3   \n",
       "2               romance       1       1  25.0        0       1        1   \n",
       "3           family|food       0       1  79.0        1       0        4   \n",
       "4                family       0       1  30.0        1       0        1   \n",
       "...                 ...     ...     ...   ...      ...     ...      ...   \n",
       "10555    romance|family       0       1  58.0        1       0        1   \n",
       "10556            career       1       0  24.0        1       1        1   \n",
       "10557     entertainment       1       0  34.0        1       1        0   \n",
       "10558      conversation       1       1  28.0        1       0        3   \n",
       "10559            career       1       1  56.0        1       0        1   \n",
       "\n",
       "       parenthood  reflection  duration  \n",
       "0               1           0         4  \n",
       "1               1           0         4  \n",
       "2               1           0         3  \n",
       "3               1           0         2  \n",
       "4               1           0         1  \n",
       "...           ...         ...       ...  \n",
       "10555           0           0         0  \n",
       "10556           1           0         3  \n",
       "10557           1           0         3  \n",
       "10558           1           0         3  \n",
       "10559           0           0         2  \n",
       "\n",
       "[10483 rows x 12 columns]"
      ]
     },
     "execution_count": 121,
     "metadata": {},
     "output_type": "execute_result"
    }
   ],
   "source": [
    "train_labeled"
   ]
  },
  {
   "cell_type": "code",
   "execution_count": 122,
   "metadata": {},
   "outputs": [
    {
     "data": {
      "text/html": [
       "<div>\n",
       "<style scoped>\n",
       "    .dataframe tbody tr th:only-of-type {\n",
       "        vertical-align: middle;\n",
       "    }\n",
       "\n",
       "    .dataframe tbody tr th {\n",
       "        vertical-align: top;\n",
       "    }\n",
       "\n",
       "    .dataframe thead th {\n",
       "        text-align: right;\n",
       "    }\n",
       "</style>\n",
       "<table border=\"1\" class=\"dataframe\">\n",
       "  <thead>\n",
       "    <tr style=\"text-align: right;\">\n",
       "      <th></th>\n",
       "      <th>hmid</th>\n",
       "      <th>moment</th>\n",
       "      <th>age</th>\n",
       "      <th>country</th>\n",
       "      <th>gender</th>\n",
       "      <th>married</th>\n",
       "      <th>parenthood</th>\n",
       "      <th>reflection</th>\n",
       "      <th>duration</th>\n",
       "    </tr>\n",
       "  </thead>\n",
       "  <tbody>\n",
       "    <tr>\n",
       "      <th>0</th>\n",
       "      <td>27673</td>\n",
       "      <td>[went, successful, date, someone, felt, sympat...</td>\n",
       "      <td>35.0</td>\n",
       "      <td>1</td>\n",
       "      <td>1</td>\n",
       "      <td>3</td>\n",
       "      <td>0</td>\n",
       "      <td>0</td>\n",
       "      <td>3</td>\n",
       "    </tr>\n",
       "    <tr>\n",
       "      <th>1</th>\n",
       "      <td>27675</td>\n",
       "      <td>[went, gym, morning, yoga]</td>\n",
       "      <td>30.0</td>\n",
       "      <td>1</td>\n",
       "      <td>0</td>\n",
       "      <td>1</td>\n",
       "      <td>1</td>\n",
       "      <td>0</td>\n",
       "      <td>3</td>\n",
       "    </tr>\n",
       "    <tr>\n",
       "      <th>2</th>\n",
       "      <td>27678</td>\n",
       "      <td>[meditated, last, night]</td>\n",
       "      <td>23.0</td>\n",
       "      <td>0</td>\n",
       "      <td>1</td>\n",
       "      <td>3</td>\n",
       "      <td>0</td>\n",
       "      <td>0</td>\n",
       "      <td>3</td>\n",
       "    </tr>\n",
       "    <tr>\n",
       "      <th>3</th>\n",
       "      <td>27679</td>\n",
       "      <td>[made, new, recipe, peasant, bread, came, spec...</td>\n",
       "      <td>30.0</td>\n",
       "      <td>1</td>\n",
       "      <td>1</td>\n",
       "      <td>3</td>\n",
       "      <td>0</td>\n",
       "      <td>0</td>\n",
       "      <td>4</td>\n",
       "    </tr>\n",
       "    <tr>\n",
       "      <th>4</th>\n",
       "      <td>27680</td>\n",
       "      <td>[got, gift, elder, brother, really, surprising]</td>\n",
       "      <td>23.0</td>\n",
       "      <td>0</td>\n",
       "      <td>1</td>\n",
       "      <td>3</td>\n",
       "      <td>0</td>\n",
       "      <td>0</td>\n",
       "      <td>3</td>\n",
       "    </tr>\n",
       "    <tr>\n",
       "      <th>...</th>\n",
       "      <td>...</td>\n",
       "      <td>...</td>\n",
       "      <td>...</td>\n",
       "      <td>...</td>\n",
       "      <td>...</td>\n",
       "      <td>...</td>\n",
       "      <td>...</td>\n",
       "      <td>...</td>\n",
       "      <td>...</td>\n",
       "    </tr>\n",
       "    <tr>\n",
       "      <th>72319</th>\n",
       "      <td>128761</td>\n",
       "      <td>[spent, time, daughter]</td>\n",
       "      <td>40.0</td>\n",
       "      <td>1</td>\n",
       "      <td>0</td>\n",
       "      <td>3</td>\n",
       "      <td>1</td>\n",
       "      <td>0</td>\n",
       "      <td>4</td>\n",
       "    </tr>\n",
       "    <tr>\n",
       "      <th>72320</th>\n",
       "      <td>128762</td>\n",
       "      <td>[husband, announced, getting, decent, bonus, q...</td>\n",
       "      <td>48.0</td>\n",
       "      <td>1</td>\n",
       "      <td>0</td>\n",
       "      <td>1</td>\n",
       "      <td>1</td>\n",
       "      <td>0</td>\n",
       "      <td>3</td>\n",
       "    </tr>\n",
       "    <tr>\n",
       "      <th>72321</th>\n",
       "      <td>128763</td>\n",
       "      <td>[pepsi, drink]</td>\n",
       "      <td>29.0</td>\n",
       "      <td>1</td>\n",
       "      <td>1</td>\n",
       "      <td>3</td>\n",
       "      <td>0</td>\n",
       "      <td>0</td>\n",
       "      <td>0</td>\n",
       "    </tr>\n",
       "    <tr>\n",
       "      <th>72322</th>\n",
       "      <td>128764</td>\n",
       "      <td>[cuddling, girlfriend, last, night]</td>\n",
       "      <td>23.0</td>\n",
       "      <td>1</td>\n",
       "      <td>1</td>\n",
       "      <td>3</td>\n",
       "      <td>0</td>\n",
       "      <td>0</td>\n",
       "      <td>2</td>\n",
       "    </tr>\n",
       "    <tr>\n",
       "      <th>72323</th>\n",
       "      <td>128766</td>\n",
       "      <td>[great, workout, last, night]</td>\n",
       "      <td>35.0</td>\n",
       "      <td>1</td>\n",
       "      <td>1</td>\n",
       "      <td>3</td>\n",
       "      <td>0</td>\n",
       "      <td>0</td>\n",
       "      <td>3</td>\n",
       "    </tr>\n",
       "  </tbody>\n",
       "</table>\n",
       "<p>71771 rows × 9 columns</p>\n",
       "</div>"
      ],
      "text/plain": [
       "         hmid                                             moment   age  \\\n",
       "0       27673  [went, successful, date, someone, felt, sympat...  35.0   \n",
       "1       27675                         [went, gym, morning, yoga]  30.0   \n",
       "2       27678                           [meditated, last, night]  23.0   \n",
       "3       27679  [made, new, recipe, peasant, bread, came, spec...  30.0   \n",
       "4       27680    [got, gift, elder, brother, really, surprising]  23.0   \n",
       "...       ...                                                ...   ...   \n",
       "72319  128761                            [spent, time, daughter]  40.0   \n",
       "72320  128762  [husband, announced, getting, decent, bonus, q...  48.0   \n",
       "72321  128763                                     [pepsi, drink]  29.0   \n",
       "72322  128764                [cuddling, girlfriend, last, night]  23.0   \n",
       "72323  128766                      [great, workout, last, night]  35.0   \n",
       "\n",
       "       country  gender  married  parenthood  reflection  duration  \n",
       "0            1       1        3           0           0         3  \n",
       "1            1       0        1           1           0         3  \n",
       "2            0       1        3           0           0         3  \n",
       "3            1       1        3           0           0         4  \n",
       "4            0       1        3           0           0         3  \n",
       "...        ...     ...      ...         ...         ...       ...  \n",
       "72319        1       0        3           1           0         4  \n",
       "72320        1       0        1           1           0         3  \n",
       "72321        1       1        3           0           0         0  \n",
       "72322        1       1        3           0           0         2  \n",
       "72323        1       1        3           0           0         3  \n",
       "\n",
       "[71771 rows x 9 columns]"
      ]
     },
     "execution_count": 122,
     "metadata": {},
     "output_type": "execute_result"
    }
   ],
   "source": [
    "train_unlabeled"
   ]
  },
  {
   "cell_type": "code",
   "execution_count": null,
   "metadata": {},
   "outputs": [],
   "source": []
  },
  {
   "cell_type": "code",
   "execution_count": null,
   "metadata": {},
   "outputs": [],
   "source": []
  },
  {
   "cell_type": "code",
   "execution_count": 123,
   "metadata": {
    "scrolled": true
   },
   "outputs": [
    {
     "name": "stdout",
     "output_type": "stream",
     "text": [
      "[0 1]\n",
      "count    10483.000000\n",
      "mean         0.799580\n",
      "std          0.400334\n",
      "min          0.000000\n",
      "25%          1.000000\n",
      "50%          1.000000\n",
      "75%          1.000000\n",
      "max          1.000000\n",
      "Name: country, dtype: float64\n"
     ]
    }
   ],
   "source": [
    "print(train_labeled['country'].unique())\n",
    "print(train_labeled['country'].describe())"
   ]
  },
  {
   "cell_type": "code",
   "execution_count": null,
   "metadata": {},
   "outputs": [],
   "source": []
  },
  {
   "cell_type": "code",
   "execution_count": 124,
   "metadata": {
    "scrolled": true
   },
   "outputs": [
    {
     "data": {
      "text/plain": [
       "hmid         -0.021528\n",
       "agency       -0.257795\n",
       "social        1.000000\n",
       "age           0.054685\n",
       "country      -0.033266\n",
       "gender       -0.084028\n",
       "married      -0.122568\n",
       "parenthood    0.164944\n",
       "reflection    0.041243\n",
       "duration      0.044728\n",
       "Name: social, dtype: float64"
      ]
     },
     "execution_count": 124,
     "metadata": {},
     "output_type": "execute_result"
    }
   ],
   "source": [
    "train_labeled.corr()['social']"
   ]
  },
  {
   "cell_type": "code",
   "execution_count": 125,
   "metadata": {},
   "outputs": [
    {
     "data": {
      "text/plain": [
       "hmid         -0.002089\n",
       "agency        1.000000\n",
       "social       -0.257795\n",
       "age          -0.083176\n",
       "country      -0.006700\n",
       "gender        0.073615\n",
       "married       0.097052\n",
       "parenthood   -0.124688\n",
       "reflection   -0.023294\n",
       "duration      0.069562\n",
       "Name: agency, dtype: float64"
      ]
     },
     "execution_count": 125,
     "metadata": {},
     "output_type": "execute_result"
    }
   ],
   "source": [
    "train_labeled.corr()['agency']"
   ]
  },
  {
   "cell_type": "code",
   "execution_count": null,
   "metadata": {},
   "outputs": [],
   "source": []
  },
  {
   "cell_type": "code",
   "execution_count": null,
   "metadata": {},
   "outputs": [],
   "source": []
  },
  {
   "cell_type": "code",
   "execution_count": null,
   "metadata": {},
   "outputs": [],
   "source": []
  },
  {
   "cell_type": "code",
   "execution_count": null,
   "metadata": {},
   "outputs": [],
   "source": []
  },
  {
   "cell_type": "code",
   "execution_count": null,
   "metadata": {},
   "outputs": [],
   "source": []
  },
  {
   "cell_type": "code",
   "execution_count": null,
   "metadata": {},
   "outputs": [],
   "source": []
  },
  {
   "cell_type": "markdown",
   "metadata": {},
   "source": [
    "## Encoding the Unlabeled Training Dataset ##"
   ]
  },
  {
   "cell_type": "code",
   "execution_count": 126,
   "metadata": {},
   "outputs": [
    {
     "data": {
      "text/html": [
       "<div>\n",
       "<style scoped>\n",
       "    .dataframe tbody tr th:only-of-type {\n",
       "        vertical-align: middle;\n",
       "    }\n",
       "\n",
       "    .dataframe tbody tr th {\n",
       "        vertical-align: top;\n",
       "    }\n",
       "\n",
       "    .dataframe thead th {\n",
       "        text-align: right;\n",
       "    }\n",
       "</style>\n",
       "<table border=\"1\" class=\"dataframe\">\n",
       "  <thead>\n",
       "    <tr style=\"text-align: right;\">\n",
       "      <th></th>\n",
       "      <th>hmid</th>\n",
       "      <th>moment</th>\n",
       "      <th>age</th>\n",
       "      <th>country</th>\n",
       "      <th>gender</th>\n",
       "      <th>married</th>\n",
       "      <th>parenthood</th>\n",
       "      <th>reflection</th>\n",
       "      <th>duration</th>\n",
       "    </tr>\n",
       "  </thead>\n",
       "  <tbody>\n",
       "    <tr>\n",
       "      <th>0</th>\n",
       "      <td>27673</td>\n",
       "      <td>[went, successful, date, someone, felt, sympat...</td>\n",
       "      <td>35.0</td>\n",
       "      <td>1</td>\n",
       "      <td>1</td>\n",
       "      <td>3</td>\n",
       "      <td>0</td>\n",
       "      <td>0</td>\n",
       "      <td>3</td>\n",
       "    </tr>\n",
       "    <tr>\n",
       "      <th>1</th>\n",
       "      <td>27675</td>\n",
       "      <td>[went, gym, morning, yoga]</td>\n",
       "      <td>30.0</td>\n",
       "      <td>1</td>\n",
       "      <td>0</td>\n",
       "      <td>1</td>\n",
       "      <td>1</td>\n",
       "      <td>0</td>\n",
       "      <td>3</td>\n",
       "    </tr>\n",
       "    <tr>\n",
       "      <th>2</th>\n",
       "      <td>27678</td>\n",
       "      <td>[meditated, last, night]</td>\n",
       "      <td>23.0</td>\n",
       "      <td>0</td>\n",
       "      <td>1</td>\n",
       "      <td>3</td>\n",
       "      <td>0</td>\n",
       "      <td>0</td>\n",
       "      <td>3</td>\n",
       "    </tr>\n",
       "    <tr>\n",
       "      <th>3</th>\n",
       "      <td>27679</td>\n",
       "      <td>[made, new, recipe, peasant, bread, came, spec...</td>\n",
       "      <td>30.0</td>\n",
       "      <td>1</td>\n",
       "      <td>1</td>\n",
       "      <td>3</td>\n",
       "      <td>0</td>\n",
       "      <td>0</td>\n",
       "      <td>4</td>\n",
       "    </tr>\n",
       "    <tr>\n",
       "      <th>4</th>\n",
       "      <td>27680</td>\n",
       "      <td>[got, gift, elder, brother, really, surprising]</td>\n",
       "      <td>23.0</td>\n",
       "      <td>0</td>\n",
       "      <td>1</td>\n",
       "      <td>3</td>\n",
       "      <td>0</td>\n",
       "      <td>0</td>\n",
       "      <td>3</td>\n",
       "    </tr>\n",
       "    <tr>\n",
       "      <th>...</th>\n",
       "      <td>...</td>\n",
       "      <td>...</td>\n",
       "      <td>...</td>\n",
       "      <td>...</td>\n",
       "      <td>...</td>\n",
       "      <td>...</td>\n",
       "      <td>...</td>\n",
       "      <td>...</td>\n",
       "      <td>...</td>\n",
       "    </tr>\n",
       "    <tr>\n",
       "      <th>72319</th>\n",
       "      <td>128761</td>\n",
       "      <td>[spent, time, daughter]</td>\n",
       "      <td>40.0</td>\n",
       "      <td>1</td>\n",
       "      <td>0</td>\n",
       "      <td>3</td>\n",
       "      <td>1</td>\n",
       "      <td>0</td>\n",
       "      <td>4</td>\n",
       "    </tr>\n",
       "    <tr>\n",
       "      <th>72320</th>\n",
       "      <td>128762</td>\n",
       "      <td>[husband, announced, getting, decent, bonus, q...</td>\n",
       "      <td>48.0</td>\n",
       "      <td>1</td>\n",
       "      <td>0</td>\n",
       "      <td>1</td>\n",
       "      <td>1</td>\n",
       "      <td>0</td>\n",
       "      <td>3</td>\n",
       "    </tr>\n",
       "    <tr>\n",
       "      <th>72321</th>\n",
       "      <td>128763</td>\n",
       "      <td>[pepsi, drink]</td>\n",
       "      <td>29.0</td>\n",
       "      <td>1</td>\n",
       "      <td>1</td>\n",
       "      <td>3</td>\n",
       "      <td>0</td>\n",
       "      <td>0</td>\n",
       "      <td>0</td>\n",
       "    </tr>\n",
       "    <tr>\n",
       "      <th>72322</th>\n",
       "      <td>128764</td>\n",
       "      <td>[cuddling, girlfriend, last, night]</td>\n",
       "      <td>23.0</td>\n",
       "      <td>1</td>\n",
       "      <td>1</td>\n",
       "      <td>3</td>\n",
       "      <td>0</td>\n",
       "      <td>0</td>\n",
       "      <td>2</td>\n",
       "    </tr>\n",
       "    <tr>\n",
       "      <th>72323</th>\n",
       "      <td>128766</td>\n",
       "      <td>[great, workout, last, night]</td>\n",
       "      <td>35.0</td>\n",
       "      <td>1</td>\n",
       "      <td>1</td>\n",
       "      <td>3</td>\n",
       "      <td>0</td>\n",
       "      <td>0</td>\n",
       "      <td>3</td>\n",
       "    </tr>\n",
       "  </tbody>\n",
       "</table>\n",
       "<p>71771 rows × 9 columns</p>\n",
       "</div>"
      ],
      "text/plain": [
       "         hmid                                             moment   age  \\\n",
       "0       27673  [went, successful, date, someone, felt, sympat...  35.0   \n",
       "1       27675                         [went, gym, morning, yoga]  30.0   \n",
       "2       27678                           [meditated, last, night]  23.0   \n",
       "3       27679  [made, new, recipe, peasant, bread, came, spec...  30.0   \n",
       "4       27680    [got, gift, elder, brother, really, surprising]  23.0   \n",
       "...       ...                                                ...   ...   \n",
       "72319  128761                            [spent, time, daughter]  40.0   \n",
       "72320  128762  [husband, announced, getting, decent, bonus, q...  48.0   \n",
       "72321  128763                                     [pepsi, drink]  29.0   \n",
       "72322  128764                [cuddling, girlfriend, last, night]  23.0   \n",
       "72323  128766                      [great, workout, last, night]  35.0   \n",
       "\n",
       "       country  gender  married  parenthood  reflection  duration  \n",
       "0            1       1        3           0           0         3  \n",
       "1            1       0        1           1           0         3  \n",
       "2            0       1        3           0           0         3  \n",
       "3            1       1        3           0           0         4  \n",
       "4            0       1        3           0           0         3  \n",
       "...        ...     ...      ...         ...         ...       ...  \n",
       "72319        1       0        3           1           0         4  \n",
       "72320        1       0        1           1           0         3  \n",
       "72321        1       1        3           0           0         0  \n",
       "72322        1       1        3           0           0         2  \n",
       "72323        1       1        3           0           0         3  \n",
       "\n",
       "[71771 rows x 9 columns]"
      ]
     },
     "execution_count": 126,
     "metadata": {},
     "output_type": "execute_result"
    }
   ],
   "source": [
    "train_unlabeled"
   ]
  },
  {
   "cell_type": "code",
   "execution_count": 128,
   "metadata": {},
   "outputs": [
    {
     "data": {
      "text/html": [
       "<div>\n",
       "<style scoped>\n",
       "    .dataframe tbody tr th:only-of-type {\n",
       "        vertical-align: middle;\n",
       "    }\n",
       "\n",
       "    .dataframe tbody tr th {\n",
       "        vertical-align: top;\n",
       "    }\n",
       "\n",
       "    .dataframe thead th {\n",
       "        text-align: right;\n",
       "    }\n",
       "</style>\n",
       "<table border=\"1\" class=\"dataframe\">\n",
       "  <thead>\n",
       "    <tr style=\"text-align: right;\">\n",
       "      <th></th>\n",
       "      <th>hmid</th>\n",
       "      <th>moment</th>\n",
       "      <th>reflection</th>\n",
       "      <th>age</th>\n",
       "      <th>country</th>\n",
       "      <th>gender</th>\n",
       "      <th>duration</th>\n",
       "      <th>married</th>\n",
       "      <th>parenthood</th>\n",
       "    </tr>\n",
       "  </thead>\n",
       "  <tbody>\n",
       "    <tr>\n",
       "      <th>0</th>\n",
       "      <td>0</td>\n",
       "      <td>I was able to spend the day with my fiance sho...</td>\n",
       "      <td>0</td>\n",
       "      <td>28</td>\n",
       "      <td>1</td>\n",
       "      <td>1</td>\n",
       "      <td>1</td>\n",
       "      <td>3</td>\n",
       "      <td>0</td>\n",
       "    </tr>\n",
       "    <tr>\n",
       "      <th>1</th>\n",
       "      <td>1</td>\n",
       "      <td>I was able to play with my cat.</td>\n",
       "      <td>0</td>\n",
       "      <td>28</td>\n",
       "      <td>1</td>\n",
       "      <td>1</td>\n",
       "      <td>2</td>\n",
       "      <td>3</td>\n",
       "      <td>0</td>\n",
       "    </tr>\n",
       "    <tr>\n",
       "      <th>2</th>\n",
       "      <td>2</td>\n",
       "      <td>I was able to clean my room and gold my laundry.</td>\n",
       "      <td>0</td>\n",
       "      <td>28</td>\n",
       "      <td>1</td>\n",
       "      <td>1</td>\n",
       "      <td>2</td>\n",
       "      <td>3</td>\n",
       "      <td>0</td>\n",
       "    </tr>\n",
       "    <tr>\n",
       "      <th>3</th>\n",
       "      <td>3</td>\n",
       "      <td>I spend the day at a party on the beach and I ...</td>\n",
       "      <td>0</td>\n",
       "      <td>24</td>\n",
       "      <td>1</td>\n",
       "      <td>1</td>\n",
       "      <td>3</td>\n",
       "      <td>3</td>\n",
       "      <td>0</td>\n",
       "    </tr>\n",
       "    <tr>\n",
       "      <th>4</th>\n",
       "      <td>4</td>\n",
       "      <td>My cat greeting me when I got home from work -...</td>\n",
       "      <td>0</td>\n",
       "      <td>24</td>\n",
       "      <td>1</td>\n",
       "      <td>1</td>\n",
       "      <td>3</td>\n",
       "      <td>3</td>\n",
       "      <td>0</td>\n",
       "    </tr>\n",
       "    <tr>\n",
       "      <th>...</th>\n",
       "      <td>...</td>\n",
       "      <td>...</td>\n",
       "      <td>...</td>\n",
       "      <td>...</td>\n",
       "      <td>...</td>\n",
       "      <td>...</td>\n",
       "      <td>...</td>\n",
       "      <td>...</td>\n",
       "      <td>...</td>\n",
       "    </tr>\n",
       "    <tr>\n",
       "      <th>17210</th>\n",
       "      <td>21892</td>\n",
       "      <td>My wife and I went for a hike last week and we...</td>\n",
       "      <td>1</td>\n",
       "      <td>34</td>\n",
       "      <td>1</td>\n",
       "      <td>1</td>\n",
       "      <td>3</td>\n",
       "      <td>1</td>\n",
       "      <td>0</td>\n",
       "    </tr>\n",
       "    <tr>\n",
       "      <th>17211</th>\n",
       "      <td>21893</td>\n",
       "      <td>I finally hit platinum rank in Overwatch.</td>\n",
       "      <td>1</td>\n",
       "      <td>34</td>\n",
       "      <td>1</td>\n",
       "      <td>1</td>\n",
       "      <td>2</td>\n",
       "      <td>1</td>\n",
       "      <td>0</td>\n",
       "    </tr>\n",
       "    <tr>\n",
       "      <th>17212</th>\n",
       "      <td>21897</td>\n",
       "      <td>One of my long-time friends and I finally ackn...</td>\n",
       "      <td>1</td>\n",
       "      <td>34</td>\n",
       "      <td>1</td>\n",
       "      <td>1</td>\n",
       "      <td>1</td>\n",
       "      <td>3</td>\n",
       "      <td>0</td>\n",
       "    </tr>\n",
       "    <tr>\n",
       "      <th>17213</th>\n",
       "      <td>21898</td>\n",
       "      <td>I earned a professional certification.</td>\n",
       "      <td>1</td>\n",
       "      <td>34</td>\n",
       "      <td>1</td>\n",
       "      <td>1</td>\n",
       "      <td>3</td>\n",
       "      <td>3</td>\n",
       "      <td>0</td>\n",
       "    </tr>\n",
       "    <tr>\n",
       "      <th>17214</th>\n",
       "      <td>21899</td>\n",
       "      <td>I built a new computer.</td>\n",
       "      <td>1</td>\n",
       "      <td>34</td>\n",
       "      <td>1</td>\n",
       "      <td>1</td>\n",
       "      <td>3</td>\n",
       "      <td>3</td>\n",
       "      <td>0</td>\n",
       "    </tr>\n",
       "  </tbody>\n",
       "</table>\n",
       "<p>16665 rows × 9 columns</p>\n",
       "</div>"
      ],
      "text/plain": [
       "        hmid                                             moment  reflection  \\\n",
       "0          0  I was able to spend the day with my fiance sho...           0   \n",
       "1          1                    I was able to play with my cat.           0   \n",
       "2          2   I was able to clean my room and gold my laundry.           0   \n",
       "3          3  I spend the day at a party on the beach and I ...           0   \n",
       "4          4  My cat greeting me when I got home from work -...           0   \n",
       "...      ...                                                ...         ...   \n",
       "17210  21892  My wife and I went for a hike last week and we...           1   \n",
       "17211  21893          I finally hit platinum rank in Overwatch.           1   \n",
       "17212  21897  One of my long-time friends and I finally ackn...           1   \n",
       "17213  21898             I earned a professional certification.           1   \n",
       "17214  21899                            I built a new computer.           1   \n",
       "\n",
       "      age  country  gender  duration  married  parenthood  \n",
       "0      28        1       1         1        3           0  \n",
       "1      28        1       1         2        3           0  \n",
       "2      28        1       1         2        3           0  \n",
       "3      24        1       1         3        3           0  \n",
       "4      24        1       1         3        3           0  \n",
       "...    ..      ...     ...       ...      ...         ...  \n",
       "17210  34        1       1         3        1           0  \n",
       "17211  34        1       1         2        1           0  \n",
       "17212  34        1       1         1        3           0  \n",
       "17213  34        1       1         3        3           0  \n",
       "17214  34        1       1         3        3           0  \n",
       "\n",
       "[16665 rows x 9 columns]"
      ]
     },
     "execution_count": 128,
     "metadata": {},
     "output_type": "execute_result"
    }
   ],
   "source": [
    "test_unlabeled"
   ]
  },
  {
   "cell_type": "code",
   "execution_count": 129,
   "metadata": {},
   "outputs": [
    {
     "data": {
      "text/html": [
       "<div>\n",
       "<style scoped>\n",
       "    .dataframe tbody tr th:only-of-type {\n",
       "        vertical-align: middle;\n",
       "    }\n",
       "\n",
       "    .dataframe tbody tr th {\n",
       "        vertical-align: top;\n",
       "    }\n",
       "\n",
       "    .dataframe thead th {\n",
       "        text-align: right;\n",
       "    }\n",
       "</style>\n",
       "<table border=\"1\" class=\"dataframe\">\n",
       "  <thead>\n",
       "    <tr style=\"text-align: right;\">\n",
       "      <th></th>\n",
       "      <th>hmid</th>\n",
       "      <th>moment</th>\n",
       "      <th>reflection</th>\n",
       "      <th>age</th>\n",
       "      <th>country</th>\n",
       "      <th>gender</th>\n",
       "      <th>duration</th>\n",
       "      <th>married</th>\n",
       "      <th>parenthood</th>\n",
       "      <th>concepts</th>\n",
       "      <th>agency</th>\n",
       "      <th>social</th>\n",
       "    </tr>\n",
       "  </thead>\n",
       "  <tbody>\n",
       "    <tr>\n",
       "      <th>0</th>\n",
       "      <td>0</td>\n",
       "      <td>I was able to spend the day with my fiance sho...</td>\n",
       "      <td>0</td>\n",
       "      <td>28</td>\n",
       "      <td>1</td>\n",
       "      <td>1</td>\n",
       "      <td>1</td>\n",
       "      <td>3</td>\n",
       "      <td>0</td>\n",
       "      <td>shopping|family|romance</td>\n",
       "      <td>1</td>\n",
       "      <td>0</td>\n",
       "    </tr>\n",
       "    <tr>\n",
       "      <th>1</th>\n",
       "      <td>1</td>\n",
       "      <td>I was able to play with my cat.</td>\n",
       "      <td>0</td>\n",
       "      <td>28</td>\n",
       "      <td>1</td>\n",
       "      <td>1</td>\n",
       "      <td>2</td>\n",
       "      <td>3</td>\n",
       "      <td>0</td>\n",
       "      <td>animals</td>\n",
       "      <td>1</td>\n",
       "      <td>0</td>\n",
       "    </tr>\n",
       "    <tr>\n",
       "      <th>2</th>\n",
       "      <td>2</td>\n",
       "      <td>I was able to clean my room and gold my laundry.</td>\n",
       "      <td>0</td>\n",
       "      <td>28</td>\n",
       "      <td>1</td>\n",
       "      <td>1</td>\n",
       "      <td>2</td>\n",
       "      <td>3</td>\n",
       "      <td>0</td>\n",
       "      <td>0</td>\n",
       "      <td>1</td>\n",
       "      <td>0</td>\n",
       "    </tr>\n",
       "    <tr>\n",
       "      <th>3</th>\n",
       "      <td>3</td>\n",
       "      <td>I spend the day at a party on the beach and I ...</td>\n",
       "      <td>0</td>\n",
       "      <td>24</td>\n",
       "      <td>1</td>\n",
       "      <td>1</td>\n",
       "      <td>3</td>\n",
       "      <td>3</td>\n",
       "      <td>0</td>\n",
       "      <td>vacation|party|weather</td>\n",
       "      <td>1</td>\n",
       "      <td>1</td>\n",
       "    </tr>\n",
       "    <tr>\n",
       "      <th>4</th>\n",
       "      <td>4</td>\n",
       "      <td>My cat greeting me when I got home from work -...</td>\n",
       "      <td>0</td>\n",
       "      <td>24</td>\n",
       "      <td>1</td>\n",
       "      <td>1</td>\n",
       "      <td>3</td>\n",
       "      <td>3</td>\n",
       "      <td>0</td>\n",
       "      <td>animals</td>\n",
       "      <td>0</td>\n",
       "      <td>0</td>\n",
       "    </tr>\n",
       "    <tr>\n",
       "      <th>...</th>\n",
       "      <td>...</td>\n",
       "      <td>...</td>\n",
       "      <td>...</td>\n",
       "      <td>...</td>\n",
       "      <td>...</td>\n",
       "      <td>...</td>\n",
       "      <td>...</td>\n",
       "      <td>...</td>\n",
       "      <td>...</td>\n",
       "      <td>...</td>\n",
       "      <td>...</td>\n",
       "      <td>...</td>\n",
       "    </tr>\n",
       "    <tr>\n",
       "      <th>17210</th>\n",
       "      <td>21892</td>\n",
       "      <td>My wife and I went for a hike last week and we...</td>\n",
       "      <td>1</td>\n",
       "      <td>34</td>\n",
       "      <td>1</td>\n",
       "      <td>1</td>\n",
       "      <td>3</td>\n",
       "      <td>1</td>\n",
       "      <td>0</td>\n",
       "      <td>romance|exercise|family</td>\n",
       "      <td>1</td>\n",
       "      <td>1</td>\n",
       "    </tr>\n",
       "    <tr>\n",
       "      <th>17211</th>\n",
       "      <td>21893</td>\n",
       "      <td>I finally hit platinum rank in Overwatch.</td>\n",
       "      <td>1</td>\n",
       "      <td>34</td>\n",
       "      <td>1</td>\n",
       "      <td>1</td>\n",
       "      <td>2</td>\n",
       "      <td>1</td>\n",
       "      <td>0</td>\n",
       "      <td>entertainment</td>\n",
       "      <td>1</td>\n",
       "      <td>0</td>\n",
       "    </tr>\n",
       "    <tr>\n",
       "      <th>17212</th>\n",
       "      <td>21897</td>\n",
       "      <td>One of my long-time friends and I finally ackn...</td>\n",
       "      <td>1</td>\n",
       "      <td>34</td>\n",
       "      <td>1</td>\n",
       "      <td>1</td>\n",
       "      <td>1</td>\n",
       "      <td>3</td>\n",
       "      <td>0</td>\n",
       "      <td>romance</td>\n",
       "      <td>1</td>\n",
       "      <td>1</td>\n",
       "    </tr>\n",
       "    <tr>\n",
       "      <th>17213</th>\n",
       "      <td>21898</td>\n",
       "      <td>I earned a professional certification.</td>\n",
       "      <td>1</td>\n",
       "      <td>34</td>\n",
       "      <td>1</td>\n",
       "      <td>1</td>\n",
       "      <td>3</td>\n",
       "      <td>3</td>\n",
       "      <td>0</td>\n",
       "      <td>career|education</td>\n",
       "      <td>1</td>\n",
       "      <td>0</td>\n",
       "    </tr>\n",
       "    <tr>\n",
       "      <th>17214</th>\n",
       "      <td>21899</td>\n",
       "      <td>I built a new computer.</td>\n",
       "      <td>1</td>\n",
       "      <td>34</td>\n",
       "      <td>1</td>\n",
       "      <td>1</td>\n",
       "      <td>3</td>\n",
       "      <td>3</td>\n",
       "      <td>0</td>\n",
       "      <td>technology</td>\n",
       "      <td>1</td>\n",
       "      <td>0</td>\n",
       "    </tr>\n",
       "  </tbody>\n",
       "</table>\n",
       "<p>16665 rows × 12 columns</p>\n",
       "</div>"
      ],
      "text/plain": [
       "        hmid                                             moment  reflection  \\\n",
       "0          0  I was able to spend the day with my fiance sho...           0   \n",
       "1          1                    I was able to play with my cat.           0   \n",
       "2          2   I was able to clean my room and gold my laundry.           0   \n",
       "3          3  I spend the day at a party on the beach and I ...           0   \n",
       "4          4  My cat greeting me when I got home from work -...           0   \n",
       "...      ...                                                ...         ...   \n",
       "17210  21892  My wife and I went for a hike last week and we...           1   \n",
       "17211  21893          I finally hit platinum rank in Overwatch.           1   \n",
       "17212  21897  One of my long-time friends and I finally ackn...           1   \n",
       "17213  21898             I earned a professional certification.           1   \n",
       "17214  21899                            I built a new computer.           1   \n",
       "\n",
       "      age  country  gender  duration  married  parenthood  \\\n",
       "0      28        1       1         1        3           0   \n",
       "1      28        1       1         2        3           0   \n",
       "2      28        1       1         2        3           0   \n",
       "3      24        1       1         3        3           0   \n",
       "4      24        1       1         3        3           0   \n",
       "...    ..      ...     ...       ...      ...         ...   \n",
       "17210  34        1       1         3        1           0   \n",
       "17211  34        1       1         2        1           0   \n",
       "17212  34        1       1         1        3           0   \n",
       "17213  34        1       1         3        3           0   \n",
       "17214  34        1       1         3        3           0   \n",
       "\n",
       "                      concepts  agency  social  \n",
       "0      shopping|family|romance       1       0  \n",
       "1                      animals       1       0  \n",
       "2                            0       1       0  \n",
       "3       vacation|party|weather       1       1  \n",
       "4                      animals       0       0  \n",
       "...                        ...     ...     ...  \n",
       "17210  romance|exercise|family       1       1  \n",
       "17211            entertainment       1       0  \n",
       "17212                  romance       1       1  \n",
       "17213         career|education       1       0  \n",
       "17214               technology       1       0  \n",
       "\n",
       "[16665 rows x 12 columns]"
      ]
     },
     "execution_count": 129,
     "metadata": {},
     "output_type": "execute_result"
    }
   ],
   "source": [
    "test_labeled"
   ]
  },
  {
   "cell_type": "markdown",
   "metadata": {},
   "source": [
    "## Train baseline Classifier"
   ]
  },
  {
   "cell_type": "code",
   "execution_count": 127,
   "metadata": {},
   "outputs": [
    {
     "name": "stdout",
     "output_type": "stream",
     "text": [
      "firetruck\n"
     ]
    }
   ],
   "source": [
    "print('firetruck')"
   ]
  },
  {
   "cell_type": "code",
   "execution_count": null,
   "metadata": {},
   "outputs": [],
   "source": []
  }
 ],
 "metadata": {
  "kernelspec": {
   "display_name": "Python 3",
   "language": "python",
   "name": "python3"
  },
  "language_info": {
   "codemirror_mode": {
    "name": "ipython",
    "version": 3
   },
   "file_extension": ".py",
   "mimetype": "text/x-python",
   "name": "python",
   "nbconvert_exporter": "python",
   "pygments_lexer": "ipython3",
   "version": "3.8.8"
  }
 },
 "nbformat": 4,
 "nbformat_minor": 4
}
